{
 "cells": [
  {
   "cell_type": "code",
   "execution_count": 3,
   "metadata": {},
   "outputs": [],
   "source": [
    "using LinearAlgebra\n",
    "using Random: seed!\n",
    "using Plots"
   ]
  },
  {
   "cell_type": "code",
   "execution_count": 23,
   "metadata": {},
   "outputs": [
    {
     "data": {
      "text/plain": [
       "5×3 Matrix{ComplexF64}:\n",
       "  -1.21177+0.0im        -4.32093+0.0im      -0.231432-0.0im\n",
       " -0.231432+0.0im       -0.825238+0.0im       -1.21177-0.0im\n",
       "  0.266694-0.757296im   0.413721-1.17479im   0.266694+0.757296im\n",
       "  0.266694+0.757296im   0.413721+1.17479im   0.266694-0.757296im\n",
       "   1.19515+0.0im        0.836718+0.0im        1.19515-0.0im"
      ]
     },
     "execution_count": 23,
     "metadata": {},
     "output_type": "execute_result"
    }
   ],
   "source": [
    "#Problem 1\n",
    "n = rand(4:7)\n",
    "a = randn(n+1) # random vector of polynomial coefficients (a_0,a_1,...,a_n)\n",
    "b = reverse(a) # reverse the coefficient order\n",
    "# companion matrix maker:\n",
    "compan = c-> [-transpose(reverse(c)); [I zeros(length(c)-1)]]\n",
    "A = compan(a[1:end-1] / a[end])\n",
    "B = compan(b[1:end-1] / b[end])\n",
    "[eigvals(A) eigvals(B) 1 ./ eigvals(B)] # study the columns of this array"
   ]
  },
  {
   "cell_type": "code",
   "execution_count": null,
   "metadata": {},
   "outputs": [],
   "source": []
  },
  {
   "cell_type": "code",
   "execution_count": 51,
   "metadata": {},
   "outputs": [
    {
     "data": {
      "text/plain": [
       "shrink_p_1_2 (generic function with 1 method)"
      ]
     },
     "execution_count": 51,
     "metadata": {},
     "output_type": "execute_result"
    }
   ],
   "source": [
    "#Problem4 \n",
    "\"\"\"\n",
    "lr_schatten(Y, reg::Real)\n",
    "Compute the regularized low−rank matrix approximation as the minimizer over `X`\n",
    "of `1/2 \\\\|Y − X\\\\|^2 + reg R(x)`\n",
    "where `R(X)` is the Schatten p−norm of `X` raised to the pth power, for `p=1/2`,\n",
    "i.e., `R(X) = \\\\sum_k (\\\\sigma_k(X))^{1/2}`\n",
    "In:\n",
    "− `Y` : `M × N` matrix\n",
    "− `reg` regularization parameter\n",
    "Out:\n",
    "− `Xh` : `M × N` solution to above minimization problem\n",
    "\"\"\"\n",
    "function lr_schatten(Y, reg::Real)\n",
    "    U, s, V = svd(Y)\n",
    "    print('a')\n",
    "    xhat = shrink_p_1_2(s, reg)\n",
    "   # print(xhat)\n",
    "    Xh = U * Diagonal(xhat) * V'\n",
    "    return Xh\n",
    "end\n",
    "    \n",
    "function shrink_p_1_2(v, reg::Real)\n",
    "    (m,n) = size(Y)\n",
    "    xhat = zeros(m,n)\n",
    "    compute_xhat = (v) -> 4 / 3. * v * cos( 1 ./3 * acos(-(3^(3/2)*reg) / (4*v^(3/2))))^2\n",
    "    compare_result = v .> 3/2. * reg^(2/3.)\n",
    "    xhat[compare_result] = compute_xhat.(v[compare_result])\n",
    "    return xhat\n",
    "end "
   ]
  },
  {
   "cell_type": "code",
   "execution_count": 52,
   "metadata": {},
   "outputs": [
    {
     "ename": "LoadError",
     "evalue": "BoundsError: attempt to access 3×3 Matrix{Float64} at index [Bool[1, 1, 1]]",
     "output_type": "error",
     "traceback": [
      "BoundsError: attempt to access 3×3 Matrix{Float64} at index [Bool[1, 1, 1]]",
      "",
      "Stacktrace:",
      " [1] throw_boundserror(A::Matrix{Float64}, I::Tuple{Base.LogicalIndex{Int64, BitVector}})",
      "   @ Base ./abstractarray.jl:651",
      " [2] checkbounds",
      "   @ ./abstractarray.jl:616 [inlined]",
      " [3] _setindex!",
      "   @ ./multidimensional.jl:886 [inlined]",
      " [4] setindex!(A::Matrix{Float64}, v::Vector{Float64}, I::BitVector)",
      "   @ Base ./abstractarray.jl:1267",
      " [5] shrink_p_1_2(v::Vector{Float64}, reg::Float64)",
      "   @ Main ./In[51]:28",
      " [6] lr_schatten(Y::Matrix{Int64}, reg::Float64)",
      "   @ Main ./In[51]:17",
      " [7] top-level scope",
      "   @ In[52]:3",
      " [8] eval",
      "   @ ./boot.jl:360 [inlined]",
      " [9] include_string(mapexpr::typeof(REPL.softscope), mod::Module, code::String, filename::String)",
      "   @ Base ./loading.jl:1116"
     ]
    }
   ],
   "source": [
    "Y=[1 0 0;0 1 0;0 0 1]\n",
    "reg=0.5\n",
    "xh=lr_schatten(Y,reg)"
   ]
  },
  {
   "cell_type": "code",
   "execution_count": 47,
   "metadata": {},
   "outputs": [
    {
     "ename": "LoadError",
     "evalue": "BoundsError: attempt to access 100×30 Matrix{Float64} at index [Bool[1, 1, 1, 1, 1, 1, 1, 1, 1, 1  …  0, 0, 0, 0, 0, 0, 0, 0, 0, 0]]",
     "output_type": "error",
     "traceback": [
      "BoundsError: attempt to access 100×30 Matrix{Float64} at index [Bool[1, 1, 1, 1, 1, 1, 1, 1, 1, 1  …  0, 0, 0, 0, 0, 0, 0, 0, 0, 0]]",
      "",
      "Stacktrace:",
      " [1] throw_boundserror(A::Matrix{Float64}, I::Tuple{Base.LogicalIndex{Int64, BitVector}})",
      "   @ Base ./abstractarray.jl:651",
      " [2] checkbounds",
      "   @ ./abstractarray.jl:616 [inlined]",
      " [3] _setindex!",
      "   @ ./multidimensional.jl:886 [inlined]",
      " [4] setindex!(A::Matrix{Float64}, v::Vector{Float64}, I::BitVector)",
      "   @ Base ./abstractarray.jl:1267",
      " [5] shrink_p_1_2(v::Vector{Float64}, reg::Float64)",
      "   @ Main ./In[46]:28",
      " [6] lr_schatten(Y::Matrix{Float64}, reg::Float64)",
      "   @ Main ./In[46]:18",
      " [7] top-level scope",
      "   @ ./In[47]:18",
      " [8] eval",
      "   @ ./boot.jl:360 [inlined]",
      " [9] include_string(mapexpr::typeof(REPL.softscope), mod::Module, code::String, filename::String)",
      "   @ Base ./loading.jl:1116"
     ]
    }
   ],
   "source": [
    "tmp = [\n",
    "    zeros(1,20);\n",
    "    0 1 0 0 0 0 1 0 0 0 1 1 1 1 0 1 1 1 1 0;\n",
    "    0 1 0 0 0 0 1 0 0 0 0 1 0 0 1 0 0 1 0 0;\n",
    "    0 1 0 0 0 0 1 0 0 0 0 1 0 0 0 0 0 1 0 0;\n",
    "    0 0 1 1 1 1 0 0 0 0 1 1 0 0 0 0 0 1 1 0;\n",
    "    zeros(1,20)\n",
    "]';\n",
    "\n",
    "X = 80 * kron(tmp, ones(5,5));\n",
    "# Data Y is X + noise\n",
    "seed!(0)\n",
    "Y = X + 7 * randn(size(X))\n",
    "\n",
    "\n",
    "# try different regularization parameters\n",
    "for l2reg in 8:0.5:12\n",
    "    Xr = lr_schatten(Y, 2^l2reg)\n",
    "    @show l2reg, nrmse(Xr)\n",
    "end\n",
    "\n",
    "# Schatten LR with β=1000\n",
    "β = 1000\n",
    "Xs = lr_schatten(Y, β)\n",
    "@show nrmse(Xs)\n",
    "\n",
    "jim(Xs,\n",
    "    xlabel=\"NRMSE = $(round(nrmse(Xs), digits=1)) %\")\n",
    "title!(\"Schatten LR image with p=1/2 and β = $β\")\n",
    "\n",
    "#savefig(\"hsj68im.pdf\")\n",
    "\n",
    "plot(xlabel=L\"k\", ylabel=L\"\\sigma_k\", title=\"Singular values\")\n",
    "scatter!(1:rmax, svdvals(Y), color=:red, label=L\"\\sigma_k(Y)\")\n",
    "scatter!(1:rmax, svdvals(X), color=:blue, label=L\"\\sigma_k(X)\")\n",
    "scatter!(1:rmax, svdvals(Xs), color=:magenta, label=L\"\\mathrm{Schatten }\\ p=1/2\")\n",
    "\n",
    "#savefig(\"hsj68svd.pdf\")\n"
   ]
  },
  {
   "cell_type": "code",
   "execution_count": 10,
   "metadata": {},
   "outputs": [
    {
     "data": {
      "text/plain": [
       "2×2 Diagonal{Int64, Vector{Int64}}:\n",
       " 1  ⋅\n",
       " ⋅  1"
      ]
     },
     "execution_count": 10,
     "metadata": {},
     "output_type": "execute_result"
    }
   ],
   "source": [
    "A = Diagonal([1,1])"
   ]
  },
  {
   "cell_type": "code",
   "execution_count": 19,
   "metadata": {},
   "outputs": [
    {
     "data": {
      "text/plain": [
       "(100, 30)"
      ]
     },
     "execution_count": 19,
     "metadata": {},
     "output_type": "execute_result"
    }
   ],
   "source": [
    "Y\n",
    "size(Y)"
   ]
  },
  {
   "cell_type": "code",
   "execution_count": null,
   "metadata": {},
   "outputs": [],
   "source": []
  },
  {
   "cell_type": "code",
   "execution_count": 1,
   "metadata": {},
   "outputs": [
    {
     "data": {
      "text/plain": [
       "5×5 Matrix{Int64}:\n",
       " -1   1   0   0   0\n",
       "  0  -1   1   0   0\n",
       "  0   0  -1   1   0\n",
       "  0   0   0  -1   1\n",
       "  1   0   0   0  -1"
      ]
     },
     "execution_count": 1,
     "metadata": {},
     "output_type": "execute_result"
    }
   ],
   "source": [
    "#Problem 3 \n",
    "A = [-1 1 0 0 0\n",
    "    0 -1 1 0 0\n",
    "    0 0 -1 1 0\n",
    "    0 0 0 -1 1\n",
    "    1 0 0 0 -1]"
   ]
  },
  {
   "cell_type": "code",
   "execution_count": 4,
   "metadata": {},
   "outputs": [
    {
     "data": {
      "text/plain": [
       "5-element Vector{ComplexF64}:\n",
       "    -1.8090169943749475 - 0.5877852522924734im\n",
       "    -1.8090169943749475 + 0.5877852522924734im\n",
       "    -0.6909830056250533 - 0.9510565162951539im\n",
       "    -0.6909830056250533 + 0.9510565162951539im\n",
       " 3.0524121069554347e-18 + 0.0im"
      ]
     },
     "execution_count": 4,
     "metadata": {},
     "output_type": "execute_result"
    }
   ],
   "source": [
    "eigvals(A)"
   ]
  },
  {
   "cell_type": "code",
   "execution_count": 5,
   "metadata": {},
   "outputs": [
    {
     "data": {
      "text/plain": [
       "2-element Vector{Float64}:\n",
       " -2.0\n",
       "  0.0"
      ]
     },
     "execution_count": 5,
     "metadata": {},
     "output_type": "execute_result"
    }
   ],
   "source": [
    "B = [ -1 1\n",
    "    1 -1]\n",
    "eigvals(B)"
   ]
  },
  {
   "cell_type": "code",
   "execution_count": 6,
   "metadata": {},
   "outputs": [
    {
     "data": {
      "text/plain": [
       "4-element Vector{ComplexF64}:\n",
       "     -2.0000000000000013 + 0.0im\n",
       "     -1.0000000000000002 - 1.0000000000000002im\n",
       "     -1.0000000000000002 + 1.0000000000000002im\n",
       " -1.8732355726879183e-16 + 0.0im"
      ]
     },
     "execution_count": 6,
     "metadata": {},
     "output_type": "execute_result"
    }
   ],
   "source": [
    "C = [-1 1 0 0 \n",
    "     0 -1 1 0\n",
    "     0 0 -1 1\n",
    "     1 0 0 -1]\n",
    "eigvals(C)"
   ]
  },
  {
   "cell_type": "code",
   "execution_count": 13,
   "metadata": {},
   "outputs": [
    {
     "name": "stdout",
     "output_type": "stream",
     "text": [
      "eigvals_expression = -1 + exp((i * 2 * pi * im) / 4) = 0.0 + 0.0im\n",
      "eigvals_expression = -1 + exp((i * 2 * pi * im) / 4) = -0.9999999999999999 + 1.0im\n",
      "eigvals_expression = -1 + exp((i * 2 * pi * im) / 4) = -2.0 + 1.2246467991473532e-16im\n",
      "eigvals_expression = -1 + exp((i * 2 * pi * im) / 4) = -1.0000000000000002 - 1.0im\n"
     ]
    }
   ],
   "source": [
    "for i in 0:3\n",
    "    @show eigvals_expression = -1 + exp(i *2 * pi * im /4)\n",
    "end"
   ]
  },
  {
   "cell_type": "code",
   "execution_count": 12,
   "metadata": {},
   "outputs": [
    {
     "data": {
      "text/plain": [
       "π = 3.1415926535897..."
      ]
     },
     "execution_count": 12,
     "metadata": {},
     "output_type": "execute_result"
    }
   ],
   "source": [
    "pi"
   ]
  },
  {
   "cell_type": "code",
   "execution_count": 33,
   "metadata": {},
   "outputs": [
    {
     "data": {
      "text/plain": [
       "compute_nuclear_norm (generic function with 1 method)"
      ]
     },
     "execution_count": 33,
     "metadata": {},
     "output_type": "execute_result"
    }
   ],
   "source": [
    "function compute_nuclear_norm(C, n)\n",
    "    norm = 0\n",
    "    for i in 0:n-1\n",
    "        eigvals_expression = +2 - exp(i *2 * pi * im /n) - (exp(i *2 * pi * im /n))^(n-1)\n",
    "        norm = norm + sqrt(eigvals_expression)\n",
    "    end \n",
    "    return norm\n",
    "end \n"
   ]
  },
  {
   "cell_type": "markdown",
   "metadata": {},
   "source": [
    "compute_nuclear_norm(C, 4)"
   ]
  },
  {
   "cell_type": "code",
   "execution_count": 34,
   "metadata": {},
   "outputs": [
    {
     "data": {
      "text/plain": [
       "4.82842712474619 - 1.2246467991473532e-16im"
      ]
     },
     "execution_count": 34,
     "metadata": {},
     "output_type": "execute_result"
    }
   ],
   "source": [
    "compute_nuclear_norm(C, 4)"
   ]
  },
  {
   "cell_type": "code",
   "execution_count": 35,
   "metadata": {},
   "outputs": [
    {
     "data": {
      "text/plain": [
       "4.82842712474619"
      ]
     },
     "execution_count": 35,
     "metadata": {},
     "output_type": "execute_result"
    }
   ],
   "source": [
    "sum(svdvals(C))"
   ]
  },
  {
   "cell_type": "code",
   "execution_count": 41,
   "metadata": {},
   "outputs": [
    {
     "data": {
      "text/plain": [
       "7×4 Matrix{Bool}:\n",
       " 1  0  0  0\n",
       " 0  1  0  0\n",
       " 0  0  1  0\n",
       " 0  0  0  1\n",
       " 0  0  0  0\n",
       " 0  0  0  0\n",
       " 0  0  0  0"
      ]
     },
     "execution_count": 41,
     "metadata": {},
     "output_type": "execute_result"
    }
   ],
   "source": [
    "Matrix(I, 7,4)"
   ]
  },
  {
   "cell_type": "code",
   "execution_count": null,
   "metadata": {},
   "outputs": [],
   "source": []
  }
 ],
 "metadata": {
  "kernelspec": {
   "display_name": "Julia 1.6.2",
   "language": "julia",
   "name": "julia-1.6"
  },
  "language_info": {
   "file_extension": ".jl",
   "mimetype": "application/julia",
   "name": "julia",
   "version": "1.6.2"
  }
 },
 "nbformat": 4,
 "nbformat_minor": 4
}
