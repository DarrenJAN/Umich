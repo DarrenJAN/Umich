{
 "cells": [
  {
   "cell_type": "code",
   "execution_count": 19,
   "metadata": {},
   "outputs": [
    {
     "name": "stderr",
     "output_type": "stream",
     "text": [
      "\u001b[32m\u001b[1m    Updating\u001b[22m\u001b[39m registry at `~/.julia/registries/General`\n",
      "\u001b[32m\u001b[1m   Resolving\u001b[22m\u001b[39m package versions...\n",
      "\u001b[32m\u001b[1m   Installed\u001b[22m\u001b[39m HarfBuzz_jll ───── v2.8.1+1\n",
      "\u001b[32m\u001b[1m   Installed\u001b[22m\u001b[39m RandomExtensions ─ v0.4.3\n",
      "\u001b[32m\u001b[1m   Installed\u001b[22m\u001b[39m GroupsCore ─────── v0.4.0\n",
      "\u001b[32m\u001b[1m   Installed\u001b[22m\u001b[39m Libffi_jll ─────── v3.2.2+1\n",
      "\u001b[32m\u001b[1m   Installed\u001b[22m\u001b[39m Glib_jll ───────── v2.68.3+1\n",
      "\u001b[32m\u001b[1m   Installed\u001b[22m\u001b[39m AbstractAlgebra ── v0.22.2\n",
      "\u001b[32m\u001b[1m    Updating\u001b[22m\u001b[39m `~/.julia/environments/v1.6/Project.toml`\n",
      " \u001b[90m [c3fe647b] \u001b[39m\u001b[92m+ AbstractAlgebra v0.22.2\u001b[39m\n",
      "\u001b[32m\u001b[1m    Updating\u001b[22m\u001b[39m `~/.julia/environments/v1.6/Manifest.toml`\n",
      " \u001b[90m [c3fe647b] \u001b[39m\u001b[92m+ AbstractAlgebra v0.22.2\u001b[39m\n",
      " \u001b[90m [d5909c97] \u001b[39m\u001b[92m+ GroupsCore v0.4.0\u001b[39m\n",
      " \u001b[90m [fb686558] \u001b[39m\u001b[92m+ RandomExtensions v0.4.3\u001b[39m\n",
      " \u001b[90m [7746bdde] \u001b[39m\u001b[93m↑ Glib_jll v2.68.3+0 ⇒ v2.68.3+1\u001b[39m\n",
      " \u001b[90m [2e76f6c2] \u001b[39m\u001b[93m↑ HarfBuzz_jll v2.8.1+0 ⇒ v2.8.1+1\u001b[39m\n",
      " \u001b[90m [e9f186c6] \u001b[39m\u001b[93m↑ Libffi_jll v3.2.2+0 ⇒ v3.2.2+1\u001b[39m\n",
      "\u001b[32m\u001b[1mPrecompiling\u001b[22m\u001b[39m project...\n",
      "\u001b[32m  ✓ \u001b[39m\u001b[90mGroupsCore\u001b[39m\n",
      "\u001b[32m  ✓ \u001b[39m\u001b[90mLibffi_jll\u001b[39m\n",
      "\u001b[32m  ✓ \u001b[39m\u001b[90mRandomExtensions\u001b[39m\n",
      "\u001b[32m  ✓ \u001b[39m\u001b[90mWayland_jll\u001b[39m\n",
      "\u001b[32m  ✓ \u001b[39m\u001b[90mGlib_jll\u001b[39m\n",
      "\u001b[32m  ✓ \u001b[39m\u001b[90mWayland_protocols_jll\u001b[39m\n",
      "\u001b[32m  ✓ \u001b[39m\u001b[90mxkbcommon_jll\u001b[39m\n",
      "\u001b[32m  ✓ \u001b[39m\u001b[90mCairo_jll\u001b[39m\n",
      "\u001b[32m  ✓ \u001b[39m\u001b[90mQt5Base_jll\u001b[39m\n",
      "\u001b[32m  ✓ \u001b[39m\u001b[90mHarfBuzz_jll\u001b[39m\n",
      "\u001b[32m  ✓ \u001b[39m\u001b[90mlibass_jll\u001b[39m\n",
      "\u001b[32m  ✓ \u001b[39m\u001b[90mFFMPEG_jll\u001b[39m\n",
      "\u001b[32m  ✓ \u001b[39m\u001b[90mFFMPEG\u001b[39m\n",
      "\u001b[32m  ✓ \u001b[39m\u001b[90mGR_jll\u001b[39m\n",
      "\u001b[32m  ✓ \u001b[39mAbstractAlgebra\n",
      "\u001b[32m  ✓ \u001b[39m\u001b[90mGR\u001b[39m\n",
      "\u001b[32m  ✓ \u001b[39mPlots\n",
      "\u001b[32m  ✓ \u001b[39mMIRTjim\n",
      "  18 dependencies successfully precompiled in 70 seconds (226 already precompiled)\n"
     ]
    }
   ],
   "source": [
    "using LinearAlgebra\n",
    "import Pkg; Pkg.add(\"AbstractAlgebra\")\n"
   ]
  },
  {
   "cell_type": "code",
   "execution_count": null,
   "metadata": {},
   "outputs": [],
   "source": []
  },
  {
   "cell_type": "code",
   "execution_count": 41,
   "metadata": {},
   "outputs": [
    {
     "name": "stderr",
     "output_type": "stream",
     "text": [
      "\u001b[32m\u001b[1m   Resolving\u001b[22m\u001b[39m package versions...\n",
      "\u001b[32m\u001b[1m   Installed\u001b[22m\u001b[39m Polynomials ─ v2.0.17\n",
      "\u001b[32m\u001b[1m    Updating\u001b[22m\u001b[39m `~/.julia/environments/v1.6/Project.toml`\n",
      " \u001b[90m [f27b6e38] \u001b[39m\u001b[92m+ Polynomials v2.0.17\u001b[39m\n",
      "\u001b[32m\u001b[1m    Updating\u001b[22m\u001b[39m `~/.julia/environments/v1.6/Manifest.toml`\n",
      " \u001b[90m [f27b6e38] \u001b[39m\u001b[93m↑ Polynomials v2.0.14 ⇒ v2.0.17\u001b[39m\n",
      "\u001b[32m\u001b[1mPrecompiling\u001b[22m\u001b[39m project...\n",
      "\u001b[32m  ✓ \u001b[39mPolynomials\n",
      "\u001b[32m  ✓ \u001b[39mSpecialMatrices\n",
      "\u001b[32m  ✓ \u001b[39mDSP\n",
      "  3 dependencies successfully precompiled in 14 seconds (241 already precompiled)\n"
     ]
    }
   ],
   "source": [
    "import Pkg; Pkg.add(\"Polynomials\")"
   ]
  },
  {
   "cell_type": "code",
   "execution_count": 45,
   "metadata": {},
   "outputs": [
    {
     "name": "stderr",
     "output_type": "stream",
     "text": [
      "WARNING: using Polynomials.coeffs in module Main conflicts with an existing identifier.\n"
     ]
    }
   ],
   "source": [
    "using Polynomials"
   ]
  },
  {
   "cell_type": "code",
   "execution_count": null,
   "metadata": {},
   "outputs": [],
   "source": [
    "############Problem 1\n",
    "using LinearAlgebra\n",
    "\"\"\"\n",
    "    zmax, zmin = outlying_roots(a, v0, nIters)\n",
    "Use power iteration to compute the largest and smallest magnitude roots,\n",
    "respectively, of the polynomial defined by the input coefficients\n",
    "In:\n",
    "−  a  coefficient vector of length  n + 1  defining the polynomial\n",
    "p(x) = a[n+1] x^n + a[n−1] x^n−1 + ... + a[2] x + a[1] with a[n+1] != 0\n",
    "Option:\n",
    "− v0 vector of length n with initial guess of an eigenvector; default randn(n) − nIters number of power iterations to perform; default 100\n",
    "Out:\n",
    "−  zmax  root of  p(x)  with largest magnitude\n",
    "−  zmin  root of  p(x)  with smallest magnitude\n",
    "\"\"\"\n",
    "function outlying_roots(a ; v0::AbstractVector{<:Real} = randn(length(a)−1), nIters::Int=100)\n",
    "    compan = c -> [-transpose(reverse(c)); [I zeros(length(c)-1)]]\n",
    "    b= reverse(a)\n",
    "    \n",
    "    A = compan(a[1:end-1]/a[end])\n",
    "    if(b[end] != 0)\n",
    "        B = compan(a[1:end-1]/a[end])\n",
    "    end\n",
    "    \n",
    "    vk_max = v0\n",
    "    vk_min = v0\n",
    "    zmax = 0\n",
    "    zmin = 0\n",
    "    \n",
    "    #compute zmax\n",
    "    for i in 1:nIters\n",
    "        vk_max = (A * vk_max ) / norm(A * vk_max)\n",
    "    end\n",
    "    zmax = vk_max' * A * vk_max\n",
    "    \n",
    "    #compute zmin\n",
    "    if(b[end] != 0)\n",
    "        for i in 1:nIters\n",
    "            vk_min = (B * vk_min ) / norm(A * vk_min)\n",
    "        end\n",
    "        zmin = 1 / (vk_min' * B * vk_min)\n",
    "    end\n",
    "        \n",
    "    return zmax, zmin\n",
    "end"
   ]
  },
  {
   "cell_type": "code",
   "execution_count": 14,
   "metadata": {},
   "outputs": [
    {
     "data": {
      "text/plain": [
       "10×5 SparseArrays.SparseMatrixCSC{Float64, Int64} with 30 stored entries:\n",
       " 1.0   ⋅    ⋅    ⋅    ⋅ \n",
       "  ⋅   1.0   ⋅    ⋅    ⋅ \n",
       "  ⋅    ⋅   1.0   ⋅    ⋅ \n",
       "  ⋅    ⋅    ⋅   1.0   ⋅ \n",
       "  ⋅    ⋅    ⋅    ⋅   1.0\n",
       " 1.0  1.0  1.0  1.0  1.0\n",
       " 1.0  1.0  1.0  1.0  1.0\n",
       " 1.0  1.0  1.0  1.0  1.0\n",
       " 1.0  1.0  1.0  1.0  1.0\n",
       " 1.0  1.0  1.0  1.0  1.0"
      ]
     },
     "execution_count": 14,
     "metadata": {},
     "output_type": "execute_result"
    }
   ],
   "source": [
    "#### Problem6\n",
    "\n",
    "A = [Diagonal(ones(5)); ones(5,5)]"
   ]
  },
  {
   "cell_type": "code",
   "execution_count": 16,
   "metadata": {},
   "outputs": [
    {
     "data": {
      "text/plain": [
       "5×5 Matrix{Float64}:\n",
       " 10.0   5.0   5.0   5.0   5.0\n",
       "  5.0  10.0   5.0   5.0   5.0\n",
       "  5.0   5.0  10.0   5.0   5.0\n",
       "  5.0   5.0   5.0  10.0   5.0\n",
       "  5.0   5.0   5.0   5.0  10.0"
      ]
     },
     "execution_count": 16,
     "metadata": {},
     "output_type": "execute_result"
    }
   ],
   "source": [
    "B = A' * A + 4I(5)\n",
    "B = Matrix(B)"
   ]
  },
  {
   "cell_type": "code",
   "execution_count": 17,
   "metadata": {},
   "outputs": [
    {
     "data": {
      "text/plain": [
       "SVD{Float64, Float64, Matrix{Float64}}\n",
       "U factor:\n",
       "5×5 Matrix{Float64}:\n",
       " -0.447214   1.06609e-16   9.47635e-17  -1.06609e-16   0.894427\n",
       " -0.447214  -0.408248     -0.376706      0.664399     -0.223607\n",
       " -0.447214  -0.544331      0.072461     -0.669666     -0.223607\n",
       " -0.447214   0.680414     -0.482921     -0.232001     -0.223607\n",
       " -0.447214   0.272166      0.787166      0.237268     -0.223607\n",
       "singular values:\n",
       "5-element Vector{Float64}:\n",
       " 30.000000000000004\n",
       "  5.000000000000002\n",
       "  5.0\n",
       "  5.0\n",
       "  5.0\n",
       "Vt factor:\n",
       "5×5 Matrix{Float64}:\n",
       " -0.447214  -0.447214  -0.447214  -0.447214  -0.447214\n",
       "  0.0       -0.408248  -0.544331   0.680414   0.272166\n",
       "  0.0       -0.376706   0.072461  -0.482921   0.787166\n",
       "  0.0        0.664399  -0.669666  -0.232001   0.237268\n",
       "  0.894427  -0.223607  -0.223607  -0.223607  -0.223607"
      ]
     },
     "execution_count": 17,
     "metadata": {},
     "output_type": "execute_result"
    }
   ],
   "source": [
    "U, s, V = svd(B)"
   ]
  },
  {
   "cell_type": "code",
   "execution_count": null,
   "metadata": {},
   "outputs": [],
   "source": [
    "#Problem 7 "
   ]
  },
  {
   "cell_type": "code",
   "execution_count": 20,
   "metadata": {},
   "outputs": [
    {
     "data": {
      "text/plain": [
       "3-element Vector{Int64}:\n",
       " -2\n",
       " -5\n",
       "  1"
      ]
     },
     "execution_count": 20,
     "metadata": {},
     "output_type": "execute_result"
    }
   ],
   "source": [
    "using AbstractAlgebra: charpoly, matrix, ZZ, coeffs\n",
    "charpol(A::Matrix) = charpoly(ZZ[\"x\"][1], matrix(ZZ,A))\n",
    "A = [1 2; 3 4] # Julia matrix\n",
    "p = charpol(A) # x^2 − 5*x − 2 : characteristic polynomial of A\n",
    "Int.(p.coeffs) # [−2, −5, 1] coefficients of that polynomial"
   ]
  },
  {
   "cell_type": "code",
   "execution_count": 21,
   "metadata": {},
   "outputs": [
    {
     "data": {
      "text/plain": [
       "2-element Vector{Float64}:\n",
       " -0.3722813232690143\n",
       "  5.372281323269014"
      ]
     },
     "execution_count": 21,
     "metadata": {},
     "output_type": "execute_result"
    }
   ],
   "source": [
    "eigvals(A)"
   ]
  },
  {
   "cell_type": "code",
   "execution_count": 23,
   "metadata": {},
   "outputs": [
    {
     "data": {
      "text/plain": [
       "2×2 Matrix{Int64}:\n",
       " 10  -18\n",
       "  1    0"
      ]
     },
     "execution_count": 23,
     "metadata": {},
     "output_type": "execute_result"
    }
   ],
   "source": [
    "A = [-4 -7;\n",
    "     1   0]\n",
    "B = [10 -18;\n",
    "     1   0]"
   ]
  },
  {
   "cell_type": "code",
   "execution_count": 27,
   "metadata": {},
   "outputs": [
    {
     "data": {
      "text/plain": [
       "4×4 Matrix{Int64}:\n",
       " 6  0  -25    0\n",
       " 0  6    0  -25\n",
       " 2  0    0    0\n",
       " 0  2    0    0"
      ]
     },
     "execution_count": 27,
     "metadata": {},
     "output_type": "execute_result"
    }
   ],
   "source": [
    "C = kron(A, I(2)) + kron(B, I(2))"
   ]
  },
  {
   "cell_type": "code",
   "execution_count": 28,
   "metadata": {},
   "outputs": [
    {
     "data": {
      "text/plain": [
       "4×4 Matrix{Int64}:\n",
       " -40   72  -70  126\n",
       "  -4    0   -7    0\n",
       "  10  -18    0    0\n",
       "   1    0    0    0"
      ]
     },
     "execution_count": 28,
     "metadata": {},
     "output_type": "execute_result"
    }
   ],
   "source": [
    "D = kron(A, B)"
   ]
  },
  {
   "cell_type": "code",
   "execution_count": 30,
   "metadata": {},
   "outputs": [
    {
     "data": {
      "text/plain": [
       "5-element Vector{Int64}:\n",
       " 2500\n",
       " -600\n",
       "  136\n",
       "  -12\n",
       "    1"
      ]
     },
     "execution_count": 30,
     "metadata": {},
     "output_type": "execute_result"
    }
   ],
   "source": [
    "p = charpol(C) # x^2 − 5*x − 2 : characteristic polynomial of A\n",
    "Int.(p.coeffs) # [−2, −5, 1] coefficients of that polynomial"
   ]
  },
  {
   "cell_type": "code",
   "execution_count": 31,
   "metadata": {},
   "outputs": [
    {
     "data": {
      "text/plain": [
       "5-element Vector{Int64}:\n",
       " 15876\n",
       "  5040\n",
       "   736\n",
       "    40\n",
       "     1"
      ]
     },
     "execution_count": 31,
     "metadata": {},
     "output_type": "execute_result"
    }
   ],
   "source": [
    "p = charpol(D) # x^2 − 5*x − 2 : characteristic polynomial of A\n",
    "Int.(p.coeffs) # [−2, −5, 1] coefficients of that polynomial"
   ]
  },
  {
   "cell_type": "code",
   "execution_count": null,
   "metadata": {},
   "outputs": [],
   "source": [
    "#######Problem 8"
   ]
  },
  {
   "cell_type": "code",
   "execution_count": 161,
   "metadata": {},
   "outputs": [
    {
     "data": {
      "text/plain": [
       "poly_coeff"
      ]
     },
     "execution_count": 161,
     "metadata": {},
     "output_type": "execute_result"
    }
   ],
   "source": [
    "\"\"\"\n",
    "g, h = poly_coeff(a, b, c, d)\n",
    "Use Kronecker sums/products to construct polynomials with integer coefficients\n",
    "with the given (algebraic) numbers as zeros.\n",
    "In:\n",
    "* `a, b, c, d` are integers\n",
    "Out:\n",
    "* `g` and `h` are Int vectors of length 5 with `p[5] = 1` and `q[5] = 1`\n",
    "such that, in the notation defined below, `p3(x3) = 0` and `p4(x4) = 0`\n",
    "Notation:\n",
    "* `x1 = a + sqrt(b)`\n",
    "* `x2 = c − sqrt(d)`\n",
    "* `x3 = x1 + x2`\n",
    "* `x4 = x1 * x2`\n",
    "* `p1(x)` quadratic monic polynomial with integer−valued coefficients with a zero at `x1`\n",
    "* `p2(x)` quadratic monic polynomial with integer−valued coefficients with a zero at `x2`\n",
    "* `p3(x) = g[5] x^4 + g[4] x^3 + g[3] x^2 + g[2] x + g[1]` where `g[5] = 1`\n",
    "* `p4(x) = h[5] x^4 + h[4] x^3 + h[3] x^2 + h[2] x + h[1]` where `h[5] = 1`\n",
    "\"\"\"\n",
    "function poly_coeff(a::Int, b::Int, c::Int, d::Int)\n",
    "    g  = Vector{Int64}(zeros(5)) \n",
    "    h  = Vector{Int64}(zeros(5)) \n",
    "    g[5] = 1\n",
    "    h[5] = 1\n",
    "    \n",
    "    #construct compan matrix of p1 and p2\n",
    "    compan = e -> [-transpose(reverse(e)); [I zeros(length(e)-1)]]\n",
    "    \n",
    "    c1 = [a^2 - b ; -2 * a]\n",
    "    c2 = [c^2 - d ; -2 * c]\n",
    "    \n",
    "    compan_p1 = compan(c1)\n",
    "    compan_p2 = compan(c2)\n",
    "    \n",
    "    kron_sum = kron(compan_p1, I(2)) + kron(I(2), compan_p2)\n",
    "    kron_product = kron(compan_p1, compan_p2)\n",
    "    \n",
    "    eigvals3 = eigvals(kron_sum)\n",
    "    eigvals4 = eigvals(kron_product)\n",
    "\n",
    "    p3 = fromroots(eigvals3)\n",
    "    p4 = fromroots(eigvals4)\n",
    "    \n",
    "    g = convert.(Int64, round.(p3.coeffs, digits =0))\n",
    "    h = convert.(Int64, round.(p4.coeffs, digits =0))\n",
    "#     g[1] = convert(Int64, round(p3[0], digits = 0))\n",
    "#     g[2] = convert(Int64, round(p3[1], digits = 0))\n",
    "#     g[3] = convert(Int64, round(p3[2], digits = 0))\n",
    "#     g[4] = convert(Int64, round(p3[3], digits = 0))\n",
    "    \n",
    "#     h[1] = convert(Int64, round(p4[0], digits = 0))\n",
    "#     h[2] = convert(Int64, round(p4[1], digits = 0))\n",
    "#     h[3] = convert(Int64, round(p4[2], digits = 0))\n",
    "#     h[4] = convert(Int64, round(p4[3], digits = 0))\n",
    "    \n",
    "    \n",
    "    return g, h\n",
    "    \n",
    "end\n"
   ]
  },
  {
   "cell_type": "code",
   "execution_count": 162,
   "metadata": {},
   "outputs": [
    {
     "name": "stdout",
     "output_type": "stream",
     "text": [
      "[724, -672, 200, -24, 1]\n",
      "[121, -352, 218, -32, 1]\n"
     ]
    }
   ],
   "source": [
    "g, h = poly_coeff(2,3,4,5)\n",
    "println(g)\n",
    "println(h)"
   ]
  },
  {
   "cell_type": "code",
   "execution_count": 150,
   "metadata": {},
   "outputs": [
    {
     "name": "stdout",
     "output_type": "stream",
     "text": [
      "640.0 - 420.0*x + 179.0*x^2 - 24.0*x^3 + 1.0*x^4\n",
      "1024.0 - 352.0*x + 428.0*x^2 - 11.0*x^3 + 1.0*x^4\n"
     ]
    }
   ],
   "source": [
    "a =2\n",
    "b =3 \n",
    "c =4 \n",
    "d =5\n",
    "\n",
    "compan = e -> [-transpose(reverse(e)); [I zeros(length(e)-1)]]\n",
    "c1 = [2*a ; -a^2 + b]\n",
    "c2 = [2*c ; -c^2 + d]\n",
    "compan_p1 = compan(c1)\n",
    "compan_p2 = compan(c2)\n",
    "kron_product = kron(compan_p1, compan_p2)\n",
    "kron_sum = kron(compan_p1, I(2)) + kron(I(2), compan_p2)\n",
    "\n",
    "eigvals3 = eigvals(kron_sum)\n",
    "eigvals4 = eigvals(kron_product)\n",
    "\n",
    "p3 = fromroots(eigvals3)\n",
    "p4 = fromroots(eigvals4)\n",
    "println(p3)\n",
    "println(p4)"
   ]
  },
  {
   "cell_type": "code",
   "execution_count": 151,
   "metadata": {},
   "outputs": [
    {
     "data": {
      "text/plain": [
       "5-element Vector{Int64}:\n",
       " 1024\n",
       " -352\n",
       "  428\n",
       "  -11\n",
       "    1"
      ]
     },
     "execution_count": 151,
     "metadata": {},
     "output_type": "execute_result"
    }
   ],
   "source": [
    "p = charpol(Matrix{Int64}(kron_product)) # x^2 − 5*x − 2 : characteristic polynomial of A\n",
    "Int.(p.coeffs) # [−2, −5, 1] coefficients of that polynomial"
   ]
  },
  {
   "cell_type": "code",
   "execution_count": 112,
   "metadata": {},
   "outputs": [
    {
     "data": {
      "text/plain": [
       "5-element Vector{Int64}:\n",
       "  32\n",
       " -44\n",
       "  27\n",
       "  -8\n",
       "   1"
      ]
     },
     "execution_count": 112,
     "metadata": {},
     "output_type": "execute_result"
    }
   ],
   "source": [
    "p = charpol(Matrix{Int64}(kron_sum)) # x^2 − 5*x − 2 : characteristic polynomial of A\n",
    "Int.(p.coeffs) # [−2, −5, 1] coefficients of that polynomial"
   ]
  },
  {
   "cell_type": "code",
   "execution_count": 90,
   "metadata": {},
   "outputs": [
    {
     "data": {
      "text/plain": [
       "26.999999999999993"
      ]
     },
     "execution_count": 90,
     "metadata": {},
     "output_type": "execute_result"
    }
   ],
   "source": [
    "p3[2]"
   ]
  },
  {
   "cell_type": "code",
   "execution_count": 110,
   "metadata": {},
   "outputs": [
    {
     "data": {
      "text/plain": [
       "4×4 Matrix{Int64}:\n",
       " -5   6  -10  12\n",
       " -1   0   -2   0\n",
       "  5  -6    0   0\n",
       "  1   0    0   0"
      ]
     },
     "execution_count": 110,
     "metadata": {},
     "output_type": "execute_result"
    }
   ],
   "source": [
    "Matrix{Int64}(kron_product)"
   ]
  },
  {
   "cell_type": "code",
   "execution_count": 107,
   "metadata": {},
   "outputs": [
    {
     "data": {
      "text/plain": [
       "2×2 Matrix{Int64}:\n",
       " -4  -7\n",
       "  1   0"
      ]
     },
     "execution_count": 107,
     "metadata": {},
     "output_type": "execute_result"
    }
   ],
   "source": [
    "A"
   ]
  },
  {
   "cell_type": "code",
   "execution_count": 126,
   "metadata": {},
   "outputs": [
    {
     "ename": "LoadError",
     "evalue": "InexactError: Int64(534.3)",
     "output_type": "error",
     "traceback": [
      "InexactError: Int64(534.3)",
      "",
      "Stacktrace:",
      " [1] Int64",
      "   @ ./float.jl:723 [inlined]",
      " [2] convert(#unused#::Type{Int64}, x::Float64)",
      "   @ Base ./number.jl:7",
      " [3] top-level scope",
      "   @ In[126]:1",
      " [4] eval",
      "   @ ./boot.jl:360 [inlined]",
      " [5] include_string(mapexpr::typeof(REPL.softscope), mod::Module, code::String, filename::String)",
      "   @ Base ./loading.jl:1116"
     ]
    }
   ],
   "source": [
    "a = convert(Int64, 534.3)"
   ]
  },
  {
   "cell_type": "code",
   "execution_count": 141,
   "metadata": {},
   "outputs": [
    {
     "data": {
      "text/plain": [
       "1"
      ]
     },
     "execution_count": 141,
     "metadata": {},
     "output_type": "execute_result"
    }
   ],
   "source": [
    "a = convert(Int64, round(1.45, digits = 0))"
   ]
  },
  {
   "cell_type": "code",
   "execution_count": 163,
   "metadata": {},
   "outputs": [
    {
     "data": {
      "text/plain": [
       "lssd"
      ]
     },
     "execution_count": 163,
     "metadata": {},
     "output_type": "execute_result"
    }
   ],
   "source": [
    "#########Problem 9 \n",
    "using LinearAlgebra\n",
    "\n",
    "\"\"\"\n",
    "x = lssd(A, b ; x0=zeros(size(A,2)), nIters::Int=10)\n",
    "Perform steepest descent to solve the least squares problem\n",
    "`\\\\hat{x} = \\\\arg\\\\min_x f(x), f(x) = 1/2 \\\\| b − A x \\\\|_2`\n",
    "In:\n",
    "* `A` : `m × n` matrix\n",
    "* `b` : vector of length `m`\n",
    "Option:\n",
    "* `x0` : initial vector (of length `n`); default `zeros`\n",
    "* `nIters` : number of iterations to perform; default `10`\n",
    "Out:\n",
    "* `x` a vector of length `n` containing the approximate solution\n",
    "Notes:\n",
    "Because this is a quadratic cost function, there is a closed−form solution\n",
    "for the step size each iteration, so no \"line search\" procedure is needed.\n",
    "A full−credit solution uses only *one* multiply by `A` and one by `A'` per iteration.\n",
    "\"\"\"\n",
    "function lssd(A, b ; x0=zeros(size(A,2)), nIters::Int=10)\n",
    "    \n",
    "    x_current = x0\n",
    "    Ax = A * x_current\n",
    "    for _ in 1:nIters\n",
    "        gradient = A' * (Ax - b)\n",
    "        direction = - gradient\n",
    "        Ad = A * direction\n",
    "        Ad_norm = norm(Ad)\n",
    "        \n",
    "        if(Ad_norm == 0)\n",
    "            return x_crrent\n",
    "        else \n",
    "            step = - direction' * gradient / (Ad_norm.^2)\n",
    "        end\n",
    "        \n",
    "        x_current = x_current + step * direction \n",
    "        Ax = Ax + step * Ad \n",
    "    end\n",
    "    \n",
    "    return x_current\n",
    "        \n",
    "end"
   ]
  },
  {
   "cell_type": "code",
   "execution_count": null,
   "metadata": {},
   "outputs": [],
   "source": []
  },
  {
   "cell_type": "code",
   "execution_count": 170,
   "metadata": {},
   "outputs": [
    {
     "data": {
      "image/svg+xml": [
       "<?xml version=\"1.0\" encoding=\"utf-8\"?>\n",
       "<svg xmlns=\"http://www.w3.org/2000/svg\" xmlns:xlink=\"http://www.w3.org/1999/xlink\" width=\"600\" height=\"400\" viewBox=\"0 0 2400 1600\">\n",
       "<defs>\n",
       "  <clipPath id=\"clip760\">\n",
       "    <rect x=\"0\" y=\"0\" width=\"2400\" height=\"1600\"/>\n",
       "  </clipPath>\n",
       "</defs>\n",
       "<path clip-path=\"url(#clip760)\" d=\"\n",
       "M0 1600 L2400 1600 L2400 0 L0 0  Z\n",
       "  \" fill=\"#ffffff\" fill-rule=\"evenodd\" fill-opacity=\"1\"/>\n",
       "<defs>\n",
       "  <clipPath id=\"clip761\">\n",
       "    <rect x=\"480\" y=\"0\" width=\"1681\" height=\"1600\"/>\n",
       "  </clipPath>\n",
       "</defs>\n",
       "<path clip-path=\"url(#clip760)\" d=\"\n",
       "M257.204 1423.18 L2352.76 1423.18 L2352.76 123.472 L257.204 123.472  Z\n",
       "  \" fill=\"#ffffff\" fill-rule=\"evenodd\" fill-opacity=\"1\"/>\n",
       "<defs>\n",
       "  <clipPath id=\"clip762\">\n",
       "    <rect x=\"257\" y=\"123\" width=\"2097\" height=\"1301\"/>\n",
       "  </clipPath>\n",
       "</defs>\n",
       "<polyline clip-path=\"url(#clip762)\" style=\"stroke:#000000; stroke-linecap:butt; stroke-linejoin:round; stroke-width:2; stroke-opacity:0.1; fill:none\" points=\"\n",
       "  316.512,1423.18 316.512,123.472 \n",
       "  \"/>\n",
       "<polyline clip-path=\"url(#clip762)\" style=\"stroke:#000000; stroke-linecap:butt; stroke-linejoin:round; stroke-width:2; stroke-opacity:0.1; fill:none\" points=\"\n",
       "  815.738,1423.18 815.738,123.472 \n",
       "  \"/>\n",
       "<polyline clip-path=\"url(#clip762)\" style=\"stroke:#000000; stroke-linecap:butt; stroke-linejoin:round; stroke-width:2; stroke-opacity:0.1; fill:none\" points=\"\n",
       "  1314.96,1423.18 1314.96,123.472 \n",
       "  \"/>\n",
       "<polyline clip-path=\"url(#clip762)\" style=\"stroke:#000000; stroke-linecap:butt; stroke-linejoin:round; stroke-width:2; stroke-opacity:0.1; fill:none\" points=\"\n",
       "  1814.19,1423.18 1814.19,123.472 \n",
       "  \"/>\n",
       "<polyline clip-path=\"url(#clip762)\" style=\"stroke:#000000; stroke-linecap:butt; stroke-linejoin:round; stroke-width:2; stroke-opacity:0.1; fill:none\" points=\"\n",
       "  2313.42,1423.18 2313.42,123.472 \n",
       "  \"/>\n",
       "<polyline clip-path=\"url(#clip760)\" style=\"stroke:#000000; stroke-linecap:butt; stroke-linejoin:round; stroke-width:4; stroke-opacity:1; fill:none\" points=\"\n",
       "  257.204,1423.18 2352.76,1423.18 \n",
       "  \"/>\n",
       "<polyline clip-path=\"url(#clip760)\" style=\"stroke:#000000; stroke-linecap:butt; stroke-linejoin:round; stroke-width:4; stroke-opacity:1; fill:none\" points=\"\n",
       "  316.512,1423.18 316.512,1404.28 \n",
       "  \"/>\n",
       "<polyline clip-path=\"url(#clip760)\" style=\"stroke:#000000; stroke-linecap:butt; stroke-linejoin:round; stroke-width:4; stroke-opacity:1; fill:none\" points=\"\n",
       "  815.738,1423.18 815.738,1404.28 \n",
       "  \"/>\n",
       "<polyline clip-path=\"url(#clip760)\" style=\"stroke:#000000; stroke-linecap:butt; stroke-linejoin:round; stroke-width:4; stroke-opacity:1; fill:none\" points=\"\n",
       "  1314.96,1423.18 1314.96,1404.28 \n",
       "  \"/>\n",
       "<polyline clip-path=\"url(#clip760)\" style=\"stroke:#000000; stroke-linecap:butt; stroke-linejoin:round; stroke-width:4; stroke-opacity:1; fill:none\" points=\"\n",
       "  1814.19,1423.18 1814.19,1404.28 \n",
       "  \"/>\n",
       "<polyline clip-path=\"url(#clip760)\" style=\"stroke:#000000; stroke-linecap:butt; stroke-linejoin:round; stroke-width:4; stroke-opacity:1; fill:none\" points=\"\n",
       "  2313.42,1423.18 2313.42,1404.28 \n",
       "  \"/>\n",
       "<path clip-path=\"url(#clip760)\" d=\"M316.512 1452.37 Q312.901 1452.37 311.072 1455.94 Q309.267 1459.48 309.267 1466.61 Q309.267 1473.71 311.072 1477.28 Q312.901 1480.82 316.512 1480.82 Q320.146 1480.82 321.952 1477.28 Q323.781 1473.71 323.781 1466.61 Q323.781 1459.48 321.952 1455.94 Q320.146 1452.37 316.512 1452.37 M316.512 1448.67 Q322.322 1448.67 325.378 1453.27 Q328.456 1457.86 328.456 1466.61 Q328.456 1475.33 325.378 1479.94 Q322.322 1484.52 316.512 1484.52 Q310.702 1484.52 307.623 1479.94 Q304.568 1475.33 304.568 1466.61 Q304.568 1457.86 307.623 1453.27 Q310.702 1448.67 316.512 1448.67 Z\" fill=\"#000000\" fill-rule=\"evenodd\" fill-opacity=\"1\" /><path clip-path=\"url(#clip760)\" d=\"M795.009 1479.92 L811.329 1479.92 L811.329 1483.85 L789.384 1483.85 L789.384 1479.92 Q792.046 1477.16 796.63 1472.53 Q801.236 1467.88 802.417 1466.54 Q804.662 1464.01 805.542 1462.28 Q806.444 1460.52 806.444 1458.83 Q806.444 1456.07 804.5 1454.34 Q802.579 1452.6 799.477 1452.6 Q797.278 1452.6 794.824 1453.37 Q792.394 1454.13 789.616 1455.68 L789.616 1450.96 Q792.44 1449.82 794.894 1449.25 Q797.347 1448.67 799.384 1448.67 Q804.755 1448.67 807.949 1451.35 Q811.143 1454.04 811.143 1458.53 Q811.143 1460.66 810.333 1462.58 Q809.546 1464.48 807.44 1467.07 Q806.861 1467.74 803.759 1470.96 Q800.657 1474.15 795.009 1479.92 Z\" fill=\"#000000\" fill-rule=\"evenodd\" fill-opacity=\"1\" /><path clip-path=\"url(#clip760)\" d=\"M821.19 1449.29 L839.546 1449.29 L839.546 1453.23 L825.472 1453.23 L825.472 1461.7 Q826.491 1461.35 827.509 1461.19 Q828.528 1461 829.546 1461 Q835.333 1461 838.713 1464.18 Q842.092 1467.35 842.092 1472.76 Q842.092 1478.34 838.62 1481.44 Q835.148 1484.52 828.829 1484.52 Q826.653 1484.52 824.384 1484.15 Q822.139 1483.78 819.731 1483.04 L819.731 1478.34 Q821.815 1479.48 824.037 1480.03 Q826.259 1480.59 828.736 1480.59 Q832.741 1480.59 835.078 1478.48 Q837.416 1476.38 837.416 1472.76 Q837.416 1469.15 835.078 1467.05 Q832.741 1464.94 828.736 1464.94 Q826.861 1464.94 824.986 1465.36 Q823.134 1465.77 821.19 1466.65 L821.19 1449.29 Z\" fill=\"#000000\" fill-rule=\"evenodd\" fill-opacity=\"1\" /><path clip-path=\"url(#clip760)\" d=\"M1289.66 1449.29 L1308.02 1449.29 L1308.02 1453.23 L1293.95 1453.23 L1293.95 1461.7 Q1294.96 1461.35 1295.98 1461.19 Q1297 1461 1298.02 1461 Q1303.81 1461 1307.19 1464.18 Q1310.57 1467.35 1310.57 1472.76 Q1310.57 1478.34 1307.09 1481.44 Q1303.62 1484.52 1297.3 1484.52 Q1295.13 1484.52 1292.86 1484.15 Q1290.61 1483.78 1288.21 1483.04 L1288.21 1478.34 Q1290.29 1479.48 1292.51 1480.03 Q1294.73 1480.59 1297.21 1480.59 Q1301.21 1480.59 1303.55 1478.48 Q1305.89 1476.38 1305.89 1472.76 Q1305.89 1469.15 1303.55 1467.05 Q1301.21 1464.94 1297.21 1464.94 Q1295.33 1464.94 1293.46 1465.36 Q1291.61 1465.77 1289.66 1466.65 L1289.66 1449.29 Z\" fill=\"#000000\" fill-rule=\"evenodd\" fill-opacity=\"1\" /><path clip-path=\"url(#clip760)\" d=\"M1329.78 1452.37 Q1326.17 1452.37 1324.34 1455.94 Q1322.53 1459.48 1322.53 1466.61 Q1322.53 1473.71 1324.34 1477.28 Q1326.17 1480.82 1329.78 1480.82 Q1333.41 1480.82 1335.22 1477.28 Q1337.05 1473.71 1337.05 1466.61 Q1337.05 1459.48 1335.22 1455.94 Q1333.41 1452.37 1329.78 1452.37 M1329.78 1448.67 Q1335.59 1448.67 1338.64 1453.27 Q1341.72 1457.86 1341.72 1466.61 Q1341.72 1475.33 1338.64 1479.94 Q1335.59 1484.52 1329.78 1484.52 Q1323.97 1484.52 1320.89 1479.94 Q1317.83 1475.33 1317.83 1466.61 Q1317.83 1457.86 1320.89 1453.27 Q1323.97 1448.67 1329.78 1448.67 Z\" fill=\"#000000\" fill-rule=\"evenodd\" fill-opacity=\"1\" /><path clip-path=\"url(#clip760)\" d=\"M1788.04 1449.29 L1810.27 1449.29 L1810.27 1451.28 L1797.72 1483.85 L1792.84 1483.85 L1804.64 1453.23 L1788.04 1453.23 L1788.04 1449.29 Z\" fill=\"#000000\" fill-rule=\"evenodd\" fill-opacity=\"1\" /><path clip-path=\"url(#clip760)\" d=\"M1819.43 1449.29 L1837.79 1449.29 L1837.79 1453.23 L1823.72 1453.23 L1823.72 1461.7 Q1824.73 1461.35 1825.75 1461.19 Q1826.77 1461 1827.79 1461 Q1833.58 1461 1836.96 1464.18 Q1840.34 1467.35 1840.34 1472.76 Q1840.34 1478.34 1836.86 1481.44 Q1833.39 1484.52 1827.07 1484.52 Q1824.9 1484.52 1822.63 1484.15 Q1820.38 1483.78 1817.98 1483.04 L1817.98 1478.34 Q1820.06 1479.48 1822.28 1480.03 Q1824.5 1480.59 1826.98 1480.59 Q1830.98 1480.59 1833.32 1478.48 Q1835.66 1476.38 1835.66 1472.76 Q1835.66 1469.15 1833.32 1467.05 Q1830.98 1464.94 1826.98 1464.94 Q1825.1 1464.94 1823.23 1465.36 Q1821.38 1465.77 1819.43 1466.65 L1819.43 1449.29 Z\" fill=\"#000000\" fill-rule=\"evenodd\" fill-opacity=\"1\" /><path clip-path=\"url(#clip760)\" d=\"M2273.02 1479.92 L2280.66 1479.92 L2280.66 1453.55 L2272.35 1455.22 L2272.35 1450.96 L2280.62 1449.29 L2285.29 1449.29 L2285.29 1479.92 L2292.93 1479.92 L2292.93 1483.85 L2273.02 1483.85 L2273.02 1479.92 Z\" fill=\"#000000\" fill-rule=\"evenodd\" fill-opacity=\"1\" /><path clip-path=\"url(#clip760)\" d=\"M2312.38 1452.37 Q2308.76 1452.37 2306.94 1455.94 Q2305.13 1459.48 2305.13 1466.61 Q2305.13 1473.71 2306.94 1477.28 Q2308.76 1480.82 2312.38 1480.82 Q2316.01 1480.82 2317.82 1477.28 Q2319.64 1473.71 2319.64 1466.61 Q2319.64 1459.48 2317.82 1455.94 Q2316.01 1452.37 2312.38 1452.37 M2312.38 1448.67 Q2318.19 1448.67 2321.24 1453.27 Q2324.32 1457.86 2324.32 1466.61 Q2324.32 1475.33 2321.24 1479.94 Q2318.19 1484.52 2312.38 1484.52 Q2306.57 1484.52 2303.49 1479.94 Q2300.43 1475.33 2300.43 1466.61 Q2300.43 1457.86 2303.49 1453.27 Q2306.57 1448.67 2312.38 1448.67 Z\" fill=\"#000000\" fill-rule=\"evenodd\" fill-opacity=\"1\" /><path clip-path=\"url(#clip760)\" d=\"M2342.54 1452.37 Q2338.93 1452.37 2337.1 1455.94 Q2335.29 1459.48 2335.29 1466.61 Q2335.29 1473.71 2337.1 1477.28 Q2338.93 1480.82 2342.54 1480.82 Q2346.17 1480.82 2347.98 1477.28 Q2349.81 1473.71 2349.81 1466.61 Q2349.81 1459.48 2347.98 1455.94 Q2346.17 1452.37 2342.54 1452.37 M2342.54 1448.67 Q2348.35 1448.67 2351.4 1453.27 Q2354.48 1457.86 2354.48 1466.61 Q2354.48 1475.33 2351.4 1479.94 Q2348.35 1484.52 2342.54 1484.52 Q2336.73 1484.52 2333.65 1479.94 Q2330.59 1475.33 2330.59 1466.61 Q2330.59 1457.86 2333.65 1453.27 Q2336.73 1448.67 2342.54 1448.67 Z\" fill=\"#000000\" fill-rule=\"evenodd\" fill-opacity=\"1\" /><path clip-path=\"url(#clip760)\" d=\"M1289.16 1518.52 L1295.05 1518.52 L1295.05 1547.77 L1312.52 1532.4 L1320 1532.4 L1301.1 1549.07 L1320.8 1568.04 L1313.16 1568.04 L1295.05 1550.63 L1295.05 1568.04 L1289.16 1568.04 L1289.16 1518.52 Z\" fill=\"#000000\" fill-rule=\"evenodd\" fill-opacity=\"1\" /><polyline clip-path=\"url(#clip762)\" style=\"stroke:#000000; stroke-linecap:butt; stroke-linejoin:round; stroke-width:2; stroke-opacity:0.1; fill:none\" points=\"\n",
       "  257.204,1295.24 2352.76,1295.24 \n",
       "  \"/>\n",
       "<polyline clip-path=\"url(#clip762)\" style=\"stroke:#000000; stroke-linecap:butt; stroke-linejoin:round; stroke-width:2; stroke-opacity:0.1; fill:none\" points=\"\n",
       "  257.204,1096.9 2352.76,1096.9 \n",
       "  \"/>\n",
       "<polyline clip-path=\"url(#clip762)\" style=\"stroke:#000000; stroke-linecap:butt; stroke-linejoin:round; stroke-width:2; stroke-opacity:0.1; fill:none\" points=\"\n",
       "  257.204,898.567 2352.76,898.567 \n",
       "  \"/>\n",
       "<polyline clip-path=\"url(#clip762)\" style=\"stroke:#000000; stroke-linecap:butt; stroke-linejoin:round; stroke-width:2; stroke-opacity:0.1; fill:none\" points=\"\n",
       "  257.204,700.231 2352.76,700.231 \n",
       "  \"/>\n",
       "<polyline clip-path=\"url(#clip762)\" style=\"stroke:#000000; stroke-linecap:butt; stroke-linejoin:round; stroke-width:2; stroke-opacity:0.1; fill:none\" points=\"\n",
       "  257.204,501.895 2352.76,501.895 \n",
       "  \"/>\n",
       "<polyline clip-path=\"url(#clip762)\" style=\"stroke:#000000; stroke-linecap:butt; stroke-linejoin:round; stroke-width:2; stroke-opacity:0.1; fill:none\" points=\"\n",
       "  257.204,303.56 2352.76,303.56 \n",
       "  \"/>\n",
       "<polyline clip-path=\"url(#clip760)\" style=\"stroke:#000000; stroke-linecap:butt; stroke-linejoin:round; stroke-width:4; stroke-opacity:1; fill:none\" points=\"\n",
       "  257.204,1423.18 257.204,123.472 \n",
       "  \"/>\n",
       "<polyline clip-path=\"url(#clip760)\" style=\"stroke:#000000; stroke-linecap:butt; stroke-linejoin:round; stroke-width:4; stroke-opacity:1; fill:none\" points=\"\n",
       "  257.204,1295.24 276.102,1295.24 \n",
       "  \"/>\n",
       "<polyline clip-path=\"url(#clip760)\" style=\"stroke:#000000; stroke-linecap:butt; stroke-linejoin:round; stroke-width:4; stroke-opacity:1; fill:none\" points=\"\n",
       "  257.204,1096.9 276.102,1096.9 \n",
       "  \"/>\n",
       "<polyline clip-path=\"url(#clip760)\" style=\"stroke:#000000; stroke-linecap:butt; stroke-linejoin:round; stroke-width:4; stroke-opacity:1; fill:none\" points=\"\n",
       "  257.204,898.567 276.102,898.567 \n",
       "  \"/>\n",
       "<polyline clip-path=\"url(#clip760)\" style=\"stroke:#000000; stroke-linecap:butt; stroke-linejoin:round; stroke-width:4; stroke-opacity:1; fill:none\" points=\"\n",
       "  257.204,700.231 276.102,700.231 \n",
       "  \"/>\n",
       "<polyline clip-path=\"url(#clip760)\" style=\"stroke:#000000; stroke-linecap:butt; stroke-linejoin:round; stroke-width:4; stroke-opacity:1; fill:none\" points=\"\n",
       "  257.204,501.895 276.102,501.895 \n",
       "  \"/>\n",
       "<polyline clip-path=\"url(#clip760)\" style=\"stroke:#000000; stroke-linecap:butt; stroke-linejoin:round; stroke-width:4; stroke-opacity:1; fill:none\" points=\"\n",
       "  257.204,303.56 276.102,303.56 \n",
       "  \"/>\n",
       "<path clip-path=\"url(#clip760)\" d=\"M115.256 1295.69 L144.931 1295.69 L144.931 1299.63 L115.256 1299.63 L115.256 1295.69 Z\" fill=\"#000000\" fill-rule=\"evenodd\" fill-opacity=\"1\" /><path clip-path=\"url(#clip760)\" d=\"M159.052 1308.58 L175.371 1308.58 L175.371 1312.52 L153.427 1312.52 L153.427 1308.58 Q156.089 1305.83 160.672 1301.2 Q165.278 1296.55 166.459 1295.2 Q168.704 1292.68 169.584 1290.94 Q170.487 1289.19 170.487 1287.5 Q170.487 1284.74 168.542 1283.01 Q166.621 1281.27 163.519 1281.27 Q161.32 1281.27 158.866 1282.03 Q156.436 1282.8 153.658 1284.35 L153.658 1279.63 Q156.482 1278.49 158.936 1277.91 Q161.39 1277.33 163.427 1277.33 Q168.797 1277.33 171.991 1280.02 Q175.186 1282.7 175.186 1287.2 Q175.186 1289.32 174.376 1291.25 Q173.589 1293.14 171.482 1295.74 Q170.903 1296.41 167.802 1299.63 Q164.7 1302.82 159.052 1308.58 Z\" fill=\"#000000\" fill-rule=\"evenodd\" fill-opacity=\"1\" /><path clip-path=\"url(#clip760)\" d=\"M185.186 1306.64 L190.07 1306.64 L190.07 1312.52 L185.186 1312.52 L185.186 1306.64 Z\" fill=\"#000000\" fill-rule=\"evenodd\" fill-opacity=\"1\" /><path clip-path=\"url(#clip760)\" d=\"M200.301 1277.96 L218.658 1277.96 L218.658 1281.89 L204.584 1281.89 L204.584 1290.37 Q205.602 1290.02 206.621 1289.86 Q207.639 1289.67 208.658 1289.67 Q214.445 1289.67 217.824 1292.84 Q221.204 1296.01 221.204 1301.43 Q221.204 1307.01 217.732 1310.11 Q214.26 1313.19 207.94 1313.19 Q205.764 1313.19 203.496 1312.82 Q201.25 1312.45 198.843 1311.71 L198.843 1307.01 Q200.926 1308.14 203.149 1308.7 Q205.371 1309.26 207.848 1309.26 Q211.852 1309.26 214.19 1307.15 Q216.528 1305.04 216.528 1301.43 Q216.528 1297.82 214.19 1295.71 Q211.852 1293.61 207.848 1293.61 Q205.973 1293.61 204.098 1294.02 Q202.246 1294.44 200.301 1295.32 L200.301 1277.96 Z\" fill=\"#000000\" fill-rule=\"evenodd\" fill-opacity=\"1\" /><path clip-path=\"url(#clip760)\" d=\"M114.26 1097.35 L143.936 1097.35 L143.936 1101.29 L114.26 1101.29 L114.26 1097.35 Z\" fill=\"#000000\" fill-rule=\"evenodd\" fill-opacity=\"1\" /><path clip-path=\"url(#clip760)\" d=\"M158.056 1110.25 L174.376 1110.25 L174.376 1114.18 L152.431 1114.18 L152.431 1110.25 Q155.093 1107.49 159.677 1102.86 Q164.283 1098.21 165.464 1096.87 Q167.709 1094.35 168.589 1092.61 Q169.491 1090.85 169.491 1089.16 Q169.491 1086.41 167.547 1084.67 Q165.626 1082.93 162.524 1082.93 Q160.325 1082.93 157.871 1083.7 Q155.44 1084.46 152.663 1086.01 L152.663 1081.29 Q155.487 1080.16 157.94 1079.58 Q160.394 1079 162.431 1079 Q167.802 1079 170.996 1081.68 Q174.19 1084.37 174.19 1088.86 Q174.19 1090.99 173.38 1092.91 Q172.593 1094.81 170.487 1097.4 Q169.908 1098.07 166.806 1101.29 Q163.704 1104.48 158.056 1110.25 Z\" fill=\"#000000\" fill-rule=\"evenodd\" fill-opacity=\"1\" /><path clip-path=\"url(#clip760)\" d=\"M184.19 1108.3 L189.075 1108.3 L189.075 1114.18 L184.19 1114.18 L184.19 1108.3 Z\" fill=\"#000000\" fill-rule=\"evenodd\" fill-opacity=\"1\" /><path clip-path=\"url(#clip760)\" d=\"M209.26 1082.7 Q205.649 1082.7 203.82 1086.27 Q202.014 1089.81 202.014 1096.94 Q202.014 1104.04 203.82 1107.61 Q205.649 1111.15 209.26 1111.15 Q212.894 1111.15 214.699 1107.61 Q216.528 1104.04 216.528 1096.94 Q216.528 1089.81 214.699 1086.27 Q212.894 1082.7 209.26 1082.7 M209.26 1079 Q215.07 1079 218.125 1083.6 Q221.204 1088.19 221.204 1096.94 Q221.204 1105.66 218.125 1110.27 Q215.07 1114.85 209.26 1114.85 Q203.449 1114.85 200.371 1110.27 Q197.315 1105.66 197.315 1096.94 Q197.315 1088.19 200.371 1083.6 Q203.449 1079 209.26 1079 Z\" fill=\"#000000\" fill-rule=\"evenodd\" fill-opacity=\"1\" /><path clip-path=\"url(#clip760)\" d=\"M115.256 899.019 L144.931 899.019 L144.931 902.954 L115.256 902.954 L115.256 899.019 Z\" fill=\"#000000\" fill-rule=\"evenodd\" fill-opacity=\"1\" /><path clip-path=\"url(#clip760)\" d=\"M155.834 911.912 L163.473 911.912 L163.473 885.546 L155.163 887.213 L155.163 882.954 L163.427 881.287 L168.102 881.287 L168.102 911.912 L175.741 911.912 L175.741 915.847 L155.834 915.847 L155.834 911.912 Z\" fill=\"#000000\" fill-rule=\"evenodd\" fill-opacity=\"1\" /><path clip-path=\"url(#clip760)\" d=\"M185.186 909.968 L190.07 909.968 L190.07 915.847 L185.186 915.847 L185.186 909.968 Z\" fill=\"#000000\" fill-rule=\"evenodd\" fill-opacity=\"1\" /><path clip-path=\"url(#clip760)\" d=\"M200.301 881.287 L218.658 881.287 L218.658 885.222 L204.584 885.222 L204.584 893.695 Q205.602 893.347 206.621 893.185 Q207.639 893 208.658 893 Q214.445 893 217.824 896.171 Q221.204 899.343 221.204 904.759 Q221.204 910.338 217.732 913.44 Q214.26 916.518 207.94 916.518 Q205.764 916.518 203.496 916.148 Q201.25 915.778 198.843 915.037 L198.843 910.338 Q200.926 911.472 203.149 912.028 Q205.371 912.583 207.848 912.583 Q211.852 912.583 214.19 910.477 Q216.528 908.37 216.528 904.759 Q216.528 901.148 214.19 899.042 Q211.852 896.935 207.848 896.935 Q205.973 896.935 204.098 897.352 Q202.246 897.769 200.301 898.648 L200.301 881.287 Z\" fill=\"#000000\" fill-rule=\"evenodd\" fill-opacity=\"1\" /><path clip-path=\"url(#clip760)\" d=\"M114.26 700.683 L143.936 700.683 L143.936 704.618 L114.26 704.618 L114.26 700.683 Z\" fill=\"#000000\" fill-rule=\"evenodd\" fill-opacity=\"1\" /><path clip-path=\"url(#clip760)\" d=\"M154.839 713.576 L162.477 713.576 L162.477 687.211 L154.167 688.877 L154.167 684.618 L162.431 682.951 L167.107 682.951 L167.107 713.576 L174.746 713.576 L174.746 717.511 L154.839 717.511 L154.839 713.576 Z\" fill=\"#000000\" fill-rule=\"evenodd\" fill-opacity=\"1\" /><path clip-path=\"url(#clip760)\" d=\"M184.19 711.632 L189.075 711.632 L189.075 717.511 L184.19 717.511 L184.19 711.632 Z\" fill=\"#000000\" fill-rule=\"evenodd\" fill-opacity=\"1\" /><path clip-path=\"url(#clip760)\" d=\"M209.26 686.03 Q205.649 686.03 203.82 689.595 Q202.014 693.136 202.014 700.266 Q202.014 707.372 203.82 710.937 Q205.649 714.479 209.26 714.479 Q212.894 714.479 214.699 710.937 Q216.528 707.372 216.528 700.266 Q216.528 693.136 214.699 689.595 Q212.894 686.03 209.26 686.03 M209.26 682.326 Q215.07 682.326 218.125 686.933 Q221.204 691.516 221.204 700.266 Q221.204 708.993 218.125 713.599 Q215.07 718.183 209.26 718.183 Q203.449 718.183 200.371 713.599 Q197.315 708.993 197.315 700.266 Q197.315 691.516 200.371 686.933 Q203.449 682.326 209.26 682.326 Z\" fill=\"#000000\" fill-rule=\"evenodd\" fill-opacity=\"1\" /><path clip-path=\"url(#clip760)\" d=\"M115.256 502.347 L144.931 502.347 L144.931 506.282 L115.256 506.282 L115.256 502.347 Z\" fill=\"#000000\" fill-rule=\"evenodd\" fill-opacity=\"1\" /><path clip-path=\"url(#clip760)\" d=\"M165.024 487.694 Q161.413 487.694 159.584 491.259 Q157.778 494.801 157.778 501.93 Q157.778 509.037 159.584 512.601 Q161.413 516.143 165.024 516.143 Q168.658 516.143 170.464 512.601 Q172.292 509.037 172.292 501.93 Q172.292 494.801 170.464 491.259 Q168.658 487.694 165.024 487.694 M165.024 483.99 Q170.834 483.99 173.889 488.597 Q176.968 493.18 176.968 501.93 Q176.968 510.657 173.889 515.263 Q170.834 519.847 165.024 519.847 Q159.214 519.847 156.135 515.263 Q153.079 510.657 153.079 501.93 Q153.079 493.18 156.135 488.597 Q159.214 483.99 165.024 483.99 Z\" fill=\"#000000\" fill-rule=\"evenodd\" fill-opacity=\"1\" /><path clip-path=\"url(#clip760)\" d=\"M185.186 513.296 L190.07 513.296 L190.07 519.175 L185.186 519.175 L185.186 513.296 Z\" fill=\"#000000\" fill-rule=\"evenodd\" fill-opacity=\"1\" /><path clip-path=\"url(#clip760)\" d=\"M200.301 484.615 L218.658 484.615 L218.658 488.551 L204.584 488.551 L204.584 497.023 Q205.602 496.676 206.621 496.514 Q207.639 496.328 208.658 496.328 Q214.445 496.328 217.824 499.5 Q221.204 502.671 221.204 508.088 Q221.204 513.666 217.732 516.768 Q214.26 519.847 207.94 519.847 Q205.764 519.847 203.496 519.476 Q201.25 519.106 198.843 518.365 L198.843 513.666 Q200.926 514.8 203.149 515.356 Q205.371 515.912 207.848 515.912 Q211.852 515.912 214.19 513.805 Q216.528 511.699 216.528 508.088 Q216.528 504.476 214.19 502.37 Q211.852 500.264 207.848 500.264 Q205.973 500.264 204.098 500.68 Q202.246 501.097 200.301 501.976 L200.301 484.615 Z\" fill=\"#000000\" fill-rule=\"evenodd\" fill-opacity=\"1\" /><path clip-path=\"url(#clip760)\" d=\"M164.028 289.358 Q160.417 289.358 158.589 292.923 Q156.783 296.465 156.783 303.594 Q156.783 310.701 158.589 314.266 Q160.417 317.807 164.028 317.807 Q167.663 317.807 169.468 314.266 Q171.297 310.701 171.297 303.594 Q171.297 296.465 169.468 292.923 Q167.663 289.358 164.028 289.358 M164.028 285.655 Q169.839 285.655 172.894 290.261 Q175.973 294.844 175.973 303.594 Q175.973 312.321 172.894 316.928 Q169.839 321.511 164.028 321.511 Q158.218 321.511 155.14 316.928 Q152.084 312.321 152.084 303.594 Q152.084 294.844 155.14 290.261 Q158.218 285.655 164.028 285.655 Z\" fill=\"#000000\" fill-rule=\"evenodd\" fill-opacity=\"1\" /><path clip-path=\"url(#clip760)\" d=\"M184.19 314.96 L189.075 314.96 L189.075 320.84 L184.19 320.84 L184.19 314.96 Z\" fill=\"#000000\" fill-rule=\"evenodd\" fill-opacity=\"1\" /><path clip-path=\"url(#clip760)\" d=\"M209.26 289.358 Q205.649 289.358 203.82 292.923 Q202.014 296.465 202.014 303.594 Q202.014 310.701 203.82 314.266 Q205.649 317.807 209.26 317.807 Q212.894 317.807 214.699 314.266 Q216.528 310.701 216.528 303.594 Q216.528 296.465 214.699 292.923 Q212.894 289.358 209.26 289.358 M209.26 285.655 Q215.07 285.655 218.125 290.261 Q221.204 294.844 221.204 303.594 Q221.204 312.321 218.125 316.928 Q215.07 321.511 209.26 321.511 Q203.449 321.511 200.371 316.928 Q197.315 312.321 197.315 303.594 Q197.315 294.844 200.371 290.261 Q203.449 285.655 209.26 285.655 Z\" fill=\"#000000\" fill-rule=\"evenodd\" fill-opacity=\"1\" /><path clip-path=\"url(#clip760)\" d=\"M14.479 1050.58 L14.479 1044.73 L64.0042 1044.73 L64.0042 1050.58 L14.479 1050.58 Z\" fill=\"#000000\" fill-rule=\"evenodd\" fill-opacity=\"1\" /><path clip-path=\"url(#clip760)\" d=\"M32.4621 1018.66 Q32.4621 1023.37 36.1542 1026.11 Q39.8145 1028.85 46.212 1028.85 Q52.6095 1028.85 56.3017 1026.14 Q59.9619 1023.4 59.9619 1018.66 Q59.9619 1013.98 56.2698 1011.24 Q52.5777 1008.51 46.212 1008.51 Q39.8781 1008.51 36.186 1011.24 Q32.4621 1013.98 32.4621 1018.66 M27.4968 1018.66 Q27.4968 1011.02 32.4621 1006.66 Q37.4273 1002.3 46.212 1002.3 Q54.9649 1002.3 59.9619 1006.66 Q64.9272 1011.02 64.9272 1018.66 Q64.9272 1026.33 59.9619 1030.69 Q54.9649 1035.02 46.212 1035.02 Q37.4273 1035.02 32.4621 1030.69 Q27.4968 1026.33 27.4968 1018.66 Z\" fill=\"#000000\" fill-rule=\"evenodd\" fill-opacity=\"1\" /><path clip-path=\"url(#clip760)\" d=\"M45.7664 969.135 Q39.4007 969.135 35.8996 971.777 Q32.3984 974.387 32.3984 979.129 Q32.3984 983.84 35.8996 986.482 Q39.4007 989.092 45.7664 989.092 Q52.1003 989.092 55.6014 986.482 Q59.1026 983.84 59.1026 979.129 Q59.1026 974.387 55.6014 971.777 Q52.1003 969.135 45.7664 969.135 M59.58 963.279 Q68.683 963.279 73.1071 967.321 Q77.5631 971.363 77.5631 979.702 Q77.5631 982.79 77.0857 985.527 Q76.6401 988.264 75.6852 990.842 L69.9879 990.842 Q71.3884 988.264 72.0568 985.75 Q72.7252 983.235 72.7252 980.625 Q72.7252 974.864 69.7015 972 Q66.7096 969.135 60.6303 969.135 L57.7339 969.135 Q60.885 970.949 62.4446 973.782 Q64.0042 976.615 64.0042 980.562 Q64.0042 987.118 59.0071 991.129 Q54.01 995.139 45.7664 995.139 Q37.491 995.139 32.4939 991.129 Q27.4968 987.118 27.4968 980.562 Q27.4968 976.615 29.0564 973.782 Q30.616 970.949 33.7671 969.135 L28.3562 969.135 L28.3562 963.279 L59.58 963.279 Z\" fill=\"#000000\" fill-rule=\"evenodd\" fill-opacity=\"1\" /><path clip-path=\"url(#clip760)\" d=\"M58.5933 949.274 L58.5933 938.771 L22.3406 938.771 L24.6323 950.197 L18.7758 950.197 L16.4842 938.834 L16.4842 932.405 L58.5933 932.405 L58.5933 921.902 L64.0042 921.902 L64.0042 949.274 L58.5933 949.274 Z\" fill=\"#000000\" fill-rule=\"evenodd\" fill-opacity=\"1\" /><path clip-path=\"url(#clip760)\" d=\"M20.7174 895.166 Q20.7174 900.131 25.6189 902.645 Q30.4887 905.128 40.2919 905.128 Q50.0633 905.128 54.9649 902.645 Q59.8346 900.131 59.8346 895.166 Q59.8346 890.169 54.9649 887.686 Q50.0633 885.171 40.2919 885.171 Q30.4887 885.171 25.6189 887.686 Q20.7174 890.169 20.7174 895.166 M15.6248 895.166 Q15.6248 887.177 21.9587 882.975 Q28.2607 878.742 40.2919 878.742 Q52.2913 878.742 58.6251 882.975 Q64.9272 887.177 64.9272 895.166 Q64.9272 903.155 58.6251 907.388 Q52.2913 911.589 40.2919 911.589 Q28.2607 911.589 21.9587 907.388 Q15.6248 903.155 15.6248 895.166 Z\" fill=\"#000000\" fill-rule=\"evenodd\" fill-opacity=\"1\" /><path clip-path=\"url(#clip760)\" d=\"M14.5426 854.202 Q21.8632 858.467 29.0246 860.536 Q36.186 862.605 43.5384 862.605 Q50.8908 862.605 58.1159 860.536 Q65.3091 858.435 72.5979 854.202 L72.5979 859.295 Q65.1182 864.069 57.8931 866.456 Q50.668 868.812 43.5384 868.812 Q36.4406 868.812 29.2474 866.456 Q22.0542 864.101 14.5426 859.295 L14.5426 854.202 Z\" fill=\"#000000\" fill-rule=\"evenodd\" fill-opacity=\"1\" /><path clip-path=\"url(#clip760)\" d=\"M14.1925 835.296 L79.3773 835.296 L79.3773 840.707 L14.1925 840.707 L14.1925 835.296 Z\" fill=\"#000000\" fill-rule=\"evenodd\" fill-opacity=\"1\" /><path clip-path=\"url(#clip760)\" d=\"M14.1925 813.334 L79.3773 813.334 L79.3773 818.745 L14.1925 818.745 L14.1925 813.334 Z\" fill=\"#000000\" fill-rule=\"evenodd\" fill-opacity=\"1\" /><path clip-path=\"url(#clip760)\" d=\"M28.3562 769.284 L45.7028 782.174 L64.0042 768.615 L64.0042 775.522 L49.9996 785.898 L64.0042 796.274 L64.0042 803.181 L45.3526 789.336 L28.3562 802.003 L28.3562 795.097 L41.0558 785.644 L28.3562 776.191 L28.3562 769.284 Z\" fill=\"#000000\" fill-rule=\"evenodd\" fill-opacity=\"1\" /><path clip-path=\"url(#clip760)\" d=\"M14.479 760.563 L14.479 754.674 L43.7294 754.674 L28.3562 737.201 L28.3562 729.721 L45.0344 748.627 L64.0042 728.925 L64.0042 736.564 L46.5939 754.674 L64.0042 754.674 L64.0042 760.563 L14.479 760.563 Z\" fill=\"#000000\" fill-rule=\"evenodd\" fill-opacity=\"1\" /><path clip-path=\"url(#clip760)\" d=\"M43.5384 725.551 L43.5384 708.396 L48.7583 708.396 L48.7583 725.551 L43.5384 725.551 Z\" fill=\"#000000\" fill-rule=\"evenodd\" fill-opacity=\"1\" /><path clip-path=\"url(#clip760)\" d=\"M28.3562 669.438 L45.7028 682.328 L64.0042 668.769 L64.0042 675.676 L49.9996 686.052 L64.0042 696.428 L64.0042 703.335 L45.3526 689.49 L28.3562 702.157 L28.3562 695.251 L41.0558 685.798 L28.3562 676.344 L28.3562 669.438 Z\" fill=\"#000000\" fill-rule=\"evenodd\" fill-opacity=\"1\" /><path clip-path=\"url(#clip760)\" d=\"M42.4881 630.861 L64.0042 630.861 L64.0042 636.718 L42.679 636.718 Q37.6183 636.718 35.1038 638.691 Q32.5894 640.665 32.5894 644.611 Q32.5894 649.354 35.6131 652.091 Q38.6368 654.828 43.8567 654.828 L64.0042 654.828 L64.0042 660.717 L14.479 660.717 L14.479 654.828 L33.8944 654.828 Q30.6797 652.728 29.0883 649.895 Q27.4968 647.03 27.4968 643.306 Q27.4968 637.164 31.3163 634.012 Q35.1038 630.861 42.4881 630.861 Z\" fill=\"#000000\" fill-rule=\"evenodd\" fill-opacity=\"1\" /><path clip-path=\"url(#clip760)\" d=\"M46.0847 602.98 Q46.0847 610.077 47.7079 612.815 Q49.3312 615.552 53.2461 615.552 Q56.3653 615.552 58.2114 613.515 Q60.0256 611.446 60.0256 607.913 Q60.0256 603.043 56.5881 600.115 Q53.1188 597.155 47.3897 597.155 L46.0847 597.155 L46.0847 602.98 M43.6657 591.299 L64.0042 591.299 L64.0042 597.155 L58.5933 597.155 Q61.8398 599.16 63.3994 602.152 Q64.9272 605.144 64.9272 609.473 Q64.9272 614.947 61.8716 618.194 Q58.7843 621.408 53.6281 621.408 Q47.6125 621.408 44.5569 617.398 Q41.5014 613.356 41.5014 605.367 L41.5014 597.155 L40.9285 597.155 Q36.8862 597.155 34.6901 599.829 Q32.4621 602.47 32.4621 607.277 Q32.4621 610.332 33.1941 613.228 Q33.9262 616.125 35.3903 618.798 L29.9795 618.798 Q28.7381 615.584 28.1334 612.56 Q27.4968 609.536 27.4968 606.672 Q27.4968 598.937 31.5072 595.118 Q35.5176 591.299 43.6657 591.299 Z\" fill=\"#000000\" fill-rule=\"evenodd\" fill-opacity=\"1\" /><path clip-path=\"url(#clip760)\" d=\"M18.2347 573.443 L28.3562 573.443 L28.3562 561.38 L32.9077 561.38 L32.9077 573.443 L52.2594 573.443 Q56.6199 573.443 57.8613 572.265 Q59.1026 571.056 59.1026 567.395 L59.1026 561.38 L64.0042 561.38 L64.0042 567.395 Q64.0042 574.175 61.4897 576.753 Q58.9434 579.331 52.2594 579.331 L32.9077 579.331 L32.9077 583.628 L28.3562 583.628 L28.3562 579.331 L18.2347 579.331 L18.2347 573.443 Z\" fill=\"#000000\" fill-rule=\"evenodd\" fill-opacity=\"1\" /><path clip-path=\"url(#clip760)\" d=\"M14.1925 546.134 L79.3773 546.134 L79.3773 551.545 L14.1925 551.545 L14.1925 546.134 Z\" fill=\"#000000\" fill-rule=\"evenodd\" fill-opacity=\"1\" /><path clip-path=\"url(#clip760)\" d=\"M14.1925 524.172 L79.3773 524.172 L79.3773 529.583 L14.1925 529.583 L14.1925 524.172 Z\" fill=\"#000000\" fill-rule=\"evenodd\" fill-opacity=\"1\" /><path clip-path=\"url(#clip760)\" d=\"M14.5426 510.677 L14.5426 505.584 Q22.0542 500.81 29.2474 498.455 Q36.4406 496.068 43.5384 496.068 Q50.668 496.068 57.8931 498.455 Q65.1182 500.81 72.5979 505.584 L72.5979 510.677 Q65.3091 506.444 58.1159 504.375 Q50.8908 502.274 43.5384 502.274 Q36.186 502.274 29.0246 504.375 Q21.8632 506.444 14.5426 510.677 Z\" fill=\"#000000\" fill-rule=\"evenodd\" fill-opacity=\"1\" /><path clip-path=\"url(#clip760)\" d=\"M1203.79 12.096 L1211.97 12.096 L1211.97 65.6895 L1241.42 65.6895 L1241.42 72.576 L1203.79 72.576 L1203.79 12.096 Z\" fill=\"#000000\" fill-rule=\"evenodd\" fill-opacity=\"1\" /><path clip-path=\"url(#clip760)\" d=\"M1286.26 14.0809 L1286.26 22.0612 Q1281.61 19.8332 1277.47 18.7395 Q1273.34 17.6457 1269.49 17.6457 Q1262.81 17.6457 1259.16 20.2383 Q1255.56 22.8309 1255.56 27.611 Q1255.56 31.6214 1257.95 33.6873 Q1260.38 35.7128 1267.1 36.9686 L1272.05 37.9813 Q1281.2 39.7232 1285.54 44.1387 Q1289.91 48.5136 1289.91 55.8863 Q1289.91 64.6767 1284 69.2137 Q1278.12 73.7508 1266.74 73.7508 Q1262.45 73.7508 1257.58 72.7785 Q1252.76 71.8063 1247.58 69.9024 L1247.58 61.4765 Q1252.56 64.2716 1257.34 65.6895 Q1262.12 67.1073 1266.74 67.1073 Q1273.75 67.1073 1277.56 64.3527 Q1281.36 61.598 1281.36 56.4939 Q1281.36 52.0379 1278.61 49.5264 Q1275.89 47.0148 1269.66 45.759 L1264.67 44.7868 Q1255.52 42.9639 1251.43 39.075 Q1247.34 35.1862 1247.34 28.2591 Q1247.34 20.2383 1252.97 15.6203 Q1258.64 11.0023 1268.56 11.0023 Q1272.82 11.0023 1277.23 11.7719 Q1281.65 12.5416 1286.26 14.0809 Z\" fill=\"#000000\" fill-rule=\"evenodd\" fill-opacity=\"1\" /><path clip-path=\"url(#clip760)\" d=\"M1338.93 14.0809 L1338.93 22.0612 Q1334.27 19.8332 1330.14 18.7395 Q1326 17.6457 1322.16 17.6457 Q1315.47 17.6457 1311.83 20.2383 Q1308.22 22.8309 1308.22 27.611 Q1308.22 31.6214 1310.61 33.6873 Q1313.04 35.7128 1319.77 36.9686 L1324.71 37.9813 Q1333.86 39.7232 1338.2 44.1387 Q1342.57 48.5136 1342.57 55.8863 Q1342.57 64.6767 1336.66 69.2137 Q1330.78 73.7508 1319.4 73.7508 Q1315.11 73.7508 1310.25 72.7785 Q1305.43 71.8063 1300.24 69.9024 L1300.24 61.4765 Q1305.22 64.2716 1310 65.6895 Q1314.78 67.1073 1319.4 67.1073 Q1326.41 67.1073 1330.22 64.3527 Q1334.02 61.598 1334.02 56.4939 Q1334.02 52.0379 1331.27 49.5264 Q1328.56 47.0148 1322.32 45.759 L1317.34 44.7868 Q1308.18 42.9639 1304.09 39.075 Q1300 35.1862 1300 28.2591 Q1300 20.2383 1305.63 15.6203 Q1311.3 11.0023 1321.22 11.0023 Q1325.48 11.0023 1329.89 11.7719 Q1334.31 12.5416 1338.93 14.0809 Z\" fill=\"#000000\" fill-rule=\"evenodd\" fill-opacity=\"1\" /><path clip-path=\"url(#clip760)\" d=\"M1363.52 18.8205 L1363.52 65.8515 L1373.4 65.8515 Q1385.92 65.8515 1391.71 60.1802 Q1397.54 54.509 1397.54 42.2752 Q1397.54 30.1225 1391.71 24.4918 Q1385.92 18.8205 1373.4 18.8205 L1363.52 18.8205 M1355.33 12.096 L1372.14 12.096 Q1389.72 12.096 1397.95 19.4281 Q1406.17 26.7198 1406.17 42.2752 Q1406.17 57.9117 1397.91 65.2439 Q1389.64 72.576 1372.14 72.576 L1355.33 72.576 L1355.33 12.096 Z\" fill=\"#000000\" fill-rule=\"evenodd\" fill-opacity=\"1\" /><polyline clip-path=\"url(#clip762)\" style=\"stroke:#009af9; stroke-linecap:butt; stroke-linejoin:round; stroke-width:4; stroke-opacity:1; fill:none\" points=\"\n",
       "  316.512,160.256 336.481,193.725 356.45,214.644 376.419,235.155 396.388,251.882 416.357,269.936 436.326,285.117 456.295,301.827 476.264,316.005 496.234,331.752 \n",
       "  516.203,345.185 536.172,360.193 556.141,373.047 576.11,387.475 596.079,399.874 616.048,413.845 636.017,425.884 655.986,439.494 675.955,451.249 695.924,464.574 \n",
       "  715.893,476.105 735.862,489.206 755.831,500.56 775.8,513.483 795.769,524.698 815.738,537.482 835.707,548.586 855.676,561.259 875.645,572.275 895.614,584.86 \n",
       "  915.584,595.807 935.553,608.321 955.522,619.212 975.491,631.67 995.46,642.515 1015.43,654.927 1035.4,665.736 1055.37,678.11 1075.34,688.889 1095.3,701.232 \n",
       "  1115.27,711.986 1135.24,724.304 1155.21,735.038 1175.18,747.334 1195.15,758.051 1215.12,770.329 1235.09,781.031 1255.06,793.294 1275.03,803.984 1295,816.234 \n",
       "  1314.96,826.912 1334.93,839.152 1354.9,849.821 1374.87,862.051 1394.84,872.712 1414.81,884.933 1434.78,895.587 1454.75,907.801 1474.72,918.449 1494.69,930.656 \n",
       "  1514.65,941.298 1534.62,953.499 1554.59,964.137 1574.56,976.333 1594.53,986.966 1614.5,999.157 1634.47,1009.79 1654.44,1021.97 1674.41,1032.6 1694.38,1044.78 \n",
       "  1714.35,1055.41 1734.31,1067.59 1754.28,1078.21 1774.25,1090.38 1794.22,1101 1814.19,1113.17 1834.16,1123.79 1854.13,1135.96 1874.1,1146.57 1894.07,1158.74 \n",
       "  1914.04,1169.35 1934,1181.52 1953.97,1192.13 1973.94,1204.3 1993.91,1214.9 2013.88,1227.07 2033.85,1237.67 2053.82,1249.84 2073.79,1260.44 2093.76,1272.6 \n",
       "  2113.73,1283.21 2133.7,1295.36 2153.66,1305.97 2173.63,1318.13 2193.6,1328.73 2213.57,1340.88 2233.54,1351.48 2253.51,1363.64 2273.48,1374.24 2293.45,1386.4 \n",
       "  \n",
       "  \"/>\n",
       "<path clip-path=\"url(#clip760)\" d=\"\n",
       "M1997.63 270.476 L2282.9 270.476 L2282.9 166.796 L1997.63 166.796  Z\n",
       "  \" fill=\"#ffffff\" fill-rule=\"evenodd\" fill-opacity=\"1\"/>\n",
       "<polyline clip-path=\"url(#clip760)\" style=\"stroke:#000000; stroke-linecap:butt; stroke-linejoin:round; stroke-width:4; stroke-opacity:1; fill:none\" points=\"\n",
       "  1997.63,270.476 2282.9,270.476 2282.9,166.796 1997.63,166.796 1997.63,270.476 \n",
       "  \"/>\n",
       "<polyline clip-path=\"url(#clip760)\" style=\"stroke:#009af9; stroke-linecap:butt; stroke-linejoin:round; stroke-width:4; stroke-opacity:1; fill:none\" points=\"\n",
       "  2020.92,218.636 2160.62,218.636 \n",
       "  \"/>\n",
       "<path clip-path=\"url(#clip760)\" d=\"M2197.75 238.323 Q2195.94 242.953 2194.23 244.365 Q2192.52 245.777 2189.65 245.777 L2186.24 245.777 L2186.24 242.212 L2188.74 242.212 Q2190.5 242.212 2191.48 241.379 Q2192.45 240.545 2193.63 237.443 L2194.39 235.499 L2183.91 209.99 L2188.42 209.99 L2196.52 230.268 L2204.62 209.99 L2209.14 209.99 L2197.75 238.323 Z\" fill=\"#000000\" fill-rule=\"evenodd\" fill-opacity=\"1\" /><path clip-path=\"url(#clip760)\" d=\"M2216.43 231.981 L2224.07 231.981 L2224.07 205.615 L2215.76 207.282 L2215.76 203.022 L2224.02 201.356 L2228.7 201.356 L2228.7 231.981 L2236.34 231.981 L2236.34 235.916 L2216.43 235.916 L2216.43 231.981 Z\" fill=\"#000000\" fill-rule=\"evenodd\" fill-opacity=\"1\" /></svg>\n"
      ]
     },
     "execution_count": 170,
     "metadata": {},
     "output_type": "execute_result"
    }
   ],
   "source": [
    "using Random: seed!\n",
    "using Plots\n",
    "seed!(0) # seed random number generator\n",
    "m = 100; n = 50; sigma = 0.1\n",
    "A = randn(m, n); xtrue = rand(n)\n",
    "b = A * xtrue + sigma * randn(m)\n",
    "\n",
    "k=LinRange(0,99,100)\n",
    "xhat = A \\b\n",
    "y1=zeros(100)\n",
    "for i=1:100\n",
    "    y1[i]=log10(norm(lssd(A,b,nIters=i)-xhat ))\n",
    "end\n",
    "\n",
    "plot(xlabel = \"k\")\n",
    "plot!(ylabel = \"log10(||xk-xhat||)\")\n",
    "plot!(k,y1)\n",
    "plot!(title=\"LSSD\")"
   ]
  },
  {
   "cell_type": "code",
   "execution_count": null,
   "metadata": {},
   "outputs": [],
   "source": []
  }
 ],
 "metadata": {
  "kernelspec": {
   "display_name": "Julia 1.6.2",
   "language": "julia",
   "name": "julia-1.6"
  },
  "language_info": {
   "file_extension": ".jl",
   "mimetype": "application/julia",
   "name": "julia",
   "version": "1.6.2"
  }
 },
 "nbformat": 4,
 "nbformat_minor": 4
}
