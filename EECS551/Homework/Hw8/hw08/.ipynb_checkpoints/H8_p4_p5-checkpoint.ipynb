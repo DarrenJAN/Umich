{
 "cells": [
  {
   "cell_type": "code",
   "execution_count": 2,
   "metadata": {},
   "outputs": [],
   "source": [
    "using LinearAlgebra"
   ]
  },
  {
   "cell_type": "code",
   "execution_count": 254,
   "metadata": {},
   "outputs": [
    {
     "data": {
      "text/plain": [
       "optshrink1"
      ]
     },
     "execution_count": 254,
     "metadata": {},
     "output_type": "execute_result"
    }
   ],
   "source": [
    "\n",
    "\"\"\"\n",
    "Xh = optshrink1(Y::AbstractMatrix, r::Int)\n",
    "Perform rank−r denoising of data matrix `Y` using the OptShrink method\n",
    "by Prof. Nadakuditi in this May 2014 IEEE Tr. on Info. Theory paper:\n",
    "http://doi.org/10.1109/TIT.2014.2311661\n",
    "In:\n",
    "− `Y` 2D array where `Y = X + noise` and goal is to estimate `X`\n",
    "− `r` estimated rank of `X`\n",
    "Out:\n",
    "− `Xh` rank−`r` estimate of `X` using OptShrink weights for SVD components\n",
    "This version works only if the size of `Y` is sufficiently small,\n",
    "because it performs calculations involving arrays roughly of\n",
    "`size(Y'*Y)` and `size(Y*Y')`, so neither dimension of `Y` can be large.\n",
    "\"\"\"\n",
    "function optshrink1(Y::AbstractMatrix, r::Int)\n",
    "    (U, s, V)  = svd(Y)\n",
    "    still = Diagonal(s)\n",
    "    \n",
    "#     sigmahats = Diagonal(s[1:r])\n",
    "    sigmahats = s[1:r]\n",
    "    Xnoise_est = Diagonal(s[r+1:end])\n",
    "    \n",
    "    W =  Array{Float64}(undef, r)\n",
    "\n",
    "    for i in 1:r\n",
    "        \n",
    "        #theta_hats = Dz(sigmahats[i],Xnoise_est)\n",
    "        theta_hats = sqrt(1/Dz(sigmahats[i],Xnoise_est))\n",
    "        dpz =  Dpz(sigmahats[i], Xnoise_est)\n",
    "        \n",
    "        display(theta_hats^2)\n",
    "        display(dpz)\n",
    "        W[i] =  -2/ (theta_hats^2* dpz)\n",
    "        \n",
    "    end \n",
    "    \n",
    "    S_opt = U[:,1:r] * Diagonal(vec(W)) * V[:, 1:r]'\n",
    "    return S_opt\n",
    "    \n",
    "end \n",
    "\n"
   ]
  },
  {
   "cell_type": "code",
   "execution_count": 290,
   "metadata": {},
   "outputs": [
    {
     "data": {
      "text/plain": [
       "optshrink1 (generic function with 1 method)"
      ]
     },
     "execution_count": 290,
     "metadata": {},
     "output_type": "execute_result"
    }
   ],
   "source": [
    "function optshrink1(Y::AbstractMatrix, r::Int)\n",
    "    (U, s, V)  = svd(Y)\n",
    "    n = size(Y)[1]\n",
    "    m = size(Y)[2]\n",
    "    \n",
    "    S_ = diagm(n-r, m-r, s[r+1:end])\n",
    "    \n",
    "    \n",
    "    W =  Array{Float64}(undef, r)\n",
    "\n",
    "    for i in 1:r\n",
    "        d =  Dz(s[i], S_) \n",
    "        d_ = Dpz(s[i], S_)\n",
    "        W[i] =  -2 * d / d_\n",
    "        \n",
    "    end \n",
    "    \n",
    "   S_opt = U[:,1:r] * Diagonal(vec(W)) * V[:, 1:r]'\n",
    "    \n",
    "    return S_opt\n",
    "    \n",
    "end "
   ]
  },
  {
   "cell_type": "code",
   "execution_count": 234,
   "metadata": {},
   "outputs": [
    {
     "data": {
      "text/plain": [
       "D_ (generic function with 1 method)"
      ]
     },
     "execution_count": 234,
     "metadata": {},
     "output_type": "execute_result"
    }
   ],
   "source": [
    "function D(z, X)\n",
    "    n = size(X)[1]\n",
    "    m = size(X)[2]\n",
    "    In = Diagonal(ones(n))\n",
    "    Im = Diagonal(ones(m))\n",
    "    \n",
    "    A = 1/n * tr(z * (z * z * In - X * X')^-1)\n",
    "    B = 1/m * tr(z * (z * z * Im - X' * X)^-1)\n",
    "    return A*B\n",
    "end \n",
    "\n",
    "function D_(z, X)\n",
    "    n = size(X)[1]\n",
    "    m = size(X)[2]\n",
    "    \n",
    "    A = 1/n * tr(z * (z*z * I - X * X')^-1)\n",
    "    B = 1/m * tr(-2 * z^2 * (z^2 * I - X' * X)^-2 + (z^2 * I - X' * X )^-1) \n",
    "    C = 1/m * tr(z * (z^2 * I - X' * X)^-1)\n",
    "    D = 1/n * tr(-2 * z^2 * (z^2 * I - X * X')^-2 + (z^2 * I - X * X' )^-1) \n",
    "    return A * B + C * D\n",
    "end "
   ]
  },
  {
   "cell_type": "code",
   "execution_count": 292,
   "metadata": {},
   "outputs": [
    {
     "data": {
      "text/plain": [
       "Dpz (generic function with 1 method)"
      ]
     },
     "execution_count": 292,
     "metadata": {},
     "output_type": "execute_result"
    }
   ],
   "source": [
    "function Dz(z, X)\n",
    "    n = size(X)[1]\n",
    "    m = size(X)[2]\n",
    "    In = Diagonal(ones(n))\n",
    "    Im = Diagonal(ones(m))\n",
    "    z2IXXt = z^2*In - X*X';\n",
    "    z2IXtX = z^2*Im - X'*X;\n",
    "    invz2XtX = inv(z2IXtX);\n",
    "    invz2XXt = inv(z2IXXt);\n",
    "\n",
    "    D1z = 1/n*tr(z*invz2XXt);\n",
    "    D2z = 1/m*tr(z*invz2XtX);\n",
    "\n",
    "    Dz = D1z*D2z;\n",
    "\n",
    "    return Dz\n",
    "end \n",
    "\n",
    "function Dpz(z, X)\n",
    "    n = size(X)[1]\n",
    "    m = size(X)[2]\n",
    "    In = Diagonal(ones(n))\n",
    "    Im = Diagonal(ones(m))\n",
    "    \n",
    "    z2IXXt = z^2*In - X*X';\n",
    "    z2IXtX = z^2*Im - X'*X;\n",
    "    invz2XtX = inv(z2IXtX);\n",
    "    invz2XXt = inv(z2IXXt);\n",
    "\n",
    "    D1z = 1/n*tr(z*invz2XXt);\n",
    "    D2z = 1/m*tr(z*invz2XtX);\n",
    "\n",
    "\n",
    "    D1zp = 1/n*tr(-2*z^2*invz2XXt^2+invz2XXt);\n",
    "    D2zp = 1/m*tr(-2*z^2*invz2XtX^2+invz2XtX);\n",
    "\n",
    "    Dpz = D1z*D2zp+D1zp*D2z;\n",
    "    return Dpz\n",
    "end "
   ]
  },
  {
   "cell_type": "code",
   "execution_count": null,
   "metadata": {},
   "outputs": [],
   "source": []
  },
  {
   "cell_type": "code",
   "execution_count": 293,
   "metadata": {},
   "outputs": [
    {
     "data": {
      "text/plain": [
       "5×3 Matrix{Float64}:\n",
       " 0.823648  0.203477   0.585812\n",
       " 0.910357  0.0423017  0.539289\n",
       " 0.164566  0.0682693  0.260036\n",
       " 0.177329  0.361828   0.910047\n",
       " 0.27888   0.973216   0.167036"
      ]
     },
     "metadata": {},
     "output_type": "display_data"
    },
    {
     "data": {
      "text/plain": [
       "5×3 Matrix{Float64}:\n",
       " 0.598335  0.236597   0.56591\n",
       " 0.609996  0.154529   0.556546\n",
       " 0.176241  0.0837109  0.169988\n",
       " 0.448318  0.332532   0.46055\n",
       " 0.237647  0.519169   0.324806"
      ]
     },
     "metadata": {},
     "output_type": "display_data"
    }
   ],
   "source": [
    "using Random: seed!\n",
    "seed!(0)\n",
    "Y = rand(5,3)\n",
    "display(Y)\n",
    "\n",
    "Yh = optshrink1(Y, 2)\n",
    "display(Yh)\n",
    "    \n",
    "   \n",
    "\n",
    "#Yh = optshrink1(Y, 2)"
   ]
  },
  {
   "cell_type": "code",
   "execution_count": null,
   "metadata": {},
   "outputs": [],
   "source": []
  },
  {
   "cell_type": "code",
   "execution_count": null,
   "metadata": {},
   "outputs": [],
   "source": []
  },
  {
   "cell_type": "code",
   "execution_count": null,
   "metadata": {},
   "outputs": [],
   "source": []
  },
  {
   "cell_type": "code",
   "execution_count": 295,
   "metadata": {},
   "outputs": [
    {
     "data": {
      "text/plain": [
       "3"
      ]
     },
     "execution_count": 295,
     "metadata": {},
     "output_type": "execute_result"
    }
   ],
   "source": []
  },
  {
   "cell_type": "code",
   "execution_count": null,
   "metadata": {},
   "outputs": [],
   "source": []
  },
  {
   "cell_type": "code",
   "execution_count": 240,
   "metadata": {},
   "outputs": [
    {
     "data": {
      "text/plain": [
       "59694.32215824387"
      ]
     },
     "metadata": {},
     "output_type": "display_data"
    },
    {
     "data": {
      "text/plain": [
       "-2.8116776360495867e-7"
      ]
     },
     "metadata": {},
     "output_type": "display_data"
    },
    {
     "name": "stdout",
     "output_type": "stream",
     "text": [
      "norm(Xh_opt - X) = 120.76370790794375\n"
     ]
    },
    {
     "ename": "LoadError",
     "evalue": "UndefVarError: Xh_lr not defined",
     "output_type": "error",
     "traceback": [
      "UndefVarError: Xh_lr not defined",
      "",
      "Stacktrace:",
      " [1] top-level scope",
      "   @ show.jl:955",
      " [2] eval",
      "   @ ./boot.jl:360 [inlined]",
      " [3] include_string(mapexpr::typeof(REPL.softscope), mod::Module, code::String, filename::String)",
      "   @ Base ./loading.jl:1116"
     ]
    }
   ],
   "source": [
    "# include(\"optshrink1.jl\") # uncomment if you need this\n",
    "using Random: seed!\n",
    "using LinearAlgebra: norm\n",
    "seed!(0)\n",
    "X = randn(30) * randn(20)' # outer product\n",
    "Y = X + 40 * randn(size(X))\n",
    "Xh_opt = optshrink1(Y, 1)\n",
    "# Xh_lr = # you finish this to make the conventional rank−1 approximation\n",
    "(U, s, V) =svd(Y)\n",
    "Xh_lr = \n",
    "\n",
    "@show norm(Xh_opt - X)\n",
    "@show norm(Xh_lr - X)"
   ]
  },
  {
   "cell_type": "code",
   "execution_count": null,
   "metadata": {},
   "outputs": [],
   "source": []
  }
 ],
 "metadata": {
  "kernelspec": {
   "display_name": "Julia 1.6.2",
   "language": "julia",
   "name": "julia-1.6"
  },
  "language_info": {
   "file_extension": ".jl",
   "mimetype": "application/julia",
   "name": "julia",
   "version": "1.6.2"
  }
 },
 "nbformat": 4,
 "nbformat_minor": 4
}
