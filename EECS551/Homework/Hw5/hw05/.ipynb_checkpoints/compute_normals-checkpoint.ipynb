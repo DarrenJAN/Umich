{
 "cells": [
  {
   "cell_type": "code",
   "execution_count": 13,
   "metadata": {},
   "outputs": [
    {
     "data": {
      "text/plain": [
       "compute_normals"
      ]
     },
     "execution_count": 13,
     "metadata": {},
     "output_type": "execute_result"
    }
   ],
   "source": [
    "\"\"\"\n",
    "N = compute_normals(data, L)\n",
    "In:\n",
    "− `data` `m × n × d` matrix whose `d` slices contain `m × n` images\n",
    "of a common scene under different lighting conditions\n",
    "− `L` `3 × d` matrix whose columns are the lighting direction vectors\n",
    "for the images in data, with `d   3`\n",
    "Out:\n",
    "− `N` `m × n × 3` matrix containing the unit−norm surface normal vectors\n",
    "for each pixel in the scene\n",
    "\"\"\"\n",
    "function compute_normals(data, L)\n",
    "    \n",
    "    m, n, d= size(data)\n",
    "    data =reshape(data, m * n, L)\n",
    "    \n",
    "    L = mapslices(norm, L, dim=1)\n",
    "    \n",
    "    N = data * pinv(L)\n",
    "    N = reshape(N, m, n, 3)\n",
    "    N = mapslics(N, norm, dim = 3)\n",
    "    \n",
    "    return N\n",
    "    \n",
    "end \n"
   ]
  },
  {
   "cell_type": "code",
   "execution_count": 14,
   "metadata": {},
   "outputs": [
    {
     "ename": "LoadError",
     "evalue": "MethodError: no method matching reshape(::Array{Float32, 3}, ::Int64, ::LinearAlgebra.Adjoint{Float64, Matrix{Float64}})\n\u001b[0mClosest candidates are:\n\u001b[0m  reshape(::AbstractArray, \u001b[91m::Int64...\u001b[39m) at reshapedarray.jl:116\n\u001b[0m  reshape(::AbstractArray, \u001b[91m::Union{Int64, AbstractUnitRange}...\u001b[39m) at reshapedarray.jl:110\n\u001b[0m  reshape(::AbstractArray, \u001b[91m::Union{Colon, Int64}...\u001b[39m) at reshapedarray.jl:117\n\u001b[0m  ...",
     "output_type": "error",
     "traceback": [
      "MethodError: no method matching reshape(::Array{Float32, 3}, ::Int64, ::LinearAlgebra.Adjoint{Float64, Matrix{Float64}})\n\u001b[0mClosest candidates are:\n\u001b[0m  reshape(::AbstractArray, \u001b[91m::Int64...\u001b[39m) at reshapedarray.jl:116\n\u001b[0m  reshape(::AbstractArray, \u001b[91m::Union{Int64, AbstractUnitRange}...\u001b[39m) at reshapedarray.jl:110\n\u001b[0m  reshape(::AbstractArray, \u001b[91m::Union{Colon, Int64}...\u001b[39m) at reshapedarray.jl:117\n\u001b[0m  ...",
      "",
      "Stacktrace:",
      " [1] compute_normals(data::Array{Float32, 3}, L::LinearAlgebra.Adjoint{Float64, Matrix{Float64}})",
      "   @ Main ./In[13]:15",
      " [2] top-level scope",
      "   @ In[14]:19",
      " [3] eval",
      "   @ ./boot.jl:360 [inlined]",
      " [4] include_string(mapexpr::typeof(REPL.softscope), mod::Module, code::String, filename::String)",
      "   @ Base ./loading.jl:1116"
     ]
    }
   ],
   "source": [
    "\n",
    "using MIRTjim: jim\n",
    "d = 8 # number of test images\n",
    "phi = LinRange(-1,1,8)*pi/3 # light angles\n",
    "L = [sin.(phi) 0*cos.(phi) cos.(phi)]' # light unit vectors\n",
    "m,n = 40,30 # image size\n",
    "x0 = m/2 # cylinder center coordinate\n",
    "r0 = 0.7m # cylinder radius\n",
    "afun = (x,y) -> abs(x-x0) < r0/2 # albedo alpha(x,y)\n",
    "zfun = x -> abs(x) < r0 ? sqrt(r0^2 - x^2) : 0 # cylinder surface\n",
    "normal = (x,y) -> [(x-x0)/r0, 0, zfun(x-x0)/r0] # surface normal\n",
    "ntrue = [normal(x,y)*afun(x,y) for x in 1:m, y in 1:n]\n",
    "ntrue = cat([map(x -> x[i], ntrue) for i=1:3]..., dims=3) # m × n × 3\n",
    "data = zeros(Float32, m, n, d)\n",
    "for l=1:d\n",
    "data[:,:,l] .= [L[:,l]'normal(x,y)*afun(x,y) for x in 1:m, y in 1:n]\n",
    "end\n",
    "jim(data, \"$d images for different light positions\")\n",
    "nhat = compute_normals(data, L)\n",
    "nhat[isnan.(nhat)] .= 0\n",
    "jim(cat(ntrue, nhat, nhat-ntrue, dims=4), \"true and estimated normals and error\")\n",
    "plot(\n",
    "jim(nhat[:,:,1], \"x component of normal\"),\n",
    "jim(nhat[:,:,2], \"y component of normal\"),\n",
    "jim(nhat[:,:,3], \"z component of normal\"),\n",
    ") \n",
    "# savefig(\"hp073.pdf\")"
   ]
  },
  {
   "cell_type": "code",
   "execution_count": null,
   "metadata": {},
   "outputs": [],
   "source": []
  }
 ],
 "metadata": {
  "kernelspec": {
   "display_name": "Julia 1.6.2",
   "language": "julia",
   "name": "julia-1.6"
  },
  "language_info": {
   "file_extension": ".jl",
   "mimetype": "application/julia",
   "name": "julia",
   "version": "1.6.2"
  }
 },
 "nbformat": 4,
 "nbformat_minor": 4
}
