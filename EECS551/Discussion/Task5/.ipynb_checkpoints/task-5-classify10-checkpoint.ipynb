{
 "cells": [
  {
   "cell_type": "markdown",
   "metadata": {},
   "source": [
    "# 10 digit subspace classification \n",
    "\n",
    "### Group Formation and General Instructions\n",
    "You may work individually, but we recommend that you work in pairs or groups of three. Find someone to work with and introduce yourself to them! One of you should copy the Google Document template and share the document with edit permissions with your group member(s): \n",
    "https://docs.google.com/document/d/1xRxhI8c0O3VI8XOwv0mM11j_up58sRicA5TfNa2COss/template/preview (you must use your umich email address to access this google document). \n",
    "\n",
    "\n",
    "The Google Document will include your answers to a couple of questions that will be asked. For each question, pick someone to type up your **group's** response. After completing the response, the group member should sign their name by typing it below the answer. For the next question, have a different group member respond and sign their name in the same way. Keep rotating until all the questions have been answered.\n",
    "\n",
    "The goal of this group exercise is to formulate your response as a group to the problem. When finished, **one** student in the group must submit a PDF of the google document to gradescope, entering the uniquenames of **all** students in the group. One group submits exactly one PDF, but we expect the PDF from different groups to differ. The deadline for submitting to gradescope will be announced on Canvas. Only submit the filled-in google document; do not submit a download of this Jupyter notebook. \n",
    "\n",
    "### Overview\n",
    "\n",
    "This goal of this task is to classify 10 handwritten digits using projection onto the nearest subspaces, where the subspaces for each digit is learned via the SVD (of the training data). \n",
    "\n",
    "This task generalizes task-2 to subspace classification for 10 digits. As part of the generalization, you must now think about storing variables for all 10 digits without creating separate train0, train1, train2, ... variables and similarly for other variables used throughout the code.\n",
    "\n",
    "Suppose:\n",
    "- ``test`` is an m x T matrix whose length-m columns contain T vectorized test images to be classified \n",
    "- ``train`` is an m x n x 10 matrix containing n vectorized training images for each digit 0-9 (in ascending order along the third dimension of ``train``). \n",
    "- k is an integer between 1 and min(m,n) and is the number of singular vectors to use during classification\n",
    "\n",
    "In this task, you will write a function called ``classify_image`` that does the following, in order: \n",
    "- Compute the ten matrices (with orthonormal columns) with ranges that span the first k left singular vectors associated with the training images of each digit, respectively. For digit d = 0, . . . , 9 these are the k left singular vectors associated with the k largest singular values of the dth “slice” of train.\n",
    "- Store each of the matrices \n",
    "- Use these matrices to compute the squared-norm of the error vector between each test image and the projection of each test image onto the k-dimensional subspaces spanned by each digit. Store the squared error in a 10 × T matrix — call it err.\n"
   ]
  },
  {
   "cell_type": "code",
   "execution_count": 1,
   "metadata": {},
   "outputs": [],
   "source": [
    "import Pkg; Pkg.add(\"BenchmarkTools\")\n",
    "using Plots, LinearAlgebra\n",
    "using BenchmarkTools"
   ]
  },
  {
   "cell_type": "markdown",
   "metadata": {},
   "source": [
    "## Part 0: Download and prep the data\n",
    "We now have to download data for all 10 digits. Here, we do that and store the result into the variable ``data``. Note the dimensions of ``data`` are (nx*ny) x (number of samples) x (number of digits). This means that every \"column\" (first dimension) of data is a single (vectorized) image! \n",
    "\n",
    "We then split the data up into training and testing samples. "
   ]
  },
  {
   "cell_type": "code",
   "execution_count": 2,
   "metadata": {},
   "outputs": [
    {
     "name": "stdout",
     "output_type": "stream",
     "text": [
      "size(data) = (784, 1000, 10)\n"
     ]
    }
   ],
   "source": [
    "# read the MNIST data file for all digits\n",
    "# download from web if needed\n",
    "files = [\"data$i\" for i = 0:9]\n",
    "for i = 1:length(files)\n",
    "    if !isfile(files[i])\n",
    "        download(\"http://cis.jhu.edu/~sachin/digit/\" * files[i], files[i])\n",
    "    end\n",
    "end\n",
    "D = length(files) # number of digits\n",
    "nx = 28 # original image size\n",
    "ny = 28\n",
    "nrep = 1000\n",
    "\n",
    "data = zeros(Float32, nx*ny, nrep, D)\n",
    "for i = 1:D\n",
    "    d = Array{UInt8}(undef, (nx*ny,nrep))\n",
    "    read!(files[i], d)\n",
    "    data[:,:,i] = d\n",
    "end\n",
    "\n",
    "@show(size(data)); # each column of the data matrix is one image! "
   ]
  },
  {
   "cell_type": "markdown",
   "metadata": {},
   "source": [
    "Based on this size of data, we have: \n",
    "- 784 pixels in each image\n",
    "- 1000 images of each digit (1000 zeros, 1000 ones, ... 1000 nines)\n",
    "- 10 digits (0 through 9)"
   ]
  },
  {
   "cell_type": "markdown",
   "metadata": {},
   "source": [
    "## Part 1: Compute basis for a small subset of digits\n",
    "\n",
    "Our final classify_image function will take a while to run on the full dataset. To help with debugging the function quickly while building it, here we only use a few digits and a few training and testing images. You should write the code so that it generalizes though! \n",
    "\n",
    "There is nothing you need to turn in for this part. "
   ]
  },
  {
   "cell_type": "code",
   "execution_count": 3,
   "metadata": {},
   "outputs": [
    {
     "name": "stdout",
     "output_type": "stream",
     "text": [
      "size(train) = (784, 50, 3)\n",
      "size(testl) = (784, 60, 3)\n"
     ]
    }
   ],
   "source": [
    "# make a new, smaller dataset for us to use while debugging \n",
    "K = 5 # number of singular vectors to use for the basis \n",
    "# later, this will be an input to our function - pick a value just for testing \n",
    "ndigits = 3  # number of digits \n",
    "ntrain = 50  # number of training images per digit\n",
    "ntest = 60   # number of testing images per digit\n",
    "train = data[:,1:ntrain, 1:ndigits]\n",
    "# testl where \"l\" is for \"labelled\" since it's still organized by true digit\n",
    "testl = data[:,(ntrain+1):(ntest+ntrain), 1:ndigits] \n",
    "@show(size(train), size(testl));"
   ]
  },
  {
   "cell_type": "code",
   "execution_count": 4,
   "metadata": {},
   "outputs": [
    {
     "ename": "LoadError",
     "evalue": "UndefVarError: ndigit not defined",
     "output_type": "error",
     "traceback": [
      "UndefVarError: ndigit not defined",
      "",
      "Stacktrace:",
      " [1] top-level scope",
      "   @ In[4]:10",
      " [2] eval",
      "   @ ./boot.jl:360 [inlined]",
      " [3] include_string(mapexpr::typeof(REPL.softscope), mod::Module, code::String, filename::String)",
      "   @ Base ./loading.jl:1094"
     ]
    }
   ],
   "source": [
    "# TODO  \n",
    "\n",
    "# form the test variable as a reshaped version of testl \n",
    "# test should be n x p (as described in the classify_image preamble)\n",
    "# n is the dimension of our vector (the number of pixels in each image)\n",
    "# p is the number of test vectors  \n",
    "\n",
    "# test = ? \n",
    "\n",
    "test = reshape(testl, nx*ny,ntest*ndigit )\n",
    "@show(size(test));"
   ]
  },
  {
   "cell_type": "code",
   "execution_count": 5,
   "metadata": {},
   "outputs": [],
   "source": [
    "# TODO  \n",
    "\n",
    "# define the variables n, p, m, and d using only the test and train variables \n",
    "# n is the dimension of our vector (the number of pixels in each image)\n",
    "# p is the number of test vectors  \n",
    "# m is the number of training samples we have per digits \n",
    "# d is the number of digits "
   ]
  },
  {
   "cell_type": "code",
   "execution_count": 6,
   "metadata": {},
   "outputs": [
    {
     "ename": "LoadError",
     "evalue": "UndefVarError: Q not defined",
     "output_type": "error",
     "traceback": [
      "UndefVarError: Q not defined",
      "",
      "Stacktrace:",
      " [1] top-level scope",
      "   @ show.jl:955",
      " [2] eval",
      "   @ ./boot.jl:360 [inlined]",
      " [3] include_string(mapexpr::typeof(REPL.softscope), mod::Module, code::String, filename::String)",
      "   @ Base ./loading.jl:1094"
     ]
    }
   ],
   "source": [
    "# TODO  \n",
    "\n",
    "# Construct the 10 basis for each digit and store them in a n x K x d array called Q \n",
    "# For digit d= 0,...,9, the basis are the K left singular vectors associated with the K \n",
    "#    largest singular values of the dth “slice” of train\n",
    "\n",
    "@show size(Q)"
   ]
  },
  {
   "cell_type": "code",
   "execution_count": 7,
   "metadata": {},
   "outputs": [
    {
     "ename": "LoadError",
     "evalue": "UndefVarError: err not defined",
     "output_type": "error",
     "traceback": [
      "UndefVarError: err not defined",
      "",
      "Stacktrace:",
      " [1] top-level scope",
      "   @ In[7]:12",
      " [2] eval",
      "   @ ./boot.jl:360 [inlined]",
      " [3] include_string(mapexpr::typeof(REPL.softscope), mod::Module, code::String, filename::String)",
      "   @ Base ./loading.jl:1094"
     ]
    }
   ],
   "source": [
    "# TODO \n",
    "\n",
    "# Using only Q, compute the squared-norm of the \n",
    "# error vector between each test image and the projection of each test image onto \n",
    "# the K-dimensional subspaces spanned by each digit. Store the squared error in a \n",
    "# 3 × p matrix called err.\n",
    "\n",
    "# Hint: You can express this computation succinctly for digit i=0,...,9 via the command\n",
    "# err[i,:] = sum((test−Q[:,:,i]*(Q[:,:,i]'*test)).^2, dims=1)\n",
    "\n",
    "\n",
    "display(err) "
   ]
  },
  {
   "cell_type": "code",
   "execution_count": 8,
   "metadata": {},
   "outputs": [
    {
     "ename": "LoadError",
     "evalue": "UndefVarError: labels not defined",
     "output_type": "error",
     "traceback": [
      "UndefVarError: labels not defined",
      "",
      "Stacktrace:",
      " [1] top-level scope",
      "   @ show.jl:955",
      " [2] eval",
      "   @ ./boot.jl:360 [inlined]",
      " [3] include_string(mapexpr::typeof(REPL.softscope), mod::Module, code::String, filename::String)",
      "   @ Base ./loading.jl:1094"
     ]
    }
   ],
   "source": [
    "# TODO \n",
    "\n",
    "# generate a vector — call it labels — containing the digit \n",
    "# (for each test image) with the smallest squared error.\n",
    "\n",
    "# Hint: You can compute this for all digits at once using `argmin` and list comprehension \n",
    "# Hint: make sure your labels make sense before moving on. You know the class of these images\n",
    "# and this classifier should have reasonably high accuracy! \n",
    "@show(size(labels));"
   ]
  },
  {
   "cell_type": "code",
   "execution_count": 9,
   "metadata": {},
   "outputs": [
    {
     "ename": "LoadError",
     "evalue": "UndefVarError: labels not defined",
     "output_type": "error",
     "traceback": [
      "UndefVarError: labels not defined",
      "",
      "Stacktrace:",
      " [1] top-level scope",
      "   @ In[9]:3",
      " [2] eval",
      "   @ ./boot.jl:360 [inlined]",
      " [3] include_string(mapexpr::typeof(REPL.softscope), mod::Module, code::String, filename::String)",
      "   @ Base ./loading.jl:1094"
     ]
    }
   ],
   "source": [
    "# test out how we did on the small dataset (we will compare to this answer later when \n",
    "# testing the classify_image function)\n",
    "labels_svd = reshape(labels, 1, ntest, d) # the 1 is because we only tested a single K value so far \n",
    "correct_svd = cat([labels_svd[:,:,i] .== i-1 for i = 1:d]..., dims = 3)\n",
    "percent_correct_svd = dropdims(sum(correct_svd, dims = 2), dims = 2) .* (100 / ntest)\n",
    "\n",
    "# Check your solution before continuing: [96.7 98.3 90.0]"
   ]
  },
  {
   "cell_type": "markdown",
   "metadata": {},
   "source": [
    "## Part 2: Put everything together into the classify_image function\n",
    "Now we will form the classify_image function. This should involve taking pieces of code from above. When you are done writing this function, test your work on a small subset of the images then submit to autograder. \n",
    "\n",
    "There is no separate submission for this part. You only need to submit your code to the autograder. \n",
    "**Even if you are working in a group, every group member should submit the code to the autograder to receive credit.** \n",
    "\n",
    "Hint: When sumbitting to autograder, make sure to include any packages you need with \"using\" statements! "
   ]
  },
  {
   "cell_type": "code",
   "execution_count": 10,
   "metadata": {},
   "outputs": [
    {
     "data": {
      "text/plain": [
       "classify_image"
      ]
     },
     "execution_count": 10,
     "metadata": {},
     "output_type": "execute_result"
    }
   ],
   "source": [
    "# TODO \n",
    "\n",
    "\"\"\"\n",
    "    labels = classify_image(test, train, K::Int)\n",
    "\n",
    "Classify `test` signals using `K`-dimensional subspaces\n",
    "found from `train`ing data via SVD\n",
    "\n",
    "In:\n",
    "* `test` `n x p` matrix whose columns are vectorized test images to be classified\n",
    "* `train` `n x m x 10` array containing `m` training images for each digit 0-9 (in ascending order)\n",
    "* `K` in `[1, min(n, m)]` is the number of singular vectors to use during classification\n",
    "\n",
    "Out:\n",
    "`labels` vector of length `p` containing the classified digits (0-9) for each test image\n",
    "\"\"\"\n",
    "function classify_image(test, train, K::Int)\n",
    "end\n"
   ]
  },
  {
   "cell_type": "markdown",
   "metadata": {},
   "source": [
    "## Test your classify_image function before submitting to autograder \n",
    "Before submitting your classify_image function to the autograder, check that you can run it and that you get the same result for the small test and train sets that we worked with in part 1. \n",
    "\n",
    "Once you have this working, submit the classify_image function to the autograder. "
   ]
  },
  {
   "cell_type": "code",
   "execution_count": 11,
   "metadata": {},
   "outputs": [
    {
     "ename": "LoadError",
     "evalue": "UndefVarError: test not defined",
     "output_type": "error",
     "traceback": [
      "UndefVarError: test not defined",
      "",
      "Stacktrace:",
      " [1] top-level scope",
      "   @ In[11]:1",
      " [2] eval",
      "   @ ./boot.jl:360 [inlined]",
      " [3] include_string(mapexpr::typeof(REPL.softscope), mod::Module, code::String, filename::String)",
      "   @ Base ./loading.jl:1094"
     ]
    }
   ],
   "source": [
    "labels = classify_image(test, train, K)\n",
    "\n",
    "# test out how we did on the small samples (we will compare to this answer later when \n",
    "# testing the classify_image function)\n",
    "labels_svd = reshape(labels, 1, ntest, d) # the 1 is because we only tested 1 K value so far \n",
    "correct_svd = cat([labels_svd[:,:,i] .== i-1 for i = 1:d]..., dims = 3)\n",
    "percent_correct_svd = dropdims(sum(correct_svd, dims = 2), dims = 2) .* (100 / ntest)\n",
    "\n",
    "# Check your answer before continuing: make sure you get the same values as your result from part 1! "
   ]
  },
  {
   "cell_type": "markdown",
   "metadata": {},
   "source": [
    "## Part 3: Class classify_image results on MNIST dataset \n",
    "We now move on to calling the classify_image function on the full dataset. Because this is a somewhat large dataset, some of these commands will take a while to run, so make sure you have a working classify_image function before moving on!\n",
    "\n",
    "First, use your classify_image function to classify the MNIST test data. Because we are\n",
    "now classifying all 10 digits, more training data may be helpful, so here use 256 images for training and the\n",
    "remaining 744 for testing, for each digit.\n",
    "For efficiency, you should call your classify_image function only once per k, not 100’s of times! Otherwise\n",
    "you will be waiting a long time.\n",
    "\n",
    "Turn in a single plot with 10 (labeled!) curves on it showing the percent of the test digits correctly classified\n",
    "versus k for each of the ten digits. Examine k from 1 to at least 50."
   ]
  },
  {
   "cell_type": "code",
   "execution_count": 12,
   "metadata": {},
   "outputs": [
    {
     "name": "stdout",
     "output_type": "stream",
     "text": [
      "ntest = 744\n",
      "size(train) = (784, 256, 10)\n",
      "size(testl) = (784, 744, 10)\n"
     ]
    }
   ],
   "source": [
    "# set up the data variables to now use the full dataset\n",
    "d = D # use all the digits \n",
    "ntrain = 256 # more than previously used because we are classifying all 10 digits \n",
    "ntest = nrep - ntrain\n",
    "@show(ntest)\n",
    "train = data[:,1:ntrain,:] # train here is 784 x 256 x 10 = (nx x ny) x ntrain x ndigits \n",
    "testl = data[:,ntrain+1:end,:] # testl (\"labelled\") here is 784 x 744 x 10 = (nx x ny) x ntest x ndigits \n",
    "# you will need to reshape testl before calling classify_image! \n",
    "@show(size(train), size(testl));"
   ]
  },
  {
   "cell_type": "code",
   "execution_count": 13,
   "metadata": {},
   "outputs": [
    {
     "ename": "LoadError",
     "evalue": "UndefVarError: kmax not defined",
     "output_type": "error",
     "traceback": [
      "UndefVarError: kmax not defined",
      "",
      "Stacktrace:",
      " [1] top-level scope",
      "   @ In[13]:11",
      " [2] eval",
      "   @ ./boot.jl:360 [inlined]",
      " [3] include_string(mapexpr::typeof(REPL.softscope), mod::Module, code::String, filename::String)",
      "   @ Base ./loading.jl:1094"
     ]
    }
   ],
   "source": [
    "# TODO \n",
    "\n",
    "# call the classify_image function. \n",
    "\n",
    "# This block takes ~1.5 minutes to run on my laptop\n",
    "# Using projection matrices, it takes about 40 minutes! \n",
    "\n",
    "# TODO: define testr so that it is a n x p matrix we can use for input to class_image \n",
    "\n",
    "# set kmax to be at least 50 \n",
    "labels_svd = -ones(kmax, ntest*D) # why are we using -ones() instead of zeros() for initialization? \n",
    "\n",
    "@time( # this could take a minute or so   \n",
    "for k = 1:kmax\n",
    "    if mod(k,10)==0; @show(k); end # so you know your code is running \n",
    "    # TODO: call your classify_image function here to fill in the kth row of labels_svd\n",
    "end\n",
    ")"
   ]
  },
  {
   "cell_type": "code",
   "execution_count": 14,
   "metadata": {},
   "outputs": [
    {
     "ename": "LoadError",
     "evalue": "UndefVarError: labels_svd not defined",
     "output_type": "error",
     "traceback": [
      "UndefVarError: labels_svd not defined",
      "",
      "Stacktrace:",
      " [1] top-level scope",
      "   @ In[14]:2",
      " [2] eval",
      "   @ ./boot.jl:360 [inlined]",
      " [3] include_string(mapexpr::typeof(REPL.softscope), mod::Module, code::String, filename::String)",
      "   @ Base ./loading.jl:1094"
     ]
    }
   ],
   "source": [
    "# plot the percentage correct vs k for each of the digits \n",
    "labels_svd = reshape(labels_svd, kmax, ntest, D)\n",
    "correct_svd = cat([labels_svd[:,:,i] .== i-1 for i = 1:D]..., dims = 3)\n",
    "percent_correct_svd = dropdims(sum(correct_svd, dims = 2), dims = 2) .* (100 / ntest)\n",
    "plot(percent_correct_svd, label = hcat([\"$i\" for i = 0:9]...), ylabel = \"Percent Correctly Classified\", \n",
    "    xlabel = \"k\", legend = :bottomright)"
   ]
  },
  {
   "cell_type": "markdown",
   "metadata": {},
   "source": [
    "## Part 4: Scree plot and selecting k\n",
    "Plot the singular values associated with the training images for each digit. (Submit 1 or 2 of these plots, not all\n",
    "10, or put several on one plot if it is still interpretable.) Discuss how close to the optimal performance you\n",
    "get when you select the value of k associated with the “gap” in the singular value spectrum."
   ]
  },
  {
   "cell_type": "code",
   "execution_count": 15,
   "metadata": {},
   "outputs": [
    {
     "data": {
      "image/svg+xml": [
       "<?xml version=\"1.0\" encoding=\"utf-8\"?>\n",
       "<svg xmlns=\"http://www.w3.org/2000/svg\" xmlns:xlink=\"http://www.w3.org/1999/xlink\" width=\"600\" height=\"400\" viewBox=\"0 0 2400 1600\">\n",
       "<defs>\n",
       "  <clipPath id=\"clip230\">\n",
       "    <rect x=\"0\" y=\"0\" width=\"2400\" height=\"1600\"/>\n",
       "  </clipPath>\n",
       "</defs>\n",
       "<path clip-path=\"url(#clip230)\" d=\"\n",
       "M0 1600 L2400 1600 L2400 0 L0 0  Z\n",
       "  \" fill=\"#ffffff\" fill-rule=\"evenodd\" fill-opacity=\"1\"/>\n",
       "<defs>\n",
       "  <clipPath id=\"clip231\">\n",
       "    <rect x=\"480\" y=\"0\" width=\"1681\" height=\"1600\"/>\n",
       "  </clipPath>\n",
       "</defs>\n",
       "<path clip-path=\"url(#clip230)\" d=\"\n",
       "M339.542 1423.18 L2352.76 1423.18 L2352.76 123.472 L339.542 123.472  Z\n",
       "  \" fill=\"#ffffff\" fill-rule=\"evenodd\" fill-opacity=\"1\"/>\n",
       "<defs>\n",
       "  <clipPath id=\"clip232\">\n",
       "    <rect x=\"339\" y=\"123\" width=\"2014\" height=\"1301\"/>\n",
       "  </clipPath>\n",
       "</defs>\n",
       "<polyline clip-path=\"url(#clip232)\" style=\"stroke:#000000; stroke-linecap:butt; stroke-linejoin:round; stroke-width:2; stroke-opacity:0.1; fill:none\" points=\"\n",
       "  389.071,1423.18 389.071,123.472 \n",
       "  \"/>\n",
       "<polyline clip-path=\"url(#clip232)\" style=\"stroke:#000000; stroke-linecap:butt; stroke-linejoin:round; stroke-width:2; stroke-opacity:0.1; fill:none\" points=\"\n",
       "  761.475,1423.18 761.475,123.472 \n",
       "  \"/>\n",
       "<polyline clip-path=\"url(#clip232)\" style=\"stroke:#000000; stroke-linecap:butt; stroke-linejoin:round; stroke-width:2; stroke-opacity:0.1; fill:none\" points=\"\n",
       "  1133.88,1423.18 1133.88,123.472 \n",
       "  \"/>\n",
       "<polyline clip-path=\"url(#clip232)\" style=\"stroke:#000000; stroke-linecap:butt; stroke-linejoin:round; stroke-width:2; stroke-opacity:0.1; fill:none\" points=\"\n",
       "  1506.28,1423.18 1506.28,123.472 \n",
       "  \"/>\n",
       "<polyline clip-path=\"url(#clip232)\" style=\"stroke:#000000; stroke-linecap:butt; stroke-linejoin:round; stroke-width:2; stroke-opacity:0.1; fill:none\" points=\"\n",
       "  1878.69,1423.18 1878.69,123.472 \n",
       "  \"/>\n",
       "<polyline clip-path=\"url(#clip232)\" style=\"stroke:#000000; stroke-linecap:butt; stroke-linejoin:round; stroke-width:2; stroke-opacity:0.1; fill:none\" points=\"\n",
       "  2251.09,1423.18 2251.09,123.472 \n",
       "  \"/>\n",
       "<polyline clip-path=\"url(#clip230)\" style=\"stroke:#000000; stroke-linecap:butt; stroke-linejoin:round; stroke-width:4; stroke-opacity:1; fill:none\" points=\"\n",
       "  339.542,1423.18 2352.76,1423.18 \n",
       "  \"/>\n",
       "<polyline clip-path=\"url(#clip230)\" style=\"stroke:#000000; stroke-linecap:butt; stroke-linejoin:round; stroke-width:4; stroke-opacity:1; fill:none\" points=\"\n",
       "  389.071,1423.18 389.071,1404.28 \n",
       "  \"/>\n",
       "<polyline clip-path=\"url(#clip230)\" style=\"stroke:#000000; stroke-linecap:butt; stroke-linejoin:round; stroke-width:4; stroke-opacity:1; fill:none\" points=\"\n",
       "  761.475,1423.18 761.475,1404.28 \n",
       "  \"/>\n",
       "<polyline clip-path=\"url(#clip230)\" style=\"stroke:#000000; stroke-linecap:butt; stroke-linejoin:round; stroke-width:4; stroke-opacity:1; fill:none\" points=\"\n",
       "  1133.88,1423.18 1133.88,1404.28 \n",
       "  \"/>\n",
       "<polyline clip-path=\"url(#clip230)\" style=\"stroke:#000000; stroke-linecap:butt; stroke-linejoin:round; stroke-width:4; stroke-opacity:1; fill:none\" points=\"\n",
       "  1506.28,1423.18 1506.28,1404.28 \n",
       "  \"/>\n",
       "<polyline clip-path=\"url(#clip230)\" style=\"stroke:#000000; stroke-linecap:butt; stroke-linejoin:round; stroke-width:4; stroke-opacity:1; fill:none\" points=\"\n",
       "  1878.69,1423.18 1878.69,1404.28 \n",
       "  \"/>\n",
       "<polyline clip-path=\"url(#clip230)\" style=\"stroke:#000000; stroke-linecap:butt; stroke-linejoin:round; stroke-width:4; stroke-opacity:1; fill:none\" points=\"\n",
       "  2251.09,1423.18 2251.09,1404.28 \n",
       "  \"/>\n",
       "<path clip-path=\"url(#clip230)\" d=\"M389.071 1454.1 Q385.46 1454.1 383.631 1457.66 Q381.826 1461.2 381.826 1468.33 Q381.826 1475.44 383.631 1479.01 Q385.46 1482.55 389.071 1482.55 Q392.705 1482.55 394.511 1479.01 Q396.34 1475.44 396.34 1468.33 Q396.34 1461.2 394.511 1457.66 Q392.705 1454.1 389.071 1454.1 M389.071 1450.39 Q394.881 1450.39 397.937 1455 Q401.016 1459.58 401.016 1468.33 Q401.016 1477.06 397.937 1481.67 Q394.881 1486.25 389.071 1486.25 Q383.261 1486.25 380.182 1481.67 Q377.127 1477.06 377.127 1468.33 Q377.127 1459.58 380.182 1455 Q383.261 1450.39 389.071 1450.39 Z\" fill=\"#000000\" fill-rule=\"evenodd\" fill-opacity=\"1\" /><path clip-path=\"url(#clip230)\" d=\"M736.174 1451.02 L754.531 1451.02 L754.531 1454.96 L740.457 1454.96 L740.457 1463.43 Q741.475 1463.08 742.494 1462.92 Q743.512 1462.73 744.531 1462.73 Q750.318 1462.73 753.697 1465.9 Q757.077 1469.08 757.077 1474.49 Q757.077 1480.07 753.605 1483.17 Q750.132 1486.25 743.813 1486.25 Q741.637 1486.25 739.369 1485.88 Q737.123 1485.51 734.716 1484.77 L734.716 1480.07 Q736.799 1481.2 739.021 1481.76 Q741.244 1482.32 743.72 1482.32 Q747.725 1482.32 750.063 1480.21 Q752.401 1478.1 752.401 1474.49 Q752.401 1470.88 750.063 1468.77 Q747.725 1466.67 743.72 1466.67 Q741.845 1466.67 739.97 1467.08 Q738.119 1467.5 736.174 1468.38 L736.174 1451.02 Z\" fill=\"#000000\" fill-rule=\"evenodd\" fill-opacity=\"1\" /><path clip-path=\"url(#clip230)\" d=\"M776.29 1454.1 Q772.679 1454.1 770.85 1457.66 Q769.044 1461.2 769.044 1468.33 Q769.044 1475.44 770.85 1479.01 Q772.679 1482.55 776.29 1482.55 Q779.924 1482.55 781.729 1479.01 Q783.558 1475.44 783.558 1468.33 Q783.558 1461.2 781.729 1457.66 Q779.924 1454.1 776.29 1454.1 M776.29 1450.39 Q782.1 1450.39 785.155 1455 Q788.234 1459.58 788.234 1468.33 Q788.234 1477.06 785.155 1481.67 Q782.1 1486.25 776.29 1486.25 Q770.48 1486.25 767.401 1481.67 Q764.345 1477.06 764.345 1468.33 Q764.345 1459.58 767.401 1455 Q770.48 1450.39 776.29 1450.39 Z\" fill=\"#000000\" fill-rule=\"evenodd\" fill-opacity=\"1\" /><path clip-path=\"url(#clip230)\" d=\"M1093.49 1481.64 L1101.12 1481.64 L1101.12 1455.28 L1092.81 1456.95 L1092.81 1452.69 L1101.08 1451.02 L1105.75 1451.02 L1105.75 1481.64 L1113.39 1481.64 L1113.39 1485.58 L1093.49 1485.58 L1093.49 1481.64 Z\" fill=\"#000000\" fill-rule=\"evenodd\" fill-opacity=\"1\" /><path clip-path=\"url(#clip230)\" d=\"M1132.84 1454.1 Q1129.23 1454.1 1127.4 1457.66 Q1125.59 1461.2 1125.59 1468.33 Q1125.59 1475.44 1127.4 1479.01 Q1129.23 1482.55 1132.84 1482.55 Q1136.47 1482.55 1138.28 1479.01 Q1140.11 1475.44 1140.11 1468.33 Q1140.11 1461.2 1138.28 1457.66 Q1136.47 1454.1 1132.84 1454.1 M1132.84 1450.39 Q1138.65 1450.39 1141.7 1455 Q1144.78 1459.58 1144.78 1468.33 Q1144.78 1477.06 1141.7 1481.67 Q1138.65 1486.25 1132.84 1486.25 Q1127.03 1486.25 1123.95 1481.67 Q1120.89 1477.06 1120.89 1468.33 Q1120.89 1459.58 1123.95 1455 Q1127.03 1450.39 1132.84 1450.39 Z\" fill=\"#000000\" fill-rule=\"evenodd\" fill-opacity=\"1\" /><path clip-path=\"url(#clip230)\" d=\"M1163 1454.1 Q1159.39 1454.1 1157.56 1457.66 Q1155.75 1461.2 1155.75 1468.33 Q1155.75 1475.44 1157.56 1479.01 Q1159.39 1482.55 1163 1482.55 Q1166.63 1482.55 1168.44 1479.01 Q1170.27 1475.44 1170.27 1468.33 Q1170.27 1461.2 1168.44 1457.66 Q1166.63 1454.1 1163 1454.1 M1163 1450.39 Q1168.81 1450.39 1171.86 1455 Q1174.94 1459.58 1174.94 1468.33 Q1174.94 1477.06 1171.86 1481.67 Q1168.81 1486.25 1163 1486.25 Q1157.19 1486.25 1154.11 1481.67 Q1151.05 1477.06 1151.05 1468.33 Q1151.05 1459.58 1154.11 1455 Q1157.19 1450.39 1163 1450.39 Z\" fill=\"#000000\" fill-rule=\"evenodd\" fill-opacity=\"1\" /><path clip-path=\"url(#clip230)\" d=\"M1465.89 1481.64 L1473.53 1481.64 L1473.53 1455.28 L1465.22 1456.95 L1465.22 1452.69 L1473.48 1451.02 L1478.16 1451.02 L1478.16 1481.64 L1485.8 1481.64 L1485.8 1485.58 L1465.89 1485.58 L1465.89 1481.64 Z\" fill=\"#000000\" fill-rule=\"evenodd\" fill-opacity=\"1\" /><path clip-path=\"url(#clip230)\" d=\"M1495.29 1451.02 L1513.64 1451.02 L1513.64 1454.96 L1499.57 1454.96 L1499.57 1463.43 Q1500.59 1463.08 1501.61 1462.92 Q1502.62 1462.73 1503.64 1462.73 Q1509.43 1462.73 1512.81 1465.9 Q1516.19 1469.08 1516.19 1474.49 Q1516.19 1480.07 1512.72 1483.17 Q1509.25 1486.25 1502.93 1486.25 Q1500.75 1486.25 1498.48 1485.88 Q1496.24 1485.51 1493.83 1484.77 L1493.83 1480.07 Q1495.91 1481.2 1498.13 1481.76 Q1500.36 1482.32 1502.83 1482.32 Q1506.84 1482.32 1509.18 1480.21 Q1511.51 1478.1 1511.51 1474.49 Q1511.51 1470.88 1509.18 1468.77 Q1506.84 1466.67 1502.83 1466.67 Q1500.96 1466.67 1499.08 1467.08 Q1497.23 1467.5 1495.29 1468.38 L1495.29 1451.02 Z\" fill=\"#000000\" fill-rule=\"evenodd\" fill-opacity=\"1\" /><path clip-path=\"url(#clip230)\" d=\"M1535.4 1454.1 Q1531.79 1454.1 1529.96 1457.66 Q1528.16 1461.2 1528.16 1468.33 Q1528.16 1475.44 1529.96 1479.01 Q1531.79 1482.55 1535.4 1482.55 Q1539.04 1482.55 1540.84 1479.01 Q1542.67 1475.44 1542.67 1468.33 Q1542.67 1461.2 1540.84 1457.66 Q1539.04 1454.1 1535.4 1454.1 M1535.4 1450.39 Q1541.21 1450.39 1544.27 1455 Q1547.35 1459.58 1547.35 1468.33 Q1547.35 1477.06 1544.27 1481.67 Q1541.21 1486.25 1535.4 1486.25 Q1529.59 1486.25 1526.51 1481.67 Q1523.46 1477.06 1523.46 1468.33 Q1523.46 1459.58 1526.51 1455 Q1529.59 1450.39 1535.4 1450.39 Z\" fill=\"#000000\" fill-rule=\"evenodd\" fill-opacity=\"1\" /><path clip-path=\"url(#clip230)\" d=\"M1842.38 1481.64 L1858.7 1481.64 L1858.7 1485.58 L1836.75 1485.58 L1836.75 1481.64 Q1839.42 1478.89 1844 1474.26 Q1848.61 1469.61 1849.79 1468.27 Q1852.03 1465.74 1852.91 1464.01 Q1853.81 1462.25 1853.81 1460.56 Q1853.81 1457.8 1851.87 1456.07 Q1849.95 1454.33 1846.85 1454.33 Q1844.65 1454.33 1842.19 1455.09 Q1839.76 1455.86 1836.98 1457.41 L1836.98 1452.69 Q1839.81 1451.55 1842.26 1450.97 Q1844.72 1450.39 1846.75 1450.39 Q1852.12 1450.39 1855.32 1453.08 Q1858.51 1455.77 1858.51 1460.26 Q1858.51 1462.39 1857.7 1464.31 Q1856.92 1466.2 1854.81 1468.8 Q1854.23 1469.47 1851.13 1472.69 Q1848.03 1475.88 1842.38 1481.64 Z\" fill=\"#000000\" fill-rule=\"evenodd\" fill-opacity=\"1\" /><path clip-path=\"url(#clip230)\" d=\"M1878.51 1454.1 Q1874.9 1454.1 1873.07 1457.66 Q1871.27 1461.2 1871.27 1468.33 Q1871.27 1475.44 1873.07 1479.01 Q1874.9 1482.55 1878.51 1482.55 Q1882.15 1482.55 1883.95 1479.01 Q1885.78 1475.44 1885.78 1468.33 Q1885.78 1461.2 1883.95 1457.66 Q1882.15 1454.1 1878.51 1454.1 M1878.51 1450.39 Q1884.32 1450.39 1887.38 1455 Q1890.46 1459.58 1890.46 1468.33 Q1890.46 1477.06 1887.38 1481.67 Q1884.32 1486.25 1878.51 1486.25 Q1872.7 1486.25 1869.62 1481.67 Q1866.57 1477.06 1866.57 1468.33 Q1866.57 1459.58 1869.62 1455 Q1872.7 1450.39 1878.51 1450.39 Z\" fill=\"#000000\" fill-rule=\"evenodd\" fill-opacity=\"1\" /><path clip-path=\"url(#clip230)\" d=\"M1908.67 1454.1 Q1905.06 1454.1 1903.23 1457.66 Q1901.43 1461.2 1901.43 1468.33 Q1901.43 1475.44 1903.23 1479.01 Q1905.06 1482.55 1908.67 1482.55 Q1912.31 1482.55 1914.11 1479.01 Q1915.94 1475.44 1915.94 1468.33 Q1915.94 1461.2 1914.11 1457.66 Q1912.31 1454.1 1908.67 1454.1 M1908.67 1450.39 Q1914.48 1450.39 1917.54 1455 Q1920.62 1459.58 1920.62 1468.33 Q1920.62 1477.06 1917.54 1481.67 Q1914.48 1486.25 1908.67 1486.25 Q1902.86 1486.25 1899.79 1481.67 Q1896.73 1477.06 1896.73 1468.33 Q1896.73 1459.58 1899.79 1455 Q1902.86 1450.39 1908.67 1450.39 Z\" fill=\"#000000\" fill-rule=\"evenodd\" fill-opacity=\"1\" /><path clip-path=\"url(#clip230)\" d=\"M2214.78 1481.64 L2231.1 1481.64 L2231.1 1485.58 L2209.16 1485.58 L2209.16 1481.64 Q2211.82 1478.89 2216.4 1474.26 Q2221.01 1469.61 2222.19 1468.27 Q2224.43 1465.74 2225.31 1464.01 Q2226.22 1462.25 2226.22 1460.56 Q2226.22 1457.8 2224.27 1456.07 Q2222.35 1454.33 2219.25 1454.33 Q2217.05 1454.33 2214.6 1455.09 Q2212.17 1455.86 2209.39 1457.41 L2209.39 1452.69 Q2212.21 1451.55 2214.67 1450.97 Q2217.12 1450.39 2219.16 1450.39 Q2224.53 1450.39 2227.72 1453.08 Q2230.92 1455.77 2230.92 1460.26 Q2230.92 1462.39 2230.11 1464.31 Q2229.32 1466.2 2227.21 1468.8 Q2226.63 1469.47 2223.53 1472.69 Q2220.43 1475.88 2214.78 1481.64 Z\" fill=\"#000000\" fill-rule=\"evenodd\" fill-opacity=\"1\" /><path clip-path=\"url(#clip230)\" d=\"M2240.96 1451.02 L2259.32 1451.02 L2259.32 1454.96 L2245.24 1454.96 L2245.24 1463.43 Q2246.26 1463.08 2247.28 1462.92 Q2248.3 1462.73 2249.32 1462.73 Q2255.11 1462.73 2258.49 1465.9 Q2261.87 1469.08 2261.87 1474.49 Q2261.87 1480.07 2258.39 1483.17 Q2254.92 1486.25 2248.6 1486.25 Q2246.43 1486.25 2244.16 1485.88 Q2241.91 1485.51 2239.5 1484.77 L2239.5 1480.07 Q2241.59 1481.2 2243.81 1481.76 Q2246.03 1482.32 2248.51 1482.32 Q2252.51 1482.32 2254.85 1480.21 Q2257.19 1478.1 2257.19 1474.49 Q2257.19 1470.88 2254.85 1468.77 Q2252.51 1466.67 2248.51 1466.67 Q2246.63 1466.67 2244.76 1467.08 Q2242.91 1467.5 2240.96 1468.38 L2240.96 1451.02 Z\" fill=\"#000000\" fill-rule=\"evenodd\" fill-opacity=\"1\" /><path clip-path=\"url(#clip230)\" d=\"M2281.08 1454.1 Q2277.47 1454.1 2275.64 1457.66 Q2273.83 1461.2 2273.83 1468.33 Q2273.83 1475.44 2275.64 1479.01 Q2277.47 1482.55 2281.08 1482.55 Q2284.71 1482.55 2286.52 1479.01 Q2288.35 1475.44 2288.35 1468.33 Q2288.35 1461.2 2286.52 1457.66 Q2284.71 1454.1 2281.08 1454.1 M2281.08 1450.39 Q2286.89 1450.39 2289.94 1455 Q2293.02 1459.58 2293.02 1468.33 Q2293.02 1477.06 2289.94 1481.67 Q2286.89 1486.25 2281.08 1486.25 Q2275.27 1486.25 2272.19 1481.67 Q2269.13 1477.06 2269.13 1468.33 Q2269.13 1459.58 2272.19 1455 Q2275.27 1450.39 2281.08 1450.39 Z\" fill=\"#000000\" fill-rule=\"evenodd\" fill-opacity=\"1\" /><path clip-path=\"url(#clip230)\" d=\"M1330.33 1518.52 L1336.22 1518.52 L1336.22 1547.77 L1353.69 1532.4 L1361.17 1532.4 L1342.27 1549.07 L1361.97 1568.04 L1354.33 1568.04 L1336.22 1550.63 L1336.22 1568.04 L1330.33 1568.04 L1330.33 1518.52 Z\" fill=\"#000000\" fill-rule=\"evenodd\" fill-opacity=\"1\" /><polyline clip-path=\"url(#clip232)\" style=\"stroke:#000000; stroke-linecap:butt; stroke-linejoin:round; stroke-width:2; stroke-opacity:0.1; fill:none\" points=\"\n",
       "  339.542,1388.32 2352.76,1388.32 \n",
       "  \"/>\n",
       "<polyline clip-path=\"url(#clip232)\" style=\"stroke:#000000; stroke-linecap:butt; stroke-linejoin:round; stroke-width:2; stroke-opacity:0.1; fill:none\" points=\"\n",
       "  339.542,980.995 2352.76,980.995 \n",
       "  \"/>\n",
       "<polyline clip-path=\"url(#clip232)\" style=\"stroke:#000000; stroke-linecap:butt; stroke-linejoin:round; stroke-width:2; stroke-opacity:0.1; fill:none\" points=\"\n",
       "  339.542,573.672 2352.76,573.672 \n",
       "  \"/>\n",
       "<polyline clip-path=\"url(#clip232)\" style=\"stroke:#000000; stroke-linecap:butt; stroke-linejoin:round; stroke-width:2; stroke-opacity:0.1; fill:none\" points=\"\n",
       "  339.542,166.348 2352.76,166.348 \n",
       "  \"/>\n",
       "<polyline clip-path=\"url(#clip230)\" style=\"stroke:#000000; stroke-linecap:butt; stroke-linejoin:round; stroke-width:4; stroke-opacity:1; fill:none\" points=\"\n",
       "  339.542,1423.18 339.542,123.472 \n",
       "  \"/>\n",
       "<polyline clip-path=\"url(#clip230)\" style=\"stroke:#000000; stroke-linecap:butt; stroke-linejoin:round; stroke-width:4; stroke-opacity:1; fill:none\" points=\"\n",
       "  339.542,1388.32 358.439,1388.32 \n",
       "  \"/>\n",
       "<polyline clip-path=\"url(#clip230)\" style=\"stroke:#000000; stroke-linecap:butt; stroke-linejoin:round; stroke-width:4; stroke-opacity:1; fill:none\" points=\"\n",
       "  339.542,980.995 358.439,980.995 \n",
       "  \"/>\n",
       "<polyline clip-path=\"url(#clip230)\" style=\"stroke:#000000; stroke-linecap:butt; stroke-linejoin:round; stroke-width:4; stroke-opacity:1; fill:none\" points=\"\n",
       "  339.542,573.672 358.439,573.672 \n",
       "  \"/>\n",
       "<polyline clip-path=\"url(#clip230)\" style=\"stroke:#000000; stroke-linecap:butt; stroke-linejoin:round; stroke-width:4; stroke-opacity:1; fill:none\" points=\"\n",
       "  339.542,166.348 358.439,166.348 \n",
       "  \"/>\n",
       "<path clip-path=\"url(#clip230)\" d=\"M291.597 1374.12 Q287.986 1374.12 286.157 1377.68 Q284.352 1381.22 284.352 1388.35 Q284.352 1395.46 286.157 1399.02 Q287.986 1402.57 291.597 1402.57 Q295.231 1402.57 297.037 1399.02 Q298.866 1395.46 298.866 1388.35 Q298.866 1381.22 297.037 1377.68 Q295.231 1374.12 291.597 1374.12 M291.597 1370.41 Q297.407 1370.41 300.463 1375.02 Q303.542 1379.6 303.542 1388.35 Q303.542 1397.08 300.463 1401.69 Q297.407 1406.27 291.597 1406.27 Q285.787 1406.27 282.708 1401.69 Q279.653 1397.08 279.653 1388.35 Q279.653 1379.6 282.708 1375.02 Q285.787 1370.41 291.597 1370.41 Z\" fill=\"#000000\" fill-rule=\"evenodd\" fill-opacity=\"1\" /><path clip-path=\"url(#clip230)\" d=\"M116.668 1000.79 L124.306 1000.79 L124.306 974.422 L115.996 976.089 L115.996 971.83 L124.26 970.163 L128.936 970.163 L128.936 1000.79 L136.575 1000.79 L136.575 1004.72 L116.668 1004.72 L116.668 1000.79 Z\" fill=\"#000000\" fill-rule=\"evenodd\" fill-opacity=\"1\" /><path clip-path=\"url(#clip230)\" d=\"M146.019 998.843 L150.903 998.843 L150.903 1004.72 L146.019 1004.72 L146.019 998.843 Z\" fill=\"#000000\" fill-rule=\"evenodd\" fill-opacity=\"1\" /><path clip-path=\"url(#clip230)\" d=\"M171.089 973.242 Q167.477 973.242 165.649 976.806 Q163.843 980.348 163.843 987.478 Q163.843 994.584 165.649 998.149 Q167.477 1001.69 171.089 1001.69 Q174.723 1001.69 176.528 998.149 Q178.357 994.584 178.357 987.478 Q178.357 980.348 176.528 976.806 Q174.723 973.242 171.089 973.242 M171.089 969.538 Q176.899 969.538 179.954 974.144 Q183.033 978.728 183.033 987.478 Q183.033 996.204 179.954 1000.81 Q176.899 1005.39 171.089 1005.39 Q165.278 1005.39 162.2 1000.81 Q159.144 996.204 159.144 987.478 Q159.144 978.728 162.2 974.144 Q165.278 969.538 171.089 969.538 Z\" fill=\"#000000\" fill-rule=\"evenodd\" fill-opacity=\"1\" /><path clip-path=\"url(#clip230)\" d=\"M219.422 979.26 L208.843 989.885 L219.422 1000.46 L216.667 1003.26 L206.042 992.64 L195.417 1003.26 L192.686 1000.46 L203.241 989.885 L192.686 979.26 L195.417 976.459 L206.042 987.084 L216.667 976.459 L219.422 979.26 Z\" fill=\"#000000\" fill-rule=\"evenodd\" fill-opacity=\"1\" /><path clip-path=\"url(#clip230)\" d=\"M231.783 1000.79 L239.422 1000.79 L239.422 974.422 L231.111 976.089 L231.111 971.83 L239.375 970.163 L244.051 970.163 L244.051 1000.79 L251.69 1000.79 L251.69 1004.72 L231.783 1004.72 L231.783 1000.79 Z\" fill=\"#000000\" fill-rule=\"evenodd\" fill-opacity=\"1\" /><path clip-path=\"url(#clip230)\" d=\"M271.134 973.242 Q267.523 973.242 265.695 976.806 Q263.889 980.348 263.889 987.478 Q263.889 994.584 265.695 998.149 Q267.523 1001.69 271.134 1001.69 Q274.769 1001.69 276.574 998.149 Q278.403 994.584 278.403 987.478 Q278.403 980.348 276.574 976.806 Q274.769 973.242 271.134 973.242 M271.134 969.538 Q276.944 969.538 280 974.144 Q283.079 978.728 283.079 987.478 Q283.079 996.204 280 1000.81 Q276.944 1005.39 271.134 1005.39 Q265.324 1005.39 262.245 1000.81 Q259.19 996.204 259.19 987.478 Q259.19 978.728 262.245 974.144 Q265.324 969.538 271.134 969.538 Z\" fill=\"#000000\" fill-rule=\"evenodd\" fill-opacity=\"1\" /><path clip-path=\"url(#clip230)\" d=\"M295.755 952.543 L286.163 967.532 L295.755 967.532 L295.755 952.543 M294.758 949.232 L299.535 949.232 L299.535 967.532 L303.542 967.532 L303.542 970.692 L299.535 970.692 L299.535 977.312 L295.755 977.312 L295.755 970.692 L283.079 970.692 L283.079 967.025 L294.758 949.232 Z\" fill=\"#000000\" fill-rule=\"evenodd\" fill-opacity=\"1\" /><path clip-path=\"url(#clip230)\" d=\"M119.885 593.464 L136.204 593.464 L136.204 597.399 L114.26 597.399 L114.26 593.464 Q116.922 590.71 121.505 586.08 Q126.112 581.427 127.292 580.085 Q129.538 577.561 130.417 575.825 Q131.32 574.066 131.32 572.376 Q131.32 569.622 129.376 567.886 Q127.455 566.149 124.353 566.149 Q122.154 566.149 119.7 566.913 Q117.269 567.677 114.492 569.228 L114.492 564.506 Q117.316 563.372 119.769 562.793 Q122.223 562.214 124.26 562.214 Q129.63 562.214 132.825 564.899 Q136.019 567.585 136.019 572.075 Q136.019 574.205 135.209 576.126 Q134.422 578.024 132.316 580.617 Q131.737 581.288 128.635 584.506 Q125.533 587.7 119.885 593.464 Z\" fill=\"#000000\" fill-rule=\"evenodd\" fill-opacity=\"1\" /><path clip-path=\"url(#clip230)\" d=\"M146.019 591.52 L150.903 591.52 L150.903 597.399 L146.019 597.399 L146.019 591.52 Z\" fill=\"#000000\" fill-rule=\"evenodd\" fill-opacity=\"1\" /><path clip-path=\"url(#clip230)\" d=\"M171.089 565.918 Q167.477 565.918 165.649 569.483 Q163.843 573.024 163.843 580.154 Q163.843 587.26 165.649 590.825 Q167.477 594.367 171.089 594.367 Q174.723 594.367 176.528 590.825 Q178.357 587.26 178.357 580.154 Q178.357 573.024 176.528 569.483 Q174.723 565.918 171.089 565.918 M171.089 562.214 Q176.899 562.214 179.954 566.821 Q183.033 571.404 183.033 580.154 Q183.033 588.881 179.954 593.487 Q176.899 598.071 171.089 598.071 Q165.278 598.071 162.2 593.487 Q159.144 588.881 159.144 580.154 Q159.144 571.404 162.2 566.821 Q165.278 562.214 171.089 562.214 Z\" fill=\"#000000\" fill-rule=\"evenodd\" fill-opacity=\"1\" /><path clip-path=\"url(#clip230)\" d=\"M219.422 571.936 L208.843 582.561 L219.422 593.14 L216.667 595.941 L206.042 585.316 L195.417 595.941 L192.686 593.14 L203.241 582.561 L192.686 571.936 L195.417 569.136 L206.042 579.76 L216.667 569.136 L219.422 571.936 Z\" fill=\"#000000\" fill-rule=\"evenodd\" fill-opacity=\"1\" /><path clip-path=\"url(#clip230)\" d=\"M231.783 593.464 L239.422 593.464 L239.422 567.099 L231.111 568.765 L231.111 564.506 L239.375 562.839 L244.051 562.839 L244.051 593.464 L251.69 593.464 L251.69 597.399 L231.783 597.399 L231.783 593.464 Z\" fill=\"#000000\" fill-rule=\"evenodd\" fill-opacity=\"1\" /><path clip-path=\"url(#clip230)\" d=\"M271.134 565.918 Q267.523 565.918 265.695 569.483 Q263.889 573.024 263.889 580.154 Q263.889 587.26 265.695 590.825 Q267.523 594.367 271.134 594.367 Q274.769 594.367 276.574 590.825 Q278.403 587.26 278.403 580.154 Q278.403 573.024 276.574 569.483 Q274.769 565.918 271.134 565.918 M271.134 562.214 Q276.944 562.214 280 566.821 Q283.079 571.404 283.079 580.154 Q283.079 588.881 280 593.487 Q276.944 598.071 271.134 598.071 Q265.324 598.071 262.245 593.487 Q259.19 588.881 259.19 580.154 Q259.19 571.404 262.245 566.821 Q265.324 562.214 271.134 562.214 Z\" fill=\"#000000\" fill-rule=\"evenodd\" fill-opacity=\"1\" /><path clip-path=\"url(#clip230)\" d=\"M295.755 545.219 L286.163 560.209 L295.755 560.209 L295.755 545.219 M294.758 541.909 L299.535 541.909 L299.535 560.209 L303.542 560.209 L303.542 563.369 L299.535 563.369 L299.535 569.989 L295.755 569.989 L295.755 563.369 L283.079 563.369 L283.079 559.701 L294.758 541.909 Z\" fill=\"#000000\" fill-rule=\"evenodd\" fill-opacity=\"1\" /><path clip-path=\"url(#clip230)\" d=\"M130.024 171.442 Q133.38 172.159 135.255 174.428 Q137.154 176.696 137.154 180.029 Q137.154 185.145 133.635 187.946 Q130.117 190.747 123.635 190.747 Q121.459 190.747 119.144 190.307 Q116.853 189.891 114.399 189.034 L114.399 184.52 Q116.343 185.654 118.658 186.233 Q120.973 186.812 123.496 186.812 Q127.894 186.812 130.186 185.076 Q132.501 183.34 132.501 180.029 Q132.501 176.974 130.348 175.261 Q128.218 173.525 124.399 173.525 L120.371 173.525 L120.371 169.682 L124.584 169.682 Q128.033 169.682 129.862 168.317 Q131.691 166.928 131.691 164.335 Q131.691 161.673 129.792 160.261 Q127.917 158.826 124.399 158.826 Q122.478 158.826 120.279 159.243 Q118.08 159.659 115.441 160.539 L115.441 156.372 Q118.103 155.631 120.418 155.261 Q122.755 154.891 124.816 154.891 Q130.14 154.891 133.242 157.321 Q136.343 159.729 136.343 163.849 Q136.343 166.719 134.7 168.71 Q133.056 170.678 130.024 171.442 Z\" fill=\"#000000\" fill-rule=\"evenodd\" fill-opacity=\"1\" /><path clip-path=\"url(#clip230)\" d=\"M146.019 184.196 L150.903 184.196 L150.903 190.076 L146.019 190.076 L146.019 184.196 Z\" fill=\"#000000\" fill-rule=\"evenodd\" fill-opacity=\"1\" /><path clip-path=\"url(#clip230)\" d=\"M171.089 158.594 Q167.477 158.594 165.649 162.159 Q163.843 165.701 163.843 172.83 Q163.843 179.937 165.649 183.502 Q167.477 187.043 171.089 187.043 Q174.723 187.043 176.528 183.502 Q178.357 179.937 178.357 172.83 Q178.357 165.701 176.528 162.159 Q174.723 158.594 171.089 158.594 M171.089 154.891 Q176.899 154.891 179.954 159.497 Q183.033 164.08 183.033 172.83 Q183.033 181.557 179.954 186.164 Q176.899 190.747 171.089 190.747 Q165.278 190.747 162.2 186.164 Q159.144 181.557 159.144 172.83 Q159.144 164.08 162.2 159.497 Q165.278 154.891 171.089 154.891 Z\" fill=\"#000000\" fill-rule=\"evenodd\" fill-opacity=\"1\" /><path clip-path=\"url(#clip230)\" d=\"M219.422 164.613 L208.843 175.238 L219.422 185.816 L216.667 188.617 L206.042 177.992 L195.417 188.617 L192.686 185.816 L203.241 175.238 L192.686 164.613 L195.417 161.812 L206.042 172.437 L216.667 161.812 L219.422 164.613 Z\" fill=\"#000000\" fill-rule=\"evenodd\" fill-opacity=\"1\" /><path clip-path=\"url(#clip230)\" d=\"M231.783 186.141 L239.422 186.141 L239.422 159.775 L231.111 161.442 L231.111 157.182 L239.375 155.516 L244.051 155.516 L244.051 186.141 L251.69 186.141 L251.69 190.076 L231.783 190.076 L231.783 186.141 Z\" fill=\"#000000\" fill-rule=\"evenodd\" fill-opacity=\"1\" /><path clip-path=\"url(#clip230)\" d=\"M271.134 158.594 Q267.523 158.594 265.695 162.159 Q263.889 165.701 263.889 172.83 Q263.889 179.937 265.695 183.502 Q267.523 187.043 271.134 187.043 Q274.769 187.043 276.574 183.502 Q278.403 179.937 278.403 172.83 Q278.403 165.701 276.574 162.159 Q274.769 158.594 271.134 158.594 M271.134 154.891 Q276.944 154.891 280 159.497 Q283.079 164.08 283.079 172.83 Q283.079 181.557 280 186.164 Q276.944 190.747 271.134 190.747 Q265.324 190.747 262.245 186.164 Q259.19 181.557 259.19 172.83 Q259.19 164.08 262.245 159.497 Q265.324 154.891 271.134 154.891 Z\" fill=\"#000000\" fill-rule=\"evenodd\" fill-opacity=\"1\" /><path clip-path=\"url(#clip230)\" d=\"M295.755 137.895 L286.163 152.885 L295.755 152.885 L295.755 137.895 M294.758 134.585 L299.535 134.585 L299.535 152.885 L303.542 152.885 L303.542 156.045 L299.535 156.045 L299.535 162.665 L295.755 162.665 L295.755 156.045 L283.079 156.045 L283.079 152.377 L294.758 134.585 Z\" fill=\"#000000\" fill-rule=\"evenodd\" fill-opacity=\"1\" /><path clip-path=\"url(#clip230)\" d=\"M18.0438 972.891 L24.314 972.891 Q22.5634 976.551 21.704 979.798 Q20.8447 983.044 20.8447 986.068 Q20.8447 991.32 22.8817 994.184 Q24.9187 997.017 28.6745 997.017 Q31.8255 997.017 33.4488 995.139 Q35.0402 993.229 36.0269 987.946 L36.8226 984.063 Q38.1912 976.869 41.6605 973.464 Q45.098 970.026 50.8908 970.026 Q57.7976 970.026 61.3624 974.673 Q64.9272 979.288 64.9272 988.232 Q64.9272 991.606 64.1633 995.425 Q63.3994 999.213 61.9035 1003.29 L55.2831 1003.29 Q57.4793 999.372 58.5933 995.616 Q59.7073 991.861 59.7073 988.232 Q59.7073 982.726 57.543 979.734 Q55.3786 976.742 51.3682 976.742 Q47.8671 976.742 45.8937 978.906 Q43.9204 981.039 42.9337 985.941 L42.1698 989.855 Q40.7375 997.049 37.682 1000.26 Q34.6264 1003.48 29.1837 1003.48 Q22.8817 1003.48 19.2532 999.054 Q15.6248 994.598 15.6248 986.8 Q15.6248 983.458 16.2295 979.989 Q16.8343 976.519 18.0438 972.891 Z\" fill=\"#000000\" fill-rule=\"evenodd\" fill-opacity=\"1\" /><path clip-path=\"url(#clip230)\" d=\"M28.3562 960.255 L28.3562 954.399 L64.0042 954.399 L64.0042 960.255 L28.3562 960.255 M14.479 960.255 L14.479 954.399 L21.895 954.399 L21.895 960.255 L14.479 960.255 Z\" fill=\"#000000\" fill-rule=\"evenodd\" fill-opacity=\"1\" /><path clip-path=\"url(#clip230)\" d=\"M42.4881 912.512 L64.0042 912.512 L64.0042 918.369 L42.679 918.369 Q37.6183 918.369 35.1038 920.342 Q32.5894 922.315 32.5894 926.262 Q32.5894 931.005 35.6131 933.742 Q38.6368 936.479 43.8567 936.479 L64.0042 936.479 L64.0042 942.367 L28.3562 942.367 L28.3562 936.479 L33.8944 936.479 Q30.6797 934.378 29.0883 931.546 Q27.4968 928.681 27.4968 924.957 Q27.4968 918.814 31.3163 915.663 Q35.1038 912.512 42.4881 912.512 Z\" fill=\"#000000\" fill-rule=\"evenodd\" fill-opacity=\"1\" /><path clip-path=\"url(#clip230)\" d=\"M45.7664 877.373 Q39.4007 877.373 35.8996 880.015 Q32.3984 882.625 32.3984 887.368 Q32.3984 892.078 35.8996 894.72 Q39.4007 897.33 45.7664 897.33 Q52.1003 897.33 55.6014 894.72 Q59.1026 892.078 59.1026 887.368 Q59.1026 882.625 55.6014 880.015 Q52.1003 877.373 45.7664 877.373 M59.58 871.517 Q68.683 871.517 73.1071 875.559 Q77.5631 879.601 77.5631 887.941 Q77.5631 891.028 77.0857 893.765 Q76.6401 896.502 75.6852 899.081 L69.9879 899.081 Q71.3884 896.502 72.0568 893.988 Q72.7252 891.473 72.7252 888.864 Q72.7252 883.103 69.7015 880.238 Q66.7096 877.373 60.6303 877.373 L57.7339 877.373 Q60.885 879.188 62.4446 882.02 Q64.0042 884.853 64.0042 888.8 Q64.0042 895.357 59.0071 899.367 Q54.01 903.377 45.7664 903.377 Q37.491 903.377 32.4939 899.367 Q27.4968 895.357 27.4968 888.8 Q27.4968 884.853 29.0564 882.02 Q30.616 879.188 33.7671 877.373 L28.3562 877.373 L28.3562 871.517 L59.58 871.517 Z\" fill=\"#000000\" fill-rule=\"evenodd\" fill-opacity=\"1\" /><path clip-path=\"url(#clip230)\" d=\"M49.9359 860.059 L28.3562 860.059 L28.3562 854.202 L49.7131 854.202 Q54.7739 854.202 57.3202 852.229 Q59.8346 850.256 59.8346 846.309 Q59.8346 841.566 56.8109 838.829 Q53.7872 836.06 48.5673 836.06 L28.3562 836.06 L28.3562 830.204 L64.0042 830.204 L64.0042 836.06 L58.5296 836.06 Q61.7762 838.193 63.3676 841.025 Q64.9272 843.826 64.9272 847.55 Q64.9272 853.693 61.1078 856.876 Q57.2883 860.059 49.9359 860.059 M27.4968 845.322 L27.4968 845.322 Z\" fill=\"#000000\" fill-rule=\"evenodd\" fill-opacity=\"1\" /><path clip-path=\"url(#clip230)\" d=\"M14.479 818.141 L14.479 812.284 L64.0042 812.284 L64.0042 818.141 L14.479 818.141 Z\" fill=\"#000000\" fill-rule=\"evenodd\" fill-opacity=\"1\" /><path clip-path=\"url(#clip230)\" d=\"M46.0847 783.829 Q46.0847 790.927 47.7079 793.664 Q49.3312 796.402 53.2461 796.402 Q56.3653 796.402 58.2114 794.365 Q60.0256 792.296 60.0256 788.763 Q60.0256 783.893 56.5881 780.965 Q53.1188 778.005 47.3897 778.005 L46.0847 778.005 L46.0847 783.829 M43.6657 772.148 L64.0042 772.148 L64.0042 778.005 L58.5933 778.005 Q61.8398 780.01 63.3994 783.002 Q64.9272 785.994 64.9272 790.322 Q64.9272 795.797 61.8716 799.043 Q58.7843 802.258 53.6281 802.258 Q47.6125 802.258 44.5569 798.248 Q41.5014 794.206 41.5014 786.217 L41.5014 778.005 L40.9285 778.005 Q36.8862 778.005 34.6901 780.678 Q32.4621 783.32 32.4621 788.126 Q32.4621 791.182 33.1941 794.078 Q33.9262 796.975 35.3903 799.648 L29.9795 799.648 Q28.7381 796.433 28.1334 793.41 Q27.4968 790.386 27.4968 787.522 Q27.4968 779.787 31.5072 775.968 Q35.5176 772.148 43.6657 772.148 Z\" fill=\"#000000\" fill-rule=\"evenodd\" fill-opacity=\"1\" /><path clip-path=\"url(#clip230)\" d=\"M33.8307 739.429 Q33.2578 740.415 33.0032 741.593 Q32.7167 742.739 32.7167 744.139 Q32.7167 749.104 35.9632 751.778 Q39.1779 754.42 45.2253 754.42 L64.0042 754.42 L64.0042 760.308 L28.3562 760.308 L28.3562 754.42 L33.8944 754.42 Q30.6479 752.574 29.0883 749.614 Q27.4968 746.654 27.4968 742.42 Q27.4968 741.816 27.5923 741.084 Q27.656 740.352 27.8151 739.46 L33.8307 739.429 Z\" fill=\"#000000\" fill-rule=\"evenodd\" fill-opacity=\"1\" /><path clip-path=\"url(#clip230)\" d=\"M64.0042 700.057 L16.4842 718.199 L16.4842 711.483 L56.4926 696.428 L16.4842 681.342 L16.4842 674.658 L64.0042 692.768 L64.0042 700.057 Z\" fill=\"#000000\" fill-rule=\"evenodd\" fill-opacity=\"1\" /><path clip-path=\"url(#clip230)\" d=\"M46.0847 656.834 Q46.0847 663.931 47.7079 666.669 Q49.3312 669.406 53.2461 669.406 Q56.3653 669.406 58.2114 667.369 Q60.0256 665.3 60.0256 661.767 Q60.0256 656.897 56.5881 653.969 Q53.1188 651.009 47.3897 651.009 L46.0847 651.009 L46.0847 656.834 M43.6657 645.152 L64.0042 645.152 L64.0042 651.009 L58.5933 651.009 Q61.8398 653.014 63.3994 656.006 Q64.9272 658.998 64.9272 663.327 Q64.9272 668.801 61.8716 672.048 Q58.7843 675.262 53.6281 675.262 Q47.6125 675.262 44.5569 671.252 Q41.5014 667.21 41.5014 659.221 L41.5014 651.009 L40.9285 651.009 Q36.8862 651.009 34.6901 653.683 Q32.4621 656.324 32.4621 661.13 Q32.4621 664.186 33.1941 667.082 Q33.9262 669.979 35.3903 672.652 L29.9795 672.652 Q28.7381 669.438 28.1334 666.414 Q27.4968 663.39 27.4968 660.526 Q27.4968 652.791 31.5072 648.972 Q35.5176 645.152 43.6657 645.152 Z\" fill=\"#000000\" fill-rule=\"evenodd\" fill-opacity=\"1\" /><path clip-path=\"url(#clip230)\" d=\"M14.479 633.089 L14.479 627.233 L64.0042 627.233 L64.0042 633.089 L14.479 633.089 Z\" fill=\"#000000\" fill-rule=\"evenodd\" fill-opacity=\"1\" /><path clip-path=\"url(#clip230)\" d=\"M49.9359 615.584 L28.3562 615.584 L28.3562 609.727 L49.7131 609.727 Q54.7739 609.727 57.3202 607.754 Q59.8346 605.781 59.8346 601.834 Q59.8346 597.091 56.8109 594.354 Q53.7872 591.585 48.5673 591.585 L28.3562 591.585 L28.3562 585.729 L64.0042 585.729 L64.0042 591.585 L58.5296 591.585 Q61.7762 593.718 63.3676 596.55 Q64.9272 599.351 64.9272 603.075 Q64.9272 609.218 61.1078 612.401 Q57.2883 615.584 49.9359 615.584 M27.4968 600.847 L27.4968 600.847 Z\" fill=\"#000000\" fill-rule=\"evenodd\" fill-opacity=\"1\" /><path clip-path=\"url(#clip230)\" d=\"M44.7161 543.174 L47.5806 543.174 L47.5806 570.101 Q53.6281 569.719 56.8109 566.472 Q59.9619 563.194 59.9619 557.369 Q59.9619 553.996 59.1344 550.845 Q58.3069 547.662 56.6518 544.542 L62.1899 544.542 Q63.5267 547.694 64.227 551.004 Q64.9272 554.314 64.9272 557.72 Q64.9272 566.25 59.9619 571.247 Q54.9967 576.212 46.5303 576.212 Q37.7774 576.212 32.6531 571.501 Q27.4968 566.759 27.4968 558.738 Q27.4968 551.545 32.1438 547.375 Q36.7589 543.174 44.7161 543.174 M42.9973 549.03 Q38.1912 549.094 35.3266 551.736 Q32.4621 554.346 32.4621 558.674 Q32.4621 563.576 35.2312 566.536 Q38.0002 569.464 43.0292 569.91 L42.9973 549.03 Z\" fill=\"#000000\" fill-rule=\"evenodd\" fill-opacity=\"1\" /><path clip-path=\"url(#clip230)\" d=\"M956.006 14.0809 L956.006 22.0612 Q951.348 19.8332 947.216 18.7395 Q943.084 17.6457 939.235 17.6457 Q932.551 17.6457 928.906 20.2383 Q925.3 22.8309 925.3 27.611 Q925.3 31.6214 927.69 33.6873 Q930.121 35.7128 936.845 36.9686 L941.787 37.9813 Q950.943 39.7232 955.277 44.1387 Q959.652 48.5136 959.652 55.8863 Q959.652 64.6767 953.738 69.2137 Q947.864 73.7508 936.481 73.7508 Q932.187 73.7508 927.326 72.7785 Q922.505 71.8063 917.32 69.9024 L917.32 61.4765 Q922.303 64.2716 927.083 65.6895 Q931.863 67.1073 936.481 67.1073 Q943.489 67.1073 947.297 64.3527 Q951.105 61.598 951.105 56.4939 Q951.105 52.0379 948.35 49.5264 Q945.636 47.0148 939.397 45.759 L934.415 44.7868 Q925.26 42.9639 921.168 39.075 Q917.077 35.1862 917.077 28.2591 Q917.077 20.2383 922.708 15.6203 Q928.379 11.0023 938.304 11.0023 Q942.557 11.0023 946.973 11.7719 Q951.388 12.5416 956.006 14.0809 Z\" fill=\"#000000\" fill-rule=\"evenodd\" fill-opacity=\"1\" /><path clip-path=\"url(#clip230)\" d=\"M972.088 27.2059 L979.542 27.2059 L979.542 72.576 L972.088 72.576 L972.088 27.2059 M972.088 9.54393 L979.542 9.54393 L979.542 18.9825 L972.088 18.9825 L972.088 9.54393 Z\" fill=\"#000000\" fill-rule=\"evenodd\" fill-opacity=\"1\" /><path clip-path=\"url(#clip230)\" d=\"M1032.85 45.1919 L1032.85 72.576 L1025.4 72.576 L1025.4 45.4349 Q1025.4 38.994 1022.89 35.7938 Q1020.38 32.5936 1015.35 32.5936 Q1009.32 32.5936 1005.83 36.4419 Q1002.35 40.2903 1002.35 46.9338 L1002.35 72.576 L994.854 72.576 L994.854 27.2059 L1002.35 27.2059 L1002.35 34.2544 Q1005.02 30.163 1008.63 28.1376 Q1012.27 26.1121 1017.01 26.1121 Q1024.83 26.1121 1028.84 30.9732 Q1032.85 35.7938 1032.85 45.1919 Z\" fill=\"#000000\" fill-rule=\"evenodd\" fill-opacity=\"1\" /><path clip-path=\"url(#clip230)\" d=\"M1077.57 49.3643 Q1077.57 41.2625 1074.21 36.8065 Q1070.89 32.3505 1064.85 32.3505 Q1058.86 32.3505 1055.5 36.8065 Q1052.17 41.2625 1052.17 49.3643 Q1052.17 57.4256 1055.5 61.8816 Q1058.86 66.3376 1064.85 66.3376 Q1070.89 66.3376 1074.21 61.8816 Q1077.57 57.4256 1077.57 49.3643 M1085.03 66.9452 Q1085.03 78.5308 1079.88 84.1616 Q1074.74 89.8329 1064.12 89.8329 Q1060.2 89.8329 1056.71 89.2252 Q1053.23 88.6581 1049.95 87.4428 L1049.95 80.1917 Q1053.23 81.9741 1056.43 82.8248 Q1059.63 83.6755 1062.95 83.6755 Q1070.28 83.6755 1073.93 79.8271 Q1077.57 76.0193 1077.57 68.282 L1077.57 64.5957 Q1075.26 68.6061 1071.66 70.5911 Q1068.05 72.576 1063.03 72.576 Q1054.69 72.576 1049.58 66.2161 Q1044.48 59.8562 1044.48 49.3643 Q1044.48 38.832 1049.58 32.472 Q1054.69 26.1121 1063.03 26.1121 Q1068.05 26.1121 1071.66 28.0971 Q1075.26 30.082 1077.57 34.0924 L1077.57 27.2059 L1085.03 27.2059 L1085.03 66.9452 Z\" fill=\"#000000\" fill-rule=\"evenodd\" fill-opacity=\"1\" /><path clip-path=\"url(#clip230)\" d=\"M1099.61 54.671 L1099.61 27.2059 L1107.06 27.2059 L1107.06 54.3874 Q1107.06 60.8284 1109.58 64.0691 Q1112.09 67.2693 1117.11 67.2693 Q1123.15 67.2693 1126.63 63.421 Q1130.15 59.5726 1130.15 52.9291 L1130.15 27.2059 L1137.61 27.2059 L1137.61 72.576 L1130.15 72.576 L1130.15 65.6084 Q1127.44 69.7404 1123.84 71.7658 Q1120.27 73.7508 1115.53 73.7508 Q1107.71 73.7508 1103.66 68.8897 Q1099.61 64.0286 1099.61 54.671 M1118.37 26.1121 L1118.37 26.1121 Z\" fill=\"#000000\" fill-rule=\"evenodd\" fill-opacity=\"1\" /><path clip-path=\"url(#clip230)\" d=\"M1152.96 9.54393 L1160.41 9.54393 L1160.41 72.576 L1152.96 72.576 L1152.96 9.54393 Z\" fill=\"#000000\" fill-rule=\"evenodd\" fill-opacity=\"1\" /><path clip-path=\"url(#clip230)\" d=\"M1196.63 49.7694 Q1187.6 49.7694 1184.11 51.8354 Q1180.63 53.9013 1180.63 58.8839 Q1180.63 62.8538 1183.22 65.2034 Q1185.85 67.5124 1190.35 67.5124 Q1196.55 67.5124 1200.28 63.1374 Q1204.04 58.7219 1204.04 51.4303 L1204.04 49.7694 L1196.63 49.7694 M1211.5 46.6907 L1211.5 72.576 L1204.04 72.576 L1204.04 65.6895 Q1201.49 69.8214 1197.68 71.8063 Q1193.88 73.7508 1188.37 73.7508 Q1181.4 73.7508 1177.27 69.8619 Q1173.18 65.9325 1173.18 59.3701 Q1173.18 51.7138 1178.28 47.825 Q1183.42 43.9361 1193.59 43.9361 L1204.04 43.9361 L1204.04 43.2069 Q1204.04 38.0623 1200.64 35.2672 Q1197.28 32.4315 1191.16 32.4315 Q1187.27 32.4315 1183.59 33.3632 Q1179.9 34.295 1176.5 36.1584 L1176.5 29.2718 Q1180.59 27.692 1184.44 26.9223 Q1188.28 26.1121 1191.93 26.1121 Q1201.77 26.1121 1206.64 31.2163 Q1211.5 36.3204 1211.5 46.6907 Z\" fill=\"#000000\" fill-rule=\"evenodd\" fill-opacity=\"1\" /><path clip-path=\"url(#clip230)\" d=\"M1253.14 34.1734 Q1251.88 33.4443 1250.39 33.1202 Q1248.93 32.7556 1247.14 32.7556 Q1240.83 32.7556 1237.42 36.8875 Q1234.06 40.9789 1234.06 48.6757 L1234.06 72.576 L1226.57 72.576 L1226.57 27.2059 L1234.06 27.2059 L1234.06 34.2544 Q1236.41 30.1225 1240.18 28.1376 Q1243.94 26.1121 1249.33 26.1121 Q1250.1 26.1121 1251.03 26.2337 Q1251.97 26.3147 1253.1 26.5172 L1253.14 34.1734 Z\" fill=\"#000000\" fill-rule=\"evenodd\" fill-opacity=\"1\" /><path clip-path=\"url(#clip230)\" d=\"M1303.25 72.576 L1280.16 12.096 L1288.71 12.096 L1307.87 63.0159 L1327.07 12.096 L1335.58 12.096 L1312.53 72.576 L1303.25 72.576 Z\" fill=\"#000000\" fill-rule=\"evenodd\" fill-opacity=\"1\" /><path clip-path=\"url(#clip230)\" d=\"M1358.26 49.7694 Q1349.23 49.7694 1345.74 51.8354 Q1342.26 53.9013 1342.26 58.8839 Q1342.26 62.8538 1344.85 65.2034 Q1347.49 67.5124 1351.98 67.5124 Q1358.18 67.5124 1361.91 63.1374 Q1365.67 58.7219 1365.67 51.4303 L1365.67 49.7694 L1358.26 49.7694 M1373.13 46.6907 L1373.13 72.576 L1365.67 72.576 L1365.67 65.6895 Q1363.12 69.8214 1359.31 71.8063 Q1355.51 73.7508 1350 73.7508 Q1343.03 73.7508 1338.9 69.8619 Q1334.81 65.9325 1334.81 59.3701 Q1334.81 51.7138 1339.91 47.825 Q1345.05 43.9361 1355.22 43.9361 L1365.67 43.9361 L1365.67 43.2069 Q1365.67 38.0623 1362.27 35.2672 Q1358.91 32.4315 1352.79 32.4315 Q1348.9 32.4315 1345.22 33.3632 Q1341.53 34.295 1338.13 36.1584 L1338.13 29.2718 Q1342.22 27.692 1346.07 26.9223 Q1349.92 26.1121 1353.56 26.1121 Q1363.41 26.1121 1368.27 31.2163 Q1373.13 36.3204 1373.13 46.6907 Z\" fill=\"#000000\" fill-rule=\"evenodd\" fill-opacity=\"1\" /><path clip-path=\"url(#clip230)\" d=\"M1388.48 9.54393 L1395.93 9.54393 L1395.93 72.576 L1388.48 72.576 L1388.48 9.54393 Z\" fill=\"#000000\" fill-rule=\"evenodd\" fill-opacity=\"1\" /><path clip-path=\"url(#clip230)\" d=\"M1410.76 54.671 L1410.76 27.2059 L1418.21 27.2059 L1418.21 54.3874 Q1418.21 60.8284 1420.73 64.0691 Q1423.24 67.2693 1428.26 67.2693 Q1434.3 67.2693 1437.78 63.421 Q1441.3 59.5726 1441.3 52.9291 L1441.3 27.2059 L1448.76 27.2059 L1448.76 72.576 L1441.3 72.576 L1441.3 65.6084 Q1438.59 69.7404 1434.99 71.7658 Q1431.42 73.7508 1426.68 73.7508 Q1418.86 73.7508 1414.81 68.8897 Q1410.76 64.0286 1410.76 54.671 M1429.52 26.1121 L1429.52 26.1121 Z\" fill=\"#000000\" fill-rule=\"evenodd\" fill-opacity=\"1\" /><path clip-path=\"url(#clip230)\" d=\"M1502.92 48.0275 L1502.92 51.6733 L1468.65 51.6733 Q1469.13 59.3701 1473.27 63.421 Q1477.44 67.4314 1484.85 67.4314 Q1489.15 67.4314 1493.16 66.3781 Q1497.21 65.3249 1501.18 63.2184 L1501.18 70.267 Q1497.17 71.9684 1492.95 72.8596 Q1488.74 73.7508 1484.41 73.7508 Q1473.55 73.7508 1467.19 67.4314 Q1460.87 61.1119 1460.87 50.3365 Q1460.87 39.1965 1466.87 32.6746 Q1472.9 26.1121 1483.11 26.1121 Q1492.26 26.1121 1497.57 32.0264 Q1502.92 37.9003 1502.92 48.0275 M1495.47 45.84 Q1495.38 39.7232 1492.02 36.0774 Q1488.7 32.4315 1483.19 32.4315 Q1476.95 32.4315 1473.19 35.9558 Q1469.46 39.4801 1468.89 45.8805 L1495.47 45.84 Z\" fill=\"#000000\" fill-rule=\"evenodd\" fill-opacity=\"1\" /><path clip-path=\"url(#clip230)\" d=\"M1544.08 28.5427 L1544.08 35.5912 Q1540.92 33.9709 1537.51 33.1607 Q1534.11 32.3505 1530.46 32.3505 Q1524.92 32.3505 1522.12 34.0519 Q1519.37 35.7533 1519.37 39.156 Q1519.37 41.7486 1521.35 43.2475 Q1523.34 44.7058 1529.33 46.0426 L1531.88 46.6097 Q1539.82 48.3111 1543.14 51.4303 Q1546.51 54.509 1546.51 60.0587 Q1546.51 66.3781 1541.48 70.0644 Q1536.5 73.7508 1527.75 73.7508 Q1524.1 73.7508 1520.14 73.0216 Q1516.21 72.3329 1511.83 70.9151 L1511.83 63.2184 Q1515.96 65.3654 1519.97 66.4591 Q1523.98 67.5124 1527.91 67.5124 Q1533.18 67.5124 1536.01 65.73 Q1538.85 63.9071 1538.85 60.6258 Q1538.85 57.5877 1536.78 55.9673 Q1534.76 54.3469 1527.83 52.8481 L1525.24 52.2405 Q1518.31 50.7821 1515.23 47.7845 Q1512.15 44.7463 1512.15 39.4801 Q1512.15 33.0797 1516.69 29.5959 Q1521.23 26.1121 1529.57 26.1121 Q1533.71 26.1121 1537.35 26.7198 Q1541 27.3274 1544.08 28.5427 Z\" fill=\"#000000\" fill-rule=\"evenodd\" fill-opacity=\"1\" /><path clip-path=\"url(#clip230)\" d=\"M1602.33 32.4315 Q1596.33 32.4315 1592.85 37.1306 Q1589.37 41.7891 1589.37 49.9314 Q1589.37 58.0738 1592.81 62.7728 Q1596.29 67.4314 1602.33 67.4314 Q1608.28 67.4314 1611.77 62.7323 Q1615.25 58.0333 1615.25 49.9314 Q1615.25 41.8701 1611.77 37.1711 Q1608.28 32.4315 1602.33 32.4315 M1602.33 26.1121 Q1612.05 26.1121 1617.6 32.4315 Q1623.15 38.7509 1623.15 49.9314 Q1623.15 61.0714 1617.6 67.4314 Q1612.05 73.7508 1602.33 73.7508 Q1592.57 73.7508 1587.02 67.4314 Q1581.51 61.0714 1581.51 49.9314 Q1581.51 38.7509 1587.02 32.4315 Q1592.57 26.1121 1602.33 26.1121 Z\" fill=\"#000000\" fill-rule=\"evenodd\" fill-opacity=\"1\" /><path clip-path=\"url(#clip230)\" d=\"M1658.47 9.54393 L1658.47 15.7418 L1651.34 15.7418 Q1647.33 15.7418 1645.75 17.3622 Q1644.21 18.9825 1644.21 23.1955 L1644.21 27.2059 L1656.49 27.2059 L1656.49 32.9987 L1644.21 32.9987 L1644.21 72.576 L1636.72 72.576 L1636.72 32.9987 L1629.59 32.9987 L1629.59 27.2059 L1636.72 27.2059 L1636.72 24.0462 Q1636.72 16.471 1640.24 13.0277 Q1643.77 9.54393 1651.42 9.54393 L1658.47 9.54393 Z\" fill=\"#000000\" fill-rule=\"evenodd\" fill-opacity=\"1\" /><path clip-path=\"url(#clip230)\" d=\"M1710.65 39.075 Q1705.14 39.075 1701.9 42.8424 Q1698.7 46.6097 1698.7 53.1722 Q1698.7 59.6941 1701.9 63.502 Q1705.14 67.2693 1710.65 67.2693 Q1716.16 67.2693 1719.36 63.502 Q1722.6 59.6941 1722.6 53.1722 Q1722.6 46.6097 1719.36 42.8424 Q1716.16 39.075 1710.65 39.075 M1726.89 13.4328 L1726.89 20.8865 Q1723.81 19.4281 1720.65 18.6585 Q1717.54 17.8888 1714.46 17.8888 Q1706.36 17.8888 1702.06 23.3575 Q1697.81 28.8262 1697.2 39.8852 Q1699.59 36.3609 1703.2 34.4975 Q1706.8 32.5936 1711.14 32.5936 Q1720.25 32.5936 1725.52 38.1433 Q1730.82 43.6525 1730.82 53.1722 Q1730.82 62.4892 1725.31 68.12 Q1719.8 73.7508 1710.65 73.7508 Q1700.16 73.7508 1694.61 65.73 Q1689.06 57.6687 1689.06 42.3968 Q1689.06 28.0566 1695.86 19.5497 Q1702.67 11.0023 1714.13 11.0023 Q1717.21 11.0023 1720.33 11.6099 Q1723.49 12.2175 1726.89 13.4328 Z\" fill=\"#000000\" fill-rule=\"evenodd\" fill-opacity=\"1\" /><path clip-path=\"url(#clip230)\" d=\"M1772.79 28.5427 L1772.79 35.5912 Q1769.63 33.9709 1766.23 33.1607 Q1762.82 32.3505 1759.18 32.3505 Q1753.63 32.3505 1750.83 34.0519 Q1748.08 35.7533 1748.08 39.156 Q1748.08 41.7486 1750.06 43.2475 Q1752.05 44.7058 1758.04 46.0426 L1760.6 46.6097 Q1768.54 48.3111 1771.86 51.4303 Q1775.22 54.509 1775.22 60.0587 Q1775.22 66.3781 1770.2 70.0644 Q1765.21 73.7508 1756.46 73.7508 Q1752.82 73.7508 1748.85 73.0216 Q1744.92 72.3329 1740.54 70.9151 L1740.54 63.2184 Q1744.68 65.3654 1748.69 66.4591 Q1752.7 67.5124 1756.63 67.5124 Q1761.89 67.5124 1764.73 65.73 Q1767.56 63.9071 1767.56 60.6258 Q1767.56 57.5877 1765.5 55.9673 Q1763.47 54.3469 1756.55 52.8481 L1753.95 52.2405 Q1747.03 50.7821 1743.95 47.7845 Q1740.87 44.7463 1740.87 39.4801 Q1740.87 33.0797 1745.41 29.5959 Q1749.94 26.1121 1758.29 26.1121 Q1762.42 26.1121 1766.07 26.7198 Q1769.71 27.3274 1772.79 28.5427 Z\" fill=\"#000000\" fill-rule=\"evenodd\" fill-opacity=\"1\" /><polyline clip-path=\"url(#clip232)\" style=\"stroke:#009af9; stroke-linecap:butt; stroke-linejoin:round; stroke-width:4; stroke-opacity:1; fill:none\" stroke-dasharray=\"2, 4\" points=\"\n",
       "  396.519,160.256 403.967,977.961 411.415,1075.13 418.864,1101.15 426.312,1136.42 433.76,1172.63 441.208,1208.07 448.656,1210.35 456.104,1213.86 463.552,1219.44 \n",
       "  471,1235.86 478.448,1244.03 485.896,1251.07 493.344,1255.82 500.792,1264.79 508.24,1268.19 515.688,1270 523.137,1276.21 530.585,1281.54 538.033,1284.87 \n",
       "  545.481,1289.41 552.929,1292.38 560.377,1295.85 567.825,1297.74 575.273,1301.26 582.721,1304.85 590.169,1307.31 597.617,1307.48 605.065,1311 612.513,1312.4 \n",
       "  619.962,1314.46 627.41,1315.13 634.858,1316.8 642.306,1318.49 649.754,1321.72 657.202,1321.87 664.65,1323.81 672.098,1324.78 679.546,1325.89 686.994,1326.07 \n",
       "  694.442,1328.18 701.89,1329.86 709.338,1330.62 716.786,1332.1 724.235,1332.86 731.683,1333.27 739.131,1334.41 746.579,1334.81 754.027,1336.01 761.475,1337.95 \n",
       "  768.923,1338.9 776.371,1339.5 783.819,1340.23 791.267,1340.41 798.715,1341.98 806.163,1342.7 813.611,1343.32 821.06,1343.86 828.508,1344.54 835.956,1345.11 \n",
       "  843.404,1346.1 850.852,1346.67 858.3,1347.7 865.748,1347.87 873.196,1347.89 880.644,1349.12 888.092,1349.55 895.54,1350.15 902.988,1350.36 910.436,1350.82 \n",
       "  917.884,1351.26 925.333,1351.69 932.781,1352.29 940.229,1352.92 947.677,1353.76 955.125,1354.26 962.573,1354.47 970.021,1355.06 977.469,1355.31 984.917,1355.87 \n",
       "  992.365,1356.36 999.813,1356.56 1007.26,1357.18 1014.71,1357.57 1022.16,1357.85 1029.61,1357.97 1037.05,1358.76 1044.5,1358.88 1051.95,1359.21 1059.4,1359.47 \n",
       "  1066.85,1359.59 1074.29,1360.42 1081.74,1360.77 1089.19,1360.84 1096.64,1361.35 1104.09,1361.62 1111.53,1361.72 1118.98,1362 1126.43,1362.06 1133.88,1362.5 \n",
       "  1141.33,1362.87 1148.77,1363.27 1156.22,1363.34 1163.67,1363.69 1171.12,1363.9 1178.57,1364.33 1186.02,1364.56 1193.46,1365 1200.91,1365.11 1208.36,1365.46 \n",
       "  1215.81,1365.66 1223.26,1366.17 1230.7,1366.2 1238.15,1366.51 1245.6,1366.65 1253.05,1366.91 1260.5,1367.24 1267.94,1367.41 1275.39,1367.78 1282.84,1367.93 \n",
       "  1290.29,1368.17 1297.74,1368.49 1305.18,1368.52 1312.63,1368.91 1320.08,1368.98 1327.53,1369.15 1334.98,1369.35 1342.42,1369.59 1349.87,1369.89 1357.32,1369.98 \n",
       "  1364.77,1370.07 1372.22,1370.32 1379.67,1370.38 1387.11,1370.76 1394.56,1370.99 1402.01,1371.12 1409.46,1371.32 1416.91,1371.38 1424.35,1371.57 1431.8,1371.7 \n",
       "  1439.25,1372.11 1446.7,1372.28 1454.15,1372.46 1461.59,1372.49 1469.04,1372.62 1476.49,1372.97 1483.94,1373.12 1491.39,1373.22 1498.83,1373.41 1506.28,1373.42 \n",
       "  1513.73,1373.8 1521.18,1373.99 1528.63,1374.04 1536.07,1374.2 1543.52,1374.25 1550.97,1374.4 1558.42,1374.62 1565.87,1374.69 1573.31,1374.88 1580.76,1375.13 \n",
       "  1588.21,1375.21 1595.66,1375.54 1603.11,1375.68 1610.56,1375.72 1618,1375.79 1625.45,1375.98 1632.9,1376.08 1640.35,1376.15 1647.8,1376.38 1655.24,1376.43 \n",
       "  1662.69,1376.58 1670.14,1376.82 1677.59,1376.86 1685.04,1376.95 1692.48,1377.03 1699.93,1377.25 1707.38,1377.26 1714.83,1377.49 1722.28,1377.53 1729.72,1377.83 \n",
       "  1737.17,1378 1744.62,1378.1 1752.07,1378.33 1759.52,1378.41 1766.96,1378.52 1774.41,1378.56 1781.86,1378.61 1789.31,1378.79 1796.76,1378.95 1804.21,1379.15 \n",
       "  1811.65,1379.22 1819.1,1379.26 1826.55,1379.42 1834,1379.64 1841.45,1379.71 1848.89,1379.84 1856.34,1379.94 1863.79,1379.98 1871.24,1380.04 1878.69,1380.06 \n",
       "  1886.13,1380.22 1893.58,1380.33 1901.03,1380.46 1908.48,1380.58 1915.93,1380.69 1923.37,1380.87 1930.82,1381.07 1938.27,1381.1 1945.72,1381.26 1953.17,1381.45 \n",
       "  1960.61,1381.56 1968.06,1381.79 1975.51,1381.82 1982.96,1381.89 1990.41,1381.96 1997.86,1382.02 2005.3,1382.18 2012.75,1382.19 2020.2,1382.29 2027.65,1382.42 \n",
       "  2035.1,1382.49 2042.54,1382.54 2049.99,1382.73 2057.44,1382.86 2064.89,1383 2072.34,1383.11 2079.78,1383.16 2087.23,1383.24 2094.68,1383.31 2102.13,1383.41 \n",
       "  2109.58,1383.56 2117.02,1383.61 2124.47,1383.65 2131.92,1383.84 2139.37,1383.91 2146.82,1384 2154.26,1384.09 2161.71,1384.24 2169.16,1384.3 2176.61,1384.38 \n",
       "  2184.06,1384.46 2191.51,1384.59 2198.95,1384.7 2206.4,1384.74 2213.85,1384.91 2221.3,1384.97 2228.75,1384.99 2236.19,1385.19 2243.64,1385.24 2251.09,1385.34 \n",
       "  2258.54,1385.58 2265.99,1385.77 2273.43,1385.84 2280.88,1385.98 2288.33,1386.27 2295.78,1386.4 \n",
       "  \"/>\n",
       "<circle clip-path=\"url(#clip232)\" cx=\"396.519\" cy=\"160.256\" r=\"14\" fill=\"#009af9\" fill-rule=\"evenodd\" fill-opacity=\"1\" stroke=\"#000000\" stroke-opacity=\"1\" stroke-width=\"3.2\"/>\n",
       "<circle clip-path=\"url(#clip232)\" cx=\"403.967\" cy=\"977.961\" r=\"14\" fill=\"#009af9\" fill-rule=\"evenodd\" fill-opacity=\"1\" stroke=\"#000000\" stroke-opacity=\"1\" stroke-width=\"3.2\"/>\n",
       "<circle clip-path=\"url(#clip232)\" cx=\"411.415\" cy=\"1075.13\" r=\"14\" fill=\"#009af9\" fill-rule=\"evenodd\" fill-opacity=\"1\" stroke=\"#000000\" stroke-opacity=\"1\" stroke-width=\"3.2\"/>\n",
       "<circle clip-path=\"url(#clip232)\" cx=\"418.864\" cy=\"1101.15\" r=\"14\" fill=\"#009af9\" fill-rule=\"evenodd\" fill-opacity=\"1\" stroke=\"#000000\" stroke-opacity=\"1\" stroke-width=\"3.2\"/>\n",
       "<circle clip-path=\"url(#clip232)\" cx=\"426.312\" cy=\"1136.42\" r=\"14\" fill=\"#009af9\" fill-rule=\"evenodd\" fill-opacity=\"1\" stroke=\"#000000\" stroke-opacity=\"1\" stroke-width=\"3.2\"/>\n",
       "<circle clip-path=\"url(#clip232)\" cx=\"433.76\" cy=\"1172.63\" r=\"14\" fill=\"#009af9\" fill-rule=\"evenodd\" fill-opacity=\"1\" stroke=\"#000000\" stroke-opacity=\"1\" stroke-width=\"3.2\"/>\n",
       "<circle clip-path=\"url(#clip232)\" cx=\"441.208\" cy=\"1208.07\" r=\"14\" fill=\"#009af9\" fill-rule=\"evenodd\" fill-opacity=\"1\" stroke=\"#000000\" stroke-opacity=\"1\" stroke-width=\"3.2\"/>\n",
       "<circle clip-path=\"url(#clip232)\" cx=\"448.656\" cy=\"1210.35\" r=\"14\" fill=\"#009af9\" fill-rule=\"evenodd\" fill-opacity=\"1\" stroke=\"#000000\" stroke-opacity=\"1\" stroke-width=\"3.2\"/>\n",
       "<circle clip-path=\"url(#clip232)\" cx=\"456.104\" cy=\"1213.86\" r=\"14\" fill=\"#009af9\" fill-rule=\"evenodd\" fill-opacity=\"1\" stroke=\"#000000\" stroke-opacity=\"1\" stroke-width=\"3.2\"/>\n",
       "<circle clip-path=\"url(#clip232)\" cx=\"463.552\" cy=\"1219.44\" r=\"14\" fill=\"#009af9\" fill-rule=\"evenodd\" fill-opacity=\"1\" stroke=\"#000000\" stroke-opacity=\"1\" stroke-width=\"3.2\"/>\n",
       "<circle clip-path=\"url(#clip232)\" cx=\"471\" cy=\"1235.86\" r=\"14\" fill=\"#009af9\" fill-rule=\"evenodd\" fill-opacity=\"1\" stroke=\"#000000\" stroke-opacity=\"1\" stroke-width=\"3.2\"/>\n",
       "<circle clip-path=\"url(#clip232)\" cx=\"478.448\" cy=\"1244.03\" r=\"14\" fill=\"#009af9\" fill-rule=\"evenodd\" fill-opacity=\"1\" stroke=\"#000000\" stroke-opacity=\"1\" stroke-width=\"3.2\"/>\n",
       "<circle clip-path=\"url(#clip232)\" cx=\"485.896\" cy=\"1251.07\" r=\"14\" fill=\"#009af9\" fill-rule=\"evenodd\" fill-opacity=\"1\" stroke=\"#000000\" stroke-opacity=\"1\" stroke-width=\"3.2\"/>\n",
       "<circle clip-path=\"url(#clip232)\" cx=\"493.344\" cy=\"1255.82\" r=\"14\" fill=\"#009af9\" fill-rule=\"evenodd\" fill-opacity=\"1\" stroke=\"#000000\" stroke-opacity=\"1\" stroke-width=\"3.2\"/>\n",
       "<circle clip-path=\"url(#clip232)\" cx=\"500.792\" cy=\"1264.79\" r=\"14\" fill=\"#009af9\" fill-rule=\"evenodd\" fill-opacity=\"1\" stroke=\"#000000\" stroke-opacity=\"1\" stroke-width=\"3.2\"/>\n",
       "<circle clip-path=\"url(#clip232)\" cx=\"508.24\" cy=\"1268.19\" r=\"14\" fill=\"#009af9\" fill-rule=\"evenodd\" fill-opacity=\"1\" stroke=\"#000000\" stroke-opacity=\"1\" stroke-width=\"3.2\"/>\n",
       "<circle clip-path=\"url(#clip232)\" cx=\"515.688\" cy=\"1270\" r=\"14\" fill=\"#009af9\" fill-rule=\"evenodd\" fill-opacity=\"1\" stroke=\"#000000\" stroke-opacity=\"1\" stroke-width=\"3.2\"/>\n",
       "<circle clip-path=\"url(#clip232)\" cx=\"523.137\" cy=\"1276.21\" r=\"14\" fill=\"#009af9\" fill-rule=\"evenodd\" fill-opacity=\"1\" stroke=\"#000000\" stroke-opacity=\"1\" stroke-width=\"3.2\"/>\n",
       "<circle clip-path=\"url(#clip232)\" cx=\"530.585\" cy=\"1281.54\" r=\"14\" fill=\"#009af9\" fill-rule=\"evenodd\" fill-opacity=\"1\" stroke=\"#000000\" stroke-opacity=\"1\" stroke-width=\"3.2\"/>\n",
       "<circle clip-path=\"url(#clip232)\" cx=\"538.033\" cy=\"1284.87\" r=\"14\" fill=\"#009af9\" fill-rule=\"evenodd\" fill-opacity=\"1\" stroke=\"#000000\" stroke-opacity=\"1\" stroke-width=\"3.2\"/>\n",
       "<circle clip-path=\"url(#clip232)\" cx=\"545.481\" cy=\"1289.41\" r=\"14\" fill=\"#009af9\" fill-rule=\"evenodd\" fill-opacity=\"1\" stroke=\"#000000\" stroke-opacity=\"1\" stroke-width=\"3.2\"/>\n",
       "<circle clip-path=\"url(#clip232)\" cx=\"552.929\" cy=\"1292.38\" r=\"14\" fill=\"#009af9\" fill-rule=\"evenodd\" fill-opacity=\"1\" stroke=\"#000000\" stroke-opacity=\"1\" stroke-width=\"3.2\"/>\n",
       "<circle clip-path=\"url(#clip232)\" cx=\"560.377\" cy=\"1295.85\" r=\"14\" fill=\"#009af9\" fill-rule=\"evenodd\" fill-opacity=\"1\" stroke=\"#000000\" stroke-opacity=\"1\" stroke-width=\"3.2\"/>\n",
       "<circle clip-path=\"url(#clip232)\" cx=\"567.825\" cy=\"1297.74\" r=\"14\" fill=\"#009af9\" fill-rule=\"evenodd\" fill-opacity=\"1\" stroke=\"#000000\" stroke-opacity=\"1\" stroke-width=\"3.2\"/>\n",
       "<circle clip-path=\"url(#clip232)\" cx=\"575.273\" cy=\"1301.26\" r=\"14\" fill=\"#009af9\" fill-rule=\"evenodd\" fill-opacity=\"1\" stroke=\"#000000\" stroke-opacity=\"1\" stroke-width=\"3.2\"/>\n",
       "<circle clip-path=\"url(#clip232)\" cx=\"582.721\" cy=\"1304.85\" r=\"14\" fill=\"#009af9\" fill-rule=\"evenodd\" fill-opacity=\"1\" stroke=\"#000000\" stroke-opacity=\"1\" stroke-width=\"3.2\"/>\n",
       "<circle clip-path=\"url(#clip232)\" cx=\"590.169\" cy=\"1307.31\" r=\"14\" fill=\"#009af9\" fill-rule=\"evenodd\" fill-opacity=\"1\" stroke=\"#000000\" stroke-opacity=\"1\" stroke-width=\"3.2\"/>\n",
       "<circle clip-path=\"url(#clip232)\" cx=\"597.617\" cy=\"1307.48\" r=\"14\" fill=\"#009af9\" fill-rule=\"evenodd\" fill-opacity=\"1\" stroke=\"#000000\" stroke-opacity=\"1\" stroke-width=\"3.2\"/>\n",
       "<circle clip-path=\"url(#clip232)\" cx=\"605.065\" cy=\"1311\" r=\"14\" fill=\"#009af9\" fill-rule=\"evenodd\" fill-opacity=\"1\" stroke=\"#000000\" stroke-opacity=\"1\" stroke-width=\"3.2\"/>\n",
       "<circle clip-path=\"url(#clip232)\" cx=\"612.513\" cy=\"1312.4\" r=\"14\" fill=\"#009af9\" fill-rule=\"evenodd\" fill-opacity=\"1\" stroke=\"#000000\" stroke-opacity=\"1\" stroke-width=\"3.2\"/>\n",
       "<circle clip-path=\"url(#clip232)\" cx=\"619.962\" cy=\"1314.46\" r=\"14\" fill=\"#009af9\" fill-rule=\"evenodd\" fill-opacity=\"1\" stroke=\"#000000\" stroke-opacity=\"1\" stroke-width=\"3.2\"/>\n",
       "<circle clip-path=\"url(#clip232)\" cx=\"627.41\" cy=\"1315.13\" r=\"14\" fill=\"#009af9\" fill-rule=\"evenodd\" fill-opacity=\"1\" stroke=\"#000000\" stroke-opacity=\"1\" stroke-width=\"3.2\"/>\n",
       "<circle clip-path=\"url(#clip232)\" cx=\"634.858\" cy=\"1316.8\" r=\"14\" fill=\"#009af9\" fill-rule=\"evenodd\" fill-opacity=\"1\" stroke=\"#000000\" stroke-opacity=\"1\" stroke-width=\"3.2\"/>\n",
       "<circle clip-path=\"url(#clip232)\" cx=\"642.306\" cy=\"1318.49\" r=\"14\" fill=\"#009af9\" fill-rule=\"evenodd\" fill-opacity=\"1\" stroke=\"#000000\" stroke-opacity=\"1\" stroke-width=\"3.2\"/>\n",
       "<circle clip-path=\"url(#clip232)\" cx=\"649.754\" cy=\"1321.72\" r=\"14\" fill=\"#009af9\" fill-rule=\"evenodd\" fill-opacity=\"1\" stroke=\"#000000\" stroke-opacity=\"1\" stroke-width=\"3.2\"/>\n",
       "<circle clip-path=\"url(#clip232)\" cx=\"657.202\" cy=\"1321.87\" r=\"14\" fill=\"#009af9\" fill-rule=\"evenodd\" fill-opacity=\"1\" stroke=\"#000000\" stroke-opacity=\"1\" stroke-width=\"3.2\"/>\n",
       "<circle clip-path=\"url(#clip232)\" cx=\"664.65\" cy=\"1323.81\" r=\"14\" fill=\"#009af9\" fill-rule=\"evenodd\" fill-opacity=\"1\" stroke=\"#000000\" stroke-opacity=\"1\" stroke-width=\"3.2\"/>\n",
       "<circle clip-path=\"url(#clip232)\" cx=\"672.098\" cy=\"1324.78\" r=\"14\" fill=\"#009af9\" fill-rule=\"evenodd\" fill-opacity=\"1\" stroke=\"#000000\" stroke-opacity=\"1\" stroke-width=\"3.2\"/>\n",
       "<circle clip-path=\"url(#clip232)\" cx=\"679.546\" cy=\"1325.89\" r=\"14\" fill=\"#009af9\" fill-rule=\"evenodd\" fill-opacity=\"1\" stroke=\"#000000\" stroke-opacity=\"1\" stroke-width=\"3.2\"/>\n",
       "<circle clip-path=\"url(#clip232)\" cx=\"686.994\" cy=\"1326.07\" r=\"14\" fill=\"#009af9\" fill-rule=\"evenodd\" fill-opacity=\"1\" stroke=\"#000000\" stroke-opacity=\"1\" stroke-width=\"3.2\"/>\n",
       "<circle clip-path=\"url(#clip232)\" cx=\"694.442\" cy=\"1328.18\" r=\"14\" fill=\"#009af9\" fill-rule=\"evenodd\" fill-opacity=\"1\" stroke=\"#000000\" stroke-opacity=\"1\" stroke-width=\"3.2\"/>\n",
       "<circle clip-path=\"url(#clip232)\" cx=\"701.89\" cy=\"1329.86\" r=\"14\" fill=\"#009af9\" fill-rule=\"evenodd\" fill-opacity=\"1\" stroke=\"#000000\" stroke-opacity=\"1\" stroke-width=\"3.2\"/>\n",
       "<circle clip-path=\"url(#clip232)\" cx=\"709.338\" cy=\"1330.62\" r=\"14\" fill=\"#009af9\" fill-rule=\"evenodd\" fill-opacity=\"1\" stroke=\"#000000\" stroke-opacity=\"1\" stroke-width=\"3.2\"/>\n",
       "<circle clip-path=\"url(#clip232)\" cx=\"716.786\" cy=\"1332.1\" r=\"14\" fill=\"#009af9\" fill-rule=\"evenodd\" fill-opacity=\"1\" stroke=\"#000000\" stroke-opacity=\"1\" stroke-width=\"3.2\"/>\n",
       "<circle clip-path=\"url(#clip232)\" cx=\"724.235\" cy=\"1332.86\" r=\"14\" fill=\"#009af9\" fill-rule=\"evenodd\" fill-opacity=\"1\" stroke=\"#000000\" stroke-opacity=\"1\" stroke-width=\"3.2\"/>\n",
       "<circle clip-path=\"url(#clip232)\" cx=\"731.683\" cy=\"1333.27\" r=\"14\" fill=\"#009af9\" fill-rule=\"evenodd\" fill-opacity=\"1\" stroke=\"#000000\" stroke-opacity=\"1\" stroke-width=\"3.2\"/>\n",
       "<circle clip-path=\"url(#clip232)\" cx=\"739.131\" cy=\"1334.41\" r=\"14\" fill=\"#009af9\" fill-rule=\"evenodd\" fill-opacity=\"1\" stroke=\"#000000\" stroke-opacity=\"1\" stroke-width=\"3.2\"/>\n",
       "<circle clip-path=\"url(#clip232)\" cx=\"746.579\" cy=\"1334.81\" r=\"14\" fill=\"#009af9\" fill-rule=\"evenodd\" fill-opacity=\"1\" stroke=\"#000000\" stroke-opacity=\"1\" stroke-width=\"3.2\"/>\n",
       "<circle clip-path=\"url(#clip232)\" cx=\"754.027\" cy=\"1336.01\" r=\"14\" fill=\"#009af9\" fill-rule=\"evenodd\" fill-opacity=\"1\" stroke=\"#000000\" stroke-opacity=\"1\" stroke-width=\"3.2\"/>\n",
       "<circle clip-path=\"url(#clip232)\" cx=\"761.475\" cy=\"1337.95\" r=\"14\" fill=\"#009af9\" fill-rule=\"evenodd\" fill-opacity=\"1\" stroke=\"#000000\" stroke-opacity=\"1\" stroke-width=\"3.2\"/>\n",
       "<circle clip-path=\"url(#clip232)\" cx=\"768.923\" cy=\"1338.9\" r=\"14\" fill=\"#009af9\" fill-rule=\"evenodd\" fill-opacity=\"1\" stroke=\"#000000\" stroke-opacity=\"1\" stroke-width=\"3.2\"/>\n",
       "<circle clip-path=\"url(#clip232)\" cx=\"776.371\" cy=\"1339.5\" r=\"14\" fill=\"#009af9\" fill-rule=\"evenodd\" fill-opacity=\"1\" stroke=\"#000000\" stroke-opacity=\"1\" stroke-width=\"3.2\"/>\n",
       "<circle clip-path=\"url(#clip232)\" cx=\"783.819\" cy=\"1340.23\" r=\"14\" fill=\"#009af9\" fill-rule=\"evenodd\" fill-opacity=\"1\" stroke=\"#000000\" stroke-opacity=\"1\" stroke-width=\"3.2\"/>\n",
       "<circle clip-path=\"url(#clip232)\" cx=\"791.267\" cy=\"1340.41\" r=\"14\" fill=\"#009af9\" fill-rule=\"evenodd\" fill-opacity=\"1\" stroke=\"#000000\" stroke-opacity=\"1\" stroke-width=\"3.2\"/>\n",
       "<circle clip-path=\"url(#clip232)\" cx=\"798.715\" cy=\"1341.98\" r=\"14\" fill=\"#009af9\" fill-rule=\"evenodd\" fill-opacity=\"1\" stroke=\"#000000\" stroke-opacity=\"1\" stroke-width=\"3.2\"/>\n",
       "<circle clip-path=\"url(#clip232)\" cx=\"806.163\" cy=\"1342.7\" r=\"14\" fill=\"#009af9\" fill-rule=\"evenodd\" fill-opacity=\"1\" stroke=\"#000000\" stroke-opacity=\"1\" stroke-width=\"3.2\"/>\n",
       "<circle clip-path=\"url(#clip232)\" cx=\"813.611\" cy=\"1343.32\" r=\"14\" fill=\"#009af9\" fill-rule=\"evenodd\" fill-opacity=\"1\" stroke=\"#000000\" stroke-opacity=\"1\" stroke-width=\"3.2\"/>\n",
       "<circle clip-path=\"url(#clip232)\" cx=\"821.06\" cy=\"1343.86\" r=\"14\" fill=\"#009af9\" fill-rule=\"evenodd\" fill-opacity=\"1\" stroke=\"#000000\" stroke-opacity=\"1\" stroke-width=\"3.2\"/>\n",
       "<circle clip-path=\"url(#clip232)\" cx=\"828.508\" cy=\"1344.54\" r=\"14\" fill=\"#009af9\" fill-rule=\"evenodd\" fill-opacity=\"1\" stroke=\"#000000\" stroke-opacity=\"1\" stroke-width=\"3.2\"/>\n",
       "<circle clip-path=\"url(#clip232)\" cx=\"835.956\" cy=\"1345.11\" r=\"14\" fill=\"#009af9\" fill-rule=\"evenodd\" fill-opacity=\"1\" stroke=\"#000000\" stroke-opacity=\"1\" stroke-width=\"3.2\"/>\n",
       "<circle clip-path=\"url(#clip232)\" cx=\"843.404\" cy=\"1346.1\" r=\"14\" fill=\"#009af9\" fill-rule=\"evenodd\" fill-opacity=\"1\" stroke=\"#000000\" stroke-opacity=\"1\" stroke-width=\"3.2\"/>\n",
       "<circle clip-path=\"url(#clip232)\" cx=\"850.852\" cy=\"1346.67\" r=\"14\" fill=\"#009af9\" fill-rule=\"evenodd\" fill-opacity=\"1\" stroke=\"#000000\" stroke-opacity=\"1\" stroke-width=\"3.2\"/>\n",
       "<circle clip-path=\"url(#clip232)\" cx=\"858.3\" cy=\"1347.7\" r=\"14\" fill=\"#009af9\" fill-rule=\"evenodd\" fill-opacity=\"1\" stroke=\"#000000\" stroke-opacity=\"1\" stroke-width=\"3.2\"/>\n",
       "<circle clip-path=\"url(#clip232)\" cx=\"865.748\" cy=\"1347.87\" r=\"14\" fill=\"#009af9\" fill-rule=\"evenodd\" fill-opacity=\"1\" stroke=\"#000000\" stroke-opacity=\"1\" stroke-width=\"3.2\"/>\n",
       "<circle clip-path=\"url(#clip232)\" cx=\"873.196\" cy=\"1347.89\" r=\"14\" fill=\"#009af9\" fill-rule=\"evenodd\" fill-opacity=\"1\" stroke=\"#000000\" stroke-opacity=\"1\" stroke-width=\"3.2\"/>\n",
       "<circle clip-path=\"url(#clip232)\" cx=\"880.644\" cy=\"1349.12\" r=\"14\" fill=\"#009af9\" fill-rule=\"evenodd\" fill-opacity=\"1\" stroke=\"#000000\" stroke-opacity=\"1\" stroke-width=\"3.2\"/>\n",
       "<circle clip-path=\"url(#clip232)\" cx=\"888.092\" cy=\"1349.55\" r=\"14\" fill=\"#009af9\" fill-rule=\"evenodd\" fill-opacity=\"1\" stroke=\"#000000\" stroke-opacity=\"1\" stroke-width=\"3.2\"/>\n",
       "<circle clip-path=\"url(#clip232)\" cx=\"895.54\" cy=\"1350.15\" r=\"14\" fill=\"#009af9\" fill-rule=\"evenodd\" fill-opacity=\"1\" stroke=\"#000000\" stroke-opacity=\"1\" stroke-width=\"3.2\"/>\n",
       "<circle clip-path=\"url(#clip232)\" cx=\"902.988\" cy=\"1350.36\" r=\"14\" fill=\"#009af9\" fill-rule=\"evenodd\" fill-opacity=\"1\" stroke=\"#000000\" stroke-opacity=\"1\" stroke-width=\"3.2\"/>\n",
       "<circle clip-path=\"url(#clip232)\" cx=\"910.436\" cy=\"1350.82\" r=\"14\" fill=\"#009af9\" fill-rule=\"evenodd\" fill-opacity=\"1\" stroke=\"#000000\" stroke-opacity=\"1\" stroke-width=\"3.2\"/>\n",
       "<circle clip-path=\"url(#clip232)\" cx=\"917.884\" cy=\"1351.26\" r=\"14\" fill=\"#009af9\" fill-rule=\"evenodd\" fill-opacity=\"1\" stroke=\"#000000\" stroke-opacity=\"1\" stroke-width=\"3.2\"/>\n",
       "<circle clip-path=\"url(#clip232)\" cx=\"925.333\" cy=\"1351.69\" r=\"14\" fill=\"#009af9\" fill-rule=\"evenodd\" fill-opacity=\"1\" stroke=\"#000000\" stroke-opacity=\"1\" stroke-width=\"3.2\"/>\n",
       "<circle clip-path=\"url(#clip232)\" cx=\"932.781\" cy=\"1352.29\" r=\"14\" fill=\"#009af9\" fill-rule=\"evenodd\" fill-opacity=\"1\" stroke=\"#000000\" stroke-opacity=\"1\" stroke-width=\"3.2\"/>\n",
       "<circle clip-path=\"url(#clip232)\" cx=\"940.229\" cy=\"1352.92\" r=\"14\" fill=\"#009af9\" fill-rule=\"evenodd\" fill-opacity=\"1\" stroke=\"#000000\" stroke-opacity=\"1\" stroke-width=\"3.2\"/>\n",
       "<circle clip-path=\"url(#clip232)\" cx=\"947.677\" cy=\"1353.76\" r=\"14\" fill=\"#009af9\" fill-rule=\"evenodd\" fill-opacity=\"1\" stroke=\"#000000\" stroke-opacity=\"1\" stroke-width=\"3.2\"/>\n",
       "<circle clip-path=\"url(#clip232)\" cx=\"955.125\" cy=\"1354.26\" r=\"14\" fill=\"#009af9\" fill-rule=\"evenodd\" fill-opacity=\"1\" stroke=\"#000000\" stroke-opacity=\"1\" stroke-width=\"3.2\"/>\n",
       "<circle clip-path=\"url(#clip232)\" cx=\"962.573\" cy=\"1354.47\" r=\"14\" fill=\"#009af9\" fill-rule=\"evenodd\" fill-opacity=\"1\" stroke=\"#000000\" stroke-opacity=\"1\" stroke-width=\"3.2\"/>\n",
       "<circle clip-path=\"url(#clip232)\" cx=\"970.021\" cy=\"1355.06\" r=\"14\" fill=\"#009af9\" fill-rule=\"evenodd\" fill-opacity=\"1\" stroke=\"#000000\" stroke-opacity=\"1\" stroke-width=\"3.2\"/>\n",
       "<circle clip-path=\"url(#clip232)\" cx=\"977.469\" cy=\"1355.31\" r=\"14\" fill=\"#009af9\" fill-rule=\"evenodd\" fill-opacity=\"1\" stroke=\"#000000\" stroke-opacity=\"1\" stroke-width=\"3.2\"/>\n",
       "<circle clip-path=\"url(#clip232)\" cx=\"984.917\" cy=\"1355.87\" r=\"14\" fill=\"#009af9\" fill-rule=\"evenodd\" fill-opacity=\"1\" stroke=\"#000000\" stroke-opacity=\"1\" stroke-width=\"3.2\"/>\n",
       "<circle clip-path=\"url(#clip232)\" cx=\"992.365\" cy=\"1356.36\" r=\"14\" fill=\"#009af9\" fill-rule=\"evenodd\" fill-opacity=\"1\" stroke=\"#000000\" stroke-opacity=\"1\" stroke-width=\"3.2\"/>\n",
       "<circle clip-path=\"url(#clip232)\" cx=\"999.813\" cy=\"1356.56\" r=\"14\" fill=\"#009af9\" fill-rule=\"evenodd\" fill-opacity=\"1\" stroke=\"#000000\" stroke-opacity=\"1\" stroke-width=\"3.2\"/>\n",
       "<circle clip-path=\"url(#clip232)\" cx=\"1007.26\" cy=\"1357.18\" r=\"14\" fill=\"#009af9\" fill-rule=\"evenodd\" fill-opacity=\"1\" stroke=\"#000000\" stroke-opacity=\"1\" stroke-width=\"3.2\"/>\n",
       "<circle clip-path=\"url(#clip232)\" cx=\"1014.71\" cy=\"1357.57\" r=\"14\" fill=\"#009af9\" fill-rule=\"evenodd\" fill-opacity=\"1\" stroke=\"#000000\" stroke-opacity=\"1\" stroke-width=\"3.2\"/>\n",
       "<circle clip-path=\"url(#clip232)\" cx=\"1022.16\" cy=\"1357.85\" r=\"14\" fill=\"#009af9\" fill-rule=\"evenodd\" fill-opacity=\"1\" stroke=\"#000000\" stroke-opacity=\"1\" stroke-width=\"3.2\"/>\n",
       "<circle clip-path=\"url(#clip232)\" cx=\"1029.61\" cy=\"1357.97\" r=\"14\" fill=\"#009af9\" fill-rule=\"evenodd\" fill-opacity=\"1\" stroke=\"#000000\" stroke-opacity=\"1\" stroke-width=\"3.2\"/>\n",
       "<circle clip-path=\"url(#clip232)\" cx=\"1037.05\" cy=\"1358.76\" r=\"14\" fill=\"#009af9\" fill-rule=\"evenodd\" fill-opacity=\"1\" stroke=\"#000000\" stroke-opacity=\"1\" stroke-width=\"3.2\"/>\n",
       "<circle clip-path=\"url(#clip232)\" cx=\"1044.5\" cy=\"1358.88\" r=\"14\" fill=\"#009af9\" fill-rule=\"evenodd\" fill-opacity=\"1\" stroke=\"#000000\" stroke-opacity=\"1\" stroke-width=\"3.2\"/>\n",
       "<circle clip-path=\"url(#clip232)\" cx=\"1051.95\" cy=\"1359.21\" r=\"14\" fill=\"#009af9\" fill-rule=\"evenodd\" fill-opacity=\"1\" stroke=\"#000000\" stroke-opacity=\"1\" stroke-width=\"3.2\"/>\n",
       "<circle clip-path=\"url(#clip232)\" cx=\"1059.4\" cy=\"1359.47\" r=\"14\" fill=\"#009af9\" fill-rule=\"evenodd\" fill-opacity=\"1\" stroke=\"#000000\" stroke-opacity=\"1\" stroke-width=\"3.2\"/>\n",
       "<circle clip-path=\"url(#clip232)\" cx=\"1066.85\" cy=\"1359.59\" r=\"14\" fill=\"#009af9\" fill-rule=\"evenodd\" fill-opacity=\"1\" stroke=\"#000000\" stroke-opacity=\"1\" stroke-width=\"3.2\"/>\n",
       "<circle clip-path=\"url(#clip232)\" cx=\"1074.29\" cy=\"1360.42\" r=\"14\" fill=\"#009af9\" fill-rule=\"evenodd\" fill-opacity=\"1\" stroke=\"#000000\" stroke-opacity=\"1\" stroke-width=\"3.2\"/>\n",
       "<circle clip-path=\"url(#clip232)\" cx=\"1081.74\" cy=\"1360.77\" r=\"14\" fill=\"#009af9\" fill-rule=\"evenodd\" fill-opacity=\"1\" stroke=\"#000000\" stroke-opacity=\"1\" stroke-width=\"3.2\"/>\n",
       "<circle clip-path=\"url(#clip232)\" cx=\"1089.19\" cy=\"1360.84\" r=\"14\" fill=\"#009af9\" fill-rule=\"evenodd\" fill-opacity=\"1\" stroke=\"#000000\" stroke-opacity=\"1\" stroke-width=\"3.2\"/>\n",
       "<circle clip-path=\"url(#clip232)\" cx=\"1096.64\" cy=\"1361.35\" r=\"14\" fill=\"#009af9\" fill-rule=\"evenodd\" fill-opacity=\"1\" stroke=\"#000000\" stroke-opacity=\"1\" stroke-width=\"3.2\"/>\n",
       "<circle clip-path=\"url(#clip232)\" cx=\"1104.09\" cy=\"1361.62\" r=\"14\" fill=\"#009af9\" fill-rule=\"evenodd\" fill-opacity=\"1\" stroke=\"#000000\" stroke-opacity=\"1\" stroke-width=\"3.2\"/>\n",
       "<circle clip-path=\"url(#clip232)\" cx=\"1111.53\" cy=\"1361.72\" r=\"14\" fill=\"#009af9\" fill-rule=\"evenodd\" fill-opacity=\"1\" stroke=\"#000000\" stroke-opacity=\"1\" stroke-width=\"3.2\"/>\n",
       "<circle clip-path=\"url(#clip232)\" cx=\"1118.98\" cy=\"1362\" r=\"14\" fill=\"#009af9\" fill-rule=\"evenodd\" fill-opacity=\"1\" stroke=\"#000000\" stroke-opacity=\"1\" stroke-width=\"3.2\"/>\n",
       "<circle clip-path=\"url(#clip232)\" cx=\"1126.43\" cy=\"1362.06\" r=\"14\" fill=\"#009af9\" fill-rule=\"evenodd\" fill-opacity=\"1\" stroke=\"#000000\" stroke-opacity=\"1\" stroke-width=\"3.2\"/>\n",
       "<circle clip-path=\"url(#clip232)\" cx=\"1133.88\" cy=\"1362.5\" r=\"14\" fill=\"#009af9\" fill-rule=\"evenodd\" fill-opacity=\"1\" stroke=\"#000000\" stroke-opacity=\"1\" stroke-width=\"3.2\"/>\n",
       "<circle clip-path=\"url(#clip232)\" cx=\"1141.33\" cy=\"1362.87\" r=\"14\" fill=\"#009af9\" fill-rule=\"evenodd\" fill-opacity=\"1\" stroke=\"#000000\" stroke-opacity=\"1\" stroke-width=\"3.2\"/>\n",
       "<circle clip-path=\"url(#clip232)\" cx=\"1148.77\" cy=\"1363.27\" r=\"14\" fill=\"#009af9\" fill-rule=\"evenodd\" fill-opacity=\"1\" stroke=\"#000000\" stroke-opacity=\"1\" stroke-width=\"3.2\"/>\n",
       "<circle clip-path=\"url(#clip232)\" cx=\"1156.22\" cy=\"1363.34\" r=\"14\" fill=\"#009af9\" fill-rule=\"evenodd\" fill-opacity=\"1\" stroke=\"#000000\" stroke-opacity=\"1\" stroke-width=\"3.2\"/>\n",
       "<circle clip-path=\"url(#clip232)\" cx=\"1163.67\" cy=\"1363.69\" r=\"14\" fill=\"#009af9\" fill-rule=\"evenodd\" fill-opacity=\"1\" stroke=\"#000000\" stroke-opacity=\"1\" stroke-width=\"3.2\"/>\n",
       "<circle clip-path=\"url(#clip232)\" cx=\"1171.12\" cy=\"1363.9\" r=\"14\" fill=\"#009af9\" fill-rule=\"evenodd\" fill-opacity=\"1\" stroke=\"#000000\" stroke-opacity=\"1\" stroke-width=\"3.2\"/>\n",
       "<circle clip-path=\"url(#clip232)\" cx=\"1178.57\" cy=\"1364.33\" r=\"14\" fill=\"#009af9\" fill-rule=\"evenodd\" fill-opacity=\"1\" stroke=\"#000000\" stroke-opacity=\"1\" stroke-width=\"3.2\"/>\n",
       "<circle clip-path=\"url(#clip232)\" cx=\"1186.02\" cy=\"1364.56\" r=\"14\" fill=\"#009af9\" fill-rule=\"evenodd\" fill-opacity=\"1\" stroke=\"#000000\" stroke-opacity=\"1\" stroke-width=\"3.2\"/>\n",
       "<circle clip-path=\"url(#clip232)\" cx=\"1193.46\" cy=\"1365\" r=\"14\" fill=\"#009af9\" fill-rule=\"evenodd\" fill-opacity=\"1\" stroke=\"#000000\" stroke-opacity=\"1\" stroke-width=\"3.2\"/>\n",
       "<circle clip-path=\"url(#clip232)\" cx=\"1200.91\" cy=\"1365.11\" r=\"14\" fill=\"#009af9\" fill-rule=\"evenodd\" fill-opacity=\"1\" stroke=\"#000000\" stroke-opacity=\"1\" stroke-width=\"3.2\"/>\n",
       "<circle clip-path=\"url(#clip232)\" cx=\"1208.36\" cy=\"1365.46\" r=\"14\" fill=\"#009af9\" fill-rule=\"evenodd\" fill-opacity=\"1\" stroke=\"#000000\" stroke-opacity=\"1\" stroke-width=\"3.2\"/>\n",
       "<circle clip-path=\"url(#clip232)\" cx=\"1215.81\" cy=\"1365.66\" r=\"14\" fill=\"#009af9\" fill-rule=\"evenodd\" fill-opacity=\"1\" stroke=\"#000000\" stroke-opacity=\"1\" stroke-width=\"3.2\"/>\n",
       "<circle clip-path=\"url(#clip232)\" cx=\"1223.26\" cy=\"1366.17\" r=\"14\" fill=\"#009af9\" fill-rule=\"evenodd\" fill-opacity=\"1\" stroke=\"#000000\" stroke-opacity=\"1\" stroke-width=\"3.2\"/>\n",
       "<circle clip-path=\"url(#clip232)\" cx=\"1230.7\" cy=\"1366.2\" r=\"14\" fill=\"#009af9\" fill-rule=\"evenodd\" fill-opacity=\"1\" stroke=\"#000000\" stroke-opacity=\"1\" stroke-width=\"3.2\"/>\n",
       "<circle clip-path=\"url(#clip232)\" cx=\"1238.15\" cy=\"1366.51\" r=\"14\" fill=\"#009af9\" fill-rule=\"evenodd\" fill-opacity=\"1\" stroke=\"#000000\" stroke-opacity=\"1\" stroke-width=\"3.2\"/>\n",
       "<circle clip-path=\"url(#clip232)\" cx=\"1245.6\" cy=\"1366.65\" r=\"14\" fill=\"#009af9\" fill-rule=\"evenodd\" fill-opacity=\"1\" stroke=\"#000000\" stroke-opacity=\"1\" stroke-width=\"3.2\"/>\n",
       "<circle clip-path=\"url(#clip232)\" cx=\"1253.05\" cy=\"1366.91\" r=\"14\" fill=\"#009af9\" fill-rule=\"evenodd\" fill-opacity=\"1\" stroke=\"#000000\" stroke-opacity=\"1\" stroke-width=\"3.2\"/>\n",
       "<circle clip-path=\"url(#clip232)\" cx=\"1260.5\" cy=\"1367.24\" r=\"14\" fill=\"#009af9\" fill-rule=\"evenodd\" fill-opacity=\"1\" stroke=\"#000000\" stroke-opacity=\"1\" stroke-width=\"3.2\"/>\n",
       "<circle clip-path=\"url(#clip232)\" cx=\"1267.94\" cy=\"1367.41\" r=\"14\" fill=\"#009af9\" fill-rule=\"evenodd\" fill-opacity=\"1\" stroke=\"#000000\" stroke-opacity=\"1\" stroke-width=\"3.2\"/>\n",
       "<circle clip-path=\"url(#clip232)\" cx=\"1275.39\" cy=\"1367.78\" r=\"14\" fill=\"#009af9\" fill-rule=\"evenodd\" fill-opacity=\"1\" stroke=\"#000000\" stroke-opacity=\"1\" stroke-width=\"3.2\"/>\n",
       "<circle clip-path=\"url(#clip232)\" cx=\"1282.84\" cy=\"1367.93\" r=\"14\" fill=\"#009af9\" fill-rule=\"evenodd\" fill-opacity=\"1\" stroke=\"#000000\" stroke-opacity=\"1\" stroke-width=\"3.2\"/>\n",
       "<circle clip-path=\"url(#clip232)\" cx=\"1290.29\" cy=\"1368.17\" r=\"14\" fill=\"#009af9\" fill-rule=\"evenodd\" fill-opacity=\"1\" stroke=\"#000000\" stroke-opacity=\"1\" stroke-width=\"3.2\"/>\n",
       "<circle clip-path=\"url(#clip232)\" cx=\"1297.74\" cy=\"1368.49\" r=\"14\" fill=\"#009af9\" fill-rule=\"evenodd\" fill-opacity=\"1\" stroke=\"#000000\" stroke-opacity=\"1\" stroke-width=\"3.2\"/>\n",
       "<circle clip-path=\"url(#clip232)\" cx=\"1305.18\" cy=\"1368.52\" r=\"14\" fill=\"#009af9\" fill-rule=\"evenodd\" fill-opacity=\"1\" stroke=\"#000000\" stroke-opacity=\"1\" stroke-width=\"3.2\"/>\n",
       "<circle clip-path=\"url(#clip232)\" cx=\"1312.63\" cy=\"1368.91\" r=\"14\" fill=\"#009af9\" fill-rule=\"evenodd\" fill-opacity=\"1\" stroke=\"#000000\" stroke-opacity=\"1\" stroke-width=\"3.2\"/>\n",
       "<circle clip-path=\"url(#clip232)\" cx=\"1320.08\" cy=\"1368.98\" r=\"14\" fill=\"#009af9\" fill-rule=\"evenodd\" fill-opacity=\"1\" stroke=\"#000000\" stroke-opacity=\"1\" stroke-width=\"3.2\"/>\n",
       "<circle clip-path=\"url(#clip232)\" cx=\"1327.53\" cy=\"1369.15\" r=\"14\" fill=\"#009af9\" fill-rule=\"evenodd\" fill-opacity=\"1\" stroke=\"#000000\" stroke-opacity=\"1\" stroke-width=\"3.2\"/>\n",
       "<circle clip-path=\"url(#clip232)\" cx=\"1334.98\" cy=\"1369.35\" r=\"14\" fill=\"#009af9\" fill-rule=\"evenodd\" fill-opacity=\"1\" stroke=\"#000000\" stroke-opacity=\"1\" stroke-width=\"3.2\"/>\n",
       "<circle clip-path=\"url(#clip232)\" cx=\"1342.42\" cy=\"1369.59\" r=\"14\" fill=\"#009af9\" fill-rule=\"evenodd\" fill-opacity=\"1\" stroke=\"#000000\" stroke-opacity=\"1\" stroke-width=\"3.2\"/>\n",
       "<circle clip-path=\"url(#clip232)\" cx=\"1349.87\" cy=\"1369.89\" r=\"14\" fill=\"#009af9\" fill-rule=\"evenodd\" fill-opacity=\"1\" stroke=\"#000000\" stroke-opacity=\"1\" stroke-width=\"3.2\"/>\n",
       "<circle clip-path=\"url(#clip232)\" cx=\"1357.32\" cy=\"1369.98\" r=\"14\" fill=\"#009af9\" fill-rule=\"evenodd\" fill-opacity=\"1\" stroke=\"#000000\" stroke-opacity=\"1\" stroke-width=\"3.2\"/>\n",
       "<circle clip-path=\"url(#clip232)\" cx=\"1364.77\" cy=\"1370.07\" r=\"14\" fill=\"#009af9\" fill-rule=\"evenodd\" fill-opacity=\"1\" stroke=\"#000000\" stroke-opacity=\"1\" stroke-width=\"3.2\"/>\n",
       "<circle clip-path=\"url(#clip232)\" cx=\"1372.22\" cy=\"1370.32\" r=\"14\" fill=\"#009af9\" fill-rule=\"evenodd\" fill-opacity=\"1\" stroke=\"#000000\" stroke-opacity=\"1\" stroke-width=\"3.2\"/>\n",
       "<circle clip-path=\"url(#clip232)\" cx=\"1379.67\" cy=\"1370.38\" r=\"14\" fill=\"#009af9\" fill-rule=\"evenodd\" fill-opacity=\"1\" stroke=\"#000000\" stroke-opacity=\"1\" stroke-width=\"3.2\"/>\n",
       "<circle clip-path=\"url(#clip232)\" cx=\"1387.11\" cy=\"1370.76\" r=\"14\" fill=\"#009af9\" fill-rule=\"evenodd\" fill-opacity=\"1\" stroke=\"#000000\" stroke-opacity=\"1\" stroke-width=\"3.2\"/>\n",
       "<circle clip-path=\"url(#clip232)\" cx=\"1394.56\" cy=\"1370.99\" r=\"14\" fill=\"#009af9\" fill-rule=\"evenodd\" fill-opacity=\"1\" stroke=\"#000000\" stroke-opacity=\"1\" stroke-width=\"3.2\"/>\n",
       "<circle clip-path=\"url(#clip232)\" cx=\"1402.01\" cy=\"1371.12\" r=\"14\" fill=\"#009af9\" fill-rule=\"evenodd\" fill-opacity=\"1\" stroke=\"#000000\" stroke-opacity=\"1\" stroke-width=\"3.2\"/>\n",
       "<circle clip-path=\"url(#clip232)\" cx=\"1409.46\" cy=\"1371.32\" r=\"14\" fill=\"#009af9\" fill-rule=\"evenodd\" fill-opacity=\"1\" stroke=\"#000000\" stroke-opacity=\"1\" stroke-width=\"3.2\"/>\n",
       "<circle clip-path=\"url(#clip232)\" cx=\"1416.91\" cy=\"1371.38\" r=\"14\" fill=\"#009af9\" fill-rule=\"evenodd\" fill-opacity=\"1\" stroke=\"#000000\" stroke-opacity=\"1\" stroke-width=\"3.2\"/>\n",
       "<circle clip-path=\"url(#clip232)\" cx=\"1424.35\" cy=\"1371.57\" r=\"14\" fill=\"#009af9\" fill-rule=\"evenodd\" fill-opacity=\"1\" stroke=\"#000000\" stroke-opacity=\"1\" stroke-width=\"3.2\"/>\n",
       "<circle clip-path=\"url(#clip232)\" cx=\"1431.8\" cy=\"1371.7\" r=\"14\" fill=\"#009af9\" fill-rule=\"evenodd\" fill-opacity=\"1\" stroke=\"#000000\" stroke-opacity=\"1\" stroke-width=\"3.2\"/>\n",
       "<circle clip-path=\"url(#clip232)\" cx=\"1439.25\" cy=\"1372.11\" r=\"14\" fill=\"#009af9\" fill-rule=\"evenodd\" fill-opacity=\"1\" stroke=\"#000000\" stroke-opacity=\"1\" stroke-width=\"3.2\"/>\n",
       "<circle clip-path=\"url(#clip232)\" cx=\"1446.7\" cy=\"1372.28\" r=\"14\" fill=\"#009af9\" fill-rule=\"evenodd\" fill-opacity=\"1\" stroke=\"#000000\" stroke-opacity=\"1\" stroke-width=\"3.2\"/>\n",
       "<circle clip-path=\"url(#clip232)\" cx=\"1454.15\" cy=\"1372.46\" r=\"14\" fill=\"#009af9\" fill-rule=\"evenodd\" fill-opacity=\"1\" stroke=\"#000000\" stroke-opacity=\"1\" stroke-width=\"3.2\"/>\n",
       "<circle clip-path=\"url(#clip232)\" cx=\"1461.59\" cy=\"1372.49\" r=\"14\" fill=\"#009af9\" fill-rule=\"evenodd\" fill-opacity=\"1\" stroke=\"#000000\" stroke-opacity=\"1\" stroke-width=\"3.2\"/>\n",
       "<circle clip-path=\"url(#clip232)\" cx=\"1469.04\" cy=\"1372.62\" r=\"14\" fill=\"#009af9\" fill-rule=\"evenodd\" fill-opacity=\"1\" stroke=\"#000000\" stroke-opacity=\"1\" stroke-width=\"3.2\"/>\n",
       "<circle clip-path=\"url(#clip232)\" cx=\"1476.49\" cy=\"1372.97\" r=\"14\" fill=\"#009af9\" fill-rule=\"evenodd\" fill-opacity=\"1\" stroke=\"#000000\" stroke-opacity=\"1\" stroke-width=\"3.2\"/>\n",
       "<circle clip-path=\"url(#clip232)\" cx=\"1483.94\" cy=\"1373.12\" r=\"14\" fill=\"#009af9\" fill-rule=\"evenodd\" fill-opacity=\"1\" stroke=\"#000000\" stroke-opacity=\"1\" stroke-width=\"3.2\"/>\n",
       "<circle clip-path=\"url(#clip232)\" cx=\"1491.39\" cy=\"1373.22\" r=\"14\" fill=\"#009af9\" fill-rule=\"evenodd\" fill-opacity=\"1\" stroke=\"#000000\" stroke-opacity=\"1\" stroke-width=\"3.2\"/>\n",
       "<circle clip-path=\"url(#clip232)\" cx=\"1498.83\" cy=\"1373.41\" r=\"14\" fill=\"#009af9\" fill-rule=\"evenodd\" fill-opacity=\"1\" stroke=\"#000000\" stroke-opacity=\"1\" stroke-width=\"3.2\"/>\n",
       "<circle clip-path=\"url(#clip232)\" cx=\"1506.28\" cy=\"1373.42\" r=\"14\" fill=\"#009af9\" fill-rule=\"evenodd\" fill-opacity=\"1\" stroke=\"#000000\" stroke-opacity=\"1\" stroke-width=\"3.2\"/>\n",
       "<circle clip-path=\"url(#clip232)\" cx=\"1513.73\" cy=\"1373.8\" r=\"14\" fill=\"#009af9\" fill-rule=\"evenodd\" fill-opacity=\"1\" stroke=\"#000000\" stroke-opacity=\"1\" stroke-width=\"3.2\"/>\n",
       "<circle clip-path=\"url(#clip232)\" cx=\"1521.18\" cy=\"1373.99\" r=\"14\" fill=\"#009af9\" fill-rule=\"evenodd\" fill-opacity=\"1\" stroke=\"#000000\" stroke-opacity=\"1\" stroke-width=\"3.2\"/>\n",
       "<circle clip-path=\"url(#clip232)\" cx=\"1528.63\" cy=\"1374.04\" r=\"14\" fill=\"#009af9\" fill-rule=\"evenodd\" fill-opacity=\"1\" stroke=\"#000000\" stroke-opacity=\"1\" stroke-width=\"3.2\"/>\n",
       "<circle clip-path=\"url(#clip232)\" cx=\"1536.07\" cy=\"1374.2\" r=\"14\" fill=\"#009af9\" fill-rule=\"evenodd\" fill-opacity=\"1\" stroke=\"#000000\" stroke-opacity=\"1\" stroke-width=\"3.2\"/>\n",
       "<circle clip-path=\"url(#clip232)\" cx=\"1543.52\" cy=\"1374.25\" r=\"14\" fill=\"#009af9\" fill-rule=\"evenodd\" fill-opacity=\"1\" stroke=\"#000000\" stroke-opacity=\"1\" stroke-width=\"3.2\"/>\n",
       "<circle clip-path=\"url(#clip232)\" cx=\"1550.97\" cy=\"1374.4\" r=\"14\" fill=\"#009af9\" fill-rule=\"evenodd\" fill-opacity=\"1\" stroke=\"#000000\" stroke-opacity=\"1\" stroke-width=\"3.2\"/>\n",
       "<circle clip-path=\"url(#clip232)\" cx=\"1558.42\" cy=\"1374.62\" r=\"14\" fill=\"#009af9\" fill-rule=\"evenodd\" fill-opacity=\"1\" stroke=\"#000000\" stroke-opacity=\"1\" stroke-width=\"3.2\"/>\n",
       "<circle clip-path=\"url(#clip232)\" cx=\"1565.87\" cy=\"1374.69\" r=\"14\" fill=\"#009af9\" fill-rule=\"evenodd\" fill-opacity=\"1\" stroke=\"#000000\" stroke-opacity=\"1\" stroke-width=\"3.2\"/>\n",
       "<circle clip-path=\"url(#clip232)\" cx=\"1573.31\" cy=\"1374.88\" r=\"14\" fill=\"#009af9\" fill-rule=\"evenodd\" fill-opacity=\"1\" stroke=\"#000000\" stroke-opacity=\"1\" stroke-width=\"3.2\"/>\n",
       "<circle clip-path=\"url(#clip232)\" cx=\"1580.76\" cy=\"1375.13\" r=\"14\" fill=\"#009af9\" fill-rule=\"evenodd\" fill-opacity=\"1\" stroke=\"#000000\" stroke-opacity=\"1\" stroke-width=\"3.2\"/>\n",
       "<circle clip-path=\"url(#clip232)\" cx=\"1588.21\" cy=\"1375.21\" r=\"14\" fill=\"#009af9\" fill-rule=\"evenodd\" fill-opacity=\"1\" stroke=\"#000000\" stroke-opacity=\"1\" stroke-width=\"3.2\"/>\n",
       "<circle clip-path=\"url(#clip232)\" cx=\"1595.66\" cy=\"1375.54\" r=\"14\" fill=\"#009af9\" fill-rule=\"evenodd\" fill-opacity=\"1\" stroke=\"#000000\" stroke-opacity=\"1\" stroke-width=\"3.2\"/>\n",
       "<circle clip-path=\"url(#clip232)\" cx=\"1603.11\" cy=\"1375.68\" r=\"14\" fill=\"#009af9\" fill-rule=\"evenodd\" fill-opacity=\"1\" stroke=\"#000000\" stroke-opacity=\"1\" stroke-width=\"3.2\"/>\n",
       "<circle clip-path=\"url(#clip232)\" cx=\"1610.56\" cy=\"1375.72\" r=\"14\" fill=\"#009af9\" fill-rule=\"evenodd\" fill-opacity=\"1\" stroke=\"#000000\" stroke-opacity=\"1\" stroke-width=\"3.2\"/>\n",
       "<circle clip-path=\"url(#clip232)\" cx=\"1618\" cy=\"1375.79\" r=\"14\" fill=\"#009af9\" fill-rule=\"evenodd\" fill-opacity=\"1\" stroke=\"#000000\" stroke-opacity=\"1\" stroke-width=\"3.2\"/>\n",
       "<circle clip-path=\"url(#clip232)\" cx=\"1625.45\" cy=\"1375.98\" r=\"14\" fill=\"#009af9\" fill-rule=\"evenodd\" fill-opacity=\"1\" stroke=\"#000000\" stroke-opacity=\"1\" stroke-width=\"3.2\"/>\n",
       "<circle clip-path=\"url(#clip232)\" cx=\"1632.9\" cy=\"1376.08\" r=\"14\" fill=\"#009af9\" fill-rule=\"evenodd\" fill-opacity=\"1\" stroke=\"#000000\" stroke-opacity=\"1\" stroke-width=\"3.2\"/>\n",
       "<circle clip-path=\"url(#clip232)\" cx=\"1640.35\" cy=\"1376.15\" r=\"14\" fill=\"#009af9\" fill-rule=\"evenodd\" fill-opacity=\"1\" stroke=\"#000000\" stroke-opacity=\"1\" stroke-width=\"3.2\"/>\n",
       "<circle clip-path=\"url(#clip232)\" cx=\"1647.8\" cy=\"1376.38\" r=\"14\" fill=\"#009af9\" fill-rule=\"evenodd\" fill-opacity=\"1\" stroke=\"#000000\" stroke-opacity=\"1\" stroke-width=\"3.2\"/>\n",
       "<circle clip-path=\"url(#clip232)\" cx=\"1655.24\" cy=\"1376.43\" r=\"14\" fill=\"#009af9\" fill-rule=\"evenodd\" fill-opacity=\"1\" stroke=\"#000000\" stroke-opacity=\"1\" stroke-width=\"3.2\"/>\n",
       "<circle clip-path=\"url(#clip232)\" cx=\"1662.69\" cy=\"1376.58\" r=\"14\" fill=\"#009af9\" fill-rule=\"evenodd\" fill-opacity=\"1\" stroke=\"#000000\" stroke-opacity=\"1\" stroke-width=\"3.2\"/>\n",
       "<circle clip-path=\"url(#clip232)\" cx=\"1670.14\" cy=\"1376.82\" r=\"14\" fill=\"#009af9\" fill-rule=\"evenodd\" fill-opacity=\"1\" stroke=\"#000000\" stroke-opacity=\"1\" stroke-width=\"3.2\"/>\n",
       "<circle clip-path=\"url(#clip232)\" cx=\"1677.59\" cy=\"1376.86\" r=\"14\" fill=\"#009af9\" fill-rule=\"evenodd\" fill-opacity=\"1\" stroke=\"#000000\" stroke-opacity=\"1\" stroke-width=\"3.2\"/>\n",
       "<circle clip-path=\"url(#clip232)\" cx=\"1685.04\" cy=\"1376.95\" r=\"14\" fill=\"#009af9\" fill-rule=\"evenodd\" fill-opacity=\"1\" stroke=\"#000000\" stroke-opacity=\"1\" stroke-width=\"3.2\"/>\n",
       "<circle clip-path=\"url(#clip232)\" cx=\"1692.48\" cy=\"1377.03\" r=\"14\" fill=\"#009af9\" fill-rule=\"evenodd\" fill-opacity=\"1\" stroke=\"#000000\" stroke-opacity=\"1\" stroke-width=\"3.2\"/>\n",
       "<circle clip-path=\"url(#clip232)\" cx=\"1699.93\" cy=\"1377.25\" r=\"14\" fill=\"#009af9\" fill-rule=\"evenodd\" fill-opacity=\"1\" stroke=\"#000000\" stroke-opacity=\"1\" stroke-width=\"3.2\"/>\n",
       "<circle clip-path=\"url(#clip232)\" cx=\"1707.38\" cy=\"1377.26\" r=\"14\" fill=\"#009af9\" fill-rule=\"evenodd\" fill-opacity=\"1\" stroke=\"#000000\" stroke-opacity=\"1\" stroke-width=\"3.2\"/>\n",
       "<circle clip-path=\"url(#clip232)\" cx=\"1714.83\" cy=\"1377.49\" r=\"14\" fill=\"#009af9\" fill-rule=\"evenodd\" fill-opacity=\"1\" stroke=\"#000000\" stroke-opacity=\"1\" stroke-width=\"3.2\"/>\n",
       "<circle clip-path=\"url(#clip232)\" cx=\"1722.28\" cy=\"1377.53\" r=\"14\" fill=\"#009af9\" fill-rule=\"evenodd\" fill-opacity=\"1\" stroke=\"#000000\" stroke-opacity=\"1\" stroke-width=\"3.2\"/>\n",
       "<circle clip-path=\"url(#clip232)\" cx=\"1729.72\" cy=\"1377.83\" r=\"14\" fill=\"#009af9\" fill-rule=\"evenodd\" fill-opacity=\"1\" stroke=\"#000000\" stroke-opacity=\"1\" stroke-width=\"3.2\"/>\n",
       "<circle clip-path=\"url(#clip232)\" cx=\"1737.17\" cy=\"1378\" r=\"14\" fill=\"#009af9\" fill-rule=\"evenodd\" fill-opacity=\"1\" stroke=\"#000000\" stroke-opacity=\"1\" stroke-width=\"3.2\"/>\n",
       "<circle clip-path=\"url(#clip232)\" cx=\"1744.62\" cy=\"1378.1\" r=\"14\" fill=\"#009af9\" fill-rule=\"evenodd\" fill-opacity=\"1\" stroke=\"#000000\" stroke-opacity=\"1\" stroke-width=\"3.2\"/>\n",
       "<circle clip-path=\"url(#clip232)\" cx=\"1752.07\" cy=\"1378.33\" r=\"14\" fill=\"#009af9\" fill-rule=\"evenodd\" fill-opacity=\"1\" stroke=\"#000000\" stroke-opacity=\"1\" stroke-width=\"3.2\"/>\n",
       "<circle clip-path=\"url(#clip232)\" cx=\"1759.52\" cy=\"1378.41\" r=\"14\" fill=\"#009af9\" fill-rule=\"evenodd\" fill-opacity=\"1\" stroke=\"#000000\" stroke-opacity=\"1\" stroke-width=\"3.2\"/>\n",
       "<circle clip-path=\"url(#clip232)\" cx=\"1766.96\" cy=\"1378.52\" r=\"14\" fill=\"#009af9\" fill-rule=\"evenodd\" fill-opacity=\"1\" stroke=\"#000000\" stroke-opacity=\"1\" stroke-width=\"3.2\"/>\n",
       "<circle clip-path=\"url(#clip232)\" cx=\"1774.41\" cy=\"1378.56\" r=\"14\" fill=\"#009af9\" fill-rule=\"evenodd\" fill-opacity=\"1\" stroke=\"#000000\" stroke-opacity=\"1\" stroke-width=\"3.2\"/>\n",
       "<circle clip-path=\"url(#clip232)\" cx=\"1781.86\" cy=\"1378.61\" r=\"14\" fill=\"#009af9\" fill-rule=\"evenodd\" fill-opacity=\"1\" stroke=\"#000000\" stroke-opacity=\"1\" stroke-width=\"3.2\"/>\n",
       "<circle clip-path=\"url(#clip232)\" cx=\"1789.31\" cy=\"1378.79\" r=\"14\" fill=\"#009af9\" fill-rule=\"evenodd\" fill-opacity=\"1\" stroke=\"#000000\" stroke-opacity=\"1\" stroke-width=\"3.2\"/>\n",
       "<circle clip-path=\"url(#clip232)\" cx=\"1796.76\" cy=\"1378.95\" r=\"14\" fill=\"#009af9\" fill-rule=\"evenodd\" fill-opacity=\"1\" stroke=\"#000000\" stroke-opacity=\"1\" stroke-width=\"3.2\"/>\n",
       "<circle clip-path=\"url(#clip232)\" cx=\"1804.21\" cy=\"1379.15\" r=\"14\" fill=\"#009af9\" fill-rule=\"evenodd\" fill-opacity=\"1\" stroke=\"#000000\" stroke-opacity=\"1\" stroke-width=\"3.2\"/>\n",
       "<circle clip-path=\"url(#clip232)\" cx=\"1811.65\" cy=\"1379.22\" r=\"14\" fill=\"#009af9\" fill-rule=\"evenodd\" fill-opacity=\"1\" stroke=\"#000000\" stroke-opacity=\"1\" stroke-width=\"3.2\"/>\n",
       "<circle clip-path=\"url(#clip232)\" cx=\"1819.1\" cy=\"1379.26\" r=\"14\" fill=\"#009af9\" fill-rule=\"evenodd\" fill-opacity=\"1\" stroke=\"#000000\" stroke-opacity=\"1\" stroke-width=\"3.2\"/>\n",
       "<circle clip-path=\"url(#clip232)\" cx=\"1826.55\" cy=\"1379.42\" r=\"14\" fill=\"#009af9\" fill-rule=\"evenodd\" fill-opacity=\"1\" stroke=\"#000000\" stroke-opacity=\"1\" stroke-width=\"3.2\"/>\n",
       "<circle clip-path=\"url(#clip232)\" cx=\"1834\" cy=\"1379.64\" r=\"14\" fill=\"#009af9\" fill-rule=\"evenodd\" fill-opacity=\"1\" stroke=\"#000000\" stroke-opacity=\"1\" stroke-width=\"3.2\"/>\n",
       "<circle clip-path=\"url(#clip232)\" cx=\"1841.45\" cy=\"1379.71\" r=\"14\" fill=\"#009af9\" fill-rule=\"evenodd\" fill-opacity=\"1\" stroke=\"#000000\" stroke-opacity=\"1\" stroke-width=\"3.2\"/>\n",
       "<circle clip-path=\"url(#clip232)\" cx=\"1848.89\" cy=\"1379.84\" r=\"14\" fill=\"#009af9\" fill-rule=\"evenodd\" fill-opacity=\"1\" stroke=\"#000000\" stroke-opacity=\"1\" stroke-width=\"3.2\"/>\n",
       "<circle clip-path=\"url(#clip232)\" cx=\"1856.34\" cy=\"1379.94\" r=\"14\" fill=\"#009af9\" fill-rule=\"evenodd\" fill-opacity=\"1\" stroke=\"#000000\" stroke-opacity=\"1\" stroke-width=\"3.2\"/>\n",
       "<circle clip-path=\"url(#clip232)\" cx=\"1863.79\" cy=\"1379.98\" r=\"14\" fill=\"#009af9\" fill-rule=\"evenodd\" fill-opacity=\"1\" stroke=\"#000000\" stroke-opacity=\"1\" stroke-width=\"3.2\"/>\n",
       "<circle clip-path=\"url(#clip232)\" cx=\"1871.24\" cy=\"1380.04\" r=\"14\" fill=\"#009af9\" fill-rule=\"evenodd\" fill-opacity=\"1\" stroke=\"#000000\" stroke-opacity=\"1\" stroke-width=\"3.2\"/>\n",
       "<circle clip-path=\"url(#clip232)\" cx=\"1878.69\" cy=\"1380.06\" r=\"14\" fill=\"#009af9\" fill-rule=\"evenodd\" fill-opacity=\"1\" stroke=\"#000000\" stroke-opacity=\"1\" stroke-width=\"3.2\"/>\n",
       "<circle clip-path=\"url(#clip232)\" cx=\"1886.13\" cy=\"1380.22\" r=\"14\" fill=\"#009af9\" fill-rule=\"evenodd\" fill-opacity=\"1\" stroke=\"#000000\" stroke-opacity=\"1\" stroke-width=\"3.2\"/>\n",
       "<circle clip-path=\"url(#clip232)\" cx=\"1893.58\" cy=\"1380.33\" r=\"14\" fill=\"#009af9\" fill-rule=\"evenodd\" fill-opacity=\"1\" stroke=\"#000000\" stroke-opacity=\"1\" stroke-width=\"3.2\"/>\n",
       "<circle clip-path=\"url(#clip232)\" cx=\"1901.03\" cy=\"1380.46\" r=\"14\" fill=\"#009af9\" fill-rule=\"evenodd\" fill-opacity=\"1\" stroke=\"#000000\" stroke-opacity=\"1\" stroke-width=\"3.2\"/>\n",
       "<circle clip-path=\"url(#clip232)\" cx=\"1908.48\" cy=\"1380.58\" r=\"14\" fill=\"#009af9\" fill-rule=\"evenodd\" fill-opacity=\"1\" stroke=\"#000000\" stroke-opacity=\"1\" stroke-width=\"3.2\"/>\n",
       "<circle clip-path=\"url(#clip232)\" cx=\"1915.93\" cy=\"1380.69\" r=\"14\" fill=\"#009af9\" fill-rule=\"evenodd\" fill-opacity=\"1\" stroke=\"#000000\" stroke-opacity=\"1\" stroke-width=\"3.2\"/>\n",
       "<circle clip-path=\"url(#clip232)\" cx=\"1923.37\" cy=\"1380.87\" r=\"14\" fill=\"#009af9\" fill-rule=\"evenodd\" fill-opacity=\"1\" stroke=\"#000000\" stroke-opacity=\"1\" stroke-width=\"3.2\"/>\n",
       "<circle clip-path=\"url(#clip232)\" cx=\"1930.82\" cy=\"1381.07\" r=\"14\" fill=\"#009af9\" fill-rule=\"evenodd\" fill-opacity=\"1\" stroke=\"#000000\" stroke-opacity=\"1\" stroke-width=\"3.2\"/>\n",
       "<circle clip-path=\"url(#clip232)\" cx=\"1938.27\" cy=\"1381.1\" r=\"14\" fill=\"#009af9\" fill-rule=\"evenodd\" fill-opacity=\"1\" stroke=\"#000000\" stroke-opacity=\"1\" stroke-width=\"3.2\"/>\n",
       "<circle clip-path=\"url(#clip232)\" cx=\"1945.72\" cy=\"1381.26\" r=\"14\" fill=\"#009af9\" fill-rule=\"evenodd\" fill-opacity=\"1\" stroke=\"#000000\" stroke-opacity=\"1\" stroke-width=\"3.2\"/>\n",
       "<circle clip-path=\"url(#clip232)\" cx=\"1953.17\" cy=\"1381.45\" r=\"14\" fill=\"#009af9\" fill-rule=\"evenodd\" fill-opacity=\"1\" stroke=\"#000000\" stroke-opacity=\"1\" stroke-width=\"3.2\"/>\n",
       "<circle clip-path=\"url(#clip232)\" cx=\"1960.61\" cy=\"1381.56\" r=\"14\" fill=\"#009af9\" fill-rule=\"evenodd\" fill-opacity=\"1\" stroke=\"#000000\" stroke-opacity=\"1\" stroke-width=\"3.2\"/>\n",
       "<circle clip-path=\"url(#clip232)\" cx=\"1968.06\" cy=\"1381.79\" r=\"14\" fill=\"#009af9\" fill-rule=\"evenodd\" fill-opacity=\"1\" stroke=\"#000000\" stroke-opacity=\"1\" stroke-width=\"3.2\"/>\n",
       "<circle clip-path=\"url(#clip232)\" cx=\"1975.51\" cy=\"1381.82\" r=\"14\" fill=\"#009af9\" fill-rule=\"evenodd\" fill-opacity=\"1\" stroke=\"#000000\" stroke-opacity=\"1\" stroke-width=\"3.2\"/>\n",
       "<circle clip-path=\"url(#clip232)\" cx=\"1982.96\" cy=\"1381.89\" r=\"14\" fill=\"#009af9\" fill-rule=\"evenodd\" fill-opacity=\"1\" stroke=\"#000000\" stroke-opacity=\"1\" stroke-width=\"3.2\"/>\n",
       "<circle clip-path=\"url(#clip232)\" cx=\"1990.41\" cy=\"1381.96\" r=\"14\" fill=\"#009af9\" fill-rule=\"evenodd\" fill-opacity=\"1\" stroke=\"#000000\" stroke-opacity=\"1\" stroke-width=\"3.2\"/>\n",
       "<circle clip-path=\"url(#clip232)\" cx=\"1997.86\" cy=\"1382.02\" r=\"14\" fill=\"#009af9\" fill-rule=\"evenodd\" fill-opacity=\"1\" stroke=\"#000000\" stroke-opacity=\"1\" stroke-width=\"3.2\"/>\n",
       "<circle clip-path=\"url(#clip232)\" cx=\"2005.3\" cy=\"1382.18\" r=\"14\" fill=\"#009af9\" fill-rule=\"evenodd\" fill-opacity=\"1\" stroke=\"#000000\" stroke-opacity=\"1\" stroke-width=\"3.2\"/>\n",
       "<circle clip-path=\"url(#clip232)\" cx=\"2012.75\" cy=\"1382.19\" r=\"14\" fill=\"#009af9\" fill-rule=\"evenodd\" fill-opacity=\"1\" stroke=\"#000000\" stroke-opacity=\"1\" stroke-width=\"3.2\"/>\n",
       "<circle clip-path=\"url(#clip232)\" cx=\"2020.2\" cy=\"1382.29\" r=\"14\" fill=\"#009af9\" fill-rule=\"evenodd\" fill-opacity=\"1\" stroke=\"#000000\" stroke-opacity=\"1\" stroke-width=\"3.2\"/>\n",
       "<circle clip-path=\"url(#clip232)\" cx=\"2027.65\" cy=\"1382.42\" r=\"14\" fill=\"#009af9\" fill-rule=\"evenodd\" fill-opacity=\"1\" stroke=\"#000000\" stroke-opacity=\"1\" stroke-width=\"3.2\"/>\n",
       "<circle clip-path=\"url(#clip232)\" cx=\"2035.1\" cy=\"1382.49\" r=\"14\" fill=\"#009af9\" fill-rule=\"evenodd\" fill-opacity=\"1\" stroke=\"#000000\" stroke-opacity=\"1\" stroke-width=\"3.2\"/>\n",
       "<circle clip-path=\"url(#clip232)\" cx=\"2042.54\" cy=\"1382.54\" r=\"14\" fill=\"#009af9\" fill-rule=\"evenodd\" fill-opacity=\"1\" stroke=\"#000000\" stroke-opacity=\"1\" stroke-width=\"3.2\"/>\n",
       "<circle clip-path=\"url(#clip232)\" cx=\"2049.99\" cy=\"1382.73\" r=\"14\" fill=\"#009af9\" fill-rule=\"evenodd\" fill-opacity=\"1\" stroke=\"#000000\" stroke-opacity=\"1\" stroke-width=\"3.2\"/>\n",
       "<circle clip-path=\"url(#clip232)\" cx=\"2057.44\" cy=\"1382.86\" r=\"14\" fill=\"#009af9\" fill-rule=\"evenodd\" fill-opacity=\"1\" stroke=\"#000000\" stroke-opacity=\"1\" stroke-width=\"3.2\"/>\n",
       "<circle clip-path=\"url(#clip232)\" cx=\"2064.89\" cy=\"1383\" r=\"14\" fill=\"#009af9\" fill-rule=\"evenodd\" fill-opacity=\"1\" stroke=\"#000000\" stroke-opacity=\"1\" stroke-width=\"3.2\"/>\n",
       "<circle clip-path=\"url(#clip232)\" cx=\"2072.34\" cy=\"1383.11\" r=\"14\" fill=\"#009af9\" fill-rule=\"evenodd\" fill-opacity=\"1\" stroke=\"#000000\" stroke-opacity=\"1\" stroke-width=\"3.2\"/>\n",
       "<circle clip-path=\"url(#clip232)\" cx=\"2079.78\" cy=\"1383.16\" r=\"14\" fill=\"#009af9\" fill-rule=\"evenodd\" fill-opacity=\"1\" stroke=\"#000000\" stroke-opacity=\"1\" stroke-width=\"3.2\"/>\n",
       "<circle clip-path=\"url(#clip232)\" cx=\"2087.23\" cy=\"1383.24\" r=\"14\" fill=\"#009af9\" fill-rule=\"evenodd\" fill-opacity=\"1\" stroke=\"#000000\" stroke-opacity=\"1\" stroke-width=\"3.2\"/>\n",
       "<circle clip-path=\"url(#clip232)\" cx=\"2094.68\" cy=\"1383.31\" r=\"14\" fill=\"#009af9\" fill-rule=\"evenodd\" fill-opacity=\"1\" stroke=\"#000000\" stroke-opacity=\"1\" stroke-width=\"3.2\"/>\n",
       "<circle clip-path=\"url(#clip232)\" cx=\"2102.13\" cy=\"1383.41\" r=\"14\" fill=\"#009af9\" fill-rule=\"evenodd\" fill-opacity=\"1\" stroke=\"#000000\" stroke-opacity=\"1\" stroke-width=\"3.2\"/>\n",
       "<circle clip-path=\"url(#clip232)\" cx=\"2109.58\" cy=\"1383.56\" r=\"14\" fill=\"#009af9\" fill-rule=\"evenodd\" fill-opacity=\"1\" stroke=\"#000000\" stroke-opacity=\"1\" stroke-width=\"3.2\"/>\n",
       "<circle clip-path=\"url(#clip232)\" cx=\"2117.02\" cy=\"1383.61\" r=\"14\" fill=\"#009af9\" fill-rule=\"evenodd\" fill-opacity=\"1\" stroke=\"#000000\" stroke-opacity=\"1\" stroke-width=\"3.2\"/>\n",
       "<circle clip-path=\"url(#clip232)\" cx=\"2124.47\" cy=\"1383.65\" r=\"14\" fill=\"#009af9\" fill-rule=\"evenodd\" fill-opacity=\"1\" stroke=\"#000000\" stroke-opacity=\"1\" stroke-width=\"3.2\"/>\n",
       "<circle clip-path=\"url(#clip232)\" cx=\"2131.92\" cy=\"1383.84\" r=\"14\" fill=\"#009af9\" fill-rule=\"evenodd\" fill-opacity=\"1\" stroke=\"#000000\" stroke-opacity=\"1\" stroke-width=\"3.2\"/>\n",
       "<circle clip-path=\"url(#clip232)\" cx=\"2139.37\" cy=\"1383.91\" r=\"14\" fill=\"#009af9\" fill-rule=\"evenodd\" fill-opacity=\"1\" stroke=\"#000000\" stroke-opacity=\"1\" stroke-width=\"3.2\"/>\n",
       "<circle clip-path=\"url(#clip232)\" cx=\"2146.82\" cy=\"1384\" r=\"14\" fill=\"#009af9\" fill-rule=\"evenodd\" fill-opacity=\"1\" stroke=\"#000000\" stroke-opacity=\"1\" stroke-width=\"3.2\"/>\n",
       "<circle clip-path=\"url(#clip232)\" cx=\"2154.26\" cy=\"1384.09\" r=\"14\" fill=\"#009af9\" fill-rule=\"evenodd\" fill-opacity=\"1\" stroke=\"#000000\" stroke-opacity=\"1\" stroke-width=\"3.2\"/>\n",
       "<circle clip-path=\"url(#clip232)\" cx=\"2161.71\" cy=\"1384.24\" r=\"14\" fill=\"#009af9\" fill-rule=\"evenodd\" fill-opacity=\"1\" stroke=\"#000000\" stroke-opacity=\"1\" stroke-width=\"3.2\"/>\n",
       "<circle clip-path=\"url(#clip232)\" cx=\"2169.16\" cy=\"1384.3\" r=\"14\" fill=\"#009af9\" fill-rule=\"evenodd\" fill-opacity=\"1\" stroke=\"#000000\" stroke-opacity=\"1\" stroke-width=\"3.2\"/>\n",
       "<circle clip-path=\"url(#clip232)\" cx=\"2176.61\" cy=\"1384.38\" r=\"14\" fill=\"#009af9\" fill-rule=\"evenodd\" fill-opacity=\"1\" stroke=\"#000000\" stroke-opacity=\"1\" stroke-width=\"3.2\"/>\n",
       "<circle clip-path=\"url(#clip232)\" cx=\"2184.06\" cy=\"1384.46\" r=\"14\" fill=\"#009af9\" fill-rule=\"evenodd\" fill-opacity=\"1\" stroke=\"#000000\" stroke-opacity=\"1\" stroke-width=\"3.2\"/>\n",
       "<circle clip-path=\"url(#clip232)\" cx=\"2191.51\" cy=\"1384.59\" r=\"14\" fill=\"#009af9\" fill-rule=\"evenodd\" fill-opacity=\"1\" stroke=\"#000000\" stroke-opacity=\"1\" stroke-width=\"3.2\"/>\n",
       "<circle clip-path=\"url(#clip232)\" cx=\"2198.95\" cy=\"1384.7\" r=\"14\" fill=\"#009af9\" fill-rule=\"evenodd\" fill-opacity=\"1\" stroke=\"#000000\" stroke-opacity=\"1\" stroke-width=\"3.2\"/>\n",
       "<circle clip-path=\"url(#clip232)\" cx=\"2206.4\" cy=\"1384.74\" r=\"14\" fill=\"#009af9\" fill-rule=\"evenodd\" fill-opacity=\"1\" stroke=\"#000000\" stroke-opacity=\"1\" stroke-width=\"3.2\"/>\n",
       "<circle clip-path=\"url(#clip232)\" cx=\"2213.85\" cy=\"1384.91\" r=\"14\" fill=\"#009af9\" fill-rule=\"evenodd\" fill-opacity=\"1\" stroke=\"#000000\" stroke-opacity=\"1\" stroke-width=\"3.2\"/>\n",
       "<circle clip-path=\"url(#clip232)\" cx=\"2221.3\" cy=\"1384.97\" r=\"14\" fill=\"#009af9\" fill-rule=\"evenodd\" fill-opacity=\"1\" stroke=\"#000000\" stroke-opacity=\"1\" stroke-width=\"3.2\"/>\n",
       "<circle clip-path=\"url(#clip232)\" cx=\"2228.75\" cy=\"1384.99\" r=\"14\" fill=\"#009af9\" fill-rule=\"evenodd\" fill-opacity=\"1\" stroke=\"#000000\" stroke-opacity=\"1\" stroke-width=\"3.2\"/>\n",
       "<circle clip-path=\"url(#clip232)\" cx=\"2236.19\" cy=\"1385.19\" r=\"14\" fill=\"#009af9\" fill-rule=\"evenodd\" fill-opacity=\"1\" stroke=\"#000000\" stroke-opacity=\"1\" stroke-width=\"3.2\"/>\n",
       "<circle clip-path=\"url(#clip232)\" cx=\"2243.64\" cy=\"1385.24\" r=\"14\" fill=\"#009af9\" fill-rule=\"evenodd\" fill-opacity=\"1\" stroke=\"#000000\" stroke-opacity=\"1\" stroke-width=\"3.2\"/>\n",
       "<circle clip-path=\"url(#clip232)\" cx=\"2251.09\" cy=\"1385.34\" r=\"14\" fill=\"#009af9\" fill-rule=\"evenodd\" fill-opacity=\"1\" stroke=\"#000000\" stroke-opacity=\"1\" stroke-width=\"3.2\"/>\n",
       "<circle clip-path=\"url(#clip232)\" cx=\"2258.54\" cy=\"1385.58\" r=\"14\" fill=\"#009af9\" fill-rule=\"evenodd\" fill-opacity=\"1\" stroke=\"#000000\" stroke-opacity=\"1\" stroke-width=\"3.2\"/>\n",
       "<circle clip-path=\"url(#clip232)\" cx=\"2265.99\" cy=\"1385.77\" r=\"14\" fill=\"#009af9\" fill-rule=\"evenodd\" fill-opacity=\"1\" stroke=\"#000000\" stroke-opacity=\"1\" stroke-width=\"3.2\"/>\n",
       "<circle clip-path=\"url(#clip232)\" cx=\"2273.43\" cy=\"1385.84\" r=\"14\" fill=\"#009af9\" fill-rule=\"evenodd\" fill-opacity=\"1\" stroke=\"#000000\" stroke-opacity=\"1\" stroke-width=\"3.2\"/>\n",
       "<circle clip-path=\"url(#clip232)\" cx=\"2280.88\" cy=\"1385.98\" r=\"14\" fill=\"#009af9\" fill-rule=\"evenodd\" fill-opacity=\"1\" stroke=\"#000000\" stroke-opacity=\"1\" stroke-width=\"3.2\"/>\n",
       "<circle clip-path=\"url(#clip232)\" cx=\"2288.33\" cy=\"1386.27\" r=\"14\" fill=\"#009af9\" fill-rule=\"evenodd\" fill-opacity=\"1\" stroke=\"#000000\" stroke-opacity=\"1\" stroke-width=\"3.2\"/>\n",
       "<circle clip-path=\"url(#clip232)\" cx=\"2295.78\" cy=\"1386.4\" r=\"14\" fill=\"#009af9\" fill-rule=\"evenodd\" fill-opacity=\"1\" stroke=\"#000000\" stroke-opacity=\"1\" stroke-width=\"3.2\"/>\n",
       "</svg>\n"
      ]
     },
     "execution_count": 15,
     "metadata": {},
     "output_type": "execute_result"
    }
   ],
   "source": [
    "# Here is an example of a plot of the singular values\n",
    "# TODO: You should plot at least one other! This could be in a separate plot or in the same plot. \n",
    "train6 = train[:,:,7]\n",
    "_,s,_ = svd(train6)\n",
    "plot(s, marker = :circle, line = :dot, label = \"\", title = \"Singular Values of 6s\", ylabel = \"Singular Value\", xlabel = \"k\")"
   ]
  },
  {
   "cell_type": "code",
   "execution_count": 16,
   "metadata": {},
   "outputs": [],
   "source": [
    "# TODO \n",
    "# Visually determine the value of k associated with the \"gap\" in the singular value spectrum \n",
    "# and discuss how the performance of the classifier at that value of k compares to the optimal \n",
    "# performance \n",
    "\n",
    "\n",
    "# Hint: here is some code for finding the k associated with the optimal performance \n",
    "# total_correct_svd = [tr([sum(labels_svd[k,:,j] .== i-1) for i = 1:D, j = 1:D]) for k = 1:kmax]\n",
    "# optk = argmax(total_correct_svd)\n"
   ]
  },
  {
   "cell_type": "code",
   "execution_count": 17,
   "metadata": {},
   "outputs": [
    {
     "ename": "LoadError",
     "evalue": "UndefVarError: kmax not defined",
     "output_type": "error",
     "traceback": [
      "UndefVarError: kmax not defined",
      "",
      "Stacktrace:",
      " [1] top-level scope",
      "   @ In[17]:2",
      " [2] eval",
      "   @ ./boot.jl:360 [inlined]",
      " [3] include_string(mapexpr::typeof(REPL.softscope), mod::Module, code::String, filename::String)",
      "   @ Base ./loading.jl:1094"
     ]
    }
   ],
   "source": [
    "#Alternate math for finding k associated with optimal performance\n",
    "total_correct_svd = [sum([sum(labels_svd[k,i,:] .== 0:9) for i=1:ntest]) for k=1:kmax]\n",
    "optk = argmax(total_correct_svd)\n",
    "# how well the classification compares will depend on your choice for K"
   ]
  },
  {
   "cell_type": "markdown",
   "metadata": {},
   "source": [
    "## Optional: Extra visualizations\n",
    "Here, we've provided some code that looks at how well the classify_image function performs for different values of K. There is no code you have to fill in and you do not have to turn in these plots, but your optional task is to figure out what the code is doing and why it might be helpful! In other words, this is asking you to reverse-engineer our solution code. "
   ]
  },
  {
   "cell_type": "markdown",
   "metadata": {},
   "source": [
    "This sections is responding to the following prompt: \n",
    "\n",
    "Try nearest-mean-training-digit-based classification instead. Or, because it is simpler, you may re-use your same\n",
    "routine and simply project onto the one-dimensional subspace spanned by the mean of each set of training images.\n",
    "Show graphically the classification accuracy How much better is SVD-based classification?"
   ]
  },
  {
   "cell_type": "code",
   "execution_count": 18,
   "metadata": {},
   "outputs": [
    {
     "ename": "LoadError",
     "evalue": "UndefVarError: labels_svd not defined",
     "output_type": "error",
     "traceback": [
      "UndefVarError: labels_svd not defined",
      "",
      "Stacktrace:",
      " [1] (::var\"#7#8\")(::Tuple{Int64, Int64})",
      "   @ Main ./none:0",
      " [2] iterate",
      "   @ ./generator.jl:47 [inlined]",
      " [3] collect(itr::Base.Generator{Base.Iterators.ProductIterator{Tuple{UnitRange{Int64}, UnitRange{Int64}}}, var\"#7#8\"})",
      "   @ Base ./array.jl:678",
      " [4] top-level scope",
      "   @ In[18]:1",
      " [5] eval",
      "   @ ./boot.jl:360 [inlined]",
      " [6] include_string(mapexpr::typeof(REPL.softscope), mod::Module, code::String, filename::String)",
      "   @ Base ./loading.jl:1094"
     ]
    }
   ],
   "source": [
    "confmat_svd_r1 = [sum(labels_svd[1,:,j] .== i-1) for i = 1:D, j = 1:D] \n",
    "confmat_svd_opt = [sum(labels_svd[optk,:,j] .== i-1) for i = 1:D, j = 1:D]\n",
    "@show(tr(confmat_svd_r1), tr(confmat_svd_opt));\n",
    "plot(heatmap(0:9, 0:9, confmat_svd_r1, title = \"Rank 1\"),\n",
    "    heatmap(0:9, 0:9, confmat_svd_opt, title = \"Optimal k\"),\n",
    "    yflip = true, aspect_ratio = :equal, xticks = 0:9, yticks = 0:9,\n",
    "    xlabel = \"True Digit\", ylabel = \"Predicted Digit\")\n"
   ]
  },
  {
   "cell_type": "code",
   "execution_count": 19,
   "metadata": {},
   "outputs": [
    {
     "data": {
      "text/plain": [
       "\"confmat_svd_r1\""
      ]
     },
     "metadata": {},
     "output_type": "display_data"
    },
    {
     "ename": "LoadError",
     "evalue": "UndefVarError: confmat_svd_r1 not defined",
     "output_type": "error",
     "traceback": [
      "UndefVarError: confmat_svd_r1 not defined",
      "",
      "Stacktrace:",
      " [1] top-level scope",
      "   @ In[19]:1",
      " [2] eval",
      "   @ ./boot.jl:360 [inlined]",
      " [3] include_string(mapexpr::typeof(REPL.softscope), mod::Module, code::String, filename::String)",
      "   @ Base ./loading.jl:1094"
     ]
    }
   ],
   "source": [
    "display(\"confmat_svd_r1\"); display(confmat_svd_r1)\n",
    "display(\"confmat_svd_opt\"); display(confmat_svd_opt)"
   ]
  },
  {
   "cell_type": "code",
   "execution_count": null,
   "metadata": {},
   "outputs": [],
   "source": []
  }
 ],
 "metadata": {
  "kernelspec": {
   "display_name": "Julia 1.6.2",
   "language": "julia",
   "name": "julia-1.6"
  },
  "language_info": {
   "file_extension": ".jl",
   "mimetype": "application/julia",
   "name": "julia",
   "version": "1.6.2"
  }
 },
 "nbformat": 4,
 "nbformat_minor": 2
}
