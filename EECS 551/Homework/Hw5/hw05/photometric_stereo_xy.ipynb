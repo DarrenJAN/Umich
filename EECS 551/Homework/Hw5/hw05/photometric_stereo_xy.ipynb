{
 "cells": [
  {
   "cell_type": "markdown",
   "metadata": {},
   "source": [
    "## Photometric stereo  \n",
    "EECS 551, F21  \n",
    "2021-09-26 Julia 1.6.3"
   ]
  },
  {
   "cell_type": "markdown",
   "metadata": {},
   "source": [
    "This notebook derives and implements an algorithm from computer vision called *photometric stereo* that reconstructs a 3D object from 2D images of it under different lighting conditions."
   ]
  },
  {
   "cell_type": "code",
   "execution_count": null,
   "metadata": {},
   "outputs": [],
   "source": [
    "using IterativeSolvers: lsqr # add this package if you do not have it yet\n",
    "using Plots: surface\n",
    "using MIRTjim: jim"
   ]
  },
  {
   "cell_type": "markdown",
   "metadata": {},
   "source": [
    "Previous homework solution files used below\n",
    "(these must be in your directory for \"include\" here to work)."
   ]
  },
  {
   "cell_type": "code",
   "execution_count": null,
   "metadata": {},
   "outputs": [],
   "source": [
    "dir = ENV[\"hw551test\"] # replace with \"./\" or your path\n",
    "include(dir * \"compute_normals.jl\")\n",
    "include(dir * \"first_diffs_2d_matrix.jl\")"
   ]
  },
  {
   "cell_type": "markdown",
   "metadata": {},
   "source": [
    "## Images to normals"
   ]
  },
  {
   "cell_type": "markdown",
   "metadata": {},
   "source": [
    "Suppose we are in a dark room, and we have an object, a camera fixed above it,\n",
    "and a moveable light source.\n",
    "We model the object as a surface $f$ in $\\mathbb{R}^3$,\n",
    "and, without loss of generality,\n",
    "we choose a coordinate system so that our camera,\n",
    "which takes $m \\times n$ photos,\n",
    "captures the point $f(x,y)$ on the object's surface into pixel $I(x,y)$.\n",
    "\n",
    "Let's load some example images of this kind and visualize them."
   ]
  },
  {
   "cell_type": "code",
   "execution_count": null,
   "metadata": {},
   "outputs": [],
   "source": [
    "# copy files from web to local directory, if not here already\n",
    "files = (\"cat_xy_data.float32\", \"cat_xy_L.float32\", \"cat_xy_mask.uint8\")\n",
    "url = \"http://web.eecs.umich.edu/~fessler/course/551/data/cat/\"\n",
    "for file in files\n",
    "    if !isfile(file)\n",
    "        download(url * file, file)\n",
    "    end\n",
    "end"
   ]
  },
  {
   "cell_type": "code",
   "execution_count": null,
   "metadata": {},
   "outputs": [],
   "source": [
    "# load data from files\n",
    "dim = (430, 550, 12) # data size for 12 light positions\n",
    "data = Array{Float32}(undef, dim)\n",
    "read!(files[1], data)\n",
    "L = Array{Float32}(undef, (3, dim[3]))\n",
    "read!(files[2], L)\n",
    "M = Array{Bool}(undef, dim[1:2])\n",
    "read!(files[3], M)\n",
    "@show m, n, d = dim"
   ]
  },
  {
   "cell_type": "code",
   "execution_count": null,
   "metadata": {
    "lines_to_next_cell": 2
   },
   "outputs": [],
   "source": [
    "# show mask and p ≤ d of the input images\n",
    "p = 2\n",
    "# rowify = (I3) -> reshape(permutedims(I3, [1 3 2]), :, size(I3,2))\n",
    "jim(cat(M, data[:,:,1:p], dims=3), \"mask and first $p input images\")"
   ]
  },
  {
   "cell_type": "markdown",
   "metadata": {},
   "source": [
    "Intuitively, the pixel intensity $I(x,y)$ in the above images\n",
    "is determined by the how much light reflects off the surface $f(x,y)$.\n",
    "Indeed, assuming our object is diffuse (also called matte or Lambertian),\n",
    "one can derive the relationship\n",
    "\n",
    "$$\n",
    "I(x,y) = \\alpha(x,y) (\\mathbf{\\ell}^T \\mathbf{n}(x,y))\n",
    "$$\n",
    "\n",
    "where $\\mathbf{\\ell} \\in \\mathbb{R}^3$ is a unit vector\n",
    "describing the orientation of the incident light rays on the surface,\n",
    "$\\mathbf{n}(x,y) \\in \\mathbb{R}^3$ is the unit-norm surface normal vector\n",
    "of $f$ at $(x,y)$,\n",
    "and $\\alpha(x,y) > 0$ is a scaling constant called the surface albedo.\n",
    "\n",
    "Suppose that we have $d$ images $I_1,\\ldots,I_d$ of our object,\n",
    "each with a different lighting direction $\\ell_1,\\ldots,\\ell_d$.\n",
    "We can stack the data into an over-determined system of the form\n",
    "\n",
    "$$\n",
    "\\underbrace{\\begin{bmatrix} I_1(x,y) \\\\ \\vdots \\\\ I_d(x,y) \\end{bmatrix}}_{=: \\, g_{xy} \\in \\mathbb{R}^d} = \\underbrace{\\begin{bmatrix} \\ell_1 & \\ldots & \\ell_d \\end{bmatrix}^T}_{=:L^T} \\underbrace{\\left(\\alpha(x,y) n(x,y)\\right)}_{=: \\, \\rho(x,y) \\in \\mathbb{R}^3}.\n",
    "$$\n",
    "\n",
    "We can solve this equation for $n(x,y)$ when $d = 3$, but, in practice,\n",
    "when there is noise and our assumptions do not hold exactly,\n",
    "a more robust approach is to take $d > 3$ images\n",
    "and approximate $n(x,y)$ by solving the least squares problem \n",
    "\n",
    "$$\n",
    "\\hat{\\mathbf{\\rho}}(x,y) = \\arg \\min_{\\mathbf{r} \\in \\mathbb{R}^3} \\| \\mathbf{L}^T \\mathbf{r} - \\mathbf{g}_{xy} \\|_2^2\n",
    "$$\n",
    "\n",
    "and taking\n",
    "\n",
    "$$\n",
    "\\hat{\\mathbf{n}}(x,y) = \\frac{\\hat{\\mathbf{\\rho}}(x,y)}{\\| \\hat{\\mathbf{\\rho}}(x,y) \\|_2}.\n",
    "$$\n",
    "\n",
    "Now run your `compute_normals` code to do that!"
   ]
  },
  {
   "cell_type": "code",
   "execution_count": null,
   "metadata": {},
   "outputs": [],
   "source": [
    "# Compute unit-normals from images\n",
    "N = compute_normals(data, L)\n",
    "@show size(N)"
   ]
  },
  {
   "cell_type": "code",
   "execution_count": null,
   "metadata": {
    "lines_to_next_cell": 2
   },
   "outputs": [],
   "source": [
    "# display the 3 components of the normal vectors as images\n",
    "jim(N, title = \"3 components of unit-normals\")"
   ]
  },
  {
   "cell_type": "markdown",
   "metadata": {},
   "source": [
    "## Normals to gradients"
   ]
  },
  {
   "cell_type": "markdown",
   "metadata": {},
   "source": [
    "Now that we have the normal vectors of our surface,\n",
    "we reconstruct the surface itself!\n",
    "\n",
    "Recall from vector calculus that we can express the surface normal vector as\n",
    "\n",
    "$$\n",
    "\\hat{\\mathbf{n}}(x,y) = \\frac{\\begin{bmatrix} -\\displaystyle\\frac{\\partial f(x,y)}{\\partial x}, & -\\displaystyle\\frac{\\partial f(x,y)}{\\partial y}, & 1 \\end{bmatrix}^T}{\\sqrt{1 + \\displaystyle\\frac{\\partial f(x,y)}{\\partial x}^2 + \\displaystyle\\frac{\\partial f(x,y)}{\\partial y}^2}},\n",
    "$$\n",
    "\n",
    "where $~\\partial f(x,y) / \\partial x~$ and $~\\partial f(x,y) / \\partial y~$ are the partial derivatives of $f$ with respect to $x$ and $y$. From the above equation, we can compute the partial derivatives as follows\n",
    "\n",
    "$$\n",
    "\\frac{\\partial f(x,y)}{\\partial x} = -\\frac{n_1(x,y)}{n_3(x,y)}\n",
    "$$\n",
    "\n",
    "$$\n",
    "\\frac{\\partial f(x,y)}{\\partial y} = -\\frac{n_2(x,y)}{n_3(x,y)},\n",
    "$$\n",
    "\n",
    "where\n",
    "\n",
    "$$\n",
    "\\hat{\\mathbf{n}}(x,y) = \\begin{bmatrix} n_1(x,y), & n_2(x,y), & n_3(x,y) \\end{bmatrix}^T.\n",
    "$$\n",
    "\n",
    "Now compute approximate the $x$ and $y$ gradients of our surface\n",
    "using the above strategy."
   ]
  },
  {
   "cell_type": "code",
   "execution_count": null,
   "metadata": {},
   "outputs": [],
   "source": [
    "# Compute gradients from normals\n",
    "DFDX = -N[:, :, 1] ./ N[:, :, 3]\n",
    "DFDY = -N[:, :, 2] ./ N[:, :, 3]\n",
    "DFDX[.!isfinite.(DFDX) .| .!M] .= 0 # Clean data and apply mask\n",
    "DFDY[.!isfinite.(DFDY) .| .!M] .= 0 # Clean data and apply mask\n",
    "@show size(DFDX)\n",
    "@show size(DFDY)"
   ]
  },
  {
   "cell_type": "code",
   "execution_count": null,
   "metadata": {
    "lines_to_next_cell": 2
   },
   "outputs": [],
   "source": [
    "# display the gradients\n",
    "jim(cat(DFDX, DFDY, dims=3), # feline pun intended?\n",
    "    color=:redsblues,\n",
    "    title = \"DFDX and DFDY\")"
   ]
  },
  {
   "cell_type": "markdown",
   "metadata": {},
   "source": [
    "## Gradients to surface"
   ]
  },
  {
   "cell_type": "markdown",
   "metadata": {},
   "source": [
    "To estimate the surface from its gradients, use the finite differences approximations:\n",
    "\n",
    "$$\n",
    "\\begin{array}{rcl}\n",
    "\\displaystyle\\frac{\\partial f(x,y)}{\\partial x} &\\approx& \\displaystyle\\frac{f(x + 1,y) - f(x,y)}{(x + 1) - x} \\\\\n",
    "&=& f(x + 1,y) - f(x,y)\n",
    "\\end{array}\n",
    "$$\n",
    "\n",
    "and\n",
    "\n",
    "$$\n",
    "\\begin{array}{rcl}\n",
    "\\displaystyle\\frac{\\partial f(x,y)}{\\partial y} &\\approx& \\displaystyle\\frac{f(x,y + 1) - f(x,y)}{(y + 1) - y} \\\\\n",
    "&=& f(x,y + 1) - f(x,y),\n",
    "\\end{array}\n",
    "$$\n",
    "\n",
    "These relationships give us an overdetermined linear system of $2mn$ equations that we can solve to estimate our surface $f(x,y)$ given its partial derivatives on the grid\n",
    "$x = 1,\\ldots,m$ and\n",
    "$y = 1,\\ldots,n$.\n",
    "\n",
    "To simplify notation,\n",
    "define the $m \\times n$ matrices `FXY`, `DFDX`, and `DFDY` such that\n",
    "\n",
    "$$\n",
    "\\begin{array}{rcl}\n",
    "\\texttt{FXY(i,j)} &=& f(i,j) \\\\\n",
    "\\texttt{DFDX(i,j)} &=& \\frac{\\partial f(i,j)}{\\partial x} \\\\\n",
    "\\texttt{DFDY(i,j)} &=& \\frac{\\partial f(i,j)}{\\partial y}\n",
    "\\end{array}\n",
    "$$\n",
    "\n",
    "Then, if we let $\\mathbf{A}$ denote the 2D first differences matrix returned by your\n",
    "`first_diffs_2d_matrix`  function, then we have the relationship\n",
    "\n",
    "$$ \\texttt{b} \\approx \\mathbf{A} ~ \\texttt{fxy} $$\n",
    "\n",
    "where, in Julia:\n",
    "\n",
    "```julia\n",
    "b = [vec(DFDX); vec(DFDY)]\n",
    "fxy = vec(FXY)\n",
    "```\n",
    "\n",
    "Now construct this system!"
   ]
  },
  {
   "cell_type": "code",
   "execution_count": null,
   "metadata": {},
   "outputs": [],
   "source": [
    "# Generate least squares problem\n",
    "A = first_diffs_2d_matrix(m, n)\n",
    "b = [vec(DFDX); vec(DFDY)] # stacking up the differences into a vector for LS\n",
    "\n",
    "@show size(A)\n",
    "@show size(b);"
   ]
  },
  {
   "cell_type": "markdown",
   "metadata": {},
   "source": [
    "Now that we have `A` and `b`,\n",
    "what remains is to solve the least squares problem\n",
    "\n",
    "$$\n",
    "\\texttt{fxy} = \\arg\\min_{\\mathbf{f} \\in \\mathbb{R}^{mn}}\n",
    "\\| \\mathbf{A} \\mathbf{f} - \\mathbf{b} \\|^2\n",
    "$$\n",
    "\n",
    "for our (vectorized) surface, `fxy`.\n",
    "\n",
    "Because `A` is a *gigantic* (sparse) matrix with over **100 billion** entries,\n",
    "computing $\\mathbf{A}^+ \\mathbf{b}$ directly is impossible!\n",
    "\n",
    "Instead, we use the iterative algorithm `lsqr`\n",
    "(from `IterativeSolvers` package) to do the job."
   ]
  },
  {
   "cell_type": "code",
   "execution_count": null,
   "metadata": {},
   "outputs": [],
   "source": [
    "# Solve least squares problem (patience needed)\n",
    "if !@isdefined(fxy)\n",
    "    fxy = lsqr(A, b, maxiter=1000)\n",
    "end\n",
    "\n",
    "@show size(fxy);"
   ]
  },
  {
   "cell_type": "markdown",
   "metadata": {},
   "source": [
    "All that remains is to reshape back into a surface and view the results."
   ]
  },
  {
   "cell_type": "code",
   "execution_count": null,
   "metadata": {},
   "outputs": [],
   "source": [
    "# Reshape into surface\n",
    "FXY = reshape(fxy, m, n)\n",
    "\n",
    "# Format surface\n",
    "FXY .-= minimum(FXY[M]) # Anchor to z axis\n",
    "FXY .*= M               # Zero data outside of mask\n",
    "@show size(FXY);"
   ]
  },
  {
   "cell_type": "code",
   "execution_count": null,
   "metadata": {},
   "outputs": [],
   "source": [
    "# Plot surface\n",
    "#=\n",
    "If you uncomment the following line you will be able to make a somewhat\n",
    "prettier surface than the default `gr()` backend to the `Plots` package,\n",
    "but you will also have to install the `PyPlot` package to use it and it\n",
    "may take longer to render.  So this is definitely not required.\n",
    "=#\n",
    "# pyplot() # optional to uncomment this\n",
    "surface(FXY, title = \"Reconstructed surface (lsqr)\")"
   ]
  },
  {
   "cell_type": "code",
   "execution_count": null,
   "metadata": {},
   "outputs": [],
   "source": [
    "# also display surface as an \"image\"\n",
    "jim(FXY, color=:redsblues,\n",
    "    title = \"depth map f(x,y) by $(ENV[\"USER\"])\")"
   ]
  }
 ],
 "metadata": {
  "jupytext": {
   "encoding": "# -*- coding: utf-8 -*-"
  },
  "kernelspec": {
   "display_name": "Julia 1.6.3",
   "language": "julia",
   "name": "julia-1.6"
  }
 },
 "nbformat": 4,
 "nbformat_minor": 4
}
