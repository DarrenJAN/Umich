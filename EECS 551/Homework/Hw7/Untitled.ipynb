{
 "cells": [
  {
   "cell_type": "code",
   "execution_count": 1,
   "metadata": {},
   "outputs": [
    {
     "ename": "LoadError",
     "evalue": "syntax: incomplete: premature end of input",
     "output_type": "error",
     "traceback": [
      "syntax: incomplete: premature end of input",
      "",
      "Stacktrace:",
      " [1] top-level scope",
      "   @ In[1]:1",
      " [2] eval",
      "   @ ./boot.jl:360 [inlined]",
      " [3] include_string(mapexpr::typeof(REPL.softscope), mod::Module, code::String, filename::String)",
      "   @ Base ./loading.jl:1116"
     ]
    }
   ],
   "source": [
    "\"\"\"\n",
    "`x = nnlsgd(A, b ; mu=0, x0=zeros(size(A,2)), nIters::Int=200)`\n",
    "Performs projected gradient descent to solve the least squares problem:\n",
    "``\\\\argmin_{x \\\\geq 0} 0.5 \\\\| b − A x \\\\|_2`` with nonnegativity constraint.\n",
    "In:\n",
    "− `A` `m x n` matrix\n",
    "− `b` vector of length `m`\n",
    "Option:\n",
    "− `mu` step size to use, and must satisfy ``0 < mu < 2 / \\\\sigma_1(A)^2``\n",
    "to guarantee convergence,\n",
    "where ``\\\\sigma_1(A)`` is the first (largest) singular value.\n",
    "Ch.5 will explain a default value for `mu`\n",
    "− `x0` is the initial starting vector (of length `n`) to use.\n",
    "Its default value is all zeros for simplicity.\n",
    "− `nIters` is the number of iterations to perform (default 200)\n",
    "Out:\n",
    "`x` vector of length `n` containing the approximate LS solution\n",
    "\"\"\"\n",
    "function nnlsgd(A, b ; mu::Real=0, x0=zeros(size(A,2)), nIters::Int=200)"
   ]
  },
  {
   "cell_type": "code",
   "execution_count": null,
   "metadata": {},
   "outputs": [],
   "source": []
  }
 ],
 "metadata": {
  "kernelspec": {
   "display_name": "Julia 1.6.2",
   "language": "julia",
   "name": "julia-1.6"
  },
  "language_info": {
   "file_extension": ".jl",
   "mimetype": "application/julia",
   "name": "julia",
   "version": "1.6.2"
  }
 },
 "nbformat": 4,
 "nbformat_minor": 4
}
