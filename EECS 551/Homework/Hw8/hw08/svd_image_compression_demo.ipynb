{
 "cells": [
  {
   "cell_type": "markdown",
   "id": "56b6ea23",
   "metadata": {},
   "source": [
    "SVD Image Compression Demo for HW in EECS 551  \n",
    "??? Original version by ???  \n",
    "2021-10-28 Julia 1.6.3 updates by Jeff Fessler (eliminate WebIO and Interact)"
   ]
  },
  {
   "cell_type": "code",
   "execution_count": null,
   "id": "f796c5cf",
   "metadata": {},
   "outputs": [],
   "source": [
    "# packages used; you may need to add some of these\n",
    "using LinearAlgebra: svd, rank, Diagonal\n",
    "using FileIO\n",
    "using ColorTypes\n",
    "using Images # if you have issues with this package, then comment it out\n",
    "#using Interact\n",
    "using Plots; default(markerstrokecolor=:auto)\n",
    "println(\"Ready!\")"
   ]
  },
  {
   "cell_type": "code",
   "execution_count": null,
   "id": "6747058a",
   "metadata": {},
   "outputs": [],
   "source": [
    "# Load and display an image\n",
    "image_color = load(\"mit.jpg\") # Replace with your image -- put in the same directory as this notebook"
   ]
  },
  {
   "cell_type": "code",
   "execution_count": null,
   "id": "bad5f36f",
   "metadata": {},
   "outputs": [],
   "source": [
    "# Convert to gray scale for simplicity\n",
    "@show size(image_color)\n",
    "image_gray = Gray.(image_color)"
   ]
  },
  {
   "cell_type": "code",
   "execution_count": null,
   "id": "2a3380c1",
   "metadata": {},
   "outputs": [],
   "source": [
    "# Convert to matrix of values to perform SVD\n",
    "image_data = Float32.(image_gray)\n",
    "typeof(image_gray)"
   ]
  },
  {
   "cell_type": "code",
   "execution_count": null,
   "id": "347a9870",
   "metadata": {},
   "outputs": [],
   "source": [
    "# Compute SVD and rank of image matrix\n",
    "U, σ, V = svd(image_data)\n",
    "r = rank(Diagonal(σ)) # efficient way to find rank given singular values!\n",
    "println(\"Rank of image matrix = $r out of $(length(σ))\")"
   ]
  },
  {
   "cell_type": "markdown",
   "id": "2cbd559e",
   "metadata": {},
   "source": [
    "Let $A$ be an $M \\times N$ matrix having SVD\n",
    "\n",
    "$$A = \\sum_{i=1}^r \\sigma_i u_i v_i',$$\n",
    "\n",
    "where $r$ is the rank of $A$. Consider the optimization problem:\n",
    "\n",
    "$$ \\hat{A}_K = \\arg \\min_{X} \\| A - X \\|_F, \\textrm{ subject to } \\mathrm{rank}(X) ≤ K.$$\n",
    "\n",
    "Via the famous Eckart-Young theorem, we have that\n",
    "\n",
    "$$ \\hat{A}_K = \\sum_{i=1}^{\\min(K,r)} \\sigma_i u_i v_i'.$$\n",
    "\n",
    "Mirsky showed that if we replace the Frobenius norm\n",
    "in the above optimization problem by *any* unitarily invariant norm\n",
    "(e.g., the operator norm, or the nuclear norm),\n",
    "then the solution remains the same!\n",
    "\n",
    "This notebook explores low-rank approximations\n",
    "of an $M \\times N$ sized (grayscale) image\n",
    "viewed as an $M \\times N$ matrix."
   ]
  },
  {
   "cell_type": "code",
   "execution_count": null,
   "id": "99e5f51f",
   "metadata": {},
   "outputs": [],
   "source": [
    "# function to compute approximation error for a k-term approximation\n",
    "# to a matrix with singular values in the vector σ\n",
    "function svd_rank_k_approx_error(σ, k)\n",
    "    return sum(σ[(k+1):end].^2) / sum(σ.^2)\n",
    "end"
   ]
  },
  {
   "cell_type": "code",
   "execution_count": null,
   "id": "c9fef89c",
   "metadata": {
    "lines_to_next_cell": 2
   },
   "outputs": [],
   "source": [
    "# Compute relative errors and plot them as a function of k\n",
    "relative_error_fun = k -> svd_rank_k_approx_error(σ, k)\n",
    "relative_error = relative_error_fun.(0:r)\n",
    "\n",
    "# Plot errors\n",
    "scatter(0:r, 100*relative_error, label = \"\",\n",
    "    ylabel = \"Relative error (percentage)\",\n",
    "    xlabel = \"Rank of approximation\",\n",
    "\tylim = [0,12], # error at 0 is 100%\n",
    ")"
   ]
  },
  {
   "cell_type": "code",
   "execution_count": null,
   "id": "6559b3da",
   "metadata": {
    "lines_to_next_cell": 2
   },
   "outputs": [],
   "source": [
    "# Examine approximation quality vs k.\n",
    "scatter(0:r, 100 * (1 .- relative_error),\n",
    "    label = \"(1 - relative error) x 100%\",\n",
    "    ylabel = \"Approximation quality (%)\",\n",
    "    xlabel = \"Rank of approximation\",\n",
    "    xlim = (0, r + 0.5), # adjust if needed\n",
    "    ylim = (0, 100),\n",
    ")"
   ]
  },
  {
   "cell_type": "code",
   "execution_count": null,
   "id": "f18dc210",
   "metadata": {},
   "outputs": [],
   "source": [
    "# See how values of k affect the visual quality of the approximation.\n",
    "klist = [1, 10, 100, 800] # experiment here\n",
    "ps = Array{Any}(undef, length(klist))\n",
    "#@manipulate for k = klist # issues with WebIO\n",
    "for (i, k) in enumerate(klist)\n",
    "    image_k_matrix = U[:,1:k] * Diagonal(σ[1:k]) * V[:,1:k]'\n",
    "    ps[i] = heatmap(image_k_matrix, color = :grays,\n",
    "        yflip = :true, ticks = [],\n",
    "        title = \"K=$k, error = $(round(100*relative_error[k+1],digits=2)) %.\"\n",
    "    )\n",
    "end\n",
    "plot(ps...)"
   ]
  },
  {
   "cell_type": "code",
   "execution_count": null,
   "id": "506715ec",
   "metadata": {},
   "outputs": [],
   "source": [
    "# plot singular values of the image\n",
    "scatter(σ, label = :none,\n",
    "    title = \"Singular values of the image matrix\",\n",
    "    xlabel = \"Index\",\n",
    "    ylabel = \"Singular value\",\n",
    ")"
   ]
  },
  {
   "cell_type": "code",
   "execution_count": null,
   "id": "ab2db87a",
   "metadata": {},
   "outputs": [],
   "source": [
    "# Zoom in to see largest 50 singular values\n",
    "ntop = 50\n",
    "scatter(σ, label = :none,\n",
    "    title = \"Singular values of the image matrix\",\n",
    "    xlabel = \"Index\",\n",
    "    ylabel = \"Singular value\",\n",
    "    xlim = (0, ntop + 0.5),\n",
    ")"
   ]
  },
  {
   "cell_type": "markdown",
   "id": "293cb11d",
   "metadata": {},
   "source": [
    "Probably your image matrix seems to have the spectral signature\n",
    "of a low-rank-signal-plus-noise type of matrix.\n",
    "In this problem we do \"better\" in terms of approximating the image\n",
    "as the rank parameter increases.\n",
    "This makes it an approximation type problem.\n",
    "\n",
    "If we were to add noise to this image\n",
    "and then measure error relative to the noise-free image,\n",
    "then we would see that\n",
    "if the noise is large enough\n",
    "then the error is best\n",
    "when the approximation rank is less than the rank of signal-plus-noise matrix;\n",
    "that would be a denoising problem\n",
    "and insights from random matrix theory are invaluable there.\n",
    "Determining whether one is operating in a denoising setup\n",
    "versus an approximation setup is not always straightforward.\n",
    "We say more to say about this later."
   ]
  },
  {
   "cell_type": "code",
   "execution_count": null,
   "id": "178b50a8",
   "metadata": {
    "lines_to_next_cell": 2
   },
   "outputs": [],
   "source": [
    "# ## Optional below here\n",
    "#\n",
    "# Extract individual RGB channels\n",
    "using Images: channelview, rawview\n",
    "image_mtx = rawview(channelview(image_color)).data\n",
    "red_image = Float32.(image_mtx[1,:,:])\n",
    "green_image = Float32.(image_mtx[2,:,:])\n",
    "blue_image = Float32.(image_mtx[3,:,:])"
   ]
  },
  {
   "cell_type": "markdown",
   "id": "5dd61356",
   "metadata": {},
   "source": [
    "#### Optional question"
   ]
  },
  {
   "cell_type": "markdown",
   "id": "2864e295",
   "metadata": {},
   "source": [
    "What if we perform low-rank approximations of R, G and B matrices separately\n",
    "and then combine them?\n",
    "Is that approach \"better\" in any sense?"
   ]
  },
  {
   "cell_type": "markdown",
   "id": "9b9ada57",
   "metadata": {},
   "source": [
    "#### Optional question"
   ]
  },
  {
   "cell_type": "markdown",
   "id": "5c0301b1",
   "metadata": {},
   "source": [
    "What if we did the SVD on \"patches\" of the image\n",
    "instead of the entire image?\n",
    "A [p,q] patch of an image is a p x q rectangular subimage taken from the image.\n",
    "In the patch-based approach one can imagine slicing the image up\n",
    "into lots of (non-overlapping, for starters) patches,\n",
    "computing an SVD of the individual patches,\n",
    "and stitching them back together.\n",
    "How does that work?\n",
    "Try it and let us know!\n",
    "You'll have to implement (or find) a Julia analog of\n",
    "https://www.mathworks.com/help/images/ref/im2col.html"
   ]
  }
 ],
 "metadata": {
  "jupytext": {
   "encoding": "# -*- coding: utf-8 -*-"
  },
  "kernelspec": {
   "display_name": "Julia 1.6.3",
   "language": "julia",
   "name": "julia-1.6"
  }
 },
 "nbformat": 4,
 "nbformat_minor": 5
}
