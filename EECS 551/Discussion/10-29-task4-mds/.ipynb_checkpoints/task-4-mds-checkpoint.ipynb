{
 "cells": [
  {
   "cell_type": "markdown",
   "metadata": {},
   "source": [
    "# Multi-dimensional scaling (MDS)\n",
    "\n",
    "2019-10-29 Caroline Crockett  \n",
    "2020-10-28 added a real example"
   ]
  },
  {
   "cell_type": "markdown",
   "metadata": {},
   "source": [
    "## Group Formation and General Instructions\n",
    "You may work individually, but we recommend that you work in pairs or groups of three. Find someone to work with and introduce yourself to them! One of you should copy the Google Document template and share the document with edit permissions with your group member(s): \n",
    "https://docs.google.com/document/d/19AHDD0C3hMsimWs4E1mY462h_LdGz6C3LrZ1v3bZfCk/template/preview (you must use your umich email address to access this google document). \n",
    "\n",
    "\n",
    "The Google Document will include your answers to a couple of questions that will be asked. For each question, pick someone to type up your **group's** response. After completing the response, the group member should sign their name by typing it below the answer. For the next question, have a different group member respond and sign their name in the same way. Keep rotating until all the questions have been answered.\n",
    "\n",
    "The goal of this group exercise is to formulate your response as a group to the problem. When finished, **one** student in the group must submit a PDF of the google document to gradescope, entering the uniquenames of **all** students in the group. One group submits exactly one PDF, but we expect the PDF from different groups to differ. The deadline for submitting to gradescope will be announced on Canvas. Only submit the filled-in google document; do not submit a download of this Jupyter notebook. \n",
    "\n",
    "### Overview\n",
    "This notebook helps to design and test the dist2locs function, which is an implementation of the multidimensional scaling problem. "
   ]
  },
  {
   "cell_type": "code",
   "execution_count": 1,
   "metadata": {},
   "outputs": [
    {
     "name": "stderr",
     "output_type": "stream",
     "text": [
      "\u001b[32m\u001b[1m    Updating\u001b[22m\u001b[39m registry at `~/.julia/registries/General`\n",
      "\u001b[32m\u001b[1m   Resolving\u001b[22m\u001b[39m package versions...\n",
      "\u001b[32m\u001b[1m   Installed\u001b[22m\u001b[39m JLD2 ─ v0.4.15\n",
      "\u001b[32m\u001b[1m    Updating\u001b[22m\u001b[39m `~/.julia/environments/v1.6/Project.toml`\n",
      " \u001b[90m [033835bb] \u001b[39m\u001b[92m+ JLD2 v0.4.15\u001b[39m\n",
      "\u001b[32m\u001b[1m    Updating\u001b[22m\u001b[39m `~/.julia/environments/v1.6/Manifest.toml`\n",
      " \u001b[90m [033835bb] \u001b[39m\u001b[92m+ JLD2 v0.4.15\u001b[39m\n",
      "\u001b[32m\u001b[1mPrecompiling\u001b[22m\u001b[39m project...\n",
      "\u001b[32m  ✓ \u001b[39mJLD2\n",
      "  1 dependency successfully precompiled in 19 seconds (240 already precompiled)\n"
     ]
    }
   ],
   "source": [
    "using Pkg; Pkg.add(\"JLD2\")"
   ]
  },
  {
   "cell_type": "code",
   "execution_count": 97,
   "metadata": {},
   "outputs": [],
   "source": [
    "# packages needed \n",
    "using LinearAlgebra\n",
    "using Random: seed!\n",
    "using Plots\n",
    "using Statistics\n",
    "using JLD2"
   ]
  },
  {
   "cell_type": "markdown",
   "metadata": {},
   "source": [
    "### Part 0: Create some test data \n",
    "\n",
    "Here, we form location coordinates, $c_j$, for $J$ sensors in the $d$ dimentional space. Based on these coordinates, we can calculate the distance matrix, $D$, which will be our input to the dist2locs function. Our goal will be to recover the $c_i$ variables, to within translation and rotation, given only the $D$ matrix and the dimension of the space, $d$. \n",
    "\n",
    "When solving MDS, we do not have the coordinates! However, by first forming the coordinates, we can test the MDS function. "
   ]
  },
  {
   "cell_type": "code",
   "execution_count": 3,
   "metadata": {},
   "outputs": [
    {
     "data": {
      "text/plain": [
       "#1 (generic function with 1 method)"
      ]
     },
     "execution_count": 3,
     "metadata": {},
     "output_type": "execute_result"
    }
   ],
   "source": [
    "myplotter = (coords) -> scatter(coords[1,:],coords[2,:], xlabel=\"x\", ylabel=\"y\", label=\"\", size=(300,300))"
   ]
  },
  {
   "cell_type": "code",
   "execution_count": 250,
   "metadata": {},
   "outputs": [
    {
     "name": "stdout",
     "output_type": "stream",
     "text": [
      "C = [-1 -2 7 6 -3 -8; 6 4 -9 -10 10 8]\n"
     ]
    },
    {
     "data": {
      "image/svg+xml": [
       "<?xml version=\"1.0\" encoding=\"utf-8\"?>\n",
       "<svg xmlns=\"http://www.w3.org/2000/svg\" xmlns:xlink=\"http://www.w3.org/1999/xlink\" width=\"300\" height=\"300\" viewBox=\"0 0 1200 1200\">\n",
       "<defs>\n",
       "  <clipPath id=\"clip440\">\n",
       "    <rect x=\"0\" y=\"0\" width=\"1200\" height=\"1200\"/>\n",
       "  </clipPath>\n",
       "</defs>\n",
       "<path clip-path=\"url(#clip440)\" d=\"\n",
       "M0 1200 L1200 1200 L1200 0 L0 0  Z\n",
       "  \" fill=\"#ffffff\" fill-rule=\"evenodd\" fill-opacity=\"1\"/>\n",
       "<defs>\n",
       "  <clipPath id=\"clip441\">\n",
       "    <rect x=\"240\" y=\"120\" width=\"841\" height=\"841\"/>\n",
       "  </clipPath>\n",
       "</defs>\n",
       "<path clip-path=\"url(#clip440)\" d=\"\n",
       "M253.895 986.14 L1152.76 986.14 L1152.76 153.712 L253.895 153.712  Z\n",
       "  \" fill=\"#ffffff\" fill-rule=\"evenodd\" fill-opacity=\"1\"/>\n",
       "<defs>\n",
       "  <clipPath id=\"clip442\">\n",
       "    <rect x=\"253\" y=\"153\" width=\"900\" height=\"833\"/>\n",
       "  </clipPath>\n",
       "</defs>\n",
       "<polyline clip-path=\"url(#clip442)\" style=\"stroke:#000000; stroke-linecap:butt; stroke-linejoin:round; stroke-width:2; stroke-opacity:0.1; fill:none\" points=\"\n",
       "  392.398,986.14 392.398,153.712 \n",
       "  \"/>\n",
       "<polyline clip-path=\"url(#clip442)\" style=\"stroke:#000000; stroke-linecap:butt; stroke-linejoin:round; stroke-width:2; stroke-opacity:0.1; fill:none\" points=\"\n",
       "  561.995,986.14 561.995,153.712 \n",
       "  \"/>\n",
       "<polyline clip-path=\"url(#clip442)\" style=\"stroke:#000000; stroke-linecap:butt; stroke-linejoin:round; stroke-width:2; stroke-opacity:0.1; fill:none\" points=\"\n",
       "  731.591,986.14 731.591,153.712 \n",
       "  \"/>\n",
       "<polyline clip-path=\"url(#clip442)\" style=\"stroke:#000000; stroke-linecap:butt; stroke-linejoin:round; stroke-width:2; stroke-opacity:0.1; fill:none\" points=\"\n",
       "  901.188,986.14 901.188,153.712 \n",
       "  \"/>\n",
       "<polyline clip-path=\"url(#clip442)\" style=\"stroke:#000000; stroke-linecap:butt; stroke-linejoin:round; stroke-width:2; stroke-opacity:0.1; fill:none\" points=\"\n",
       "  1070.78,986.14 1070.78,153.712 \n",
       "  \"/>\n",
       "<polyline clip-path=\"url(#clip440)\" style=\"stroke:#000000; stroke-linecap:butt; stroke-linejoin:round; stroke-width:4; stroke-opacity:1; fill:none\" points=\"\n",
       "  253.895,986.14 1152.76,986.14 \n",
       "  \"/>\n",
       "<polyline clip-path=\"url(#clip440)\" style=\"stroke:#000000; stroke-linecap:butt; stroke-linejoin:round; stroke-width:4; stroke-opacity:1; fill:none\" points=\"\n",
       "  392.398,986.14 392.398,967.242 \n",
       "  \"/>\n",
       "<polyline clip-path=\"url(#clip440)\" style=\"stroke:#000000; stroke-linecap:butt; stroke-linejoin:round; stroke-width:4; stroke-opacity:1; fill:none\" points=\"\n",
       "  561.995,986.14 561.995,967.242 \n",
       "  \"/>\n",
       "<polyline clip-path=\"url(#clip440)\" style=\"stroke:#000000; stroke-linecap:butt; stroke-linejoin:round; stroke-width:4; stroke-opacity:1; fill:none\" points=\"\n",
       "  731.591,986.14 731.591,967.242 \n",
       "  \"/>\n",
       "<polyline clip-path=\"url(#clip440)\" style=\"stroke:#000000; stroke-linecap:butt; stroke-linejoin:round; stroke-width:4; stroke-opacity:1; fill:none\" points=\"\n",
       "  901.188,986.14 901.188,967.242 \n",
       "  \"/>\n",
       "<polyline clip-path=\"url(#clip440)\" style=\"stroke:#000000; stroke-linecap:butt; stroke-linejoin:round; stroke-width:4; stroke-opacity:1; fill:none\" points=\"\n",
       "  1070.78,986.14 1070.78,967.242 \n",
       "  \"/>\n",
       "<path clip-path=\"url(#clip440)\" d=\"M361.461 1020.38 L391.137 1020.38 L391.137 1024.32 L361.461 1024.32 L361.461 1020.38 Z\" fill=\"#000000\" fill-rule=\"evenodd\" fill-opacity=\"1\" /><path clip-path=\"url(#clip440)\" d=\"M411.808 1018.07 Q408.66 1018.07 406.808 1020.22 Q404.979 1022.37 404.979 1026.12 Q404.979 1029.85 406.808 1032.03 Q408.66 1034.18 411.808 1034.18 Q414.956 1034.18 416.785 1032.03 Q418.637 1029.85 418.637 1026.12 Q418.637 1022.37 416.785 1020.22 Q414.956 1018.07 411.808 1018.07 M421.09 1003.42 L421.09 1007.67 Q419.331 1006.84 417.526 1006.4 Q415.743 1005.96 413.984 1005.96 Q409.354 1005.96 406.901 1009.09 Q404.47 1012.21 404.123 1018.53 Q405.489 1016.52 407.549 1015.45 Q409.609 1014.36 412.086 1014.36 Q417.294 1014.36 420.303 1017.54 Q423.336 1020.68 423.336 1026.12 Q423.336 1031.45 420.188 1034.67 Q417.04 1037.88 411.808 1037.88 Q405.813 1037.88 402.641 1033.3 Q399.47 1028.69 399.47 1019.97 Q399.47 1011.77 403.359 1006.91 Q407.248 1002.03 413.799 1002.03 Q415.558 1002.03 417.34 1002.37 Q419.146 1002.72 421.09 1003.42 Z\" fill=\"#000000\" fill-rule=\"evenodd\" fill-opacity=\"1\" /><path clip-path=\"url(#clip440)\" d=\"M531.463 1020.38 L561.138 1020.38 L561.138 1024.32 L531.463 1024.32 L531.463 1020.38 Z\" fill=\"#000000\" fill-rule=\"evenodd\" fill-opacity=\"1\" /><path clip-path=\"url(#clip440)\" d=\"M585.398 1018.58 Q588.754 1019.3 590.629 1021.56 Q592.527 1023.83 592.527 1027.17 Q592.527 1032.28 589.009 1035.08 Q585.49 1037.88 579.009 1037.88 Q576.833 1037.88 574.518 1037.44 Q572.226 1037.03 569.773 1036.17 L569.773 1031.66 Q571.717 1032.79 574.032 1033.37 Q576.347 1033.95 578.87 1033.95 Q583.268 1033.95 585.56 1032.21 Q587.874 1030.48 587.874 1027.17 Q587.874 1024.11 585.722 1022.4 Q583.592 1020.66 579.773 1020.66 L575.745 1020.66 L575.745 1016.82 L579.958 1016.82 Q583.407 1016.82 585.236 1015.45 Q587.064 1014.06 587.064 1011.47 Q587.064 1008.81 585.166 1007.4 Q583.291 1005.96 579.773 1005.96 Q577.851 1005.96 575.652 1006.38 Q573.453 1006.8 570.814 1007.67 L570.814 1003.51 Q573.476 1002.77 575.791 1002.4 Q578.129 1002.03 580.189 1002.03 Q585.513 1002.03 588.615 1004.46 Q591.717 1006.86 591.717 1010.99 Q591.717 1013.86 590.073 1015.85 Q588.43 1017.81 585.398 1018.58 Z\" fill=\"#000000\" fill-rule=\"evenodd\" fill-opacity=\"1\" /><path clip-path=\"url(#clip440)\" d=\"M731.591 1005.73 Q727.98 1005.73 726.152 1009.3 Q724.346 1012.84 724.346 1019.97 Q724.346 1027.07 726.152 1030.64 Q727.98 1034.18 731.591 1034.18 Q735.226 1034.18 737.031 1030.64 Q738.86 1027.07 738.86 1019.97 Q738.86 1012.84 737.031 1009.3 Q735.226 1005.73 731.591 1005.73 M731.591 1002.03 Q737.402 1002.03 740.457 1006.63 Q743.536 1011.22 743.536 1019.97 Q743.536 1028.69 740.457 1033.3 Q737.402 1037.88 731.591 1037.88 Q725.781 1037.88 722.703 1033.3 Q719.647 1028.69 719.647 1019.97 Q719.647 1011.22 722.703 1006.63 Q725.781 1002.03 731.591 1002.03 Z\" fill=\"#000000\" fill-rule=\"evenodd\" fill-opacity=\"1\" /><path clip-path=\"url(#clip440)\" d=\"M905.435 1018.58 Q908.792 1019.3 910.667 1021.56 Q912.565 1023.83 912.565 1027.17 Q912.565 1032.28 909.047 1035.08 Q905.528 1037.88 899.047 1037.88 Q896.871 1037.88 894.556 1037.44 Q892.264 1037.03 889.811 1036.17 L889.811 1031.66 Q891.755 1032.79 894.07 1033.37 Q896.385 1033.95 898.908 1033.95 Q903.306 1033.95 905.598 1032.21 Q907.912 1030.48 907.912 1027.17 Q907.912 1024.11 905.76 1022.4 Q903.63 1020.66 899.811 1020.66 L895.783 1020.66 L895.783 1016.82 L899.996 1016.82 Q903.445 1016.82 905.273 1015.45 Q907.102 1014.06 907.102 1011.47 Q907.102 1008.81 905.204 1007.4 Q903.329 1005.96 899.811 1005.96 Q897.889 1005.96 895.69 1006.38 Q893.491 1006.8 890.852 1007.67 L890.852 1003.51 Q893.514 1002.77 895.829 1002.4 Q898.167 1002.03 900.227 1002.03 Q905.551 1002.03 908.653 1004.46 Q911.755 1006.86 911.755 1010.99 Q911.755 1013.86 910.111 1015.85 Q908.468 1017.81 905.435 1018.58 Z\" fill=\"#000000\" fill-rule=\"evenodd\" fill-opacity=\"1\" /><path clip-path=\"url(#clip440)\" d=\"M1071.19 1018.07 Q1068.04 1018.07 1066.19 1020.22 Q1064.36 1022.37 1064.36 1026.12 Q1064.36 1029.85 1066.19 1032.03 Q1068.04 1034.18 1071.19 1034.18 Q1074.34 1034.18 1076.17 1032.03 Q1078.02 1029.85 1078.02 1026.12 Q1078.02 1022.37 1076.17 1020.22 Q1074.34 1018.07 1071.19 1018.07 M1080.47 1003.42 L1080.47 1007.67 Q1078.71 1006.84 1076.91 1006.4 Q1075.12 1005.96 1073.37 1005.96 Q1068.74 1005.96 1066.28 1009.09 Q1063.85 1012.21 1063.5 1018.53 Q1064.87 1016.52 1066.93 1015.45 Q1068.99 1014.36 1071.47 1014.36 Q1076.68 1014.36 1079.68 1017.54 Q1082.72 1020.68 1082.72 1026.12 Q1082.72 1031.45 1079.57 1034.67 Q1076.42 1037.88 1071.19 1037.88 Q1065.19 1037.88 1062.02 1033.3 Q1058.85 1028.69 1058.85 1019.97 Q1058.85 1011.77 1062.74 1006.91 Q1066.63 1002.03 1073.18 1002.03 Q1074.94 1002.03 1076.72 1002.37 Q1078.53 1002.72 1080.47 1003.42 Z\" fill=\"#000000\" fill-rule=\"evenodd\" fill-opacity=\"1\" /><path clip-path=\"url(#clip440)\" d=\"M719.94 1077.36 L707.049 1094.7 L720.608 1113 L713.701 1113 L703.325 1099 L692.949 1113 L686.042 1113 L699.888 1094.35 L687.22 1077.36 L694.127 1077.36 L703.58 1090.06 L713.033 1077.36 L719.94 1077.36 Z\" fill=\"#000000\" fill-rule=\"evenodd\" fill-opacity=\"1\" /><polyline clip-path=\"url(#clip442)\" style=\"stroke:#000000; stroke-linecap:butt; stroke-linejoin:round; stroke-width:2; stroke-opacity:0.1; fill:none\" points=\"\n",
       "  253.895,962.581 1152.76,962.581 \n",
       "  \"/>\n",
       "<polyline clip-path=\"url(#clip442)\" style=\"stroke:#000000; stroke-linecap:butt; stroke-linejoin:round; stroke-width:2; stroke-opacity:0.1; fill:none\" points=\"\n",
       "  253.895,766.253 1152.76,766.253 \n",
       "  \"/>\n",
       "<polyline clip-path=\"url(#clip442)\" style=\"stroke:#000000; stroke-linecap:butt; stroke-linejoin:round; stroke-width:2; stroke-opacity:0.1; fill:none\" points=\"\n",
       "  253.895,569.926 1152.76,569.926 \n",
       "  \"/>\n",
       "<polyline clip-path=\"url(#clip442)\" style=\"stroke:#000000; stroke-linecap:butt; stroke-linejoin:round; stroke-width:2; stroke-opacity:0.1; fill:none\" points=\"\n",
       "  253.895,373.599 1152.76,373.599 \n",
       "  \"/>\n",
       "<polyline clip-path=\"url(#clip442)\" style=\"stroke:#000000; stroke-linecap:butt; stroke-linejoin:round; stroke-width:2; stroke-opacity:0.1; fill:none\" points=\"\n",
       "  253.895,177.271 1152.76,177.271 \n",
       "  \"/>\n",
       "<polyline clip-path=\"url(#clip440)\" style=\"stroke:#000000; stroke-linecap:butt; stroke-linejoin:round; stroke-width:4; stroke-opacity:1; fill:none\" points=\"\n",
       "  253.895,986.14 253.895,153.712 \n",
       "  \"/>\n",
       "<polyline clip-path=\"url(#clip440)\" style=\"stroke:#000000; stroke-linecap:butt; stroke-linejoin:round; stroke-width:4; stroke-opacity:1; fill:none\" points=\"\n",
       "  253.895,962.581 272.792,962.581 \n",
       "  \"/>\n",
       "<polyline clip-path=\"url(#clip440)\" style=\"stroke:#000000; stroke-linecap:butt; stroke-linejoin:round; stroke-width:4; stroke-opacity:1; fill:none\" points=\"\n",
       "  253.895,766.253 272.792,766.253 \n",
       "  \"/>\n",
       "<polyline clip-path=\"url(#clip440)\" style=\"stroke:#000000; stroke-linecap:butt; stroke-linejoin:round; stroke-width:4; stroke-opacity:1; fill:none\" points=\"\n",
       "  253.895,569.926 272.792,569.926 \n",
       "  \"/>\n",
       "<polyline clip-path=\"url(#clip440)\" style=\"stroke:#000000; stroke-linecap:butt; stroke-linejoin:round; stroke-width:4; stroke-opacity:1; fill:none\" points=\"\n",
       "  253.895,373.599 272.792,373.599 \n",
       "  \"/>\n",
       "<polyline clip-path=\"url(#clip440)\" style=\"stroke:#000000; stroke-linecap:butt; stroke-linejoin:round; stroke-width:4; stroke-opacity:1; fill:none\" points=\"\n",
       "  253.895,177.271 272.792,177.271 \n",
       "  \"/>\n",
       "<path clip-path=\"url(#clip440)\" d=\"M144.02 963.032 L173.696 963.032 L173.696 966.967 L144.02 966.967 L144.02 963.032 Z\" fill=\"#000000\" fill-rule=\"evenodd\" fill-opacity=\"1\" /><path clip-path=\"url(#clip440)\" d=\"M184.599 975.925 L192.237 975.925 L192.237 949.56 L183.927 951.226 L183.927 946.967 L192.191 945.301 L196.867 945.301 L196.867 975.925 L204.506 975.925 L204.506 979.861 L184.599 979.861 L184.599 975.925 Z\" fill=\"#000000\" fill-rule=\"evenodd\" fill-opacity=\"1\" /><path clip-path=\"url(#clip440)\" d=\"M223.95 948.379 Q220.339 948.379 218.51 951.944 Q216.705 955.486 216.705 962.615 Q216.705 969.722 218.51 973.287 Q220.339 976.828 223.95 976.828 Q227.585 976.828 229.39 973.287 Q231.219 969.722 231.219 962.615 Q231.219 955.486 229.39 951.944 Q227.585 948.379 223.95 948.379 M223.95 944.676 Q229.76 944.676 232.816 949.282 Q235.895 953.865 235.895 962.615 Q235.895 971.342 232.816 975.949 Q229.76 980.532 223.95 980.532 Q218.14 980.532 215.061 975.949 Q212.006 971.342 212.006 962.615 Q212.006 953.865 215.061 949.282 Q218.14 944.676 223.95 944.676 Z\" fill=\"#000000\" fill-rule=\"evenodd\" fill-opacity=\"1\" /><path clip-path=\"url(#clip440)\" d=\"M175.177 766.705 L204.853 766.705 L204.853 770.64 L175.177 770.64 L175.177 766.705 Z\" fill=\"#000000\" fill-rule=\"evenodd\" fill-opacity=\"1\" /><path clip-path=\"url(#clip440)\" d=\"M214.992 748.973 L233.348 748.973 L233.348 752.908 L219.274 752.908 L219.274 761.381 Q220.293 761.033 221.311 760.871 Q222.33 760.686 223.348 760.686 Q229.135 760.686 232.515 763.857 Q235.895 767.029 235.895 772.445 Q235.895 778.024 232.422 781.126 Q228.95 784.205 222.631 784.205 Q220.455 784.205 218.186 783.834 Q215.941 783.464 213.534 782.723 L213.534 778.024 Q215.617 779.158 217.839 779.714 Q220.061 780.269 222.538 780.269 Q226.543 780.269 228.881 778.163 Q231.219 776.056 231.219 772.445 Q231.219 768.834 228.881 766.728 Q226.543 764.621 222.538 764.621 Q220.663 764.621 218.788 765.038 Q216.936 765.455 214.992 766.334 L214.992 748.973 Z\" fill=\"#000000\" fill-rule=\"evenodd\" fill-opacity=\"1\" /><path clip-path=\"url(#clip440)\" d=\"M223.95 555.725 Q220.339 555.725 218.51 559.289 Q216.705 562.831 216.705 569.961 Q216.705 577.067 218.51 580.632 Q220.339 584.174 223.95 584.174 Q227.585 584.174 229.39 580.632 Q231.219 577.067 231.219 569.961 Q231.219 562.831 229.39 559.289 Q227.585 555.725 223.95 555.725 M223.95 552.021 Q229.76 552.021 232.816 556.627 Q235.895 561.211 235.895 569.961 Q235.895 578.688 232.816 583.294 Q229.76 587.877 223.95 587.877 Q218.14 587.877 215.061 583.294 Q212.006 578.688 212.006 569.961 Q212.006 561.211 215.061 556.627 Q218.14 552.021 223.95 552.021 Z\" fill=\"#000000\" fill-rule=\"evenodd\" fill-opacity=\"1\" /><path clip-path=\"url(#clip440)\" d=\"M214.992 356.319 L233.348 356.319 L233.348 360.254 L219.274 360.254 L219.274 368.726 Q220.293 368.379 221.311 368.217 Q222.33 368.032 223.348 368.032 Q229.135 368.032 232.515 371.203 Q235.895 374.374 235.895 379.791 Q235.895 385.369 232.422 388.471 Q228.95 391.55 222.631 391.55 Q220.455 391.55 218.186 391.18 Q215.941 390.809 213.534 390.069 L213.534 385.369 Q215.617 386.504 217.839 387.059 Q220.061 387.615 222.538 387.615 Q226.543 387.615 228.881 385.508 Q231.219 383.402 231.219 379.791 Q231.219 376.18 228.881 374.073 Q226.543 371.967 222.538 371.967 Q220.663 371.967 218.788 372.383 Q216.936 372.8 214.992 373.68 L214.992 356.319 Z\" fill=\"#000000\" fill-rule=\"evenodd\" fill-opacity=\"1\" /><path clip-path=\"url(#clip440)\" d=\"M184.599 190.616 L192.237 190.616 L192.237 164.251 L183.927 165.917 L183.927 161.658 L192.191 159.991 L196.867 159.991 L196.867 190.616 L204.506 190.616 L204.506 194.551 L184.599 194.551 L184.599 190.616 Z\" fill=\"#000000\" fill-rule=\"evenodd\" fill-opacity=\"1\" /><path clip-path=\"url(#clip440)\" d=\"M223.95 163.07 Q220.339 163.07 218.51 166.635 Q216.705 170.177 216.705 177.306 Q216.705 184.413 218.51 187.977 Q220.339 191.519 223.95 191.519 Q227.585 191.519 229.39 187.977 Q231.219 184.413 231.219 177.306 Q231.219 170.177 229.39 166.635 Q227.585 163.07 223.95 163.07 M223.95 159.366 Q229.76 159.366 232.816 163.973 Q235.895 168.556 235.895 177.306 Q235.895 186.033 232.816 190.639 Q229.76 195.223 223.95 195.223 Q218.14 195.223 215.061 190.639 Q212.006 186.033 212.006 177.306 Q212.006 168.556 215.061 163.973 Q218.14 159.366 223.95 159.366 Z\" fill=\"#000000\" fill-rule=\"evenodd\" fill-opacity=\"1\" /><path clip-path=\"url(#clip440)\" d=\"M115.074 568.239 Q121.44 570.722 123.382 573.077 Q125.323 575.432 125.323 579.379 L125.323 584.058 L120.422 584.058 L120.422 580.62 Q120.422 578.201 119.276 576.865 Q118.13 575.528 113.865 573.905 L111.191 572.854 L76.1162 587.273 L76.1162 581.066 L103.998 569.926 L76.1162 558.786 L76.1162 552.579 L115.074 568.239 Z\" fill=\"#000000\" fill-rule=\"evenodd\" fill-opacity=\"1\" /><path clip-path=\"url(#clip440)\" d=\"M224.772 34.1734 Q223.516 33.4443 222.017 33.1202 Q220.559 32.7556 218.776 32.7556 Q212.457 32.7556 209.054 36.8875 Q205.692 40.9789 205.692 48.6757 L205.692 72.576 L198.198 72.576 L198.198 27.2059 L205.692 27.2059 L205.692 34.2544 Q208.041 30.1225 211.809 28.1376 Q215.576 26.1121 220.964 26.1121 Q221.734 26.1121 222.665 26.2337 Q223.597 26.3147 224.731 26.5172 L224.772 34.1734 Z\" fill=\"#000000\" fill-rule=\"evenodd\" fill-opacity=\"1\" /><path clip-path=\"url(#clip440)\" d=\"M253.209 49.7694 Q244.176 49.7694 240.692 51.8354 Q237.208 53.9013 237.208 58.8839 Q237.208 62.8538 239.801 65.2034 Q242.434 67.5124 246.93 67.5124 Q253.128 67.5124 256.855 63.1374 Q260.622 58.7219 260.622 51.4303 L260.622 49.7694 L253.209 49.7694 M268.076 46.6907 L268.076 72.576 L260.622 72.576 L260.622 65.6895 Q258.07 69.8214 254.262 71.8063 Q250.454 73.7508 244.945 73.7508 Q237.978 73.7508 233.846 69.8619 Q229.754 65.9325 229.754 59.3701 Q229.754 51.7138 234.858 47.825 Q240.003 43.9361 250.171 43.9361 L260.622 43.9361 L260.622 43.2069 Q260.622 38.0623 257.219 35.2672 Q253.857 32.4315 247.74 32.4315 Q243.851 32.4315 240.165 33.3632 Q236.479 34.295 233.076 36.1584 L233.076 29.2718 Q237.167 27.692 241.016 26.9223 Q244.864 26.1121 248.51 26.1121 Q258.354 26.1121 263.215 31.2163 Q268.076 36.3204 268.076 46.6907 Z\" fill=\"#000000\" fill-rule=\"evenodd\" fill-opacity=\"1\" /><path clip-path=\"url(#clip440)\" d=\"M321.143 45.1919 L321.143 72.576 L313.689 72.576 L313.689 45.4349 Q313.689 38.994 311.178 35.7938 Q308.666 32.5936 303.643 32.5936 Q297.607 32.5936 294.123 36.4419 Q290.639 40.2903 290.639 46.9338 L290.639 72.576 L283.145 72.576 L283.145 27.2059 L290.639 27.2059 L290.639 34.2544 Q293.313 30.163 296.918 28.1376 Q300.564 26.1121 305.304 26.1121 Q313.122 26.1121 317.132 30.9732 Q321.143 35.7938 321.143 45.1919 Z\" fill=\"#000000\" fill-rule=\"evenodd\" fill-opacity=\"1\" /><path clip-path=\"url(#clip440)\" d=\"M365.865 34.0924 L365.865 9.54393 L373.318 9.54393 L373.318 72.576 L365.865 72.576 L365.865 65.7705 Q363.515 69.8214 359.91 71.8063 Q356.345 73.7508 351.322 73.7508 Q343.099 73.7508 337.913 67.1883 Q332.769 60.6258 332.769 49.9314 Q332.769 39.2371 337.913 32.6746 Q343.099 26.1121 351.322 26.1121 Q356.345 26.1121 359.91 28.0971 Q363.515 30.0415 365.865 34.0924 M340.466 49.9314 Q340.466 58.1548 343.828 62.8538 Q347.231 67.5124 353.145 67.5124 Q359.059 67.5124 362.462 62.8538 Q365.865 58.1548 365.865 49.9314 Q365.865 41.7081 362.462 37.0496 Q359.059 32.3505 353.145 32.3505 Q347.231 32.3505 343.828 37.0496 Q340.466 41.7081 340.466 49.9314 Z\" fill=\"#000000\" fill-rule=\"evenodd\" fill-opacity=\"1\" /><path clip-path=\"url(#clip440)\" d=\"M406.252 32.4315 Q400.257 32.4315 396.773 37.1306 Q393.289 41.7891 393.289 49.9314 Q393.289 58.0738 396.733 62.7728 Q400.216 67.4314 406.252 67.4314 Q412.207 67.4314 415.691 62.7323 Q419.175 58.0333 419.175 49.9314 Q419.175 41.8701 415.691 37.1711 Q412.207 32.4315 406.252 32.4315 M406.252 26.1121 Q415.974 26.1121 421.524 32.4315 Q427.074 38.7509 427.074 49.9314 Q427.074 61.0714 421.524 67.4314 Q415.974 73.7508 406.252 73.7508 Q396.49 73.7508 390.94 67.4314 Q385.431 61.0714 385.431 49.9314 Q385.431 38.7509 390.94 32.4315 Q396.49 26.1121 406.252 26.1121 Z\" fill=\"#000000\" fill-rule=\"evenodd\" fill-opacity=\"1\" /><path clip-path=\"url(#clip440)\" d=\"M474.753 35.9153 Q477.548 30.8922 481.437 28.5022 Q485.326 26.1121 490.592 26.1121 Q497.681 26.1121 501.529 31.0947 Q505.378 36.0368 505.378 45.1919 L505.378 72.576 L497.884 72.576 L497.884 45.4349 Q497.884 38.913 495.575 35.7533 Q493.266 32.5936 488.526 32.5936 Q482.733 32.5936 479.371 36.4419 Q476.009 40.2903 476.009 46.9338 L476.009 72.576 L468.515 72.576 L468.515 45.4349 Q468.515 38.8725 466.206 35.7533 Q463.897 32.5936 459.076 32.5936 Q453.364 32.5936 450.002 36.4824 Q446.64 40.3308 446.64 46.9338 L446.64 72.576 L439.146 72.576 L439.146 27.2059 L446.64 27.2059 L446.64 34.2544 Q449.192 30.082 452.757 28.0971 Q456.321 26.1121 461.223 26.1121 Q466.165 26.1121 469.608 28.6237 Q473.092 31.1352 474.753 35.9153 Z\" fill=\"#000000\" fill-rule=\"evenodd\" fill-opacity=\"1\" /><path clip-path=\"url(#clip440)\" d=\"M575.54 28.5427 L575.54 35.5912 Q572.38 33.9709 568.977 33.1607 Q565.574 32.3505 561.928 32.3505 Q556.379 32.3505 553.584 34.0519 Q550.829 35.7533 550.829 39.156 Q550.829 41.7486 552.814 43.2475 Q554.799 44.7058 560.794 46.0426 L563.346 46.6097 Q571.286 48.3111 574.608 51.4303 Q577.97 54.509 577.97 60.0587 Q577.97 66.3781 572.947 70.0644 Q567.964 73.7508 559.214 73.7508 Q555.569 73.7508 551.599 73.0216 Q547.669 72.3329 543.294 70.9151 L543.294 63.2184 Q547.426 65.3654 551.437 66.4591 Q555.447 67.5124 559.376 67.5124 Q564.643 67.5124 567.478 65.73 Q570.314 63.9071 570.314 60.6258 Q570.314 57.5877 568.248 55.9673 Q566.222 54.3469 559.295 52.8481 L556.703 52.2405 Q549.776 50.7821 546.697 47.7845 Q543.618 44.7463 543.618 39.4801 Q543.618 33.0797 548.155 29.5959 Q552.692 26.1121 561.037 26.1121 Q565.169 26.1121 568.815 26.7198 Q572.461 27.3274 575.54 28.5427 Z\" fill=\"#000000\" fill-rule=\"evenodd\" fill-opacity=\"1\" /><path clip-path=\"url(#clip440)\" d=\"M628.647 48.0275 L628.647 51.6733 L594.376 51.6733 Q594.862 59.3701 598.994 63.421 Q603.167 67.4314 610.58 67.4314 Q614.874 67.4314 618.884 66.3781 Q622.935 65.3249 626.905 63.2184 L626.905 70.267 Q622.895 71.9684 618.682 72.8596 Q614.469 73.7508 610.134 73.7508 Q599.278 73.7508 592.918 67.4314 Q586.598 61.1119 586.598 50.3365 Q586.598 39.1965 592.594 32.6746 Q598.63 26.1121 608.838 26.1121 Q617.993 26.1121 623.3 32.0264 Q628.647 37.9003 628.647 48.0275 M621.193 45.84 Q621.112 39.7232 617.75 36.0774 Q614.428 32.4315 608.919 32.4315 Q602.681 32.4315 598.913 35.9558 Q595.186 39.4801 594.619 45.8805 L621.193 45.84 Z\" fill=\"#000000\" fill-rule=\"evenodd\" fill-opacity=\"1\" /><path clip-path=\"url(#clip440)\" d=\"M678.595 45.1919 L678.595 72.576 L671.141 72.576 L671.141 45.4349 Q671.141 38.994 668.629 35.7938 Q666.118 32.5936 661.095 32.5936 Q655.059 32.5936 651.575 36.4419 Q648.091 40.2903 648.091 46.9338 L648.091 72.576 L640.597 72.576 L640.597 27.2059 L648.091 27.2059 L648.091 34.2544 Q650.765 30.163 654.37 28.1376 Q658.016 26.1121 662.755 26.1121 Q670.574 26.1121 674.584 30.9732 Q678.595 35.7938 678.595 45.1919 Z\" fill=\"#000000\" fill-rule=\"evenodd\" fill-opacity=\"1\" /><path clip-path=\"url(#clip440)\" d=\"M722.385 28.5427 L722.385 35.5912 Q719.225 33.9709 715.822 33.1607 Q712.42 32.3505 708.774 32.3505 Q703.224 32.3505 700.429 34.0519 Q697.674 35.7533 697.674 39.156 Q697.674 41.7486 699.659 43.2475 Q701.644 44.7058 707.639 46.0426 L710.192 46.6097 Q718.131 48.3111 721.453 51.4303 Q724.815 54.509 724.815 60.0587 Q724.815 66.3781 719.792 70.0644 Q714.81 73.7508 706.06 73.7508 Q702.414 73.7508 698.444 73.0216 Q694.515 72.3329 690.14 70.9151 L690.14 63.2184 Q694.272 65.3654 698.282 66.4591 Q702.292 67.5124 706.222 67.5124 Q711.488 67.5124 714.323 65.73 Q717.159 63.9071 717.159 60.6258 Q717.159 57.5877 715.093 55.9673 Q713.068 54.3469 706.141 52.8481 L703.548 52.2405 Q696.621 50.7821 693.542 47.7845 Q690.464 44.7463 690.464 39.4801 Q690.464 33.0797 695.001 29.5959 Q699.538 26.1121 707.883 26.1121 Q712.014 26.1121 715.66 26.7198 Q719.306 27.3274 722.385 28.5427 Z\" fill=\"#000000\" fill-rule=\"evenodd\" fill-opacity=\"1\" /><path clip-path=\"url(#clip440)\" d=\"M754.265 32.4315 Q748.27 32.4315 744.786 37.1306 Q741.303 41.7891 741.303 49.9314 Q741.303 58.0738 744.746 62.7728 Q748.23 67.4314 754.265 67.4314 Q760.22 67.4314 763.704 62.7323 Q767.188 58.0333 767.188 49.9314 Q767.188 41.8701 763.704 37.1711 Q760.22 32.4315 754.265 32.4315 M754.265 26.1121 Q763.988 26.1121 769.537 32.4315 Q775.087 38.7509 775.087 49.9314 Q775.087 61.0714 769.537 67.4314 Q763.988 73.7508 754.265 73.7508 Q744.503 73.7508 738.953 67.4314 Q733.444 61.0714 733.444 49.9314 Q733.444 38.7509 738.953 32.4315 Q744.503 26.1121 754.265 26.1121 Z\" fill=\"#000000\" fill-rule=\"evenodd\" fill-opacity=\"1\" /><path clip-path=\"url(#clip440)\" d=\"M813.733 34.1734 Q812.477 33.4443 810.978 33.1202 Q809.52 32.7556 807.737 32.7556 Q801.418 32.7556 798.015 36.8875 Q794.653 40.9789 794.653 48.6757 L794.653 72.576 L787.159 72.576 L787.159 27.2059 L794.653 27.2059 L794.653 34.2544 Q797.002 30.1225 800.77 28.1376 Q804.537 26.1121 809.925 26.1121 Q810.695 26.1121 811.626 26.2337 Q812.558 26.3147 813.692 26.5172 L813.733 34.1734 Z\" fill=\"#000000\" fill-rule=\"evenodd\" fill-opacity=\"1\" /><path clip-path=\"url(#clip440)\" d=\"M847.922 9.54393 L855.376 9.54393 L855.376 72.576 L847.922 72.576 L847.922 9.54393 Z\" fill=\"#000000\" fill-rule=\"evenodd\" fill-opacity=\"1\" /><path clip-path=\"url(#clip440)\" d=\"M888.553 32.4315 Q882.558 32.4315 879.074 37.1306 Q875.59 41.7891 875.59 49.9314 Q875.59 58.0738 879.033 62.7728 Q882.517 67.4314 888.553 67.4314 Q894.508 67.4314 897.991 62.7323 Q901.475 58.0333 901.475 49.9314 Q901.475 41.8701 897.991 37.1711 Q894.508 32.4315 888.553 32.4315 M888.553 26.1121 Q898.275 26.1121 903.825 32.4315 Q909.375 38.7509 909.375 49.9314 Q909.375 61.0714 903.825 67.4314 Q898.275 73.7508 888.553 73.7508 Q878.79 73.7508 873.24 67.4314 Q867.731 61.0714 867.731 49.9314 Q867.731 38.7509 873.24 32.4315 Q878.79 26.1121 888.553 26.1121 Z\" fill=\"#000000\" fill-rule=\"evenodd\" fill-opacity=\"1\" /><path clip-path=\"url(#clip440)\" d=\"M954.38 28.9478 L954.38 35.9153 Q951.22 34.1734 948.02 33.3227 Q944.86 32.4315 941.62 32.4315 Q934.369 32.4315 930.358 37.0496 Q926.348 41.6271 926.348 49.9314 Q926.348 58.2358 930.358 62.8538 Q934.369 67.4314 941.62 67.4314 Q944.86 67.4314 948.02 66.5807 Q951.22 65.6895 954.38 63.9476 L954.38 70.8341 Q951.261 72.2924 947.899 73.0216 Q944.577 73.7508 940.81 73.7508 Q930.561 73.7508 924.525 67.3098 Q918.489 60.8689 918.489 49.9314 Q918.489 38.832 924.565 32.472 Q930.682 26.1121 941.296 26.1121 Q944.739 26.1121 948.02 26.8413 Q951.301 27.5299 954.38 28.9478 Z\" fill=\"#000000\" fill-rule=\"evenodd\" fill-opacity=\"1\" /><path clip-path=\"url(#clip440)\" d=\"M987.962 49.7694 Q978.929 49.7694 975.445 51.8354 Q971.961 53.9013 971.961 58.8839 Q971.961 62.8538 974.554 65.2034 Q977.187 67.5124 981.683 67.5124 Q987.881 67.5124 991.608 63.1374 Q995.375 58.7219 995.375 51.4303 L995.375 49.7694 L987.962 49.7694 M1002.83 46.6907 L1002.83 72.576 L995.375 72.576 L995.375 65.6895 Q992.823 69.8214 989.015 71.8063 Q985.207 73.7508 979.698 73.7508 Q972.731 73.7508 968.599 69.8619 Q964.507 65.9325 964.507 59.3701 Q964.507 51.7138 969.611 47.825 Q974.756 43.9361 984.924 43.9361 L995.375 43.9361 L995.375 43.2069 Q995.375 38.0623 991.972 35.2672 Q988.61 32.4315 982.493 32.4315 Q978.604 32.4315 974.918 33.3632 Q971.232 34.295 967.829 36.1584 L967.829 29.2718 Q971.92 27.692 975.769 26.9223 Q979.617 26.1121 983.263 26.1121 Q993.107 26.1121 997.968 31.2163 Q1002.83 36.3204 1002.83 46.6907 Z\" fill=\"#000000\" fill-rule=\"evenodd\" fill-opacity=\"1\" /><path clip-path=\"url(#clip440)\" d=\"M1025.55 14.324 L1025.55 27.2059 L1040.91 27.2059 L1040.91 32.9987 L1025.55 32.9987 L1025.55 57.6282 Q1025.55 63.1779 1027.05 64.7578 Q1028.59 66.3376 1033.25 66.3376 L1040.91 66.3376 L1040.91 72.576 L1033.25 72.576 Q1024.62 72.576 1021.34 69.3758 Q1018.06 66.1351 1018.06 57.6282 L1018.06 32.9987 L1012.59 32.9987 L1012.59 27.2059 L1018.06 27.2059 L1018.06 14.324 L1025.55 14.324 Z\" fill=\"#000000\" fill-rule=\"evenodd\" fill-opacity=\"1\" /><path clip-path=\"url(#clip440)\" d=\"M1050.71 27.2059 L1058.16 27.2059 L1058.16 72.576 L1050.71 72.576 L1050.71 27.2059 M1050.71 9.54393 L1058.16 9.54393 L1058.16 18.9825 L1050.71 18.9825 L1050.71 9.54393 Z\" fill=\"#000000\" fill-rule=\"evenodd\" fill-opacity=\"1\" /><path clip-path=\"url(#clip440)\" d=\"M1091.34 32.4315 Q1085.35 32.4315 1081.86 37.1306 Q1078.38 41.7891 1078.38 49.9314 Q1078.38 58.0738 1081.82 62.7728 Q1085.31 67.4314 1091.34 67.4314 Q1097.3 67.4314 1100.78 62.7323 Q1104.26 58.0333 1104.26 49.9314 Q1104.26 41.8701 1100.78 37.1711 Q1097.3 32.4315 1091.34 32.4315 M1091.34 26.1121 Q1101.06 26.1121 1106.61 32.4315 Q1112.16 38.7509 1112.16 49.9314 Q1112.16 61.0714 1106.61 67.4314 Q1101.06 73.7508 1091.34 73.7508 Q1081.58 73.7508 1076.03 67.4314 Q1070.52 61.0714 1070.52 49.9314 Q1070.52 38.7509 1076.03 32.4315 Q1081.58 26.1121 1091.34 26.1121 Z\" fill=\"#000000\" fill-rule=\"evenodd\" fill-opacity=\"1\" /><path clip-path=\"url(#clip440)\" d=\"M1162.23 45.1919 L1162.23 72.576 L1154.78 72.576 L1154.78 45.4349 Q1154.78 38.994 1152.27 35.7938 Q1149.76 32.5936 1144.73 32.5936 Q1138.7 32.5936 1135.21 36.4419 Q1131.73 40.2903 1131.73 46.9338 L1131.73 72.576 L1124.23 72.576 L1124.23 27.2059 L1131.73 27.2059 L1131.73 34.2544 Q1134.4 30.163 1138.01 28.1376 Q1141.65 26.1121 1146.39 26.1121 Q1154.21 26.1121 1158.22 30.9732 Q1162.23 35.7938 1162.23 45.1919 Z\" fill=\"#000000\" fill-rule=\"evenodd\" fill-opacity=\"1\" /><path clip-path=\"url(#clip440)\" d=\"M1206.02 28.5427 L1206.02 35.5912 Q1202.86 33.9709 1199.46 33.1607 Q1196.06 32.3505 1192.41 32.3505 Q1186.86 32.3505 1184.07 34.0519 Q1181.31 35.7533 1181.31 39.156 Q1181.31 41.7486 1183.3 43.2475 Q1185.28 44.7058 1191.28 46.0426 L1193.83 46.6097 Q1201.77 48.3111 1205.09 51.4303 Q1208.45 54.509 1208.45 60.0587 Q1208.45 66.3781 1203.43 70.0644 Q1198.45 73.7508 1189.7 73.7508 Q1186.05 73.7508 1182.08 73.0216 Q1178.15 72.3329 1173.78 70.9151 L1173.78 63.2184 Q1177.91 65.3654 1181.92 66.4591 Q1185.93 67.5124 1189.86 67.5124 Q1195.13 67.5124 1197.96 65.73 Q1200.8 63.9071 1200.8 60.6258 Q1200.8 57.5877 1198.73 55.9673 Q1196.71 54.3469 1189.78 52.8481 L1187.19 52.2405 Q1180.26 50.7821 1177.18 47.7845 Q1174.1 44.7463 1174.1 39.4801 Q1174.1 33.0797 1178.64 29.5959 Q1183.18 26.1121 1191.52 26.1121 Q1195.65 26.1121 1199.3 26.7198 Q1202.94 27.3274 1206.02 28.5427 Z\" fill=\"#000000\" fill-rule=\"evenodd\" fill-opacity=\"1\" /><circle clip-path=\"url(#clip442)\" cx=\"675.059\" cy=\"334.333\" r=\"14\" fill=\"#009af9\" fill-rule=\"evenodd\" fill-opacity=\"1\" stroke=\"#000000\" stroke-opacity=\"1\" stroke-width=\"2.4\"/>\n",
       "<circle clip-path=\"url(#clip442)\" cx=\"618.527\" cy=\"412.864\" r=\"14\" fill=\"#009af9\" fill-rule=\"evenodd\" fill-opacity=\"1\" stroke=\"#000000\" stroke-opacity=\"1\" stroke-width=\"2.4\"/>\n",
       "<circle clip-path=\"url(#clip442)\" cx=\"1127.32\" cy=\"923.315\" r=\"14\" fill=\"#009af9\" fill-rule=\"evenodd\" fill-opacity=\"1\" stroke=\"#000000\" stroke-opacity=\"1\" stroke-width=\"2.4\"/>\n",
       "<circle clip-path=\"url(#clip442)\" cx=\"1070.78\" cy=\"962.581\" r=\"14\" fill=\"#009af9\" fill-rule=\"evenodd\" fill-opacity=\"1\" stroke=\"#000000\" stroke-opacity=\"1\" stroke-width=\"2.4\"/>\n",
       "<circle clip-path=\"url(#clip442)\" cx=\"561.995\" cy=\"177.271\" r=\"14\" fill=\"#009af9\" fill-rule=\"evenodd\" fill-opacity=\"1\" stroke=\"#000000\" stroke-opacity=\"1\" stroke-width=\"2.4\"/>\n",
       "<circle clip-path=\"url(#clip442)\" cx=\"279.334\" cy=\"255.802\" r=\"14\" fill=\"#009af9\" fill-rule=\"evenodd\" fill-opacity=\"1\" stroke=\"#000000\" stroke-opacity=\"1\" stroke-width=\"2.4\"/>\n",
       "</svg>\n"
      ]
     },
     "execution_count": 250,
     "metadata": {},
     "output_type": "execute_result"
    }
   ],
   "source": [
    "seed!(0)\n",
    "J = 6; # we will randomly place J sensors \n",
    "d = 2; # each sensor will have d coordiantes (the sensors are in R^d space)\n",
    "\n",
    "C = rand(-10:10,d,J) # each column of C is the location of one sensor\n",
    "@show C \n",
    "\n",
    "# visualize the locations of our sensors\n",
    "myplotter(C)\n",
    "title!(\"random sensor locations\")"
   ]
  },
  {
   "cell_type": "code",
   "execution_count": 251,
   "metadata": {},
   "outputs": [
    {
     "data": {
      "text/plain": [
       "6×6 Matrix{Float64}:\n",
       "  0.0       2.23607  17.0      17.4642    4.47214   7.28011\n",
       "  2.23607   0.0      15.8114   16.1245    6.08276   7.2111\n",
       " 17.0      15.8114    0.0       1.41421  21.4709   22.6716\n",
       " 17.4642   16.1245    1.41421   0.0      21.9317   22.8035\n",
       "  4.47214   6.08276  21.4709   21.9317    0.0       5.38516\n",
       "  7.28011   7.2111   22.6716   22.8035    5.38516   0.0"
      ]
     },
     "execution_count": 251,
     "metadata": {},
     "output_type": "execute_result"
    }
   ],
   "source": [
    "# Create the distance matrix, D\n",
    "# Here is a version with two for loops - this works, but it's inefficient \n",
    "D = zeros(J,J)\n",
    "for i = 1:J\n",
    "    for j = 1:J\n",
    "        D[i,j] = norm(C[:,i]-C[:,j])\n",
    "    end\n",
    "end\n",
    "\n",
    "# here's a more efficient way to compute D \n",
    "D = [norm(C[:,i]-C[:,j]) for i=1:J,j=1:J] \n",
    "\n",
    "# note that D is symmetric and the diagonal elements of D are all zero!"
   ]
  },
  {
   "cell_type": "markdown",
   "metadata": {},
   "source": [
    "### Part 1: Find a MDS solution \n",
    "\n",
    "Using the $D$ and $d$ variables defined, solve the MDS solution as outlined in the lecture notes (section 6.2). \n",
    "\n",
    "To force a unique solution (for the purposes of the autograder), we impose the following constraints:\n",
    "* The $i$th column of $Xr$ is computed from the $i$th largest eigenpair of $C^T C$ (Reorder columns if needed. But there is a way to guarantee this without any reordering!)\n",
    "* The centroid of the coordinates is zero \n",
    "* The largest magnitude element of each row of $Xr$ is positive (flip signs if needed) \n",
    "\n",
    "The point of this task is to develop the dist2locs code while testing steps along the way. \n",
    "In your submission, describe one additional test of the dist2locs code you would suggest doing.\n",
    "The test can be for a one step in the dist2locs process or a test of the overall function.\n",
    "You do not have to implement the test."
   ]
  },
  {
   "cell_type": "code",
   "execution_count": 252,
   "metadata": {},
   "outputs": [
    {
     "data": {
      "text/plain": [
       "1×6 Matrix{Float64}:\n",
       " 1.18424e-15  -5.92119e-16  -9.4739e-15  …  4.73695e-15  -4.73695e-15"
      ]
     },
     "metadata": {},
     "output_type": "display_data"
    },
    {
     "data": {
      "text/plain": [
       "6×1 Matrix{Float64}:\n",
       "  0.0\n",
       "  2.3684757858670005e-15\n",
       " -2.3684757858670005e-15\n",
       " -2.3684757858670005e-15\n",
       "  0.0\n",
       "  0.0"
      ]
     },
     "metadata": {},
     "output_type": "display_data"
    }
   ],
   "source": [
    "# TODO  \n",
    "J = size(D,1)\n",
    "\n",
    "# (1) First, find the matrix S, where s_ij = d_ij^2\n",
    "# TODO: define S in terms of D here \n",
    "S = D .^2\n",
    "\n",
    "# (1.5) S should be symmetric, but in the case of noise, it might not be! \n",
    "S = 0.5 * (S + S') # Force S to be symmetric (optional, but helps with numerical stability)\n",
    "\n",
    "# (2) Next, de-mean\n",
    "# TODO: define the de-meaning operator, P_orth, to project onto the othogonal complement of Range(1_J)\n",
    "# TODO: Calculate G, the gram matrix, using P_orth \n",
    "P_orth = Diagonal(ones(J)) - (1/J) * ones(J) * ones(J)'\n",
    "G = (-1 / 2) * P_orth * S * P_orth\n",
    "\n",
    "# Check our work - both of these should display zero vectors (to within numerical precision) \n",
    "# if you defined P_orth correctly\n",
    "display(mean(G,dims=1))\n",
    "display(mean(G,dims=2))"
   ]
  },
  {
   "cell_type": "code",
   "execution_count": 253,
   "metadata": {},
   "outputs": [
    {
     "data": {
      "image/svg+xml": [
       "<?xml version=\"1.0\" encoding=\"utf-8\"?>\n",
       "<svg xmlns=\"http://www.w3.org/2000/svg\" xmlns:xlink=\"http://www.w3.org/1999/xlink\" width=\"300\" height=\"300\" viewBox=\"0 0 1200 1200\">\n",
       "<defs>\n",
       "  <clipPath id=\"clip480\">\n",
       "    <rect x=\"0\" y=\"0\" width=\"1200\" height=\"1200\"/>\n",
       "  </clipPath>\n",
       "</defs>\n",
       "<path clip-path=\"url(#clip480)\" d=\"\n",
       "M0 1200 L1200 1200 L1200 0 L0 0  Z\n",
       "  \" fill=\"#ffffff\" fill-rule=\"evenodd\" fill-opacity=\"1\"/>\n",
       "<defs>\n",
       "  <clipPath id=\"clip481\">\n",
       "    <rect x=\"240\" y=\"120\" width=\"841\" height=\"841\"/>\n",
       "  </clipPath>\n",
       "</defs>\n",
       "<path clip-path=\"url(#clip480)\" d=\"\n",
       "M223.085 986.14 L1152.76 986.14 L1152.76 153.712 L223.085 153.712  Z\n",
       "  \" fill=\"#ffffff\" fill-rule=\"evenodd\" fill-opacity=\"1\"/>\n",
       "<defs>\n",
       "  <clipPath id=\"clip482\">\n",
       "    <rect x=\"223\" y=\"153\" width=\"931\" height=\"833\"/>\n",
       "  </clipPath>\n",
       "</defs>\n",
       "<polyline clip-path=\"url(#clip482)\" style=\"stroke:#000000; stroke-linecap:butt; stroke-linejoin:round; stroke-width:2; stroke-opacity:0.1; fill:none\" points=\"\n",
       "  236.731,986.14 236.731,153.712 \n",
       "  \"/>\n",
       "<polyline clip-path=\"url(#clip482)\" style=\"stroke:#000000; stroke-linecap:butt; stroke-linejoin:round; stroke-width:2; stroke-opacity:0.1; fill:none\" points=\"\n",
       "  429.997,986.14 429.997,153.712 \n",
       "  \"/>\n",
       "<polyline clip-path=\"url(#clip482)\" style=\"stroke:#000000; stroke-linecap:butt; stroke-linejoin:round; stroke-width:2; stroke-opacity:0.1; fill:none\" points=\"\n",
       "  623.262,986.14 623.262,153.712 \n",
       "  \"/>\n",
       "<polyline clip-path=\"url(#clip482)\" style=\"stroke:#000000; stroke-linecap:butt; stroke-linejoin:round; stroke-width:2; stroke-opacity:0.1; fill:none\" points=\"\n",
       "  816.528,986.14 816.528,153.712 \n",
       "  \"/>\n",
       "<polyline clip-path=\"url(#clip482)\" style=\"stroke:#000000; stroke-linecap:butt; stroke-linejoin:round; stroke-width:2; stroke-opacity:0.1; fill:none\" points=\"\n",
       "  1009.79,986.14 1009.79,153.712 \n",
       "  \"/>\n",
       "<polyline clip-path=\"url(#clip480)\" style=\"stroke:#000000; stroke-linecap:butt; stroke-linejoin:round; stroke-width:4; stroke-opacity:1; fill:none\" points=\"\n",
       "  223.085,986.14 1152.76,986.14 \n",
       "  \"/>\n",
       "<polyline clip-path=\"url(#clip480)\" style=\"stroke:#000000; stroke-linecap:butt; stroke-linejoin:round; stroke-width:4; stroke-opacity:1; fill:none\" points=\"\n",
       "  236.731,986.14 236.731,967.242 \n",
       "  \"/>\n",
       "<polyline clip-path=\"url(#clip480)\" style=\"stroke:#000000; stroke-linecap:butt; stroke-linejoin:round; stroke-width:4; stroke-opacity:1; fill:none\" points=\"\n",
       "  429.997,986.14 429.997,967.242 \n",
       "  \"/>\n",
       "<polyline clip-path=\"url(#clip480)\" style=\"stroke:#000000; stroke-linecap:butt; stroke-linejoin:round; stroke-width:4; stroke-opacity:1; fill:none\" points=\"\n",
       "  623.262,986.14 623.262,967.242 \n",
       "  \"/>\n",
       "<polyline clip-path=\"url(#clip480)\" style=\"stroke:#000000; stroke-linecap:butt; stroke-linejoin:round; stroke-width:4; stroke-opacity:1; fill:none\" points=\"\n",
       "  816.528,986.14 816.528,967.242 \n",
       "  \"/>\n",
       "<polyline clip-path=\"url(#clip480)\" style=\"stroke:#000000; stroke-linecap:butt; stroke-linejoin:round; stroke-width:4; stroke-opacity:1; fill:none\" points=\"\n",
       "  1009.79,986.14 1009.79,967.242 \n",
       "  \"/>\n",
       "<path clip-path=\"url(#clip480)\" d=\"M190.794 1020.38 L220.47 1020.38 L220.47 1024.32 L190.794 1024.32 L190.794 1020.38 Z\" fill=\"#000000\" fill-rule=\"evenodd\" fill-opacity=\"1\" /><path clip-path=\"url(#clip480)\" d=\"M231.373 1033.28 L239.011 1033.28 L239.011 1006.91 L230.701 1008.58 L230.701 1004.32 L238.965 1002.65 L243.641 1002.65 L243.641 1033.28 L251.28 1033.28 L251.28 1037.21 L231.373 1037.21 L231.373 1033.28 Z\" fill=\"#000000\" fill-rule=\"evenodd\" fill-opacity=\"1\" /><path clip-path=\"url(#clip480)\" d=\"M270.724 1005.73 Q267.113 1005.73 265.284 1009.3 Q263.479 1012.84 263.479 1019.97 Q263.479 1027.07 265.284 1030.64 Q267.113 1034.18 270.724 1034.18 Q274.358 1034.18 276.164 1030.64 Q277.993 1027.07 277.993 1019.97 Q277.993 1012.84 276.164 1009.3 Q274.358 1005.73 270.724 1005.73 M270.724 1002.03 Q276.534 1002.03 279.59 1006.63 Q282.669 1011.22 282.669 1019.97 Q282.669 1028.69 279.59 1033.3 Q276.534 1037.88 270.724 1037.88 Q264.914 1037.88 261.835 1033.3 Q258.78 1028.69 258.78 1019.97 Q258.78 1011.22 261.835 1006.63 Q264.914 1002.03 270.724 1002.03 Z\" fill=\"#000000\" fill-rule=\"evenodd\" fill-opacity=\"1\" /><path clip-path=\"url(#clip480)\" d=\"M399.638 1020.38 L429.314 1020.38 L429.314 1024.32 L399.638 1024.32 L399.638 1020.38 Z\" fill=\"#000000\" fill-rule=\"evenodd\" fill-opacity=\"1\" /><path clip-path=\"url(#clip480)\" d=\"M439.453 1002.65 L457.809 1002.65 L457.809 1006.59 L443.735 1006.59 L443.735 1015.06 Q444.754 1014.71 445.772 1014.55 Q446.791 1014.36 447.809 1014.36 Q453.596 1014.36 456.976 1017.54 Q460.355 1020.71 460.355 1026.12 Q460.355 1031.7 456.883 1034.8 Q453.411 1037.88 447.092 1037.88 Q444.916 1037.88 442.647 1037.51 Q440.402 1037.14 437.994 1036.4 L437.994 1031.7 Q440.078 1032.84 442.3 1033.39 Q444.522 1033.95 446.999 1033.95 Q451.004 1033.95 453.342 1031.84 Q455.68 1029.74 455.68 1026.12 Q455.68 1022.51 453.342 1020.41 Q451.004 1018.3 446.999 1018.3 Q445.124 1018.3 443.249 1018.72 Q441.397 1019.13 439.453 1020.01 L439.453 1002.65 Z\" fill=\"#000000\" fill-rule=\"evenodd\" fill-opacity=\"1\" /><path clip-path=\"url(#clip480)\" d=\"M623.262 1005.73 Q619.651 1005.73 617.823 1009.3 Q616.017 1012.84 616.017 1019.97 Q616.017 1027.07 617.823 1030.64 Q619.651 1034.18 623.262 1034.18 Q626.897 1034.18 628.702 1030.64 Q630.531 1027.07 630.531 1019.97 Q630.531 1012.84 628.702 1009.3 Q626.897 1005.73 623.262 1005.73 M623.262 1002.03 Q629.073 1002.03 632.128 1006.63 Q635.207 1011.22 635.207 1019.97 Q635.207 1028.69 632.128 1033.3 Q629.073 1037.88 623.262 1037.88 Q617.452 1037.88 614.374 1033.3 Q611.318 1028.69 611.318 1019.97 Q611.318 1011.22 614.374 1006.63 Q617.452 1002.03 623.262 1002.03 Z\" fill=\"#000000\" fill-rule=\"evenodd\" fill-opacity=\"1\" /><path clip-path=\"url(#clip480)\" d=\"M806.806 1002.65 L825.162 1002.65 L825.162 1006.59 L811.088 1006.59 L811.088 1015.06 Q812.107 1014.71 813.125 1014.55 Q814.144 1014.36 815.162 1014.36 Q820.949 1014.36 824.329 1017.54 Q827.708 1020.71 827.708 1026.12 Q827.708 1031.7 824.236 1034.8 Q820.764 1037.88 814.445 1037.88 Q812.269 1037.88 810 1037.51 Q807.755 1037.14 805.347 1036.4 L805.347 1031.7 Q807.431 1032.84 809.653 1033.39 Q811.875 1033.95 814.352 1033.95 Q818.357 1033.95 820.695 1031.84 Q823.033 1029.74 823.033 1026.12 Q823.033 1022.51 820.695 1020.41 Q818.357 1018.3 814.352 1018.3 Q812.477 1018.3 810.602 1018.72 Q808.75 1019.13 806.806 1020.01 L806.806 1002.65 Z\" fill=\"#000000\" fill-rule=\"evenodd\" fill-opacity=\"1\" /><path clip-path=\"url(#clip480)\" d=\"M984.481 1033.28 L992.12 1033.28 L992.12 1006.91 L983.81 1008.58 L983.81 1004.32 L992.074 1002.65 L996.75 1002.65 L996.75 1033.28 L1004.39 1033.28 L1004.39 1037.21 L984.481 1037.21 L984.481 1033.28 Z\" fill=\"#000000\" fill-rule=\"evenodd\" fill-opacity=\"1\" /><path clip-path=\"url(#clip480)\" d=\"M1023.83 1005.73 Q1020.22 1005.73 1018.39 1009.3 Q1016.59 1012.84 1016.59 1019.97 Q1016.59 1027.07 1018.39 1030.64 Q1020.22 1034.18 1023.83 1034.18 Q1027.47 1034.18 1029.27 1030.64 Q1031.1 1027.07 1031.1 1019.97 Q1031.1 1012.84 1029.27 1009.3 Q1027.47 1005.73 1023.83 1005.73 M1023.83 1002.03 Q1029.64 1002.03 1032.7 1006.63 Q1035.78 1011.22 1035.78 1019.97 Q1035.78 1028.69 1032.7 1033.3 Q1029.64 1037.88 1023.83 1037.88 Q1018.02 1037.88 1014.94 1033.3 Q1011.89 1028.69 1011.89 1019.97 Q1011.89 1011.22 1014.94 1006.63 Q1018.02 1002.03 1023.83 1002.03 Z\" fill=\"#000000\" fill-rule=\"evenodd\" fill-opacity=\"1\" /><path clip-path=\"url(#clip480)\" d=\"M704.535 1077.36 L691.644 1094.7 L705.203 1113 L698.296 1113 L687.92 1099 L677.544 1113 L670.637 1113 L684.483 1094.35 L671.815 1077.36 L678.722 1077.36 L688.175 1090.06 L697.628 1077.36 L704.535 1077.36 Z\" fill=\"#000000\" fill-rule=\"evenodd\" fill-opacity=\"1\" /><polyline clip-path=\"url(#clip482)\" style=\"stroke:#000000; stroke-linecap:butt; stroke-linejoin:round; stroke-width:2; stroke-opacity:0.1; fill:none\" points=\"\n",
       "  223.085,937.194 1152.76,937.194 \n",
       "  \"/>\n",
       "<polyline clip-path=\"url(#clip482)\" style=\"stroke:#000000; stroke-linecap:butt; stroke-linejoin:round; stroke-width:2; stroke-opacity:0.1; fill:none\" points=\"\n",
       "  223.085,788.949 1152.76,788.949 \n",
       "  \"/>\n",
       "<polyline clip-path=\"url(#clip482)\" style=\"stroke:#000000; stroke-linecap:butt; stroke-linejoin:round; stroke-width:2; stroke-opacity:0.1; fill:none\" points=\"\n",
       "  223.085,640.703 1152.76,640.703 \n",
       "  \"/>\n",
       "<polyline clip-path=\"url(#clip482)\" style=\"stroke:#000000; stroke-linecap:butt; stroke-linejoin:round; stroke-width:2; stroke-opacity:0.1; fill:none\" points=\"\n",
       "  223.085,492.458 1152.76,492.458 \n",
       "  \"/>\n",
       "<polyline clip-path=\"url(#clip482)\" style=\"stroke:#000000; stroke-linecap:butt; stroke-linejoin:round; stroke-width:2; stroke-opacity:0.1; fill:none\" points=\"\n",
       "  223.085,344.213 1152.76,344.213 \n",
       "  \"/>\n",
       "<polyline clip-path=\"url(#clip482)\" style=\"stroke:#000000; stroke-linecap:butt; stroke-linejoin:round; stroke-width:2; stroke-opacity:0.1; fill:none\" points=\"\n",
       "  223.085,195.968 1152.76,195.968 \n",
       "  \"/>\n",
       "<polyline clip-path=\"url(#clip480)\" style=\"stroke:#000000; stroke-linecap:butt; stroke-linejoin:round; stroke-width:4; stroke-opacity:1; fill:none\" points=\"\n",
       "  223.085,986.14 223.085,153.712 \n",
       "  \"/>\n",
       "<polyline clip-path=\"url(#clip480)\" style=\"stroke:#000000; stroke-linecap:butt; stroke-linejoin:round; stroke-width:4; stroke-opacity:1; fill:none\" points=\"\n",
       "  223.085,937.194 241.982,937.194 \n",
       "  \"/>\n",
       "<polyline clip-path=\"url(#clip480)\" style=\"stroke:#000000; stroke-linecap:butt; stroke-linejoin:round; stroke-width:4; stroke-opacity:1; fill:none\" points=\"\n",
       "  223.085,788.949 241.982,788.949 \n",
       "  \"/>\n",
       "<polyline clip-path=\"url(#clip480)\" style=\"stroke:#000000; stroke-linecap:butt; stroke-linejoin:round; stroke-width:4; stroke-opacity:1; fill:none\" points=\"\n",
       "  223.085,640.703 241.982,640.703 \n",
       "  \"/>\n",
       "<polyline clip-path=\"url(#clip480)\" style=\"stroke:#000000; stroke-linecap:butt; stroke-linejoin:round; stroke-width:4; stroke-opacity:1; fill:none\" points=\"\n",
       "  223.085,492.458 241.982,492.458 \n",
       "  \"/>\n",
       "<polyline clip-path=\"url(#clip480)\" style=\"stroke:#000000; stroke-linecap:butt; stroke-linejoin:round; stroke-width:4; stroke-opacity:1; fill:none\" points=\"\n",
       "  223.085,344.213 241.982,344.213 \n",
       "  \"/>\n",
       "<polyline clip-path=\"url(#clip480)\" style=\"stroke:#000000; stroke-linecap:butt; stroke-linejoin:round; stroke-width:4; stroke-opacity:1; fill:none\" points=\"\n",
       "  223.085,195.968 241.982,195.968 \n",
       "  \"/>\n",
       "<path clip-path=\"url(#clip480)\" d=\"M144.02 937.645 L173.696 937.645 L173.696 941.581 L144.02 941.581 L144.02 937.645 Z\" fill=\"#000000\" fill-rule=\"evenodd\" fill-opacity=\"1\" /><path clip-path=\"url(#clip480)\" d=\"M197.955 935.84 Q201.312 936.557 203.187 938.826 Q205.085 941.094 205.085 944.428 Q205.085 949.543 201.566 952.344 Q198.048 955.145 191.566 955.145 Q189.39 955.145 187.075 954.705 Q184.784 954.289 182.33 953.432 L182.33 948.918 Q184.275 950.053 186.589 950.631 Q188.904 951.21 191.427 951.21 Q195.825 951.21 198.117 949.474 Q200.432 947.738 200.432 944.428 Q200.432 941.372 198.279 939.659 Q196.15 937.923 192.33 937.923 L188.302 937.923 L188.302 934.081 L192.515 934.081 Q195.964 934.081 197.793 932.715 Q199.622 931.326 199.622 928.733 Q199.622 926.071 197.724 924.659 Q195.849 923.224 192.33 923.224 Q190.409 923.224 188.21 923.641 Q186.011 924.058 183.372 924.937 L183.372 920.77 Q186.034 920.03 188.349 919.659 Q190.687 919.289 192.747 919.289 Q198.071 919.289 201.173 921.72 Q204.274 924.127 204.274 928.247 Q204.274 931.118 202.631 933.108 Q200.987 935.076 197.955 935.84 Z\" fill=\"#000000\" fill-rule=\"evenodd\" fill-opacity=\"1\" /><path clip-path=\"url(#clip480)\" d=\"M144.969 789.4 L174.645 789.4 L174.645 793.335 L144.969 793.335 L144.969 789.4 Z\" fill=\"#000000\" fill-rule=\"evenodd\" fill-opacity=\"1\" /><path clip-path=\"url(#clip480)\" d=\"M188.765 802.294 L205.085 802.294 L205.085 806.229 L183.14 806.229 L183.14 802.294 Q185.802 799.539 190.386 794.909 Q194.992 790.257 196.173 788.914 Q198.418 786.391 199.298 784.655 Q200.2 782.896 200.2 781.206 Q200.2 778.451 198.256 776.715 Q196.335 774.979 193.233 774.979 Q191.034 774.979 188.58 775.743 Q186.15 776.507 183.372 778.058 L183.372 773.335 Q186.196 772.201 188.65 771.622 Q191.103 771.044 193.14 771.044 Q198.511 771.044 201.705 773.729 Q204.899 776.414 204.899 780.905 Q204.899 783.034 204.089 784.956 Q203.302 786.854 201.196 789.446 Q200.617 790.118 197.515 793.335 Q194.413 796.53 188.765 802.294 Z\" fill=\"#000000\" fill-rule=\"evenodd\" fill-opacity=\"1\" /><path clip-path=\"url(#clip480)\" d=\"M144.599 641.155 L174.275 641.155 L174.275 645.09 L144.599 645.09 L144.599 641.155 Z\" fill=\"#000000\" fill-rule=\"evenodd\" fill-opacity=\"1\" /><path clip-path=\"url(#clip480)\" d=\"M185.177 654.048 L192.816 654.048 L192.816 627.683 L184.506 629.349 L184.506 625.09 L192.77 623.423 L197.446 623.423 L197.446 654.048 L205.085 654.048 L205.085 657.983 L185.177 657.983 L185.177 654.048 Z\" fill=\"#000000\" fill-rule=\"evenodd\" fill-opacity=\"1\" /><path clip-path=\"url(#clip480)\" d=\"M193.14 478.257 Q189.529 478.257 187.7 481.822 Q185.895 485.363 185.895 492.493 Q185.895 499.599 187.7 503.164 Q189.529 506.706 193.14 506.706 Q196.775 506.706 198.58 503.164 Q200.409 499.599 200.409 492.493 Q200.409 485.363 198.58 481.822 Q196.775 478.257 193.14 478.257 M193.14 474.553 Q198.95 474.553 202.006 479.16 Q205.085 483.743 205.085 492.493 Q205.085 501.22 202.006 505.826 Q198.95 510.409 193.14 510.409 Q187.33 510.409 184.251 505.826 Q181.196 501.22 181.196 492.493 Q181.196 483.743 184.251 479.16 Q187.33 474.553 193.14 474.553 Z\" fill=\"#000000\" fill-rule=\"evenodd\" fill-opacity=\"1\" /><path clip-path=\"url(#clip480)\" d=\"M185.177 357.558 L192.816 357.558 L192.816 331.192 L184.506 332.859 L184.506 328.599 L192.77 326.933 L197.446 326.933 L197.446 357.558 L205.085 357.558 L205.085 361.493 L185.177 361.493 L185.177 357.558 Z\" fill=\"#000000\" fill-rule=\"evenodd\" fill-opacity=\"1\" /><path clip-path=\"url(#clip480)\" d=\"M188.765 209.312 L205.085 209.312 L205.085 213.248 L183.14 213.248 L183.14 209.312 Q185.802 206.558 190.386 201.928 Q194.992 197.275 196.173 195.933 Q198.418 193.41 199.298 191.674 Q200.2 189.914 200.2 188.225 Q200.2 185.47 198.256 183.734 Q196.335 181.998 193.233 181.998 Q191.034 181.998 188.58 182.762 Q186.15 183.525 183.372 185.076 L183.372 180.354 Q186.196 179.22 188.65 178.641 Q191.103 178.063 193.14 178.063 Q198.511 178.063 201.705 180.748 Q204.899 183.433 204.899 187.924 Q204.899 190.053 204.089 191.975 Q203.302 193.873 201.196 196.465 Q200.617 197.137 197.515 200.354 Q194.413 203.549 188.765 209.312 Z\" fill=\"#000000\" fill-rule=\"evenodd\" fill-opacity=\"1\" /><path clip-path=\"url(#clip480)\" d=\"M115.074 568.239 Q121.44 570.722 123.382 573.077 Q125.323 575.432 125.323 579.379 L125.323 584.058 L120.422 584.058 L120.422 580.62 Q120.422 578.201 119.276 576.865 Q118.13 575.528 113.865 573.905 L111.191 572.854 L76.1162 587.273 L76.1162 581.066 L103.998 569.926 L76.1162 558.786 L76.1162 552.579 L115.074 568.239 Z\" fill=\"#000000\" fill-rule=\"evenodd\" fill-opacity=\"1\" /><path clip-path=\"url(#clip480)\" d=\"M646.439 12.096 L655.229 12.096 L670.258 34.5785 L685.368 12.096 L694.159 12.096 L674.714 41.141 L695.455 72.576 L686.664 72.576 L669.651 46.8528 L652.515 72.576 L643.684 72.576 L665.276 40.2903 L646.439 12.096 Z\" fill=\"#000000\" fill-rule=\"evenodd\" fill-opacity=\"1\" /><path clip-path=\"url(#clip480)\" d=\"M732.156 34.1734 Q730.9 33.4443 729.402 33.1202 Q727.943 32.7556 726.161 32.7556 Q719.841 32.7556 716.439 36.8875 Q713.076 40.9789 713.076 48.6757 L713.076 72.576 L705.582 72.576 L705.582 27.2059 L713.076 27.2059 L713.076 34.2544 Q715.426 30.1225 719.193 28.1376 Q722.961 26.1121 728.348 26.1121 Q729.118 26.1121 730.05 26.2337 Q730.981 26.3147 732.116 26.5172 L732.156 34.1734 Z\" fill=\"#000000\" fill-rule=\"evenodd\" fill-opacity=\"1\" /><circle clip-path=\"url(#clip482)\" cx=\"458.869\" cy=\"241.93\" r=\"14\" fill=\"#009af9\" fill-rule=\"evenodd\" fill-opacity=\"1\" stroke=\"#000000\" stroke-opacity=\"1\" stroke-width=\"2.4\"/>\n",
       "<circle clip-path=\"url(#clip482)\" cx=\"503.736\" cy=\"525.253\" r=\"14\" fill=\"#009af9\" fill-rule=\"evenodd\" fill-opacity=\"1\" stroke=\"#000000\" stroke-opacity=\"1\" stroke-width=\"2.4\"/>\n",
       "<circle clip-path=\"url(#clip482)\" cx=\"1114.3\" cy=\"421.652\" r=\"14\" fill=\"#009af9\" fill-rule=\"evenodd\" fill-opacity=\"1\" stroke=\"#000000\" stroke-opacity=\"1\" stroke-width=\"2.4\"/>\n",
       "<circle clip-path=\"url(#clip482)\" cx=\"1126.44\" cy=\"626.062\" r=\"14\" fill=\"#009af9\" fill-rule=\"evenodd\" fill-opacity=\"1\" stroke=\"#000000\" stroke-opacity=\"1\" stroke-width=\"2.4\"/>\n",
       "<circle clip-path=\"url(#clip482)\" cx=\"286.831\" cy=\"177.271\" r=\"14\" fill=\"#009af9\" fill-rule=\"evenodd\" fill-opacity=\"1\" stroke=\"#000000\" stroke-opacity=\"1\" stroke-width=\"2.4\"/>\n",
       "<circle clip-path=\"url(#clip482)\" cx=\"249.396\" cy=\"962.581\" r=\"14\" fill=\"#009af9\" fill-rule=\"evenodd\" fill-opacity=\"1\" stroke=\"#000000\" stroke-opacity=\"1\" stroke-width=\"2.4\"/>\n",
       "</svg>\n"
      ]
     },
     "execution_count": 253,
     "metadata": {},
     "output_type": "execute_result"
    }
   ],
   "source": [
    "# TODO \n",
    "\n",
    "# (3) Compute relative coordinates\n",
    "# TODO: Use the relationship between G and C to compute Xr \n",
    "# The $i$th column of $Xr$ should be computed from the $i$th largest eigenpair of $C^T C$ \n",
    "(U, s, V) = svd(G)\n",
    "Xr = Diagonal( sqrt.(s[1:d])) * V[:,1:d]'\n",
    "# Visualize the coordinates\n",
    "myplotter(Xr)\n",
    "title!(\"Xr\")"
   ]
  },
  {
   "cell_type": "code",
   "execution_count": 254,
   "metadata": {},
   "outputs": [
    {
     "data": {
      "text/plain": [
       "2×6 Matrix{Float64}:\n",
       " -4.25306  -3.09228   12.7037    13.0179    -8.70387  -9.67235\n",
       "  1.68996  -0.221219   0.477627  -0.901234   2.12612  -3.17125"
      ]
     },
     "execution_count": 254,
     "metadata": {},
     "output_type": "execute_result"
    }
   ],
   "source": [
    "Xr"
   ]
  },
  {
   "cell_type": "code",
   "execution_count": 255,
   "metadata": {},
   "outputs": [
    {
     "data": {
      "image/svg+xml": [
       "<?xml version=\"1.0\" encoding=\"utf-8\"?>\n",
       "<svg xmlns=\"http://www.w3.org/2000/svg\" xmlns:xlink=\"http://www.w3.org/1999/xlink\" width=\"300\" height=\"300\" viewBox=\"0 0 1200 1200\">\n",
       "<defs>\n",
       "  <clipPath id=\"clip520\">\n",
       "    <rect x=\"0\" y=\"0\" width=\"1200\" height=\"1200\"/>\n",
       "  </clipPath>\n",
       "</defs>\n",
       "<path clip-path=\"url(#clip520)\" d=\"\n",
       "M0 1200 L1200 1200 L1200 0 L0 0  Z\n",
       "  \" fill=\"#ffffff\" fill-rule=\"evenodd\" fill-opacity=\"1\"/>\n",
       "<defs>\n",
       "  <clipPath id=\"clip521\">\n",
       "    <rect x=\"240\" y=\"120\" width=\"841\" height=\"841\"/>\n",
       "  </clipPath>\n",
       "</defs>\n",
       "<path clip-path=\"url(#clip520)\" d=\"\n",
       "M223.085 986.14 L1152.76 986.14 L1152.76 153.712 L223.085 153.712  Z\n",
       "  \" fill=\"#ffffff\" fill-rule=\"evenodd\" fill-opacity=\"1\"/>\n",
       "<defs>\n",
       "  <clipPath id=\"clip522\">\n",
       "    <rect x=\"223\" y=\"153\" width=\"931\" height=\"833\"/>\n",
       "  </clipPath>\n",
       "</defs>\n",
       "<polyline clip-path=\"url(#clip522)\" style=\"stroke:#000000; stroke-linecap:butt; stroke-linejoin:round; stroke-width:2; stroke-opacity:0.1; fill:none\" points=\"\n",
       "  236.731,986.14 236.731,153.712 \n",
       "  \"/>\n",
       "<polyline clip-path=\"url(#clip522)\" style=\"stroke:#000000; stroke-linecap:butt; stroke-linejoin:round; stroke-width:2; stroke-opacity:0.1; fill:none\" points=\"\n",
       "  429.997,986.14 429.997,153.712 \n",
       "  \"/>\n",
       "<polyline clip-path=\"url(#clip522)\" style=\"stroke:#000000; stroke-linecap:butt; stroke-linejoin:round; stroke-width:2; stroke-opacity:0.1; fill:none\" points=\"\n",
       "  623.262,986.14 623.262,153.712 \n",
       "  \"/>\n",
       "<polyline clip-path=\"url(#clip522)\" style=\"stroke:#000000; stroke-linecap:butt; stroke-linejoin:round; stroke-width:2; stroke-opacity:0.1; fill:none\" points=\"\n",
       "  816.528,986.14 816.528,153.712 \n",
       "  \"/>\n",
       "<polyline clip-path=\"url(#clip522)\" style=\"stroke:#000000; stroke-linecap:butt; stroke-linejoin:round; stroke-width:2; stroke-opacity:0.1; fill:none\" points=\"\n",
       "  1009.79,986.14 1009.79,153.712 \n",
       "  \"/>\n",
       "<polyline clip-path=\"url(#clip520)\" style=\"stroke:#000000; stroke-linecap:butt; stroke-linejoin:round; stroke-width:4; stroke-opacity:1; fill:none\" points=\"\n",
       "  223.085,986.14 1152.76,986.14 \n",
       "  \"/>\n",
       "<polyline clip-path=\"url(#clip520)\" style=\"stroke:#000000; stroke-linecap:butt; stroke-linejoin:round; stroke-width:4; stroke-opacity:1; fill:none\" points=\"\n",
       "  236.731,986.14 236.731,967.242 \n",
       "  \"/>\n",
       "<polyline clip-path=\"url(#clip520)\" style=\"stroke:#000000; stroke-linecap:butt; stroke-linejoin:round; stroke-width:4; stroke-opacity:1; fill:none\" points=\"\n",
       "  429.997,986.14 429.997,967.242 \n",
       "  \"/>\n",
       "<polyline clip-path=\"url(#clip520)\" style=\"stroke:#000000; stroke-linecap:butt; stroke-linejoin:round; stroke-width:4; stroke-opacity:1; fill:none\" points=\"\n",
       "  623.262,986.14 623.262,967.242 \n",
       "  \"/>\n",
       "<polyline clip-path=\"url(#clip520)\" style=\"stroke:#000000; stroke-linecap:butt; stroke-linejoin:round; stroke-width:4; stroke-opacity:1; fill:none\" points=\"\n",
       "  816.528,986.14 816.528,967.242 \n",
       "  \"/>\n",
       "<polyline clip-path=\"url(#clip520)\" style=\"stroke:#000000; stroke-linecap:butt; stroke-linejoin:round; stroke-width:4; stroke-opacity:1; fill:none\" points=\"\n",
       "  1009.79,986.14 1009.79,967.242 \n",
       "  \"/>\n",
       "<path clip-path=\"url(#clip520)\" d=\"M190.794 1020.38 L220.47 1020.38 L220.47 1024.32 L190.794 1024.32 L190.794 1020.38 Z\" fill=\"#000000\" fill-rule=\"evenodd\" fill-opacity=\"1\" /><path clip-path=\"url(#clip520)\" d=\"M231.373 1033.28 L239.011 1033.28 L239.011 1006.91 L230.701 1008.58 L230.701 1004.32 L238.965 1002.65 L243.641 1002.65 L243.641 1033.28 L251.28 1033.28 L251.28 1037.21 L231.373 1037.21 L231.373 1033.28 Z\" fill=\"#000000\" fill-rule=\"evenodd\" fill-opacity=\"1\" /><path clip-path=\"url(#clip520)\" d=\"M270.724 1005.73 Q267.113 1005.73 265.284 1009.3 Q263.479 1012.84 263.479 1019.97 Q263.479 1027.07 265.284 1030.64 Q267.113 1034.18 270.724 1034.18 Q274.358 1034.18 276.164 1030.64 Q277.993 1027.07 277.993 1019.97 Q277.993 1012.84 276.164 1009.3 Q274.358 1005.73 270.724 1005.73 M270.724 1002.03 Q276.534 1002.03 279.59 1006.63 Q282.669 1011.22 282.669 1019.97 Q282.669 1028.69 279.59 1033.3 Q276.534 1037.88 270.724 1037.88 Q264.914 1037.88 261.835 1033.3 Q258.78 1028.69 258.78 1019.97 Q258.78 1011.22 261.835 1006.63 Q264.914 1002.03 270.724 1002.03 Z\" fill=\"#000000\" fill-rule=\"evenodd\" fill-opacity=\"1\" /><path clip-path=\"url(#clip520)\" d=\"M399.638 1020.38 L429.314 1020.38 L429.314 1024.32 L399.638 1024.32 L399.638 1020.38 Z\" fill=\"#000000\" fill-rule=\"evenodd\" fill-opacity=\"1\" /><path clip-path=\"url(#clip520)\" d=\"M439.453 1002.65 L457.809 1002.65 L457.809 1006.59 L443.735 1006.59 L443.735 1015.06 Q444.754 1014.71 445.772 1014.55 Q446.791 1014.36 447.809 1014.36 Q453.596 1014.36 456.976 1017.54 Q460.355 1020.71 460.355 1026.12 Q460.355 1031.7 456.883 1034.8 Q453.411 1037.88 447.092 1037.88 Q444.916 1037.88 442.647 1037.51 Q440.402 1037.14 437.994 1036.4 L437.994 1031.7 Q440.078 1032.84 442.3 1033.39 Q444.522 1033.95 446.999 1033.95 Q451.004 1033.95 453.342 1031.84 Q455.68 1029.74 455.68 1026.12 Q455.68 1022.51 453.342 1020.41 Q451.004 1018.3 446.999 1018.3 Q445.124 1018.3 443.249 1018.72 Q441.397 1019.13 439.453 1020.01 L439.453 1002.65 Z\" fill=\"#000000\" fill-rule=\"evenodd\" fill-opacity=\"1\" /><path clip-path=\"url(#clip520)\" d=\"M623.262 1005.73 Q619.651 1005.73 617.823 1009.3 Q616.017 1012.84 616.017 1019.97 Q616.017 1027.07 617.823 1030.64 Q619.651 1034.18 623.262 1034.18 Q626.897 1034.18 628.702 1030.64 Q630.531 1027.07 630.531 1019.97 Q630.531 1012.84 628.702 1009.3 Q626.897 1005.73 623.262 1005.73 M623.262 1002.03 Q629.073 1002.03 632.128 1006.63 Q635.207 1011.22 635.207 1019.97 Q635.207 1028.69 632.128 1033.3 Q629.073 1037.88 623.262 1037.88 Q617.452 1037.88 614.374 1033.3 Q611.318 1028.69 611.318 1019.97 Q611.318 1011.22 614.374 1006.63 Q617.452 1002.03 623.262 1002.03 Z\" fill=\"#000000\" fill-rule=\"evenodd\" fill-opacity=\"1\" /><path clip-path=\"url(#clip520)\" d=\"M806.806 1002.65 L825.162 1002.65 L825.162 1006.59 L811.088 1006.59 L811.088 1015.06 Q812.107 1014.71 813.125 1014.55 Q814.144 1014.36 815.162 1014.36 Q820.949 1014.36 824.329 1017.54 Q827.708 1020.71 827.708 1026.12 Q827.708 1031.7 824.236 1034.8 Q820.764 1037.88 814.445 1037.88 Q812.269 1037.88 810 1037.51 Q807.755 1037.14 805.347 1036.4 L805.347 1031.7 Q807.431 1032.84 809.653 1033.39 Q811.875 1033.95 814.352 1033.95 Q818.357 1033.95 820.695 1031.84 Q823.033 1029.74 823.033 1026.12 Q823.033 1022.51 820.695 1020.41 Q818.357 1018.3 814.352 1018.3 Q812.477 1018.3 810.602 1018.72 Q808.75 1019.13 806.806 1020.01 L806.806 1002.65 Z\" fill=\"#000000\" fill-rule=\"evenodd\" fill-opacity=\"1\" /><path clip-path=\"url(#clip520)\" d=\"M984.481 1033.28 L992.12 1033.28 L992.12 1006.91 L983.81 1008.58 L983.81 1004.32 L992.074 1002.65 L996.75 1002.65 L996.75 1033.28 L1004.39 1033.28 L1004.39 1037.21 L984.481 1037.21 L984.481 1033.28 Z\" fill=\"#000000\" fill-rule=\"evenodd\" fill-opacity=\"1\" /><path clip-path=\"url(#clip520)\" d=\"M1023.83 1005.73 Q1020.22 1005.73 1018.39 1009.3 Q1016.59 1012.84 1016.59 1019.97 Q1016.59 1027.07 1018.39 1030.64 Q1020.22 1034.18 1023.83 1034.18 Q1027.47 1034.18 1029.27 1030.64 Q1031.1 1027.07 1031.1 1019.97 Q1031.1 1012.84 1029.27 1009.3 Q1027.47 1005.73 1023.83 1005.73 M1023.83 1002.03 Q1029.64 1002.03 1032.7 1006.63 Q1035.78 1011.22 1035.78 1019.97 Q1035.78 1028.69 1032.7 1033.3 Q1029.64 1037.88 1023.83 1037.88 Q1018.02 1037.88 1014.94 1033.3 Q1011.89 1028.69 1011.89 1019.97 Q1011.89 1011.22 1014.94 1006.63 Q1018.02 1002.03 1023.83 1002.03 Z\" fill=\"#000000\" fill-rule=\"evenodd\" fill-opacity=\"1\" /><path clip-path=\"url(#clip520)\" d=\"M704.535 1077.36 L691.644 1094.7 L705.203 1113 L698.296 1113 L687.92 1099 L677.544 1113 L670.637 1113 L684.483 1094.35 L671.815 1077.36 L678.722 1077.36 L688.175 1090.06 L697.628 1077.36 L704.535 1077.36 Z\" fill=\"#000000\" fill-rule=\"evenodd\" fill-opacity=\"1\" /><polyline clip-path=\"url(#clip522)\" style=\"stroke:#000000; stroke-linecap:butt; stroke-linejoin:round; stroke-width:2; stroke-opacity:0.1; fill:none\" points=\"\n",
       "  223.085,937.194 1152.76,937.194 \n",
       "  \"/>\n",
       "<polyline clip-path=\"url(#clip522)\" style=\"stroke:#000000; stroke-linecap:butt; stroke-linejoin:round; stroke-width:2; stroke-opacity:0.1; fill:none\" points=\"\n",
       "  223.085,788.949 1152.76,788.949 \n",
       "  \"/>\n",
       "<polyline clip-path=\"url(#clip522)\" style=\"stroke:#000000; stroke-linecap:butt; stroke-linejoin:round; stroke-width:2; stroke-opacity:0.1; fill:none\" points=\"\n",
       "  223.085,640.703 1152.76,640.703 \n",
       "  \"/>\n",
       "<polyline clip-path=\"url(#clip522)\" style=\"stroke:#000000; stroke-linecap:butt; stroke-linejoin:round; stroke-width:2; stroke-opacity:0.1; fill:none\" points=\"\n",
       "  223.085,492.458 1152.76,492.458 \n",
       "  \"/>\n",
       "<polyline clip-path=\"url(#clip522)\" style=\"stroke:#000000; stroke-linecap:butt; stroke-linejoin:round; stroke-width:2; stroke-opacity:0.1; fill:none\" points=\"\n",
       "  223.085,344.213 1152.76,344.213 \n",
       "  \"/>\n",
       "<polyline clip-path=\"url(#clip522)\" style=\"stroke:#000000; stroke-linecap:butt; stroke-linejoin:round; stroke-width:2; stroke-opacity:0.1; fill:none\" points=\"\n",
       "  223.085,195.968 1152.76,195.968 \n",
       "  \"/>\n",
       "<polyline clip-path=\"url(#clip520)\" style=\"stroke:#000000; stroke-linecap:butt; stroke-linejoin:round; stroke-width:4; stroke-opacity:1; fill:none\" points=\"\n",
       "  223.085,986.14 223.085,153.712 \n",
       "  \"/>\n",
       "<polyline clip-path=\"url(#clip520)\" style=\"stroke:#000000; stroke-linecap:butt; stroke-linejoin:round; stroke-width:4; stroke-opacity:1; fill:none\" points=\"\n",
       "  223.085,937.194 241.982,937.194 \n",
       "  \"/>\n",
       "<polyline clip-path=\"url(#clip520)\" style=\"stroke:#000000; stroke-linecap:butt; stroke-linejoin:round; stroke-width:4; stroke-opacity:1; fill:none\" points=\"\n",
       "  223.085,788.949 241.982,788.949 \n",
       "  \"/>\n",
       "<polyline clip-path=\"url(#clip520)\" style=\"stroke:#000000; stroke-linecap:butt; stroke-linejoin:round; stroke-width:4; stroke-opacity:1; fill:none\" points=\"\n",
       "  223.085,640.703 241.982,640.703 \n",
       "  \"/>\n",
       "<polyline clip-path=\"url(#clip520)\" style=\"stroke:#000000; stroke-linecap:butt; stroke-linejoin:round; stroke-width:4; stroke-opacity:1; fill:none\" points=\"\n",
       "  223.085,492.458 241.982,492.458 \n",
       "  \"/>\n",
       "<polyline clip-path=\"url(#clip520)\" style=\"stroke:#000000; stroke-linecap:butt; stroke-linejoin:round; stroke-width:4; stroke-opacity:1; fill:none\" points=\"\n",
       "  223.085,344.213 241.982,344.213 \n",
       "  \"/>\n",
       "<polyline clip-path=\"url(#clip520)\" style=\"stroke:#000000; stroke-linecap:butt; stroke-linejoin:round; stroke-width:4; stroke-opacity:1; fill:none\" points=\"\n",
       "  223.085,195.968 241.982,195.968 \n",
       "  \"/>\n",
       "<path clip-path=\"url(#clip520)\" d=\"M144.02 937.645 L173.696 937.645 L173.696 941.581 L144.02 941.581 L144.02 937.645 Z\" fill=\"#000000\" fill-rule=\"evenodd\" fill-opacity=\"1\" /><path clip-path=\"url(#clip520)\" d=\"M197.955 935.84 Q201.312 936.557 203.187 938.826 Q205.085 941.094 205.085 944.428 Q205.085 949.543 201.566 952.344 Q198.048 955.145 191.566 955.145 Q189.39 955.145 187.075 954.705 Q184.784 954.289 182.33 953.432 L182.33 948.918 Q184.275 950.053 186.589 950.631 Q188.904 951.21 191.427 951.21 Q195.825 951.21 198.117 949.474 Q200.432 947.738 200.432 944.428 Q200.432 941.372 198.279 939.659 Q196.15 937.923 192.33 937.923 L188.302 937.923 L188.302 934.081 L192.515 934.081 Q195.964 934.081 197.793 932.715 Q199.622 931.326 199.622 928.733 Q199.622 926.071 197.724 924.659 Q195.849 923.224 192.33 923.224 Q190.409 923.224 188.21 923.641 Q186.011 924.058 183.372 924.937 L183.372 920.77 Q186.034 920.03 188.349 919.659 Q190.687 919.289 192.747 919.289 Q198.071 919.289 201.173 921.72 Q204.274 924.127 204.274 928.247 Q204.274 931.118 202.631 933.108 Q200.987 935.076 197.955 935.84 Z\" fill=\"#000000\" fill-rule=\"evenodd\" fill-opacity=\"1\" /><path clip-path=\"url(#clip520)\" d=\"M144.969 789.4 L174.645 789.4 L174.645 793.335 L144.969 793.335 L144.969 789.4 Z\" fill=\"#000000\" fill-rule=\"evenodd\" fill-opacity=\"1\" /><path clip-path=\"url(#clip520)\" d=\"M188.765 802.294 L205.085 802.294 L205.085 806.229 L183.14 806.229 L183.14 802.294 Q185.802 799.539 190.386 794.909 Q194.992 790.257 196.173 788.914 Q198.418 786.391 199.298 784.655 Q200.2 782.896 200.2 781.206 Q200.2 778.451 198.256 776.715 Q196.335 774.979 193.233 774.979 Q191.034 774.979 188.58 775.743 Q186.15 776.507 183.372 778.058 L183.372 773.335 Q186.196 772.201 188.65 771.622 Q191.103 771.044 193.14 771.044 Q198.511 771.044 201.705 773.729 Q204.899 776.414 204.899 780.905 Q204.899 783.034 204.089 784.956 Q203.302 786.854 201.196 789.446 Q200.617 790.118 197.515 793.335 Q194.413 796.53 188.765 802.294 Z\" fill=\"#000000\" fill-rule=\"evenodd\" fill-opacity=\"1\" /><path clip-path=\"url(#clip520)\" d=\"M144.599 641.155 L174.275 641.155 L174.275 645.09 L144.599 645.09 L144.599 641.155 Z\" fill=\"#000000\" fill-rule=\"evenodd\" fill-opacity=\"1\" /><path clip-path=\"url(#clip520)\" d=\"M185.177 654.048 L192.816 654.048 L192.816 627.683 L184.506 629.349 L184.506 625.09 L192.77 623.423 L197.446 623.423 L197.446 654.048 L205.085 654.048 L205.085 657.983 L185.177 657.983 L185.177 654.048 Z\" fill=\"#000000\" fill-rule=\"evenodd\" fill-opacity=\"1\" /><path clip-path=\"url(#clip520)\" d=\"M193.14 478.257 Q189.529 478.257 187.7 481.822 Q185.895 485.363 185.895 492.493 Q185.895 499.599 187.7 503.164 Q189.529 506.706 193.14 506.706 Q196.775 506.706 198.58 503.164 Q200.409 499.599 200.409 492.493 Q200.409 485.363 198.58 481.822 Q196.775 478.257 193.14 478.257 M193.14 474.553 Q198.95 474.553 202.006 479.16 Q205.085 483.743 205.085 492.493 Q205.085 501.22 202.006 505.826 Q198.95 510.409 193.14 510.409 Q187.33 510.409 184.251 505.826 Q181.196 501.22 181.196 492.493 Q181.196 483.743 184.251 479.16 Q187.33 474.553 193.14 474.553 Z\" fill=\"#000000\" fill-rule=\"evenodd\" fill-opacity=\"1\" /><path clip-path=\"url(#clip520)\" d=\"M185.177 357.558 L192.816 357.558 L192.816 331.192 L184.506 332.859 L184.506 328.599 L192.77 326.933 L197.446 326.933 L197.446 357.558 L205.085 357.558 L205.085 361.493 L185.177 361.493 L185.177 357.558 Z\" fill=\"#000000\" fill-rule=\"evenodd\" fill-opacity=\"1\" /><path clip-path=\"url(#clip520)\" d=\"M188.765 209.312 L205.085 209.312 L205.085 213.248 L183.14 213.248 L183.14 209.312 Q185.802 206.558 190.386 201.928 Q194.992 197.275 196.173 195.933 Q198.418 193.41 199.298 191.674 Q200.2 189.914 200.2 188.225 Q200.2 185.47 198.256 183.734 Q196.335 181.998 193.233 181.998 Q191.034 181.998 188.58 182.762 Q186.15 183.525 183.372 185.076 L183.372 180.354 Q186.196 179.22 188.65 178.641 Q191.103 178.063 193.14 178.063 Q198.511 178.063 201.705 180.748 Q204.899 183.433 204.899 187.924 Q204.899 190.053 204.089 191.975 Q203.302 193.873 201.196 196.465 Q200.617 197.137 197.515 200.354 Q194.413 203.549 188.765 209.312 Z\" fill=\"#000000\" fill-rule=\"evenodd\" fill-opacity=\"1\" /><path clip-path=\"url(#clip520)\" d=\"M115.074 568.239 Q121.44 570.722 123.382 573.077 Q125.323 575.432 125.323 579.379 L125.323 584.058 L120.422 584.058 L120.422 580.62 Q120.422 578.201 119.276 576.865 Q118.13 575.528 113.865 573.905 L111.191 572.854 L76.1162 587.273 L76.1162 581.066 L103.998 569.926 L76.1162 558.786 L76.1162 552.579 L115.074 568.239 Z\" fill=\"#000000\" fill-rule=\"evenodd\" fill-opacity=\"1\" /><path clip-path=\"url(#clip520)\" d=\"M646.439 12.096 L655.229 12.096 L670.258 34.5785 L685.368 12.096 L694.159 12.096 L674.714 41.141 L695.455 72.576 L686.664 72.576 L669.651 46.8528 L652.515 72.576 L643.684 72.576 L665.276 40.2903 L646.439 12.096 Z\" fill=\"#000000\" fill-rule=\"evenodd\" fill-opacity=\"1\" /><path clip-path=\"url(#clip520)\" d=\"M732.156 34.1734 Q730.9 33.4443 729.402 33.1202 Q727.943 32.7556 726.161 32.7556 Q719.841 32.7556 716.439 36.8875 Q713.076 40.9789 713.076 48.6757 L713.076 72.576 L705.582 72.576 L705.582 27.2059 L713.076 27.2059 L713.076 34.2544 Q715.426 30.1225 719.193 28.1376 Q722.961 26.1121 728.348 26.1121 Q729.118 26.1121 730.05 26.2337 Q730.981 26.3147 732.116 26.5172 L732.156 34.1734 Z\" fill=\"#000000\" fill-rule=\"evenodd\" fill-opacity=\"1\" /><circle clip-path=\"url(#clip522)\" cx=\"458.869\" cy=\"241.93\" r=\"14\" fill=\"#009af9\" fill-rule=\"evenodd\" fill-opacity=\"1\" stroke=\"#000000\" stroke-opacity=\"1\" stroke-width=\"2.4\"/>\n",
       "<circle clip-path=\"url(#clip522)\" cx=\"503.736\" cy=\"525.253\" r=\"14\" fill=\"#009af9\" fill-rule=\"evenodd\" fill-opacity=\"1\" stroke=\"#000000\" stroke-opacity=\"1\" stroke-width=\"2.4\"/>\n",
       "<circle clip-path=\"url(#clip522)\" cx=\"1114.3\" cy=\"421.652\" r=\"14\" fill=\"#009af9\" fill-rule=\"evenodd\" fill-opacity=\"1\" stroke=\"#000000\" stroke-opacity=\"1\" stroke-width=\"2.4\"/>\n",
       "<circle clip-path=\"url(#clip522)\" cx=\"1126.44\" cy=\"626.062\" r=\"14\" fill=\"#009af9\" fill-rule=\"evenodd\" fill-opacity=\"1\" stroke=\"#000000\" stroke-opacity=\"1\" stroke-width=\"2.4\"/>\n",
       "<circle clip-path=\"url(#clip522)\" cx=\"286.831\" cy=\"177.271\" r=\"14\" fill=\"#009af9\" fill-rule=\"evenodd\" fill-opacity=\"1\" stroke=\"#000000\" stroke-opacity=\"1\" stroke-width=\"2.4\"/>\n",
       "<circle clip-path=\"url(#clip522)\" cx=\"249.396\" cy=\"962.581\" r=\"14\" fill=\"#009af9\" fill-rule=\"evenodd\" fill-opacity=\"1\" stroke=\"#000000\" stroke-opacity=\"1\" stroke-width=\"2.4\"/>\n",
       "</svg>\n"
      ]
     },
     "execution_count": 255,
     "metadata": {},
     "output_type": "execute_result"
    }
   ],
   "source": [
    "e = eigvals(G)\n",
    "V = eigvecs(G)\n",
    "\n",
    "d= min(d, count(e .>0))\n",
    "inv_e = sort(e, rev=true)\n",
    "V[:, indexin(inv_e[1:d], e)]\n",
    "Xr =  V[:, indexin(inv_e[1:d], e)] * Diagonal(sqrt.(inv_e[1:d]))\n",
    "\n",
    "Xr .-= mean(Xr, dims= 1)\n",
    "myplotter(Xr')\n",
    "title!(\"Xr\")"
   ]
  },
  {
   "cell_type": "code",
   "execution_count": null,
   "metadata": {},
   "outputs": [],
   "source": []
  },
  {
   "cell_type": "code",
   "execution_count": null,
   "metadata": {},
   "outputs": [],
   "source": []
  },
  {
   "cell_type": "code",
   "execution_count": 256,
   "metadata": {},
   "outputs": [
    {
     "data": {
      "text/plain": [
       "6×2 Matrix{Float64}:\n",
       " -4.25306   1.68996\n",
       " -3.09228  -0.221219\n",
       " 12.7037    0.477627\n",
       " 13.0179   -0.901234\n",
       " -8.70387   2.12612\n",
       " -9.67235  -3.17125"
      ]
     },
     "execution_count": 256,
     "metadata": {},
     "output_type": "execute_result"
    }
   ],
   "source": [
    "Xr\n"
   ]
  },
  {
   "cell_type": "code",
   "execution_count": null,
   "metadata": {},
   "outputs": [],
   "source": []
  },
  {
   "cell_type": "code",
   "execution_count": 257,
   "metadata": {},
   "outputs": [
    {
     "data": {
      "image/svg+xml": [
       "<?xml version=\"1.0\" encoding=\"utf-8\"?>\n",
       "<svg xmlns=\"http://www.w3.org/2000/svg\" xmlns:xlink=\"http://www.w3.org/1999/xlink\" width=\"300\" height=\"300\" viewBox=\"0 0 1200 1200\">\n",
       "<defs>\n",
       "  <clipPath id=\"clip560\">\n",
       "    <rect x=\"0\" y=\"0\" width=\"1200\" height=\"1200\"/>\n",
       "  </clipPath>\n",
       "</defs>\n",
       "<path clip-path=\"url(#clip560)\" d=\"\n",
       "M0 1200 L1200 1200 L1200 0 L0 0  Z\n",
       "  \" fill=\"#ffffff\" fill-rule=\"evenodd\" fill-opacity=\"1\"/>\n",
       "<defs>\n",
       "  <clipPath id=\"clip561\">\n",
       "    <rect x=\"240\" y=\"120\" width=\"841\" height=\"841\"/>\n",
       "  </clipPath>\n",
       "</defs>\n",
       "<path clip-path=\"url(#clip560)\" d=\"\n",
       "M222.506 986.14 L1152.76 986.14 L1152.76 153.712 L222.506 153.712  Z\n",
       "  \" fill=\"#ffffff\" fill-rule=\"evenodd\" fill-opacity=\"1\"/>\n",
       "<defs>\n",
       "  <clipPath id=\"clip562\">\n",
       "    <rect x=\"222\" y=\"153\" width=\"931\" height=\"833\"/>\n",
       "  </clipPath>\n",
       "</defs>\n",
       "<polyline clip-path=\"url(#clip562)\" style=\"stroke:#000000; stroke-linecap:butt; stroke-linejoin:round; stroke-width:2; stroke-opacity:0.1; fill:none\" points=\"\n",
       "  236.161,986.14 236.161,153.712 \n",
       "  \"/>\n",
       "<polyline clip-path=\"url(#clip562)\" style=\"stroke:#000000; stroke-linecap:butt; stroke-linejoin:round; stroke-width:2; stroke-opacity:0.1; fill:none\" points=\"\n",
       "  429.547,986.14 429.547,153.712 \n",
       "  \"/>\n",
       "<polyline clip-path=\"url(#clip562)\" style=\"stroke:#000000; stroke-linecap:butt; stroke-linejoin:round; stroke-width:2; stroke-opacity:0.1; fill:none\" points=\"\n",
       "  622.933,986.14 622.933,153.712 \n",
       "  \"/>\n",
       "<polyline clip-path=\"url(#clip562)\" style=\"stroke:#000000; stroke-linecap:butt; stroke-linejoin:round; stroke-width:2; stroke-opacity:0.1; fill:none\" points=\"\n",
       "  816.319,986.14 816.319,153.712 \n",
       "  \"/>\n",
       "<polyline clip-path=\"url(#clip562)\" style=\"stroke:#000000; stroke-linecap:butt; stroke-linejoin:round; stroke-width:2; stroke-opacity:0.1; fill:none\" points=\"\n",
       "  1009.7,986.14 1009.7,153.712 \n",
       "  \"/>\n",
       "<polyline clip-path=\"url(#clip560)\" style=\"stroke:#000000; stroke-linecap:butt; stroke-linejoin:round; stroke-width:4; stroke-opacity:1; fill:none\" points=\"\n",
       "  222.506,986.14 1152.76,986.14 \n",
       "  \"/>\n",
       "<polyline clip-path=\"url(#clip560)\" style=\"stroke:#000000; stroke-linecap:butt; stroke-linejoin:round; stroke-width:4; stroke-opacity:1; fill:none\" points=\"\n",
       "  236.161,986.14 236.161,967.242 \n",
       "  \"/>\n",
       "<polyline clip-path=\"url(#clip560)\" style=\"stroke:#000000; stroke-linecap:butt; stroke-linejoin:round; stroke-width:4; stroke-opacity:1; fill:none\" points=\"\n",
       "  429.547,986.14 429.547,967.242 \n",
       "  \"/>\n",
       "<polyline clip-path=\"url(#clip560)\" style=\"stroke:#000000; stroke-linecap:butt; stroke-linejoin:round; stroke-width:4; stroke-opacity:1; fill:none\" points=\"\n",
       "  622.933,986.14 622.933,967.242 \n",
       "  \"/>\n",
       "<polyline clip-path=\"url(#clip560)\" style=\"stroke:#000000; stroke-linecap:butt; stroke-linejoin:round; stroke-width:4; stroke-opacity:1; fill:none\" points=\"\n",
       "  816.319,986.14 816.319,967.242 \n",
       "  \"/>\n",
       "<polyline clip-path=\"url(#clip560)\" style=\"stroke:#000000; stroke-linecap:butt; stroke-linejoin:round; stroke-width:4; stroke-opacity:1; fill:none\" points=\"\n",
       "  1009.7,986.14 1009.7,967.242 \n",
       "  \"/>\n",
       "<path clip-path=\"url(#clip560)\" d=\"M190.224 1020.38 L219.9 1020.38 L219.9 1024.32 L190.224 1024.32 L190.224 1020.38 Z\" fill=\"#000000\" fill-rule=\"evenodd\" fill-opacity=\"1\" /><path clip-path=\"url(#clip560)\" d=\"M230.802 1033.28 L238.441 1033.28 L238.441 1006.91 L230.131 1008.58 L230.131 1004.32 L238.395 1002.65 L243.071 1002.65 L243.071 1033.28 L250.71 1033.28 L250.71 1037.21 L230.802 1037.21 L230.802 1033.28 Z\" fill=\"#000000\" fill-rule=\"evenodd\" fill-opacity=\"1\" /><path clip-path=\"url(#clip560)\" d=\"M270.154 1005.73 Q266.543 1005.73 264.714 1009.3 Q262.909 1012.84 262.909 1019.97 Q262.909 1027.07 264.714 1030.64 Q266.543 1034.18 270.154 1034.18 Q273.788 1034.18 275.594 1030.64 Q277.422 1027.07 277.422 1019.97 Q277.422 1012.84 275.594 1009.3 Q273.788 1005.73 270.154 1005.73 M270.154 1002.03 Q275.964 1002.03 279.02 1006.63 Q282.098 1011.22 282.098 1019.97 Q282.098 1028.69 279.02 1033.3 Q275.964 1037.88 270.154 1037.88 Q264.344 1037.88 261.265 1033.3 Q258.21 1028.69 258.21 1019.97 Q258.21 1011.22 261.265 1006.63 Q264.344 1002.03 270.154 1002.03 Z\" fill=\"#000000\" fill-rule=\"evenodd\" fill-opacity=\"1\" /><path clip-path=\"url(#clip560)\" d=\"M399.188 1020.38 L428.864 1020.38 L428.864 1024.32 L399.188 1024.32 L399.188 1020.38 Z\" fill=\"#000000\" fill-rule=\"evenodd\" fill-opacity=\"1\" /><path clip-path=\"url(#clip560)\" d=\"M439.003 1002.65 L457.359 1002.65 L457.359 1006.59 L443.285 1006.59 L443.285 1015.06 Q444.304 1014.71 445.322 1014.55 Q446.341 1014.36 447.359 1014.36 Q453.146 1014.36 456.526 1017.54 Q459.906 1020.71 459.906 1026.12 Q459.906 1031.7 456.433 1034.8 Q452.961 1037.88 446.642 1037.88 Q444.466 1037.88 442.197 1037.51 Q439.952 1037.14 437.545 1036.4 L437.545 1031.7 Q439.628 1032.84 441.85 1033.39 Q444.072 1033.95 446.549 1033.95 Q450.554 1033.95 452.892 1031.84 Q455.23 1029.74 455.23 1026.12 Q455.23 1022.51 452.892 1020.41 Q450.554 1018.3 446.549 1018.3 Q444.674 1018.3 442.799 1018.72 Q440.947 1019.13 439.003 1020.01 L439.003 1002.65 Z\" fill=\"#000000\" fill-rule=\"evenodd\" fill-opacity=\"1\" /><path clip-path=\"url(#clip560)\" d=\"M622.933 1005.73 Q619.322 1005.73 617.493 1009.3 Q615.687 1012.84 615.687 1019.97 Q615.687 1027.07 617.493 1030.64 Q619.322 1034.18 622.933 1034.18 Q626.567 1034.18 628.373 1030.64 Q630.201 1027.07 630.201 1019.97 Q630.201 1012.84 628.373 1009.3 Q626.567 1005.73 622.933 1005.73 M622.933 1002.03 Q628.743 1002.03 631.798 1006.63 Q634.877 1011.22 634.877 1019.97 Q634.877 1028.69 631.798 1033.3 Q628.743 1037.88 622.933 1037.88 Q617.123 1037.88 614.044 1033.3 Q610.988 1028.69 610.988 1019.97 Q610.988 1011.22 614.044 1006.63 Q617.123 1002.03 622.933 1002.03 Z\" fill=\"#000000\" fill-rule=\"evenodd\" fill-opacity=\"1\" /><path clip-path=\"url(#clip560)\" d=\"M806.596 1002.65 L824.953 1002.65 L824.953 1006.59 L810.879 1006.59 L810.879 1015.06 Q811.897 1014.71 812.916 1014.55 Q813.934 1014.36 814.953 1014.36 Q820.74 1014.36 824.12 1017.54 Q827.499 1020.71 827.499 1026.12 Q827.499 1031.7 824.027 1034.8 Q820.555 1037.88 814.235 1037.88 Q812.059 1037.88 809.791 1037.51 Q807.546 1037.14 805.138 1036.4 L805.138 1031.7 Q807.221 1032.84 809.444 1033.39 Q811.666 1033.95 814.143 1033.95 Q818.147 1033.95 820.485 1031.84 Q822.823 1029.74 822.823 1026.12 Q822.823 1022.51 820.485 1020.41 Q818.147 1018.3 814.143 1018.3 Q812.268 1018.3 810.393 1018.72 Q808.541 1019.13 806.596 1020.01 L806.596 1002.65 Z\" fill=\"#000000\" fill-rule=\"evenodd\" fill-opacity=\"1\" /><path clip-path=\"url(#clip560)\" d=\"M984.392 1033.28 L992.031 1033.28 L992.031 1006.91 L983.721 1008.58 L983.721 1004.32 L991.985 1002.65 L996.661 1002.65 L996.661 1033.28 L1004.3 1033.28 L1004.3 1037.21 L984.392 1037.21 L984.392 1033.28 Z\" fill=\"#000000\" fill-rule=\"evenodd\" fill-opacity=\"1\" /><path clip-path=\"url(#clip560)\" d=\"M1023.74 1005.73 Q1020.13 1005.73 1018.3 1009.3 Q1016.5 1012.84 1016.5 1019.97 Q1016.5 1027.07 1018.3 1030.64 Q1020.13 1034.18 1023.74 1034.18 Q1027.38 1034.18 1029.18 1030.64 Q1031.01 1027.07 1031.01 1019.97 Q1031.01 1012.84 1029.18 1009.3 Q1027.38 1005.73 1023.74 1005.73 M1023.74 1002.03 Q1029.55 1002.03 1032.61 1006.63 Q1035.69 1011.22 1035.69 1019.97 Q1035.69 1028.69 1032.61 1033.3 Q1029.55 1037.88 1023.74 1037.88 Q1017.93 1037.88 1014.85 1033.3 Q1011.8 1028.69 1011.8 1019.97 Q1011.8 1011.22 1014.85 1006.63 Q1017.93 1002.03 1023.74 1002.03 Z\" fill=\"#000000\" fill-rule=\"evenodd\" fill-opacity=\"1\" /><path clip-path=\"url(#clip560)\" d=\"M704.245 1077.36 L691.355 1094.7 L704.914 1113 L698.007 1113 L687.631 1099 L677.255 1113 L670.348 1113 L684.193 1094.35 L671.526 1077.36 L678.432 1077.36 L687.886 1090.06 L697.339 1077.36 L704.245 1077.36 Z\" fill=\"#000000\" fill-rule=\"evenodd\" fill-opacity=\"1\" /><polyline clip-path=\"url(#clip562)\" style=\"stroke:#000000; stroke-linecap:butt; stroke-linejoin:round; stroke-width:2; stroke-opacity:0.1; fill:none\" points=\"\n",
       "  222.506,943.884 1152.76,943.884 \n",
       "  \"/>\n",
       "<polyline clip-path=\"url(#clip562)\" style=\"stroke:#000000; stroke-linecap:butt; stroke-linejoin:round; stroke-width:2; stroke-opacity:0.1; fill:none\" points=\"\n",
       "  222.506,795.639 1152.76,795.639 \n",
       "  \"/>\n",
       "<polyline clip-path=\"url(#clip562)\" style=\"stroke:#000000; stroke-linecap:butt; stroke-linejoin:round; stroke-width:2; stroke-opacity:0.1; fill:none\" points=\"\n",
       "  222.506,647.394 1152.76,647.394 \n",
       "  \"/>\n",
       "<polyline clip-path=\"url(#clip562)\" style=\"stroke:#000000; stroke-linecap:butt; stroke-linejoin:round; stroke-width:2; stroke-opacity:0.1; fill:none\" points=\"\n",
       "  222.506,499.149 1152.76,499.149 \n",
       "  \"/>\n",
       "<polyline clip-path=\"url(#clip562)\" style=\"stroke:#000000; stroke-linecap:butt; stroke-linejoin:round; stroke-width:2; stroke-opacity:0.1; fill:none\" points=\"\n",
       "  222.506,350.903 1152.76,350.903 \n",
       "  \"/>\n",
       "<polyline clip-path=\"url(#clip562)\" style=\"stroke:#000000; stroke-linecap:butt; stroke-linejoin:round; stroke-width:2; stroke-opacity:0.1; fill:none\" points=\"\n",
       "  222.506,202.658 1152.76,202.658 \n",
       "  \"/>\n",
       "<polyline clip-path=\"url(#clip560)\" style=\"stroke:#000000; stroke-linecap:butt; stroke-linejoin:round; stroke-width:4; stroke-opacity:1; fill:none\" points=\"\n",
       "  222.506,986.14 222.506,153.712 \n",
       "  \"/>\n",
       "<polyline clip-path=\"url(#clip560)\" style=\"stroke:#000000; stroke-linecap:butt; stroke-linejoin:round; stroke-width:4; stroke-opacity:1; fill:none\" points=\"\n",
       "  222.506,943.884 241.404,943.884 \n",
       "  \"/>\n",
       "<polyline clip-path=\"url(#clip560)\" style=\"stroke:#000000; stroke-linecap:butt; stroke-linejoin:round; stroke-width:4; stroke-opacity:1; fill:none\" points=\"\n",
       "  222.506,795.639 241.404,795.639 \n",
       "  \"/>\n",
       "<polyline clip-path=\"url(#clip560)\" style=\"stroke:#000000; stroke-linecap:butt; stroke-linejoin:round; stroke-width:4; stroke-opacity:1; fill:none\" points=\"\n",
       "  222.506,647.394 241.404,647.394 \n",
       "  \"/>\n",
       "<polyline clip-path=\"url(#clip560)\" style=\"stroke:#000000; stroke-linecap:butt; stroke-linejoin:round; stroke-width:4; stroke-opacity:1; fill:none\" points=\"\n",
       "  222.506,499.149 241.404,499.149 \n",
       "  \"/>\n",
       "<polyline clip-path=\"url(#clip560)\" style=\"stroke:#000000; stroke-linecap:butt; stroke-linejoin:round; stroke-width:4; stroke-opacity:1; fill:none\" points=\"\n",
       "  222.506,350.903 241.404,350.903 \n",
       "  \"/>\n",
       "<polyline clip-path=\"url(#clip560)\" style=\"stroke:#000000; stroke-linecap:butt; stroke-linejoin:round; stroke-width:4; stroke-opacity:1; fill:none\" points=\"\n",
       "  222.506,202.658 241.404,202.658 \n",
       "  \"/>\n",
       "<path clip-path=\"url(#clip560)\" d=\"M144.391 944.336 L174.066 944.336 L174.066 948.271 L144.391 948.271 L144.391 944.336 Z\" fill=\"#000000\" fill-rule=\"evenodd\" fill-opacity=\"1\" /><path clip-path=\"url(#clip560)\" d=\"M188.187 957.229 L204.506 957.229 L204.506 961.164 L182.562 961.164 L182.562 957.229 Q185.224 954.475 189.807 949.845 Q194.413 945.192 195.594 943.85 Q197.839 941.327 198.719 939.59 Q199.622 937.831 199.622 936.141 Q199.622 933.387 197.677 931.651 Q195.756 929.915 192.654 929.915 Q190.455 929.915 188.001 930.678 Q185.571 931.442 182.793 932.993 L182.793 928.271 Q185.617 927.137 188.071 926.558 Q190.525 925.979 192.562 925.979 Q197.932 925.979 201.126 928.665 Q204.321 931.35 204.321 935.84 Q204.321 937.97 203.511 939.891 Q202.724 941.79 200.617 944.382 Q200.038 945.053 196.937 948.271 Q193.835 951.465 188.187 957.229 Z\" fill=\"#000000\" fill-rule=\"evenodd\" fill-opacity=\"1\" /><path clip-path=\"url(#clip560)\" d=\"M144.02 796.091 L173.696 796.091 L173.696 800.026 L144.02 800.026 L144.02 796.091 Z\" fill=\"#000000\" fill-rule=\"evenodd\" fill-opacity=\"1\" /><path clip-path=\"url(#clip560)\" d=\"M184.599 808.984 L192.237 808.984 L192.237 782.618 L183.927 784.285 L183.927 780.026 L192.191 778.359 L196.867 778.359 L196.867 808.984 L204.506 808.984 L204.506 812.919 L184.599 812.919 L184.599 808.984 Z\" fill=\"#000000\" fill-rule=\"evenodd\" fill-opacity=\"1\" /><path clip-path=\"url(#clip560)\" d=\"M192.562 633.193 Q188.95 633.193 187.122 636.757 Q185.316 640.299 185.316 647.429 Q185.316 654.535 187.122 658.1 Q188.95 661.641 192.562 661.641 Q196.196 661.641 198.001 658.1 Q199.83 654.535 199.83 647.429 Q199.83 640.299 198.001 636.757 Q196.196 633.193 192.562 633.193 M192.562 629.489 Q198.372 629.489 201.427 634.095 Q204.506 638.679 204.506 647.429 Q204.506 656.155 201.427 660.762 Q198.372 665.345 192.562 665.345 Q186.751 665.345 183.673 660.762 Q180.617 656.155 180.617 647.429 Q180.617 638.679 183.673 634.095 Q186.751 629.489 192.562 629.489 Z\" fill=\"#000000\" fill-rule=\"evenodd\" fill-opacity=\"1\" /><path clip-path=\"url(#clip560)\" d=\"M184.599 512.493 L192.237 512.493 L192.237 486.128 L183.927 487.794 L183.927 483.535 L192.191 481.869 L196.867 481.869 L196.867 512.493 L204.506 512.493 L204.506 516.429 L184.599 516.429 L184.599 512.493 Z\" fill=\"#000000\" fill-rule=\"evenodd\" fill-opacity=\"1\" /><path clip-path=\"url(#clip560)\" d=\"M188.187 364.248 L204.506 364.248 L204.506 368.183 L182.562 368.183 L182.562 364.248 Q185.224 361.493 189.807 356.864 Q194.413 352.211 195.594 350.869 Q197.839 348.345 198.719 346.609 Q199.622 344.85 199.622 343.16 Q199.622 340.406 197.677 338.67 Q195.756 336.933 192.654 336.933 Q190.455 336.933 188.001 337.697 Q185.571 338.461 182.793 340.012 L182.793 335.29 Q185.617 334.156 188.071 333.577 Q190.525 332.998 192.562 332.998 Q197.932 332.998 201.126 335.683 Q204.321 338.369 204.321 342.859 Q204.321 344.989 203.511 346.91 Q202.724 348.808 200.617 351.401 Q200.038 352.072 196.937 355.29 Q193.835 358.484 188.187 364.248 Z\" fill=\"#000000\" fill-rule=\"evenodd\" fill-opacity=\"1\" /><path clip-path=\"url(#clip560)\" d=\"M197.376 201.304 Q200.733 202.021 202.608 204.29 Q204.506 206.558 204.506 209.892 Q204.506 215.007 200.987 217.808 Q197.469 220.609 190.987 220.609 Q188.812 220.609 186.497 220.169 Q184.205 219.753 181.751 218.896 L181.751 214.382 Q183.696 215.517 186.011 216.095 Q188.325 216.674 190.849 216.674 Q195.247 216.674 197.538 214.938 Q199.853 213.202 199.853 209.892 Q199.853 206.836 197.7 205.123 Q195.571 203.387 191.751 203.387 L187.724 203.387 L187.724 199.545 L191.937 199.545 Q195.386 199.545 197.214 198.179 Q199.043 196.79 199.043 194.197 Q199.043 191.535 197.145 190.123 Q195.27 188.688 191.751 188.688 Q189.83 188.688 187.631 189.105 Q185.432 189.521 182.793 190.401 L182.793 186.234 Q185.455 185.494 187.77 185.123 Q190.108 184.753 192.168 184.753 Q197.492 184.753 200.594 187.184 Q203.696 189.591 203.696 193.711 Q203.696 196.582 202.052 198.572 Q200.409 200.54 197.376 201.304 Z\" fill=\"#000000\" fill-rule=\"evenodd\" fill-opacity=\"1\" /><path clip-path=\"url(#clip560)\" d=\"M115.074 568.239 Q121.44 570.722 123.382 573.077 Q125.323 575.432 125.323 579.379 L125.323 584.058 L120.422 584.058 L120.422 580.62 Q120.422 578.201 119.276 576.865 Q118.13 575.528 113.865 573.905 L111.191 572.854 L76.1162 587.273 L76.1162 581.066 L103.998 569.926 L76.1162 558.786 L76.1162 552.579 L115.074 568.239 Z\" fill=\"#000000\" fill-rule=\"evenodd\" fill-opacity=\"1\" /><path clip-path=\"url(#clip560)\" d=\"M646.15 12.096 L654.94 12.096 L669.969 34.5785 L685.079 12.096 L693.869 12.096 L674.425 41.141 L695.166 72.576 L686.375 72.576 L669.361 46.8528 L652.226 72.576 L643.395 72.576 L664.986 40.2903 L646.15 12.096 Z\" fill=\"#000000\" fill-rule=\"evenodd\" fill-opacity=\"1\" /><path clip-path=\"url(#clip560)\" d=\"M731.867 34.1734 Q730.611 33.4443 729.112 33.1202 Q727.654 32.7556 725.871 32.7556 Q719.552 32.7556 716.149 36.8875 Q712.787 40.9789 712.787 48.6757 L712.787 72.576 L705.293 72.576 L705.293 27.2059 L712.787 27.2059 L712.787 34.2544 Q715.137 30.1225 718.904 28.1376 Q722.671 26.1121 728.059 26.1121 Q728.829 26.1121 729.76 26.2337 Q730.692 26.3147 731.826 26.5172 L731.867 34.1734 Z\" fill=\"#000000\" fill-rule=\"evenodd\" fill-opacity=\"1\" /><circle clip-path=\"url(#clip562)\" cx=\"458.437\" cy=\"897.922\" r=\"14\" fill=\"#009af9\" fill-rule=\"evenodd\" fill-opacity=\"1\" stroke=\"#000000\" stroke-opacity=\"1\" stroke-width=\"2.4\"/>\n",
       "<circle clip-path=\"url(#clip562)\" cx=\"503.332\" cy=\"614.599\" r=\"14\" fill=\"#009af9\" fill-rule=\"evenodd\" fill-opacity=\"1\" stroke=\"#000000\" stroke-opacity=\"1\" stroke-width=\"2.4\"/>\n",
       "<circle clip-path=\"url(#clip562)\" cx=\"1114.27\" cy=\"718.2\" r=\"14\" fill=\"#009af9\" fill-rule=\"evenodd\" fill-opacity=\"1\" stroke=\"#000000\" stroke-opacity=\"1\" stroke-width=\"2.4\"/>\n",
       "<circle clip-path=\"url(#clip562)\" cx=\"1126.43\" cy=\"513.79\" r=\"14\" fill=\"#009af9\" fill-rule=\"evenodd\" fill-opacity=\"1\" stroke=\"#000000\" stroke-opacity=\"1\" stroke-width=\"2.4\"/>\n",
       "<circle clip-path=\"url(#clip562)\" cx=\"286.292\" cy=\"962.581\" r=\"14\" fill=\"#009af9\" fill-rule=\"evenodd\" fill-opacity=\"1\" stroke=\"#000000\" stroke-opacity=\"1\" stroke-width=\"2.4\"/>\n",
       "<circle clip-path=\"url(#clip562)\" cx=\"248.834\" cy=\"177.271\" r=\"14\" fill=\"#009af9\" fill-rule=\"evenodd\" fill-opacity=\"1\" stroke=\"#000000\" stroke-opacity=\"1\" stroke-width=\"2.4\"/>\n",
       "</svg>\n"
      ]
     },
     "execution_count": 257,
     "metadata": {},
     "output_type": "execute_result"
    }
   ],
   "source": [
    "# TODO \n",
    "\n",
    "# (4) Get rid of the sign ambiguity \n",
    "# TODO: Force the largest magnitude element of each row of Xr to be positive \n",
    "# Xr_abs = abs.(Xr)\n",
    "# for i in 1:d\n",
    "\n",
    "#     index = indexin(maximum(Xr_abs, dims=2)[i], Xr_abs[i,:])[1]\n",
    "#     a = Xr[i,:][index]\n",
    "#     if a < 0.0\n",
    "#         Xr[i, index] = abs(a)\n",
    "#     end\n",
    "# end\n",
    "\n",
    "#findmax(abs.(Xr),1)[2]\n",
    "Xr_abs = abs.(Xr)\n",
    "Xr .*= sign.(Xr[findmax(Xr_abs, dims=1)[2]])\n",
    "Xr = Xr'\n",
    "myplotter(Xr)\n",
    "    \n",
    "\n",
    "# Visualize the updated coordinates\n",
    "myplotter(Xr)\n",
    "title!(\"Xr\")"
   ]
  },
  {
   "cell_type": "code",
   "execution_count": 258,
   "metadata": {},
   "outputs": [
    {
     "data": {
      "text/plain": [
       "2.612211099846594e-14"
      ]
     },
     "execution_count": 258,
     "metadata": {},
     "output_type": "execute_result"
    }
   ],
   "source": [
    "# Test our solution: do we get the same D if we recalculate it with Xr instead of C? \n",
    "Dhat = [norm(Xr[:,i]-Xr[:,j]) for i=1:J,j=1:J] \n",
    "norm(D-Dhat) # this should be (almost) zero if you did everything correctly! "
   ]
  },
  {
   "cell_type": "markdown",
   "metadata": {},
   "source": [
    "Now that you are done with the coding for part 1, make sure to complete the assignment: describe one additional test of the dist2locs code you would suggest doing."
   ]
  },
  {
   "cell_type": "markdown",
   "metadata": {},
   "source": [
    "### Part 2: Create the dist2locs function \n",
    "You now need to combine all the steps above into a single function. Make sure you define all variables you use. \n",
    "\n",
    "There is no separate submission for this part. You only need to submit your code to the autograder. \n",
    "Even if you are working in a group, every group member should submit the code to the autograder to receive credit. \n",
    "\n",
    "Hint: for submitting to autograder, make sure you include any packages you need."
   ]
  },
  {
   "cell_type": "code",
   "execution_count": 259,
   "metadata": {},
   "outputs": [
    {
     "data": {
      "text/plain": [
       "dist2locs"
      ]
     },
     "execution_count": 259,
     "metadata": {},
     "output_type": "execute_result"
    }
   ],
   "source": [
    "# TODO \n",
    "# make sure to include any using statements before submitting to the autograder \n",
    "using LinearAlgebra\n",
    "\"\"\"\n",
    "Xr = dist2locs(D, d)\n",
    "\n",
    "In:\n",
    "* `D` is an `n x n` matrix such that `D[i, j]` is the distance from object `i` to object `j`\n",
    "* `d` is the desired embedding dimension.\n",
    "\n",
    "Out:\n",
    "* `Xr` is an `d x n` matrix whose columns contains the relative coordinates of the `n` objects\n",
    "\n",
    "Note: MDS is only unique up to rotation and translation,\n",
    "so we enforce the following conventions on Xr in this order:\n",
    "* [ORDER] `Xr[i,:]` corresponds to ith largest eigenpair of `C' * C`\n",
    "* [CENTER] The centroid of the coordinates is zero\n",
    "* [SIGN] The largest magnitude element of `Xr[i,:]` is positive\n",
    "\"\"\"\n",
    "function dist2locs(D, d)\n",
    "    #set up\n",
    "    J = size(D,1)\n",
    "    S = D .^2\n",
    "    S = 0.5 * (S + S') \n",
    "    P_orth = Diagonal(ones(J)) - (1/J) * ones(J) * ones(J)'\n",
    "    G = (-1 / 2) * P_orth * S * P_orth\n",
    "    \n",
    "    e = eigvals(G)\n",
    "    V = eigvecs(G)\n",
    "\n",
    "    #Compute relative coordinates\n",
    "    d= min(d, count(e .>0))\n",
    "    inv_e = sort(e, rev=true)\n",
    "    Xr =  V[:, indexin(inv_e[1:d], e)] * Diagonal(sqrt.(inv_e[1:d]))\n",
    "\n",
    "    Xr .-= mean(Xr, dims= 1)\n",
    "    \n",
    "    #Get rid of the sign ambiguity \n",
    "    Xr_abs = abs.(Xr)\n",
    "    Xr .*= sign.(Xr[findmax(Xr_abs, dims=1)[2]])\n",
    "    Xr = Xr'\n",
    "\n",
    "    return Xr\n",
    "end\n"
   ]
  },
  {
   "cell_type": "code",
   "execution_count": 260,
   "metadata": {},
   "outputs": [
    {
     "data": {
      "text/plain": [
       "0.0"
      ]
     },
     "execution_count": 260,
     "metadata": {},
     "output_type": "execute_result"
    }
   ],
   "source": [
    "# Before submitting to the autograder, \n",
    "# test the function on our earlier example and make sure we get the same result \n",
    "norm(Xr - dist2locs(D, d)) # this should be zero! "
   ]
  },
  {
   "cell_type": "code",
   "execution_count": 261,
   "metadata": {},
   "outputs": [
    {
     "data": {
      "text/plain": [
       "2×6 adjoint(::Matrix{Float64}) with eltype Float64:\n",
       " -4.25306  -3.09228   12.7037    13.0179    -8.70387  -9.67235\n",
       " -1.68996   0.221219  -0.477627   0.901234  -2.12612   3.17125"
      ]
     },
     "execution_count": 261,
     "metadata": {},
     "output_type": "execute_result"
    }
   ],
   "source": [
    "dist2locs(D, d)"
   ]
  },
  {
   "cell_type": "markdown",
   "metadata": {},
   "source": [
    "### Part 3: Test out dist2locs function\n",
    "After passing the autograder, complete the code below. \n",
    "Include the plots of the points estimated from D and Dnoisy in your report. \n",
    "\n",
    "You will need to download the ``distance_matrix.jld2`` file from Canvas and include it in the same folder as this script."
   ]
  },
  {
   "cell_type": "code",
   "execution_count": 243,
   "metadata": {},
   "outputs": [
    {
     "name": "stdout",
     "output_type": "stream",
     "text": [
      "size(D) = (407, 407)\n"
     ]
    },
    {
     "data": {
      "text/plain": [
       "(407, 407)"
      ]
     },
     "execution_count": 243,
     "metadata": {},
     "output_type": "execute_result"
    }
   ],
   "source": [
    "# Now apply to this distance matrix: \n",
    "@load \"distance_matrix.jld2\" D d\n",
    "Dnoisy = D + mean(D)/2 .*randn(size(D)) \n",
    "\n",
    "@show size(D)"
   ]
  },
  {
   "cell_type": "code",
   "execution_count": 246,
   "metadata": {},
   "outputs": [
    {
     "data": {
      "text/plain": [
       "2"
      ]
     },
     "execution_count": 246,
     "metadata": {},
     "output_type": "execute_result"
    }
   ],
   "source": [
    "d"
   ]
  },
  {
   "cell_type": "code",
   "execution_count": 244,
   "metadata": {},
   "outputs": [
    {
     "ename": "LoadError",
     "evalue": "MethodError: no method matching isless(::Int64, ::ComplexF64)\n\u001b[0mClosest candidates are:\n\u001b[0m  isless(::Real, \u001b[91m::AbstractGray{T} where T\u001b[39m) at /Users/darrenjiang/.julia/packages/ColorTypes/6m8P7/src/operations.jl:32\n\u001b[0m  isless(::Real, \u001b[91m::Union{StatsBase.PValue, StatsBase.TestStat}\u001b[39m) at /Users/darrenjiang/.julia/packages/StatsBase/PGTj8/src/statmodels.jl:515\n\u001b[0m  isless(::Any, \u001b[91m::Missing\u001b[39m) at missing.jl:88\n\u001b[0m  ...",
     "output_type": "error",
     "traceback": [
      "MethodError: no method matching isless(::Int64, ::ComplexF64)\n\u001b[0mClosest candidates are:\n\u001b[0m  isless(::Real, \u001b[91m::AbstractGray{T} where T\u001b[39m) at /Users/darrenjiang/.julia/packages/ColorTypes/6m8P7/src/operations.jl:32\n\u001b[0m  isless(::Real, \u001b[91m::Union{StatsBase.PValue, StatsBase.TestStat}\u001b[39m) at /Users/darrenjiang/.julia/packages/StatsBase/PGTj8/src/statmodels.jl:515\n\u001b[0m  isless(::Any, \u001b[91m::Missing\u001b[39m) at missing.jl:88\n\u001b[0m  ...",
      "",
      "Stacktrace:",
      "  [1] <(x::Int64, y::ComplexF64)",
      "    @ Base ./operators.jl:279",
      "  [2] >(x::ComplexF64, y::Int64)",
      "    @ Base ./operators.jl:305",
      "  [3] _broadcast_getindex_evalf",
      "    @ ./broadcast.jl:648 [inlined]",
      "  [4] _broadcast_getindex",
      "    @ ./broadcast.jl:621 [inlined]",
      "  [5] getindex",
      "    @ ./broadcast.jl:575 [inlined]",
      "  [6] copy",
      "    @ ./broadcast.jl:922 [inlined]",
      "  [7] materialize",
      "    @ ./broadcast.jl:883 [inlined]",
      "  [8] dist2locs(D::Matrix{Float64}, d::Int64)",
      "    @ Main ./In[240]:32",
      "  [9] top-level scope",
      "    @ In[244]:1",
      " [10] eval",
      "    @ ./boot.jl:360 [inlined]",
      " [11] include_string(mapexpr::typeof(REPL.softscope), mod::Module, code::String, filename::String)",
      "    @ Base ./loading.jl:1116"
     ]
    }
   ],
   "source": [
    "r2 = dist2locs(D, d)"
   ]
  },
  {
   "cell_type": "code",
   "execution_count": 212,
   "metadata": {},
   "outputs": [
    {
     "ename": "LoadError",
     "evalue": "MethodError: no method matching isless(::Int64, ::ComplexF64)\n\u001b[0mClosest candidates are:\n\u001b[0m  isless(::Real, \u001b[91m::AbstractGray{T} where T\u001b[39m) at /Users/darrenjiang/.julia/packages/ColorTypes/6m8P7/src/operations.jl:32\n\u001b[0m  isless(::Real, \u001b[91m::Union{StatsBase.PValue, StatsBase.TestStat}\u001b[39m) at /Users/darrenjiang/.julia/packages/StatsBase/PGTj8/src/statmodels.jl:515\n\u001b[0m  isless(::Any, \u001b[91m::Missing\u001b[39m) at missing.jl:88\n\u001b[0m  ...",
     "output_type": "error",
     "traceback": [
      "MethodError: no method matching isless(::Int64, ::ComplexF64)\n\u001b[0mClosest candidates are:\n\u001b[0m  isless(::Real, \u001b[91m::AbstractGray{T} where T\u001b[39m) at /Users/darrenjiang/.julia/packages/ColorTypes/6m8P7/src/operations.jl:32\n\u001b[0m  isless(::Real, \u001b[91m::Union{StatsBase.PValue, StatsBase.TestStat}\u001b[39m) at /Users/darrenjiang/.julia/packages/StatsBase/PGTj8/src/statmodels.jl:515\n\u001b[0m  isless(::Any, \u001b[91m::Missing\u001b[39m) at missing.jl:88\n\u001b[0m  ...",
      "",
      "Stacktrace:",
      "  [1] <(x::Int64, y::ComplexF64)",
      "    @ Base ./operators.jl:279",
      "  [2] >(x::ComplexF64, y::Int64)",
      "    @ Base ./operators.jl:305",
      "  [3] _broadcast_getindex_evalf",
      "    @ ./broadcast.jl:648 [inlined]",
      "  [4] _broadcast_getindex",
      "    @ ./broadcast.jl:621 [inlined]",
      "  [5] getindex",
      "    @ ./broadcast.jl:575 [inlined]",
      "  [6] copy",
      "    @ ./broadcast.jl:922 [inlined]",
      "  [7] materialize",
      "    @ ./broadcast.jl:883 [inlined]",
      "  [8] dist2locs(D::Matrix{Float64}, d::Int64)",
      "    @ Main ./In[207]:32",
      "  [9] top-level scope",
      "    @ In[212]:4",
      " [10] eval",
      "    @ ./boot.jl:360 [inlined]",
      " [11] include_string(mapexpr::typeof(REPL.softscope), mod::Module, code::String, filename::String)",
      "    @ Base ./loading.jl:1116"
     ]
    }
   ],
   "source": [
    "# TODO \n",
    "\n",
    "# TODO: apply your dist2locs to the D matrix above, save result in variable named Xr2\n",
    "#Xr2 = dist2locs(D, d)\n",
    "# TODO: apply your dist2locs to the Dnoisy matrix above, save result in variable named Xr3\n",
    "#Xr3 = dist2locs(Dnoisy, d)\n",
    "p1 = myplotter(Xr2); title!(\"Noiseless version\")\n",
    "p2 = myplotter(Xr3); title!(\"Noisy version\")\n",
    "plot(p1,p2,size=(800,400))"
   ]
  },
  {
   "cell_type": "code",
   "execution_count": null,
   "metadata": {},
   "outputs": [],
   "source": [
    "savefig(\"task4_part3.png\")"
   ]
  },
  {
   "cell_type": "markdown",
   "metadata": {},
   "source": [
    "### Optional \n",
    "How well does the dist2locs function do if you take out the following line? \n",
    "\n",
    "``S = 0.5 * (S + S')``\n",
    "\n",
    "Is your solution still valid if you remove this line? If not, how would you make it valid?"
   ]
  },
  {
   "cell_type": "markdown",
   "metadata": {},
   "source": [
    "### Code to make the example distance matrix \n",
    "This is mainly for future reference, and does not need to be given as part of the task file"
   ]
  },
  {
   "cell_type": "code",
   "execution_count": null,
   "metadata": {},
   "outputs": [],
   "source": [
    "using Images\n",
    "using MIRT"
   ]
  },
  {
   "cell_type": "code",
   "execution_count": null,
   "metadata": {},
   "outputs": [],
   "source": [
    "img = load(\"M_logo.png\") # this file needs to be in the same folder!"
   ]
  },
  {
   "cell_type": "code",
   "execution_count": null,
   "metadata": {},
   "outputs": [],
   "source": [
    "mat = channelview(img) # convert to a matrix \n",
    "mat = dropdims(mapslices(mean, mat, dims=1),dims=1)\n",
    "mat = [ones(3,size(mat,2)); mat] # this particular M logo needs a top border... \n",
    "jim(mat')"
   ]
  },
  {
   "cell_type": "code",
   "execution_count": null,
   "metadata": {},
   "outputs": [],
   "source": [
    "imgrad = imedge(mat)[3] # just the magnitude of the gradient \n",
    "jim(imgrad' .> mean(imgrad))"
   ]
  },
  {
   "cell_type": "code",
   "execution_count": null,
   "metadata": {},
   "outputs": [],
   "source": [
    "points = findall(imgrad .> mean(imgrad))[1:8:end]\n",
    "D = [norm([points[i][1] points[i][2]]-[points[j][1] points[j][2]]) for i=1:length(points), j=1:length(points)]\n",
    "d = 2"
   ]
  },
  {
   "cell_type": "code",
   "execution_count": null,
   "metadata": {},
   "outputs": [],
   "source": [
    "@save \"distance_matrix.jld2\" D d"
   ]
  }
 ],
 "metadata": {
  "kernelspec": {
   "display_name": "Julia 1.6.2",
   "language": "julia",
   "name": "julia-1.6"
  },
  "language_info": {
   "file_extension": ".jl",
   "mimetype": "application/julia",
   "name": "julia",
   "version": "1.6.2"
  }
 },
 "nbformat": 4,
 "nbformat_minor": 2
}
